{
 "cells": [
  {
   "cell_type": "markdown",
   "metadata": {},
   "source": [
    "# Import libraries"
   ]
  },
  {
   "cell_type": "code",
   "execution_count": null,
   "metadata": {},
   "outputs": [],
   "source": [
    "import os\n",
    "import glob\n",
    "import pylab\n",
    "import numpy as np\n",
    "import pandas as pd\n",
    "import matplotlib.pyplot as plt"
   ]
  },
  {
   "cell_type": "markdown",
   "metadata": {},
   "source": [
    "# Functions"
   ]
  },
  {
   "cell_type": "code",
   "execution_count": null,
   "metadata": {},
   "outputs": [],
   "source": [
    "style_param = {'legend.fontsize': '20',\n",
    "         'xtick.direction' : 'in',  \n",
    "         'ytick.direction' : 'in', \n",
    "         'xtick.top' : True, \n",
    "         'figure.figsize': (10,6),\n",
    "         'axes.labelsize': '26',\n",
    "         'axes.titlesize':'26',\n",
    "         'xtick.labelsize':'20',\n",
    "         'ytick.labelsize':'20',\n",
    "         'xtick.major.pad':'16',\n",
    "         'ytick.major.pad':'16'}\n",
    "    \n",
    "pylab.rcParams.update(style_param)"
   ]
  },
  {
   "cell_type": "markdown",
   "metadata": {},
   "source": [
    "# Prepare folders"
   ]
  },
  {
   "cell_type": "code",
   "execution_count": null,
   "metadata": {},
   "outputs": [],
   "source": [
    "os.makedirs('results',exist_ok=True)"
   ]
  },
  {
   "cell_type": "code",
   "execution_count": null,
   "metadata": {},
   "outputs": [],
   "source": [
    "os.makedirs('tmp',exist_ok=True)"
   ]
  },
  {
   "cell_type": "markdown",
   "metadata": {},
   "source": [
    "# Read DATA"
   ]
  },
  {
   "cell_type": "code",
   "execution_count": null,
   "metadata": {},
   "outputs": [],
   "source": [
    "df_list=[]\n",
    "df_list_err=[]\n",
    "df_list_coe=[]\n",
    "\n",
    "for f in glob.glob(os.path.join('data','*', '*.csv')):\n",
    "    art = f.split(os.path.sep)[-2]\n",
    "    filename=f.split(os.path.sep)[-1]\n",
    "    df_tmp=pd.read_csv(f, \n",
    "                       names=['x','y'],\n",
    "                       converters = { 'x' : lambda s : float(s.replace(',', '.')), 'y' : lambda s : float(s.replace(',', '.')), },\n",
    "                       delimiter=';')\n",
    "    if filename.startswith('err'):\n",
    "        #energy in [MeV]       \n",
    "        energy=float(filename[3:-7].replace(',', '.'))\n",
    "        df_tmp_err = pd.DataFrame()\n",
    "      \n",
    "        up_candidates = df_tmp.y[0::2].values\n",
    "        down_candidates = df_tmp.y[1::2].values\n",
    "        df_tmp_err['sf_err_up'] = [max(up, down) for up, down in zip(up_candidates, down_candidates)]\n",
    "        df_tmp_err['sf_err_down'] = [min(up, down) for up, down in zip(up_candidates, down_candidates)]\n",
    "        \n",
    "        \n",
    "        \n",
    "        #convert energy [MeV]->[keV] \n",
    "        df_tmp_err['energy']=energy*1000\n",
    "        df_tmp_err['article']=art\n",
    "        df_tmp_err['nr']=np.arange(df_tmp_err.energy.size)\n",
    "        df_list_err.append(df_tmp_err)\n",
    "            \n",
    "    elif filename.startswith(\"coe\"):\n",
    "        #energy in [MeV]\n",
    "        energy=float(filename[3:-7].replace(',', '.'))\n",
    "        df_tmp_coe = pd.DataFrame()\n",
    "        df_tmp_coe[\"alpha\"]=df_tmp.x.loc[[0]]\n",
    "        df_tmp_coe[\"beta\"]=df_tmp.x[1]\n",
    "        df_tmp_coe[\"alpha_err\"]=df_tmp.x[2]\n",
    "        df_tmp_coe[\"beta_err\"]=df_tmp.x[3]\n",
    "        df_tmp_coe[\"LET\"]=df_tmp.x[4]\n",
    "        df_tmp_coe['article']=art\n",
    "        #convert energy [MeV]->[keV] \n",
    "        df_tmp_coe['energy']=int(energy*1000)\n",
    "        df_list_coe.append(df_tmp_coe)\n",
    "\n",
    "    else: \n",
    "        #energy in [MeV]\n",
    "        energy=float(filename[0:-7].replace(',', '.'))\n",
    "        #convert energy [MeV]->[keV] \n",
    "        df_tmp['energy']=int(energy*1000)\n",
    "        df_tmp['article']=art       \n",
    "        #add a column to number each row for each experiment -> needed for concatenation\n",
    "        df_tmp['nr']=np.arange(df_tmp.energy.size)\n",
    "       \n",
    "        df_list.append(df_tmp)"
   ]
  },
  {
   "cell_type": "code",
   "execution_count": null,
   "metadata": {},
   "outputs": [],
   "source": [
    "result_err=pd.concat(df_list_err, axis=0)\n",
    "result_err.replace(',', '.', inplace=True)\n",
    "result_err['article'] = result_err.article.astype('category')\n",
    "\n",
    "result_coe=pd.concat(df_list_coe, axis=0)\n",
    "result_coe.replace(',', '.', inplace=True)\n",
    "result_coe['article'] = result_coe.article.astype('category')\n",
    "\n",
    "result=pd.concat(df_list, axis=0)\n",
    "result.replace(',', '.', inplace=True)\n",
    "result.rename(index=str, columns={\"x\": \"dose\", \"y\": \"sf\"}, inplace=True)\n",
    "result['article'] = result.article.astype('category')"
   ]
  },
  {
   "cell_type": "markdown",
   "metadata": {},
   "source": [
    "# Concatenation of DataFrames"
   ]
  },
  {
   "cell_type": "code",
   "execution_count": null,
   "metadata": {},
   "outputs": [],
   "source": [
    "result.reset_index(drop=True,inplace=True)\n",
    "result_coe.reset_index(drop=True,inplace=True)\n",
    "result_err.reset_index(drop=True,inplace=True)"
   ]
  },
  {
   "cell_type": "code",
   "execution_count": null,
   "metadata": {},
   "outputs": [],
   "source": [
    "result_data = pd.merge(result, result_coe,on=[\"article\",\"energy\"])\n",
    "result_data['article'] = result_data.article.astype('category')"
   ]
  },
  {
   "cell_type": "code",
   "execution_count": null,
   "metadata": {},
   "outputs": [],
   "source": [
    "result_data.set_index(['article','energy','nr'],inplace=True)\n",
    "result_err.set_index(['article','energy','nr'],inplace=True)"
   ]
  },
  {
   "cell_type": "code",
   "execution_count": null,
   "metadata": {},
   "outputs": [],
   "source": [
    "result_all = pd.merge(result_data,  result_err,left_index = True, right_index=True)"
   ]
  },
  {
   "cell_type": "code",
   "execution_count": null,
   "metadata": {},
   "outputs": [],
   "source": [
    "df2 = result_all.groupby([\"article\",'energy']).max()"
   ]
  },
  {
   "cell_type": "code",
   "execution_count": null,
   "metadata": {},
   "outputs": [],
   "source": [
    "for name, group in df2.groupby('article'):\n",
    "        for energy, data in group.groupby('energy'):\n",
    "            df2.loc[(name,energy),'alpha_ref'] = group.loc[name].loc[0].alpha\n",
    "            df2.loc[(name,energy),'alpha_ref_err'] = group.loc[name].loc[0].alpha_err\n",
    "            df2.loc[(name,energy),'beta_ref'] = group.loc[name].loc[0].beta\n",
    "            df2.loc[(name,energy),'beta_ref_err'] = group.loc[name].loc[0].beta_err"
   ]
  },
  {
   "cell_type": "code",
   "execution_count": null,
   "metadata": {},
   "outputs": [],
   "source": [
    "#beta = 0 ? \n",
    "for name, group in df2.groupby('article'):\n",
    "        for energy, data in group.groupby('energy'):\n",
    "            df2.loc[(name, energy),'alpha_alpharef_err'] = data.alpha_err.values/data.alpha_ref.values -data.alpha.values*data.alpha_ref_err.values/(data.alpha_ref.values*data.alpha_ref.values)\n",
    "            df2.loc[(name, energy),'beta_betaref_err'] = data.beta_err.values/data.beta_ref.values -data.beta.values*data.beta_ref_err.values/(data.beta_ref.values*data.beta_ref.values)"
   ]
  },
  {
   "cell_type": "markdown",
   "metadata": {},
   "source": [
    "# using Original Data"
   ]
  },
  {
   "cell_type": "code",
   "execution_count": null,
   "metadata": {},
   "outputs": [],
   "source": [
    "bb0,bb1,err,err0 =[],[],[],[]\n",
    "\n",
    "for name, group in df2.groupby('article'):\n",
    "        for energy, data in group.groupby('energy'):\n",
    "\n",
    "            bb0.append(data.beta_ref.values[0])\n",
    "            bb1.append(data.beta.values[0])\n",
    "            err.append(data.beta_err.values)\n",
    "            err0.append(data.beta_ref_err.values)\n",
    "err = np.concatenate(err, axis=0 )\n",
    "err0 = np.concatenate(err0, axis=0 )"
   ]
  },
  {
   "cell_type": "code",
   "execution_count": null,
   "metadata": {},
   "outputs": [],
   "source": [
    "fig,ax = plt.subplots(figsize = (10,6))\n",
    "\n",
    "ax.errorbar(bb0,bb1,\n",
    "             yerr=err,\n",
    "             xerr=err0,\n",
    "             zorder=2, \n",
    "             fmt='o',color='k',capsize=5)\n",
    "\n",
    "ax.set_ylabel(r'$\\beta\\;[Gy^{-2}]$'+'\\n')\n",
    "ax.set_xlabel('\\n'+r'$\\beta_{ref} \\;[Gy^{-2}]$')\n",
    "\n",
    "ax.set_xlim(0,None)\n",
    "ax.set_ylim(0,None)\n",
    "ax.grid()\n",
    "ax.minorticks_on()\n",
    "ax.grid(which='minor', linestyle=':', linewidth='0.2', color='k')"
   ]
  },
  {
   "cell_type": "code",
   "execution_count": null,
   "metadata": {},
   "outputs": [],
   "source": [
    "tmp=pd.DataFrame(list(zip(bb0,bb1,err,err0)),\n",
    "              columns=['beta_ref','beta', 'bera_ref_err','beta_err'])\n",
    "tmp.to_csv(\"results/figure_4_2.csv\")\n",
    "fig.savefig(fname=\"results/figure_4_2.png\",dpi= 700)"
   ]
  },
  {
   "cell_type": "code",
   "execution_count": null,
   "metadata": {},
   "outputs": [],
   "source": [
    "fig,ax = plt.subplots(figsize = (10,6))\n",
    "\n",
    "ax.errorbar(df2.LET.values[df2.LET.values>0],\n",
    "             df2.alpha[df2.LET.values>0].values/df2.alpha_ref[df2.LET.values>0].values,\n",
    "             yerr=df2.alpha_alpharef_err[df2.LET.values>0],\n",
    "             capsize=4,\n",
    "             fmt='o',color='k', label='both limits (default)')\n",
    "\n",
    "\n",
    "ax.set_xlabel('\\n'+r'$LET \\; [keV \\cdot\\mu m^{-1}]$')\n",
    "ax.set_ylabel(r'$\\alpha/ \\alpha_{ref}\\;[-]$'+'\\n')\n",
    "\n",
    "ax.set_xlim(0,32)\n",
    "\n",
    "ax.grid()\n",
    "ax.minorticks_on()\n",
    "ax.grid(which='minor', linestyle=':', linewidth='0.2', color='k')"
   ]
  },
  {
   "cell_type": "code",
   "execution_count": null,
   "metadata": {},
   "outputs": [],
   "source": [
    "tmp=pd.DataFrame(list(zip(df2.LET.values[df2.LET.values>0],\n",
    "                          df2.alpha[df2.LET.values>0].values/df2.alpha_ref[df2.LET.values>0].values,\n",
    "                          df2.alpha_alpharef_err[df2.LET.values>0])),\n",
    "              columns=['LET','alpha/alpha_ref', 'alpha_err'])\n",
    "tmp.to_csv(\"results/figure_4_1.csv\")\n",
    "\n",
    "fig.savefig(fname=\"results/figure_4_1.png\",dpi= 700)"
   ]
  },
  {
   "cell_type": "code",
   "execution_count": null,
   "metadata": {},
   "outputs": [],
   "source": [
    "fig,ax = plt.subplots(figsize = (10,6))\n",
    "\n",
    "ax.errorbar(df2.LET[(df2.LET.values>0) & (df2.beta_ref>0)].values,\n",
    "             df2.beta[(df2.LET.values>0) & (df2.beta_ref>0)].values/df2.beta_ref[(df2.LET.values>0.) & (df2.beta_ref>0)].values,\n",
    "             yerr=df2['beta_betaref_err'][(df2.LET.values>0) & (df2.beta_ref>0)],\n",
    "             capsize=4,\n",
    "             fmt='o',color='k')\n",
    "\n",
    "ax.set_xlabel('\\n'+r'$LET \\; [keV \\cdot\\mu m^{-1}]$')\n",
    "ax.set_ylabel(r'$\\beta / \\beta_{ref}\\;[-]$'+'\\n')\n",
    "ax.axhline(1,c='k',ls='--')\n",
    "\n",
    "ax.set_xlim(0,32)\n",
    "ax.set_ylim(-1,5)\n",
    "\n",
    "ax.grid()\n",
    "ax.minorticks_on()\n",
    "ax.grid(which='minor', linestyle=':', linewidth='0.2', color='k')"
   ]
  },
  {
   "cell_type": "code",
   "execution_count": null,
   "metadata": {},
   "outputs": [],
   "source": [
    "tmp=pd.DataFrame(list(zip(df2.LET[(df2.LET.values>0) & (df2.beta_ref>0)].values,\n",
    "                           df2.beta[(df2.LET.values>0) & (df2.beta_ref>0)].values/df2.beta_ref[(df2.LET.values>0.) & (df2.beta_ref>0)].values,\n",
    "                           df2.beta_betaref_err[(df2.LET.values>0) & (df2.beta_ref>0)])),\n",
    "              columns=['LET','beta/beta_ref', 'beta_err'])\n",
    "tmp.to_csv(\"results/figure_4_3.csv\")\n",
    "\n",
    "fig.savefig(fname=\"results/figure_4_3.png\",dpi= 700)"
   ]
  },
  {
   "cell_type": "markdown",
   "metadata": {},
   "source": [
    "# Save temporary files"
   ]
  },
  {
   "cell_type": "code",
   "execution_count": null,
   "metadata": {},
   "outputs": [],
   "source": [
    "fname = os.path.join('tmp','rawdata.h5')\n",
    "result_all.to_hdf(fname, 'data', format='table')"
   ]
  },
  {
   "cell_type": "code",
   "execution_count": null,
   "metadata": {},
   "outputs": [],
   "source": []
  }
 ],
 "metadata": {
  "kernelspec": {
   "display_name": "Python 3",
   "language": "python",
   "name": "python3"
  },
  "language_info": {
   "codemirror_mode": {
    "name": "ipython",
    "version": 3
   },
   "file_extension": ".py",
   "mimetype": "text/x-python",
   "name": "python",
   "nbconvert_exporter": "python",
   "pygments_lexer": "ipython3",
   "version": "3.8.10"
  }
 },
 "nbformat": 4,
 "nbformat_minor": 2
}

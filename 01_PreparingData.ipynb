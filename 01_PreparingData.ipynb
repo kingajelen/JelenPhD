{
 "cells": [
  {
   "cell_type": "code",
   "execution_count": null,
   "metadata": {},
   "outputs": [],
   "source": [
    "import os\n",
    "import glob\n",
    "\n",
    "import numpy as np\n",
    "import pandas as pd"
   ]
  },
  {
   "cell_type": "markdown",
   "metadata": {},
   "source": [
    "# DATA"
   ]
  },
  {
   "cell_type": "code",
   "execution_count": null,
   "metadata": {},
   "outputs": [],
   "source": [
    "cwd = os.path.dirname(os.getcwd())"
   ]
  },
  {
   "cell_type": "code",
   "execution_count": null,
   "metadata": {},
   "outputs": [],
   "source": [
    "source_dir = os.path.join('data','*')"
   ]
  },
  {
   "cell_type": "markdown",
   "metadata": {},
   "source": [
    "## Importing all experimental data"
   ]
  },
  {
   "cell_type": "code",
   "execution_count": null,
   "metadata": {
    "scrolled": true
   },
   "outputs": [],
   "source": [
    "df_list=[]\n",
    "df_list_err=[]\n",
    "df_list_coe=[]\n",
    "\n",
    "for f in glob.glob(os.path.join(source_dir, '*.csv')):\n",
    "    art = f.split(os.path.sep)[-2]\n",
    "    filename=f.split(os.path.sep)[-1]\n",
    "    #print(f)\n",
    "    df_tmp=pd.read_csv(f, \n",
    "                       names=['x','y'],\n",
    "                       converters = { 'x' : lambda s : float(s.replace(',', '.')), 'y' : lambda s : float(s.replace(',', '.')), },\n",
    "                       delimiter=';')\n",
    "    #print(df_tmp)\n",
    "    if filename.startswith('err'):\n",
    "                \n",
    "        energy=float(filename[3:-7].replace(',', '.'))\n",
    "        \n",
    "        df_tmp_err = pd.DataFrame()\n",
    "        df_tmp_err['x_err']=df_tmp.x[0::2]\n",
    "        df_tmp_err['sf_err_up'] = df_tmp.y[0::2].values\n",
    "        df_tmp_err['sf_err_down']= df_tmp.y[1::2].values\n",
    "        df_tmp_err['energy']=int(energy*1000)\n",
    "        df_tmp_err['article']=art\n",
    "        df_tmp_err['nr']=np.arange(df_tmp_err.energy.size)\n",
    "        df_list_err.append(df_tmp_err)\n",
    "            \n",
    "    elif filename.startswith(\"coe\"):\n",
    "        \n",
    "        energy=float(filename[3:-7].replace(',', '.'))\n",
    "        \n",
    "        df_tmp_coe = pd.DataFrame()\n",
    "        df_tmp_coe[\"alfa\"]=df_tmp.x.iloc[[0]]\n",
    "        df_tmp_coe[\"beta\"]=df_tmp.x[1]\n",
    "        df_tmp_coe[\"alfa_err\"]=df_tmp.x[2]\n",
    "        df_tmp_coe[\"beta_err\"]=df_tmp.x[3]\n",
    "        df_tmp_coe[\"LET\"]=df_tmp.x[4]\n",
    "        #print(df_tmp_coe)\n",
    "        df_tmp_coe['article']=art\n",
    "        df_tmp_coe['energy']=int(energy*1000)\n",
    "        df_list_coe.append(df_tmp_coe)\n",
    "\n",
    "        \n",
    "\n",
    "    else:        \n",
    "        energy=float(filename[0:-7].replace(',', '.'))\n",
    "        df_tmp['energy']=int(energy*1000)\n",
    "        df_tmp['article']=art        \n",
    "        df_tmp['nr']=np.arange(df_tmp.energy.size)\n",
    "       \n",
    "        df_list.append(df_tmp)\n",
    "        \n",
    "\n",
    "result_err=pd.concat(df_list_err, axis=0)\n",
    "result_err.replace(',', '.', inplace=True)\n",
    "result_err['article'] = result_err.article.astype('category')\n",
    "\n",
    "result_coe=pd.concat(df_list_coe, axis=0)\n",
    "result_coe.replace(',', '.', inplace=True)\n",
    "result_coe['article'] = result_coe.article.astype('category')\n",
    "\n",
    "\n",
    "result=pd.concat(df_list, axis=0)\n",
    "result.replace(',', '.', inplace=True)\n",
    "result.rename(index=str, columns={\"x\": \"dose\", \"y\": \"sf\"}, inplace=True)\n",
    "result['article'] = result.article.astype('category')"
   ]
  },
  {
   "cell_type": "code",
   "execution_count": null,
   "metadata": {},
   "outputs": [],
   "source": [
    "df_list_cells=[]\n",
    "\n",
    "for f in glob.glob(os.path.join(source_dir, '*.xls')):    \n",
    "    df = pd.read_excel(io=f, usecols=(0,2), names=('article', 'cells'))\n",
    "    df_list_cells.append(df)\n",
    "    \n",
    "result_cells=pd.concat(df_list_cells, axis=0)\n",
    "\n",
    "result_cells['article'] = result_cells.article.astype('str')\n",
    "result_cells['cells'] = result_cells.cells.astype('category')\n",
    "\n",
    "result_cells.reset_index(drop=True,inplace=True)"
   ]
  },
  {
   "cell_type": "code",
   "execution_count": null,
   "metadata": {},
   "outputs": [],
   "source": [
    "result_err['sf_error']=0.5*abs(result_err.sf_err_up-result_err.sf_err_down)\n",
    "result_err[\"weight\"]=1/(result_err.sf_error)"
   ]
  },
  {
   "cell_type": "code",
   "execution_count": null,
   "metadata": {},
   "outputs": [],
   "source": [
    "result.reset_index(drop=True,inplace=True)\n",
    "result1 = pd.merge(result_cells, result, on=['article'])\n",
    "result1['article'] = result1.article.astype('category')"
   ]
  },
  {
   "cell_type": "markdown",
   "metadata": {},
   "source": [
    "# Concatenation of DataFrames"
   ]
  },
  {
   "cell_type": "code",
   "execution_count": null,
   "metadata": {},
   "outputs": [],
   "source": [
    "result.reset_index(drop=True,inplace=True)\n",
    "result_coe.reset_index(drop=True,inplace=True)\n",
    "result_err.reset_index(drop=True,inplace=True)"
   ]
  },
  {
   "cell_type": "code",
   "execution_count": null,
   "metadata": {},
   "outputs": [],
   "source": [
    "result_data = pd.merge(result_coe, result1,on=[\"article\",\"energy\"])\n",
    "result_data['article'] = result_data.article.astype('category')"
   ]
  },
  {
   "cell_type": "code",
   "execution_count": null,
   "metadata": {},
   "outputs": [],
   "source": [
    "result_data.dose.clip_lower(0,inplace=True)"
   ]
  },
  {
   "cell_type": "code",
   "execution_count": null,
   "metadata": {},
   "outputs": [],
   "source": [
    "result_data.set_index(['article','energy','nr'],inplace=True)\n",
    "result_err.set_index(['article','energy','nr'],inplace=True)"
   ]
  },
  {
   "cell_type": "code",
   "execution_count": null,
   "metadata": {},
   "outputs": [],
   "source": [
    "result_all = pd.merge(result_data,  result_err,left_index = True, right_index=True)"
   ]
  },
  {
   "cell_type": "code",
   "execution_count": null,
   "metadata": {},
   "outputs": [],
   "source": [
    "result_all.sort_index(inplace=True)"
   ]
  },
  {
   "cell_type": "markdown",
   "metadata": {},
   "source": [
    "# Save"
   ]
  },
  {
   "cell_type": "code",
   "execution_count": null,
   "metadata": {},
   "outputs": [],
   "source": [
    "fname = os.path.join('tmp','rawdata.h5')\n",
    "result_all.to_hdf(fname, 'data_analyze', format='table')"
   ]
  },
  {
   "cell_type": "code",
   "execution_count": null,
   "metadata": {},
   "outputs": [],
   "source": []
  }
 ],
 "metadata": {
  "kernelspec": {
   "display_name": "Python 3",
   "language": "python",
   "name": "python3"
  },
  "language_info": {
   "codemirror_mode": {
    "name": "ipython",
    "version": 3
   },
   "file_extension": ".py",
   "mimetype": "text/x-python",
   "name": "python",
   "nbconvert_exporter": "python",
   "pygments_lexer": "ipython3",
   "version": "3.9.2"
  }
 },
 "nbformat": 4,
 "nbformat_minor": 4
}

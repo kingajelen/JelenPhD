{
 "cells": [
  {
   "cell_type": "markdown",
   "metadata": {
    "id": "Sn9E4UXCSIwH"
   },
   "source": [
    "# Necessary packages install and import"
   ]
  },
  {
   "cell_type": "code",
   "execution_count": null,
   "metadata": {},
   "outputs": [],
   "source": [
    "pip install python=3.7"
   ]
  },
  {
   "cell_type": "code",
   "execution_count": null,
   "metadata": {
    "colab": {
     "base_uri": "https://localhost:8080/"
    },
    "executionInfo": {
     "elapsed": 886,
     "status": "ok",
     "timestamp": 1618481247198,
     "user": {
      "displayName": "Kinga Jeleń",
      "photoUrl": "https://lh3.googleusercontent.com/a-/AOh14Gjr72QezuwSivoe6vTPOVEEhpWXvwAsO1jS132a5w=s64",
      "userId": "09885435343859345826"
     },
     "user_tz": -120
    },
    "id": "bmdN4IDkNyVr",
    "outputId": "0b0a9fc4-4e81-45d2-e6d4-f484c2a63240"
   },
   "outputs": [],
   "source": [
    "!python -V"
   ]
  },
  {
   "cell_type": "code",
   "execution_count": null,
   "metadata": {
    "colab": {
     "base_uri": "https://localhost:8080/"
    },
    "executionInfo": {
     "elapsed": 6158,
     "status": "ok",
     "timestamp": 1618481252477,
     "user": {
      "displayName": "Kinga Jeleń",
      "photoUrl": "https://lh3.googleusercontent.com/a-/AOh14Gjr72QezuwSivoe6vTPOVEEhpWXvwAsO1jS132a5w=s64",
      "userId": "09885435343859345826"
     },
     "user_tz": -120
    },
    "id": "435MmkrCQvnm",
    "outputId": "5672d7e9-26d5-4319-8137-fd3a10f039dd"
   },
   "outputs": [],
   "source": [
    "!pip install pyamtrack"
   ]
  },
  {
   "cell_type": "code",
   "execution_count": null,
   "metadata": {
    "colab": {
     "base_uri": "https://localhost:8080/"
    },
    "executionInfo": {
     "elapsed": 12427,
     "status": "ok",
     "timestamp": 1618481258752,
     "user": {
      "displayName": "Kinga Jeleń",
      "photoUrl": "https://lh3.googleusercontent.com/a-/AOh14Gjr72QezuwSivoe6vTPOVEEhpWXvwAsO1jS132a5w=s64",
      "userId": "09885435343859345826"
     },
     "user_tz": -120
    },
    "id": "F9xgw3ffQzoq",
    "outputId": "b1e6026a-820b-48cf-c842-15a041905e3b"
   },
   "outputs": [],
   "source": [
    "!pip install lmfit"
   ]
  },
  {
   "cell_type": "code",
   "execution_count": null,
   "metadata": {
    "id": "z9TV4d5PXla_"
   },
   "outputs": [],
   "source": [
    "# import bisect"
   ]
  },
  {
   "cell_type": "code",
   "execution_count": null,
   "metadata": {
    "id": "GnW0AJagN5Fg"
   },
   "outputs": [],
   "source": [
    "import numpy as np\n",
    "from scipy import optimize\n",
    "import pandas as pd"
   ]
  },
  {
   "cell_type": "code",
   "execution_count": null,
   "metadata": {
    "colab": {
     "base_uri": "https://localhost:8080/",
     "height": 35
    },
    "executionInfo": {
     "elapsed": 13031,
     "status": "ok",
     "timestamp": 1618481259368,
     "user": {
      "displayName": "Kinga Jeleń",
      "photoUrl": "https://lh3.googleusercontent.com/a-/AOh14Gjr72QezuwSivoe6vTPOVEEhpWXvwAsO1jS132a5w=s64",
      "userId": "09885435343859345826"
     },
     "user_tz": -120
    },
    "id": "NyBmFIzbN6vG",
    "outputId": "77fcf7e9-f683-4dcc-83b4-4f612721c94d"
   },
   "outputs": [],
   "source": [
    "np.__version__"
   ]
  },
  {
   "cell_type": "code",
   "execution_count": null,
   "metadata": {
    "id": "nI00UG3hkDbd"
   },
   "outputs": [],
   "source": [
    "#matplotlib\n",
    "import matplotlib\n",
    "import matplotlib.pyplot as plt\n",
    "matplotlib.style.use('default')\n",
    "plt.rcParams['figure.figsize'] = [20/2.54, 15/2.54]\n",
    "plt.rcParams['figure.dpi'] = 150"
   ]
  },
  {
   "cell_type": "code",
   "execution_count": null,
   "metadata": {
    "id": "_sTZybhpVVpU"
   },
   "outputs": [],
   "source": [
    "# libamtrack\n",
    "from pyamtrack import libAT"
   ]
  },
  {
   "cell_type": "code",
   "execution_count": null,
   "metadata": {
    "id": "ymh8bzUvN9Zu"
   },
   "outputs": [],
   "source": [
    "# astropy needed to support units\n",
    "import astropy\n",
    "from astropy import units as u\n",
    "from astropy import constants as const"
   ]
  },
  {
   "cell_type": "code",
   "execution_count": null,
   "metadata": {
    "id": "97KUJJIRmSZC"
   },
   "outputs": [],
   "source": [
    "# create new units based on [MeV / u]\n",
    "eV_u = u.def_unit('eV/u', u.eV / u.u)\n",
    "keV_u = u.def_unit('keV/u', u.keV / u.u)\n",
    "MeV_u = u.def_unit('MeV/u', u.MeV / u.u)\n",
    "GeV_u = u.def_unit('GeV/u', u.GeV / u.u)\n",
    "Gy = u.def_unit('Gy', u.J / u.kg)\n",
    "\n",
    "u.add_enabled_units([eV_u, keV_u, MeV_u, GeV_u, Gy])\n",
    "\n",
    "# shortcut for dimensionless unit\n",
    "dimless = u.dimensionless_unscaled"
   ]
  },
  {
   "cell_type": "markdown",
   "metadata": {
    "id": "KdkjY0QXoubZ"
   },
   "source": [
    "## energy to beta"
   ]
  },
  {
   "cell_type": "code",
   "execution_count": null,
   "metadata": {
    "id": "mmCTJRcJWCvF"
   },
   "outputs": [],
   "source": [
    "@u.quantity_input\n",
    "def e2beta(E_MeV_u : MeV_u, libamtrack : bool = False) -> dimless:\n",
    "    \"\"\"\n",
    "    Convert energy in MeV/u to a beta value.\n",
    "\n",
    "    By definition:\n",
    "    E_kin = E_MeV_u * m  (assuming mass in expressed in \"u\" units)\n",
    "\n",
    "    Relativistic quantity gamma can be calculated as:\n",
    "    gamma = E_total / E_rest = (E_kin + E_rest) / E_rest = 1.0 + E_kin / E_rest = 1.0 + E_kin / (mc^2)\n",
    "\n",
    "    Atomic mass unit has equivalent rest energy:\n",
    "    m_u c^2 = 931.494 MeV\n",
    "    Here:\n",
    "    m_u = 1 * u\n",
    "    m_u -> physical quantity (mass)\n",
    "    1 -> unitless scalar\n",
    "    u -> physical unit (atomic mass unit)\n",
    "    therefore:\n",
    "    c^2 = 931.494 MeV/u\n",
    "\n",
    "    Therefore:\n",
    "    gamma = 1. + E_MeV_u / c^2\n",
    "\n",
    "    beta^2 = 1. - 1. / gamma^2 = 1. - 1. / (1. + E_MeV_u / c^2)^2\n",
    "    beta = sqrt(1. - 1. / (1. + E_MeV_u / c^2)^2)\n",
    "\n",
    "    Assuming that E_MeV_u = E_MeV_u_scalar MeV/u and knowing that c^2 = 931.494 MeV/u\n",
    "    we can write in dimensionless form:\n",
    "    \n",
    "    beta = sqrt(1. - 1. / (1. + E_MeV_u_scalar / 931.494)^2)\n",
    "\n",
    "    :param energy: kinetic energy [MeV/u]\n",
    "    :param libamtrack: calculate using libamtrack library\n",
    "    :returns: beta, v/c []\n",
    "    \"\"\"\n",
    "    if libamtrack:\n",
    "      if E_MeV_u.isscalar:\n",
    "        result = libAT.AT_beta_from_E_single(E_MeV_u.to_value(MeV_u)) << dimless\n",
    "      else:\n",
    "        result = np.zeros(E_MeV_u.shape).tolist()\n",
    "        libAT.AT_beta_from_E(E_MeV_u.to_value(MeV_u).tolist(), result)\n",
    "        result <<= dimless\n",
    "    else:\n",
    "      result = np.sqrt(1. - (1. / (E_MeV_u / const.c**2 + 1.)**2))\n",
    "    return result"
   ]
  },
  {
   "cell_type": "markdown",
   "metadata": {
    "id": "qBpiJU9PoxcL"
   },
   "source": [
    "## beta to energy"
   ]
  },
  {
   "cell_type": "code",
   "execution_count": null,
   "metadata": {
    "id": "5NORxUdNo5eX"
   },
   "outputs": [],
   "source": [
    "# @u.quantity_input\n",
    "# def beta2e(beta : dimless, libamtrack : bool = False) -> MeV_u:\n",
    "#     \"\"\"\n",
    "#     Convert beta to energy in MeV/u.\n",
    "\n",
    "#     Inverse of e2beta\n",
    "\n",
    "#     :param beta: v/c []\n",
    "#     :param libamtrack: calculate using libamtrack library\n",
    "#     :returns: energy in [MeV/u]\n",
    "#     \"\"\"\n",
    "#     if libamtrack:\n",
    "#       if beta.isscalar:\n",
    "#         result = libAT.AT_E_from_beta_single(beta.to_value(dimless)) << MeV_u\n",
    "#       else:\n",
    "#         result = np.zeros(beta.shape).tolist()\n",
    "#         libAT.AT_E_from_beta(beta.to_value(dimless).tolist(), result)\n",
    "#         result <<= MeV_u\n",
    "#     else:\n",
    "#       result = (np.sqrt(1./(1.-beta**2))-1.)* const.c**2\n",
    "#     return result"
   ]
  },
  {
   "cell_type": "markdown",
   "metadata": {
    "id": "2zL6vPLyrqgQ"
   },
   "source": [
    "## effective charge"
   ]
  },
  {
   "cell_type": "code",
   "execution_count": null,
   "metadata": {
    "id": "tLUfSqnyrsEq"
   },
   "outputs": [],
   "source": [
    "@u.quantity_input\n",
    "def zeff(Z : dimless, beta : dimless, libamtrack : bool = False) -> dimless:\n",
    "    \"\"\"\n",
    "    Effective charge\n",
    "\n",
    "    :param Z: ion charge []\n",
    "    :param beta: v/c []\n",
    "    :param libamtrack: calculate using libamtrack library\n",
    "    :returns: effective charge []\n",
    "    \"\"\"\n",
    "    if not isinstance(Z, astropy.units.quantity.Quantity):\n",
    "      Z <<= dimless\n",
    "    if not isinstance(beta, astropy.units.quantity.Quantity):\n",
    "      beta <<= dimless\n",
    "    if libamtrack:\n",
    "      if beta.isscalar:\n",
    "        result = libAT.AT_effective_charge_from_beta_single(beta.to_value(dimless), int(Z.to_value(dimless))) << dimless\n",
    "      else:\n",
    "        result = np.zeros(beta.shape).tolist()\n",
    "        libAT.AT_effective_charge_from_beta(beta.to_value(dimless).tolist(), [int(z) for z in Z.to_value(dimless)], result)\n",
    "        result <<= dimless\n",
    "    else:\n",
    "      result = Z*(1. - np.exp(-125. * beta / Z**(2./3.)))\n",
    "    return result"
   ]
  },
  {
   "cell_type": "markdown",
   "metadata": {
    "id": "2gt7Kffwvo_m"
   },
   "source": [
    "## Stopping power"
   ]
  },
  {
   "cell_type": "code",
   "execution_count": null,
   "metadata": {
    "id": "wq4KSJ4Qvp7a"
   },
   "outputs": [],
   "source": [
    "@u.quantity_input\n",
    "def glet(E_MeV_u : MeV_u, Z : dimless, libamtrack : bool = False) -> u.keV/u.um:\n",
    "    \"\"\"\n",
    "    Calculates the stopping power (LET) of the projectile in liquid water\n",
    "    :param energy: Energy in [MeV/u]\n",
    "    :param z: Charge of projectile. e.g. 6 for Carbon ions.\n",
    "    :param libamtrack: calculate using libamtrack library\n",
    "    :returns: LET in [keV/um]\n",
    "    \"\"\"\n",
    "    if not isinstance(Z, astropy.units.quantity.Quantity):\n",
    "      Z <<= dimless\n",
    "    if Z.isscalar and not E_MeV_u.isscalar:\n",
    "      Z = np.ones(E_MeV_u.shape) * Z\n",
    "\n",
    "    if libamtrack:\n",
    "      material_no = libAT.material_no.Water_Liquid.value\n",
    "      stop_power_source_no = libAT.stoppingPowerSource_no.PSTAR.value\n",
    "      particle_no = 1000*Z + Z\n",
    "      if E_MeV_u.isscalar:\n",
    "        particle_no = [int((1000*Z + Z).to_value(dimless))]\n",
    "        list_E_MeV_u = [E_MeV_u.to_value(MeV_u)]\n",
    "        result = [0.]\n",
    "      else:\n",
    "        particle_no = [int(z) for z in (1000*Z + Z).to_value(dimless)]\n",
    "        list_E_MeV_u = E_MeV_u.to_value(MeV_u).tolist()\n",
    "        result = np.zeros(E_MeV_u.shape).tolist()\n",
    "      libAT.AT_Stopping_Power_with_no(\n",
    "          libAT.stoppingPowerSource_no.PSTAR.value,\n",
    "          list_E_MeV_u,\n",
    "          particle_no,\n",
    "          libAT.material_no.Water_Liquid.value,\n",
    "          result\n",
    "      )\n",
    "      if E_MeV_u.isscalar:\n",
    "        result = result[0]\n",
    "      let_keV_um = result << u.keV / u.um\n",
    "    else:\n",
    "      # proton mass stopping power (in [MeV cm^2 /g]) as function of energy (in [MeV/u]) \n",
    "      # is piece-wise approximated by polynomials \n",
    "      # approximation is defined on intervals separated by following valeues: 60 keV/u, 10 MeV/u, 1 GeV/u\n",
    "      p1 = np.poly1d([-0.328797e-2, -0.869548e-1, -0.911414e0, -0.471453e1, -0.115638e2, -0.374474e1])\n",
    "      p2 = np.poly1d([0.649495e-3, 0.141793e-2, -0.108231e-1, 0.190340e-2, 0.886293e-3, -0.712500e0, 0.553740e1])\n",
    "      p3 = np.poly1d([0.113600e-2, -0.501344e-2, -0.210655e-1, -0.670708e0, 0.549002e1])\n",
    "      p4 = np.poly1d([-0.232769e-1, 0.618546e0, -0.541066e1, 0.163141e2])\n",
    "      log_E_MeV_u = np.log(E_MeV_u.to_value(MeV_u)) # convert to plain floating point numbers (log of energy)\n",
    "      rlet = np.piecewise(log_E_MeV_u,\n",
    "                          condlist=[E_MeV_u <= 60. * keV_u, \n",
    "                                    (E_MeV_u > 60. * keV_u) & (E_MeV_u <= 10. * MeV_u),\n",
    "                                    (E_MeV_u > 10. * MeV_u) & (E_MeV_u <= 1. * GeV_u),\n",
    "                                    E_MeV_u > 1. * GeV_u],\n",
    "                          funclist=[p1, p2, p3, p4])\n",
    "      proton_mass_stop_power = np.exp(rlet) << u.MeV * u.cm**2 / u.g # apply exp function and convert back to quantity objects\n",
    "\n",
    "      # ion mass stopping power is calculated from proton mass stopping power by rescaling by effective charge\n",
    "      beta = e2beta(E_MeV_u)\n",
    "      zeff_proton = zeff(Z=1, beta=beta)\n",
    "      zeff_ion = zeff(Z=Z, beta=beta)\n",
    "      ion_mass_stop_power = (zeff_ion / zeff_proton)**2 * proton_mass_stop_power\n",
    "\n",
    "      # ion stopping power (LET) is calculated by scaling with water density\n",
    "      water_density = 1.0 * u.g / u.cm**3\n",
    "      let_keV_um = ion_mass_stop_power * water_density\n",
    "    \n",
    "    return let_keV_um"
   ]
  },
  {
   "cell_type": "markdown",
   "metadata": {
    "id": "KtWjdj1coYXR"
   },
   "source": [
    "#RBE Wedenberg"
   ]
  },
  {
   "cell_type": "code",
   "execution_count": null,
   "metadata": {
    "id": "ACasSnM-od8J"
   },
   "outputs": [],
   "source": [
    "def rbe_wedenberg(dose, let, abx,q):\n",
    "    \"\"\"\n",
    "    Wedenberg proton RBE model\n",
    "    input parameters may be either numpy.array or scalars\n",
    "    TODO: handle Cube() class directly\n",
    "    :params dose: physical proton dose in [Gy]\n",
    "    :params let: LETd in [keV/um] (protons only)\n",
    "    :params abx: alpha_x / beta_x [Gy]\n",
    "    :returns: RBE for the given parameters\n",
    "    :ref: http://dx.doi.org/10.3109/0284186X.2012.705892\n",
    "    \"\"\"\n",
    "\n",
    "    _apx = 1.000 + q * let / abx\n",
    "    _sbpx = 1.0\n",
    "\n",
    "    rbe = _rbe_apx(dose, _apx, _sbpx, abx)\n",
    "    return rbe\n"
   ]
  },
  {
   "cell_type": "code",
   "execution_count": null,
   "metadata": {
    "id": "9EBt5nRUohLE"
   },
   "outputs": [],
   "source": [
    "def _rbe_apx(dose, apx, sbpx, abx, dzero=0.0):\n",
    "    \"\"\"\n",
    "    :params dose: proton dose      [Gy]\n",
    "    :params apx: alpha_p / alpha_x [dimensionless] RBE_max = ap/ax when (dose -> 0 Gy)\n",
    "    :params sbpx: beta_p / beta_x  [dimensionless] RBE_min = sqrt(bp/bx) when (dose -> inf Gy)\n",
    "    :params abx: alpha_x / beta_x  [Gy]\n",
    "    :params dzero: what to return in case of dose is zero (which would cause division by zero)\n",
    "    \"\"\"\n",
    "\n",
    "    _rbe = 1.0 / (2.0 * dose)\n",
    "    if hasattr(_rbe, '__iter__'):\n",
    "        _rbe[_rbe == np.inf] = dzero\n",
    "    else:\n",
    "        if _rbe == np.inf:\n",
    "            return dzero\n",
    "    delta = abx * abx + 4. * abx * apx * dose + 4. * sbpx * sbpx * dose * dose\n",
    "    delta *= (delta > 0)\n",
    "    _rbe *= (np.sqrt(delta) - abx)\n",
    "    return _rbe"
   ]
  },
  {
   "cell_type": "code",
   "execution_count": null,
   "metadata": {
    "id": "91XpvPsXot_h"
   },
   "outputs": [],
   "source": []
  },
  {
   "cell_type": "markdown",
   "metadata": {
    "id": "5bcSIWOuyuL2"
   },
   "source": [
    "#LET and Energy"
   ]
  },
  {
   "cell_type": "code",
   "execution_count": null,
   "metadata": {
    "id": "sqJJ_OYfpjE5"
   },
   "outputs": [],
   "source": [
    "q = pd.read_csv(\"q_all_10000.csv\")"
   ]
  },
  {
   "cell_type": "code",
   "execution_count": null,
   "metadata": {
    "id": "Fl3pHss9ohSl"
   },
   "outputs": [],
   "source": [
    "lets = glet( np.array(range(5,250,5)) * MeV_u, 1)"
   ]
  },
  {
   "cell_type": "code",
   "execution_count": null,
   "metadata": {
    "colab": {
     "base_uri": "https://localhost:8080/",
     "height": 61
    },
    "executionInfo": {
     "elapsed": 13671,
     "status": "ok",
     "timestamp": 1618481260040,
     "user": {
      "displayName": "Kinga Jeleń",
      "photoUrl": "https://lh3.googleusercontent.com/a-/AOh14Gjr72QezuwSivoe6vTPOVEEhpWXvwAsO1jS132a5w=s64",
      "userId": "09885435343859345826"
     },
     "user_tz": -120
    },
    "id": "73zZMFKkowhn",
    "outputId": "23b54251-1156-4ef2-d886-8cf8172b817e"
   },
   "outputs": [],
   "source": [
    "lets"
   ]
  },
  {
   "cell_type": "code",
   "execution_count": null,
   "metadata": {
    "id": "AsCwD_eZ2vbY"
   },
   "outputs": [],
   "source": [
    "energy =5.\n",
    "ab=2.0\n",
    "dose=2.0\n",
    "err = []\n",
    "le = []\n",
    "en = []\n",
    "for let in lets:\n",
    "  df_=rbe_wedenberg(dose,let,ab,q.q)\n",
    "  err.append(1.44*df_.std()/df_.mean() *100)\n",
    "  le.append(let.value)\n",
    "  en.append(energy)\n",
    "\n",
    "  #print(\"energy: \",energy,\"MeV \", \" let: \",\"{:.2f}\".format(let), \"  error:  \",\"{:.2f}\".format(1.44*df_.std()/df_.mean() *100),\"%\")\n",
    "  energy=energy+5."
   ]
  },
  {
   "cell_type": "code",
   "execution_count": null,
   "metadata": {
    "id": "lCIGC0P-2QGt"
   },
   "outputs": [],
   "source": [
    "tmp=pd.DataFrame()\n",
    "tmp[\"Energy\"] = np.round(en,2)\n",
    "tmp[\"LET\"] = le\n",
    "tmp[\"Error\"] = err"
   ]
  },
  {
   "cell_type": "code",
   "execution_count": null,
   "metadata": {
    "id": "7lNdAfKKtwOY"
   },
   "outputs": [],
   "source": [
    "energy =5.\n",
    "ab=10.0\n",
    "dose=2.0\n",
    "err = []\n",
    "le = []\n",
    "en = []\n",
    "for let in lets:\n",
    "  df_=rbe_wedenberg(dose,let,ab,q.q)\n",
    "  err.append((1.44*df_.std())/df_.mean() *100)\n",
    "  le.append(let.value)\n",
    "  en.append(energy)\n",
    "  #print(\"energy: \",energy,\"MeV \", \" let: \",\"{:.2f}\".format(let), \"  error:  \",\"{:.2f}\".format(1.44*df_.std()/df_.mean() *100),\"%\")\n",
    "  energy=energy+5."
   ]
  },
  {
   "cell_type": "code",
   "execution_count": null,
   "metadata": {
    "id": "YCRuIWBVxma5"
   },
   "outputs": [],
   "source": [
    "tmp2=pd.DataFrame()\n",
    "tmp2[\"Energy\"] = np.round(en,2)\n",
    "tmp2[\"LET\"] = le\n",
    "tmp2[\"Error\"] = err"
   ]
  },
  {
   "cell_type": "code",
   "execution_count": null,
   "metadata": {
    "colab": {
     "base_uri": "https://localhost:8080/",
     "height": 826
    },
    "executionInfo": {
     "elapsed": 1480,
     "status": "ok",
     "timestamp": 1618481270469,
     "user": {
      "displayName": "Kinga Jeleń",
      "photoUrl": "https://lh3.googleusercontent.com/a-/AOh14Gjr72QezuwSivoe6vTPOVEEhpWXvwAsO1jS132a5w=s64",
      "userId": "09885435343859345826"
     },
     "user_tz": -120
    },
    "id": "uMoFS6mnF9ly",
    "outputId": "ff1bb446-3d7b-4ce8-b0a9-eda28dd43048"
   },
   "outputs": [],
   "source": [
    "fig=plt.figure()\n",
    "ax1=fig.add_subplot(111, label=\"1\")\n",
    "\n",
    "ax1.plot(tmp.LET,tmp.Error, alpha=0.5,color=\"blue\")\n",
    "ax1.scatter(tmp.LET,tmp.Error,marker='.', color=\"black\",label='ab=2.0')\n",
    "\n",
    "ax1.plot(tmp2.LET,tmp2.Error,alpha=0.5,color=\"blue\")\n",
    "ax1.scatter(tmp2.LET,tmp2.Error,marker='x', color=\"black\",label='ab=10.0')\n",
    "\n",
    "#graph settings\n",
    "ax1.set_title(\"Błąd wyznaczenia RBE\", fontsize = 16)\n",
    "ax1.set_xlabel(\"LET [keV/um]\", fontsize = 12)\n",
    "ax1.set_ylabel(r\"$1.44\\sigma/mean [%]$\", fontsize = 12)\n",
    "\n",
    "plt.grid()\n",
    "plt.minorticks_on()\n",
    "plt.grid(which='minor', linestyle=':', linewidth='0.2', color='black')\n",
    "\n",
    "plt.rcParams['xtick.direction'] = 'in' \n",
    "plt.rcParams['ytick.direction'] = 'in' \n",
    "plt.rcParams['xtick.top'] = True \n",
    "plt.rcParams['ytick.right'] = True\n",
    "\n",
    "ax1.legend()\n",
    "plt.show()"
   ]
  },
  {
   "cell_type": "code",
   "execution_count": null,
   "metadata": {
    "id": "O9FxGy9sGIiZ"
   },
   "outputs": [],
   "source": [
    "#rozdzielic na dwa wykresy"
   ]
  },
  {
   "cell_type": "code",
   "execution_count": null,
   "metadata": {
    "colab": {
     "base_uri": "https://localhost:8080/",
     "height": 787
    },
    "executionInfo": {
     "elapsed": 1640,
     "status": "ok",
     "timestamp": 1618481282047,
     "user": {
      "displayName": "Kinga Jeleń",
      "photoUrl": "https://lh3.googleusercontent.com/a-/AOh14Gjr72QezuwSivoe6vTPOVEEhpWXvwAsO1jS132a5w=s64",
      "userId": "09885435343859345826"
     },
     "user_tz": -120
    },
    "id": "uO-sbkAXRfl_",
    "outputId": "eaee9be9-18a0-4613-fdcf-f666d2676181"
   },
   "outputs": [],
   "source": [
    "fig=plt.figure()\n",
    "\n",
    "ax2=fig.add_subplot(111, label=\"1\")\n",
    "\n",
    "ax2.plot(tmp.Energy,tmp.Error, alpha=0.5,color=\"red\")\n",
    "ax2.plot(tmp2.Energy,tmp2.Error,alpha=0.5,color=\"red\")\n",
    "\n",
    "ax2.scatter(tmp.Energy,tmp.Error, marker='.',color=\"red\",label=\"ab=2.0\")\n",
    "ax2.scatter(tmp2.Energy,tmp2.Error, marker='x',color=\"red\",label='ab=10.0')\n",
    "\n",
    "\n",
    "#graph settings\n",
    "ax1.set_title(\"Błąd wyznaczenia RBE\", fontsize = 16)\n",
    "ax2.set_xlabel(\"Energy [MeV]\", fontsize = 12)\n",
    "ax2.set_ylabel(r\"$1.44\\sigma/mean [%]$\",fontsize = 12)\n",
    "\n",
    "\n",
    "plt.grid()\n",
    "plt.minorticks_on()\n",
    "plt.grid(which='minor', linestyle=':', linewidth='0.2', color='black')\n",
    "\n",
    "plt.rcParams['xtick.direction'] = 'in' \n",
    "plt.rcParams['ytick.direction'] = 'in' \n",
    "plt.rcParams['xtick.top'] = True \n",
    "plt.rcParams['ytick.right'] = True\n",
    "\n",
    "ax2.legend()\n",
    "plt.show()"
   ]
  },
  {
   "cell_type": "code",
   "execution_count": null,
   "metadata": {
    "id": "UF6ii8YrRw_Q"
   },
   "outputs": [],
   "source": []
  },
  {
   "cell_type": "markdown",
   "metadata": {
    "id": "Y2_swgL49vcN"
   },
   "source": [
    "Wielkość błędów branych pod uwagę w analizach odporności wynosi\n",
    "zazwyczaj 85% CI dla niepewności konfiguracji i zakresu. 85% CI (1,44 dla normalnych rozkładów) zostało pierwotnie zaproponowane przez Goiteina (1983) i zostało przyjęte jako rozsądny parametr do wykorzystania w celach klinicznych (Albertini i wsp. 2011, Lowe i wsp. 2016, Paganetti 2012b). Zwykle skutkuje to marginesami niepewności zakresu wynoszącymi około ± 3% w klinice (Paganetti 2012b, Yang i wsp. 2012). Obliczenia błędów planu leczenia są następnie zwykle wykonywane dla skończonej liczby scenariuszy błędów sztywnego ustawienia i błędów stałej gęstości, co prowadzi do zbioru potencjalnych rozkładów dawki."
   ]
  },
  {
   "cell_type": "code",
   "execution_count": null,
   "metadata": {
    "id": "R1k4dpYH9v7z"
   },
   "outputs": [],
   "source": []
  }
 ],
 "metadata": {
  "colab": {
   "collapsed_sections": [],
   "name": "Error_dla_roznych_E.ipynb",
   "provenance": [],
   "toc_visible": true
  },
  "kernelspec": {
   "display_name": "Python 3",
   "language": "python",
   "name": "python3"
  },
  "language_info": {
   "codemirror_mode": {
    "name": "ipython",
    "version": 3
   },
   "file_extension": ".py",
   "mimetype": "text/x-python",
   "name": "python",
   "nbconvert_exporter": "python",
   "pygments_lexer": "ipython3",
   "version": "3.8.10"
  }
 },
 "nbformat": 4,
 "nbformat_minor": 1
}

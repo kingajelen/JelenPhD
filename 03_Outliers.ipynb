{
 "cells": [
  {
   "cell_type": "markdown",
   "metadata": {},
   "source": [
    "# Import libraries"
   ]
  },
  {
   "cell_type": "code",
   "execution_count": 52,
   "metadata": {},
   "outputs": [],
   "source": [
    "import os\n",
    "\n",
    "import pandas as pd\n",
    "import numpy as np\n",
    "import scipy.stats"
   ]
  },
  {
   "cell_type": "markdown",
   "metadata": {},
   "source": [
    "# Read data"
   ]
  },
  {
   "cell_type": "code",
   "execution_count": 53,
   "metadata": {
    "scrolled": true
   },
   "outputs": [],
   "source": [
    "fname = os.path.join('tmp','fitted_data.h5')\n",
    "df = pd.read_hdf(fname, 'data')"
   ]
  },
  {
   "cell_type": "code",
   "execution_count": 54,
   "metadata": {},
   "outputs": [],
   "source": [
    "#df['diff_alpha']=df['alpha']-df['alpha_fit']\n",
    "df['div_alpha']=df['alpha']/df['alpha_fit']\n",
    "#df['diff_beta']=df['beta']-df['beta_fit']\n",
    "df['div_beta']=df['beta']/df['beta_fit']"
   ]
  },
  {
   "cell_type": "markdown",
   "metadata": {},
   "source": [
    "# Conditions for the rejection of data"
   ]
  },
  {
   "cell_type": "markdown",
   "metadata": {},
   "source": [
    "### A. number of experimental points <=4"
   ]
  },
  {
   "cell_type": "code",
   "execution_count": 55,
   "metadata": {},
   "outputs": [],
   "source": [
    "for name, group in df.groupby('article'):\n",
    "        for energy, data in group.groupby('energy'):\n",
    "            if  (len(data.index))>4 :\n",
    "                 df.loc[(name,energy),'A'] = True\n",
    "            else:\n",
    "                df.loc[(name,energy),'A'] = False\n",
    "                print(name, energy)"
   ]
  },
  {
   "cell_type": "markdown",
   "metadata": {},
   "source": [
    "### B beta <=0"
   ]
  },
  {
   "cell_type": "code",
   "execution_count": 56,
   "metadata": {},
   "outputs": [],
   "source": [
    "for name, group in df.groupby('article'):\n",
    "        for energy, data in group.groupby('energy'):\n",
    "            if  ((data.beta_fit)>=0.0).all() :\n",
    "                 df.loc[(name,energy),'B'] = True\n",
    "            else:\n",
    "                df.loc[(name,energy),'B'] = False   \n",
    "                print(name, energy)"
   ]
  },
  {
   "cell_type": "markdown",
   "metadata": {},
   "source": [
    "### C differences in alfa parameters"
   ]
  },
  {
   "cell_type": "code",
   "execution_count": 57,
   "metadata": {},
   "outputs": [
    {
     "name": "stdout",
     "output_type": "stream",
     "text": [
      "12 3660\n",
      "13SQ 0\n",
      "13SQ 880\n"
     ]
    }
   ],
   "source": [
    "for name, group in df.groupby('article'):\n",
    "        for energy, data in group.groupby('energy'):\n",
    "            if ( ((data.div_alpha)>0.8)&((data.div_alpha)<1.2) ).all() :\n",
    "                 df.loc[(name,energy),'C'] = True\n",
    "            else:                                 \n",
    "                df.loc[(name,energy),'C'] = False\n",
    "                print(name, energy)"
   ]
  },
  {
   "cell_type": "markdown",
   "metadata": {},
   "source": [
    "### C2 differences in beta parameters"
   ]
  },
  {
   "cell_type": "code",
   "execution_count": 58,
   "metadata": {},
   "outputs": [
    {
     "name": "stdout",
     "output_type": "stream",
     "text": [
      "10 3200\n",
      "11 0\n",
      "12 1070\n",
      "12 3660\n",
      "13HF 0\n",
      "13HF 880\n",
      "13HF 1490\n",
      "13HF 5040\n",
      "13M 0\n",
      "13M 1350\n",
      "13M 4050\n",
      "13SC 0\n",
      "13SC 880\n",
      "13SC 1490\n",
      "13SQ 0\n",
      "13SQ 880\n",
      "13SQ 1490\n",
      "13SQ 5040\n",
      "16 880\n",
      "17D 5010\n",
      "17H 0\n"
     ]
    }
   ],
   "source": [
    "for name, group in df.groupby('article'):\n",
    "        for energy, data in group.groupby('energy'):\n",
    "            if ( ((data.div_beta)>=0.8)&((data.div_beta)<1.2) ).all() :\n",
    "                 df.loc[(name,energy),'C2'] = True\n",
    "            else:\n",
    "                \n",
    "                df.loc[(name,energy),'C2'] = False\n",
    "                print(name, energy)"
   ]
  },
  {
   "cell_type": "markdown",
   "metadata": {},
   "source": [
    "### D uncertainties >100%"
   ]
  },
  {
   "cell_type": "code",
   "execution_count": 59,
   "metadata": {},
   "outputs": [
    {
     "name": "stdout",
     "output_type": "stream",
     "text": [
      "13M 1350\n"
     ]
    }
   ],
   "source": [
    "for name, group in df.groupby('article'):\n",
    "        for energy, data in group.groupby('energy'):\n",
    "            if  (data.sf_err_up.max() < 1.2) :\n",
    "                df.loc[(name,energy),'D'] = True\n",
    "            else:\n",
    "                if energy == 0.0 :\n",
    "                    df.loc[(name,energy),'D'] = True\n",
    "                else: \n",
    "                    df.loc[(name,energy),'D'] = False  \n",
    "                    print(name, energy)"
   ]
  },
  {
   "cell_type": "markdown",
   "metadata": {},
   "source": [
    "### E CDF > 10**-5"
   ]
  },
  {
   "cell_type": "code",
   "execution_count": 60,
   "metadata": {},
   "outputs": [
    {
     "name": "stdout",
     "output_type": "stream",
     "text": [
      "13SQ 0\n"
     ]
    }
   ],
   "source": [
    "for name, group in df.groupby('article'):\n",
    "        for energy, data in group.groupby('energy'):\n",
    "            if  (energy == 0.0) :\n",
    "                cdf=scipy.stats.norm.cdf(0,data.alpha_fit.values,data.alpha_fit_err.values)\n",
    "                if (cdf > 10**-5).any():\n",
    "                    df.loc[(name),'E'] = False\n",
    "                    print(name, energy)\n",
    "                else:\n",
    "                    df.loc[(name),'E'] = True    \n",
    "                    "
   ]
  },
  {
   "cell_type": "markdown",
   "metadata": {},
   "source": [
    "### F error SF  >50%"
   ]
  },
  {
   "cell_type": "code",
   "execution_count": 61,
   "metadata": {},
   "outputs": [
    {
     "name": "stdout",
     "output_type": "stream",
     "text": [
      "17H 0\n"
     ]
    }
   ],
   "source": [
    "for name, group in df.groupby('article'):\n",
    "        for energy, data in group.groupby('energy'):\n",
    "            if  (energy == 0.0) :\n",
    "                er=data.loc[name].sf_error / data.loc[name].sf\n",
    "                if (er > 0.5).any():\n",
    "                    df.loc[(name),'F'] = False\n",
    "                    print(name, energy)\n",
    "                else:\n",
    "                    df.loc[(name),'F'] = True"
   ]
  },
  {
   "cell_type": "markdown",
   "metadata": {},
   "source": [
    "### G alfa ref > alfa prot"
   ]
  },
  {
   "cell_type": "code",
   "execution_count": 64,
   "metadata": {},
   "outputs": [
    {
     "name": "stdout",
     "output_type": "stream",
     "text": [
      "13HF 880\n",
      "13HF 1490\n",
      "13HF 5040\n",
      "13M 1350\n",
      "13M 4050\n",
      "13SC 5040\n",
      "16 5040\n",
      "17H 5010\n"
     ]
    }
   ],
   "source": [
    "for name, group in df.groupby('article'):\n",
    "    alpha_ref = df.loc[name].loc[0].alpha_fit[0]\n",
    "    for energy, data in group.groupby('energy'):\n",
    "        if energy > 0 :\n",
    "            alpha = data.alpha_fit.values[0]\n",
    "            \n",
    "            if (alpha_ref > alpha) : \n",
    "                df.loc[(name,energy),'G'] = False\n",
    "                print(name, energy)\n",
    "            else:\n",
    "                df.loc[(name,energy),'G'] = True\n",
    "        else:\n",
    "            df.loc[(name,energy),'G'] = True\n"
   ]
  },
  {
   "cell_type": "markdown",
   "metadata": {},
   "source": [
    "# Delete protons data when references=0"
   ]
  },
  {
   "cell_type": "code",
   "execution_count": 65,
   "metadata": {},
   "outputs": [],
   "source": [
    "for name, group in df.groupby('article'):\n",
    "    #print(group[group.index.get_level_values('energy') == 0.0])  \n",
    "    if (group[group.index.get_level_values('energy') == 0.0].A == False).all() :\n",
    "        df.loc[(name),'A'] = False\n",
    "        \n",
    "    if (group[group.index.get_level_values('energy') == 0.0].B == False).all() :       \n",
    "        df.loc[(name),'B'] = False\n",
    "        \n",
    "    if (group[group.index.get_level_values('energy') == 0.0].C2 == False).all() :           \n",
    "        df.loc[(name),'C2'] = False\n",
    "      \n",
    "    if (group[group.index.get_level_values('energy') == 0.0].C == False).all() :         \n",
    "        df.loc[(name),'C'] = False\n",
    "        \n",
    "    if (group[group.index.get_level_values('energy') == 0.0].D == False).all() :         \n",
    "        df.loc[(name),'D'] = False\n",
    "        \n",
    "    if (group[group.index.get_level_values('energy') == 0.0].E == False).all() :         \n",
    "        df.loc[(name),'E'] = False\n",
    "        \n",
    "    if (group[group.index.get_level_values('energy') == 0.0].F == False).all() :         \n",
    "        df.loc[(name),'F'] = False\n",
    "        \n",
    "    if (group[group.index.get_level_values('energy') == 0.0].G == False).all() :         \n",
    "        df.loc[(name),'G'] = False\n"
   ]
  },
  {
   "cell_type": "markdown",
   "metadata": {},
   "source": [
    "## Check data without outliers"
   ]
  },
  {
   "cell_type": "code",
   "execution_count": 66,
   "metadata": {},
   "outputs": [],
   "source": [
    "df2 = df[ (df.G == True)  ] \n",
    "#&"
   ]
  },
  {
   "cell_type": "code",
   "execution_count": 70,
   "metadata": {},
   "outputs": [],
   "source": [
    "df2 = df2[[\"alpha_fit\",\"alpha_fit_err\",\"beta_fit\",\"beta_fit_err\",\"covar_fit\",'a(fit)/a_ref(fit)','a/a_ref',\"LET\"]]"
   ]
  },
  {
   "cell_type": "code",
   "execution_count": 71,
   "metadata": {},
   "outputs": [
    {
     "name": "stdout",
     "output_type": "stream",
     "text": [
      "10 0\n",
      "10 1410\n",
      "10 3200\n",
      "10 5010\n",
      "11 0\n",
      "11 870\n",
      "11 1460\n",
      "11 3180\n",
      "12 0\n",
      "12 1070\n",
      "12 1830\n",
      "12 3660\n",
      "13HF 0\n",
      "13M 0\n",
      "13SC 0\n",
      "13SC 880\n",
      "13SC 1490\n",
      "13SQ 0\n",
      "13SQ 880\n",
      "13SQ 1490\n",
      "13SQ 5040\n",
      "16 0\n",
      "16 880\n",
      "17D 0\n",
      "17D 5010\n",
      "17H 0\n"
     ]
    }
   ],
   "source": [
    "for name, group in df2.groupby('article'):\n",
    "    for energy, data in group.groupby('energy'):\n",
    "        print(name, energy)"
   ]
  },
  {
   "cell_type": "markdown",
   "metadata": {},
   "source": [
    "## Check outliers"
   ]
  },
  {
   "cell_type": "code",
   "execution_count": 72,
   "metadata": {},
   "outputs": [],
   "source": [
    "df3 = df[  (df.G == False)] \n",
    "#\\"
   ]
  },
  {
   "cell_type": "code",
   "execution_count": 73,
   "metadata": {},
   "outputs": [
    {
     "name": "stdout",
     "output_type": "stream",
     "text": [
      "13HF 880\n",
      "13HF 1490\n",
      "13HF 5040\n",
      "13M 1350\n",
      "13M 4050\n",
      "13SC 5040\n",
      "16 5040\n",
      "17H 5010\n"
     ]
    }
   ],
   "source": [
    "for name, group in df3.groupby('article'):\n",
    "    for energy, data in group.groupby('energy'):\n",
    "        print(name, energy)"
   ]
  },
  {
   "cell_type": "markdown",
   "metadata": {},
   "source": [
    "# Save temporary files"
   ]
  },
  {
   "cell_type": "code",
   "execution_count": null,
   "metadata": {},
   "outputs": [],
   "source": [
    "#hdf_fname = os.path.join('tmp','q.h5')\n",
    "#df2.to_hdf(hdf_fname, 'data_6', format='table')"
   ]
  },
  {
   "cell_type": "code",
   "execution_count": null,
   "metadata": {},
   "outputs": [],
   "source": []
  }
 ],
 "metadata": {
  "kernelspec": {
   "display_name": "Python 3",
   "language": "python",
   "name": "python3"
  },
  "language_info": {
   "codemirror_mode": {
    "name": "ipython",
    "version": 3
   },
   "file_extension": ".py",
   "mimetype": "text/x-python",
   "name": "python",
   "nbconvert_exporter": "python",
   "pygments_lexer": "ipython3",
   "version": "3.8.10"
  }
 },
 "nbformat": 4,
 "nbformat_minor": 2
}

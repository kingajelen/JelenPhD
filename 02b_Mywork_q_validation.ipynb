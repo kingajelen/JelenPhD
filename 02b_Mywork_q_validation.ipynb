{
 "cells": [
  {
   "cell_type": "markdown",
   "metadata": {},
   "source": [
    "# Import libraries"
   ]
  },
  {
   "cell_type": "code",
   "execution_count": null,
   "metadata": {
    "id": "9cAOPYl_ZoQN"
   },
   "outputs": [],
   "source": [
    "from io import StringIO\n",
    "\n",
    "import numpy as np\n",
    "import pandas as pd\n",
    "import matplotlib.pyplot as plt\n",
    "import matplotlib\n",
    "import pylab\n",
    "\n",
    "from sklearn.linear_model import LinearRegression\n",
    "from lmfit import  Model, Parameters\n",
    "from lmfit.models import LinearModel\n",
    "\n",
    "import statsmodels.api as sm\n",
    "from statsmodels.sandbox.regression.predstd import wls_prediction_std"
   ]
  },
  {
   "cell_type": "markdown",
   "metadata": {},
   "source": [
    "# Functions"
   ]
  },
  {
   "cell_type": "code",
   "execution_count": null,
   "metadata": {},
   "outputs": [],
   "source": [
    "def plot_style():\n",
    "    plt.grid()\n",
    "    plt.minorticks_on()\n",
    "    plt.grid(which='major', linestyle=':', linewidth='0.2', color='k')\n",
    "    plt.grid(which='minor', linestyle=':', linewidth='0.2', color='k')\n",
    "\n",
    "    plt.rcParams['xtick.direction'] = 'in' \n",
    "    plt.rcParams['ytick.direction'] = 'in' \n",
    "    plt.rcParams['xtick.top'] = True \n",
    "    plt.rcParams['ytick.right'] = True  \n",
    "    plt.rc('font', size='20')  \n",
    "    \n",
    "    params = {'legend.fontsize': '20',\n",
    "         'figure.figsize': (10,6),\n",
    "         'axes.labelsize': '26',\n",
    "         'axes.titlesize':'26',\n",
    "         'xtick.labelsize':'20',\n",
    "         'ytick.labelsize':'20',\n",
    "         'xtick.major.pad':'16',\n",
    "         'ytick.major.pad':'16'}\n",
    "    \n",
    "    pylab.rcParams.update(params)"
   ]
  },
  {
   "cell_type": "code",
   "execution_count": null,
   "metadata": {
    "id": "5j3uvRFED6x1"
   },
   "outputs": [],
   "source": [
    "def add_reference_params(df):\n",
    "  df[\"alpha_ref\"] = df.alpha[df.LET == 0].iloc[0]\n",
    "  df[\"beta_ref\"] = df.beta[df.LET == 0].iloc[0]\n",
    "  df[\"alpha_ref_err\"] = df.alpha_err[df.LET == 0].iloc[0]\n",
    "  df[\"beta_ref_err\"] = df.beta_err[df.LET == 0].iloc[0]\n",
    "  return df"
   ]
  },
  {
   "cell_type": "markdown",
   "metadata": {},
   "source": [
    "# Read data"
   ]
  },
  {
   "cell_type": "code",
   "execution_count": null,
   "metadata": {
    "id": "WA7UmSabKZK4"
   },
   "outputs": [],
   "source": [
    "data_string=\"\"\"\n",
    "cell_line\tenergy\tLET\tno_points\talpha\talpha_err\tbeta\tbeta_err\n",
    "V79753B\t200kV\t0\t10\t0.119\t0.017\t0.0493\t0.0045\n",
    "V79753B\t5.01\t7.7\t7\t0.291\t0.024\t0.0235\t0.0064\n",
    "V79753B\t3.2\t11.0\t7\t0.381\t0.027\t0.0293\t0.0073\n",
    "V79753B\t1.41\t20.0\t6\t0.503\t0.028\t0.0365\t0.0080\n",
    "C3H10T1\tCobalt\t0\t5\t0.266\t0.034\t0.0126\t0.0082\n",
    "C3H10T1\t3.18\t11.0\t6\t0.482\t0.071\t0.0192\t0.0178\n",
    "C3H10T1\t1.46\t19.7\t6\t0.444\t0.052\t0.0367\t0.0117\n",
    "C3H10T1\t0.87\t28.8\t5\t0.535\t0.049\t0.0543\t0.0129\n",
    "V79379A\t240kV\t0\t6\t0.119\t0.020\t0.0510\t0.0034\n",
    "V79379A\t3.66\t10.1\t7\t0.242\t0.039\t0.0529\t0.0069\n",
    "V79379A\t1.83\t17.8\t9\t0.439\t0.055\t0.0316\t0.0109\n",
    "V79379A\t1.07\t27.6\t8\t0.723\t0.025\t0.0167\t0.0053\n",
    "HF19\tCs\t0\t7\t0.608\t0.043\t0.0086\t0.0117\n",
    "HF19\t5.04\t7.7\t6\t0.488\t0.072\t0.0137\t0.0181\n",
    "HF19\t1.49\t19.5\t6\t0.541\t0.070\t0.00000000555\t0.0095\n",
    "HF19\t0.88\t29.0\t7\t0.513\t0.092\t0.0000002498\t0.0217\n",
    "SCC25\tCobalt\t0\t8\t0.525\t0.071\t0.0412\t0.0167\n",
    "SCC25\t5.04\t7.7\t5\t0.342\t0.104\t0.1078\t0.0299\n",
    "SCC25\t1.49\t19.5\t6\t0.835\t0.075\t0.0094\t0.0258\n",
    "SCC25\t0.88\t29.0\t6\t0.799\t0.085\t0.0000000111\t0.0457\n",
    "SQ20B\tCobalt\t0\t10\t0.091\t0.040\t0.0230\t0.0071\n",
    "SQ20B\t5.04\t7.7\t6\t0.132\t0.017\t0.0151\t0.0037\n",
    "SQ20B\t1.49\t19.5\t6\t0.252\t0.022\t0.0001413\t0.0038\n",
    "SQ20B\t0.88\t29.0\t7\t0.373\t0.086\t0.0000\t0.0192\n",
    "C1-1\tCobalt\t0\t7\t0.231\t0.022\t0.0300\t0.0067\n",
    "C1-1\t5.04\t7.7\t6\t0.177\t0.020\t0.0284\t0.0070\n",
    "C1-1\t0.88\t29.0\t5\t0.542\t0.009\t0.000000544\t0.0034\n",
    "DLD1\tCobalt\t0\t8\t0.353\t0.080\t0.1214\t0.0223\n",
    "DLD1\t5.04\t7.7\t7\t0.416\t0.075\t0.000000247\t0.0223\n",
    "HCT116\tCobalt\t0\t8\t1.347\t0.011\t0.0313\t0.0241\n",
    "HCT116\t5.04\t7.7\t8\t0.341\t0.060\t0.0577\t0.0204\n",
    "\n",
    "\"\"\""
   ]
  },
  {
   "cell_type": "code",
   "execution_count": null,
   "metadata": {
    "id": "xAWf-4uubP6p"
   },
   "outputs": [],
   "source": [
    "raw_data = pd.read_csv(StringIO(data_string), delimiter='\\t')"
   ]
  },
  {
   "cell_type": "code",
   "execution_count": null,
   "metadata": {
    "id": "j34qZHTfDm-n"
   },
   "outputs": [],
   "source": [
    "step1_data = raw_data.groupby('cell_line').apply(add_reference_params)"
   ]
  },
  {
   "cell_type": "code",
   "execution_count": null,
   "metadata": {
    "colab": {
     "base_uri": "https://localhost:8080/",
     "height": 696
    },
    "executionInfo": {
     "elapsed": 526,
     "status": "ok",
     "timestamp": 1611060079910,
     "user": {
      "displayName": "Kinga Jeleń",
      "photoUrl": "https://lh3.googleusercontent.com/a-/AOh14GhB8cT8zgHr4JYKqbUyQMKPGNjl_g7g3eInTjQ7=s64",
      "userId": "09885435343859345826"
     },
     "user_tz": -60
    },
    "id": "PnH0szOBCmb8",
    "outputId": "2ab75125-3c9d-47a3-be5b-284d16600e1a"
   },
   "outputs": [],
   "source": [
    "step2_data = step1_data[step1_data.LET > 0]"
   ]
  },
  {
   "cell_type": "code",
   "execution_count": null,
   "metadata": {
    "id": "9FqdPq1gLv_u"
   },
   "outputs": [],
   "source": [
    "fit_data = step2_data.copy()\n",
    "fit_data['y'] = fit_data.alpha / fit_data.alpha_ref\n",
    "fit_data['y_centered'] = fit_data.y - 1.0\n",
    "fit_data['x'] = fit_data.LET / (fit_data.alpha_ref / fit_data.beta_ref)"
   ]
  },
  {
   "cell_type": "markdown",
   "metadata": {},
   "source": [
    "# Analyze "
   ]
  },
  {
   "cell_type": "code",
   "execution_count": null,
   "metadata": {
    "id": "fnIm1XxUKS0d"
   },
   "outputs": [],
   "source": [
    "eq2_model = LinearModel()"
   ]
  },
  {
   "cell_type": "code",
   "execution_count": null,
   "metadata": {
    "colab": {
     "base_uri": "https://localhost:8080/",
     "height": 71
    },
    "executionInfo": {
     "elapsed": 357,
     "status": "ok",
     "timestamp": 1611060086561,
     "user": {
      "displayName": "Kinga Jeleń",
      "photoUrl": "https://lh3.googleusercontent.com/a-/AOh14GhB8cT8zgHr4JYKqbUyQMKPGNjl_g7g3eInTjQ7=s64",
      "userId": "09885435343859345826"
     },
     "user_tz": -60
    },
    "id": "G1NSagK1Kd7S",
    "outputId": "c5db8a80-2520-4054-832b-a50e2b8e1220"
   },
   "outputs": [],
   "source": [
    "params = eq2_model.make_params()\n",
    "params['intercept'].vary = False\n",
    "params['intercept'].value = 1.0\n",
    "params"
   ]
  },
  {
   "cell_type": "code",
   "execution_count": null,
   "metadata": {
    "id": "KPjcv48iKg5X"
   },
   "outputs": [],
   "source": [
    "result = eq2_model.fit( fit_data.y, params, x= fit_data.x)"
   ]
  },
  {
   "cell_type": "code",
   "execution_count": null,
   "metadata": {
    "colab": {
     "base_uri": "https://localhost:8080/"
    },
    "executionInfo": {
     "elapsed": 1064,
     "status": "ok",
     "timestamp": 1611060090307,
     "user": {
      "displayName": "Kinga Jeleń",
      "photoUrl": "https://lh3.googleusercontent.com/a-/AOh14GhB8cT8zgHr4JYKqbUyQMKPGNjl_g7g3eInTjQ7=s64",
      "userId": "09885435343859345826"
     },
     "user_tz": -60
    },
    "id": "I0hN5aGrOb53",
    "outputId": "524740eb-a04e-471a-b496-d7db7ee164dd"
   },
   "outputs": [],
   "source": [
    "model = sm.OLS(fit_data.y_centered, fit_data.x)\n",
    "res = model.fit()\n",
    "print(res.summary())"
   ]
  },
  {
   "cell_type": "code",
   "execution_count": null,
   "metadata": {
    "colab": {
     "base_uri": "https://localhost:8080/",
     "height": 377
    },
    "executionInfo": {
     "elapsed": 856,
     "status": "ok",
     "timestamp": 1611060097101,
     "user": {
      "displayName": "Kinga Jeleń",
      "photoUrl": "https://lh3.googleusercontent.com/a-/AOh14GhB8cT8zgHr4JYKqbUyQMKPGNjl_g7g3eInTjQ7=s64",
      "userId": "09885435343859345826"
     },
     "user_tz": -60
    },
    "id": "GQqPB5-bRW9R",
    "outputId": "4b9ccb46-59c3-44ed-ef28-33c35f7c5d5d"
   },
   "outputs": [],
   "source": [
    "fitted_x_for_plot = np.linspace(start = fit_data.x.min(), stop = fit_data.x.max(), num=100)\n",
    "\n",
    "prstd, iv_l, iv_u = wls_prediction_std(res, fitted_x_for_plot.reshape(-1,1))\n",
    "\n",
    "fig, ax = plt.subplots(figsize=(8,6))\n",
    "\n",
    "plt.plot(fit_data.x, fit_data.y_centered, 'ko', label=\"Dane z tabeli 5.1\")\n",
    "plt.plot(fitted_x_for_plot, res.predict(fitted_x_for_plot), 'k', label=\"Dopasowany model\\nq=0.389\")\n",
    "plt.plot(fitted_x_for_plot, iv_u, 'k--')\n",
    "plt.plot(fitted_x_for_plot, iv_l, 'k--')\n",
    "plot_style()\n",
    "plt.legend(loc='best');\n",
    "plt.xlim(0,10.5)\n",
    "  \n",
    "plt.xlabel(r'$LET  /  ({\\alpha / \\beta})_{ref} \\;[Gy \\cdot keV \\cdot \\mu m^{-1}]$')\n",
    "plt.ylabel(r'$(\\alpha / \\alpha_{ref})-1\\;[-]$')"
   ]
  },
  {
   "cell_type": "code",
   "execution_count": null,
   "metadata": {
    "id": "JcILSgmpOlcF"
   },
   "outputs": [],
   "source": [
    "reg = LinearRegression(fit_intercept=False).fit(fit_data.x.values.reshape(-1, 1), fit_data.y_centered.values.reshape(-1, 1))"
   ]
  },
  {
   "cell_type": "code",
   "execution_count": null,
   "metadata": {
    "colab": {
     "base_uri": "https://localhost:8080/"
    },
    "executionInfo": {
     "elapsed": 546,
     "status": "ok",
     "timestamp": 1611060107924,
     "user": {
      "displayName": "Kinga Jeleń",
      "photoUrl": "https://lh3.googleusercontent.com/a-/AOh14GhB8cT8zgHr4JYKqbUyQMKPGNjl_g7g3eInTjQ7=s64",
      "userId": "09885435343859345826"
     },
     "user_tz": -60
    },
    "id": "TeTdVVSuQMDA",
    "outputId": "00d8d598-9216-4557-d18e-345f6ae56989"
   },
   "outputs": [],
   "source": [
    " reg.coef_"
   ]
  },
  {
   "cell_type": "code",
   "execution_count": null,
   "metadata": {},
   "outputs": [],
   "source": []
  }
 ],
 "metadata": {
  "colab": {
   "collapsed_sections": [],
   "name": "my_mean_validation.ipynb",
   "provenance": [
    {
     "file_id": "1d1Bq-nZAWAvXQATeX4Nuj_viiW01pb-W",
     "timestamp": 1611058518461
    },
    {
     "file_id": "1uGgidps4lmnGKUjoIQc0Jy0s-4P_ZZEC",
     "timestamp": 1608568613520
    }
   ]
  },
  "kernelspec": {
   "display_name": "Python 3",
   "language": "python",
   "name": "python3"
  },
  "language_info": {
   "codemirror_mode": {
    "name": "ipython",
    "version": 3
   },
   "file_extension": ".py",
   "mimetype": "text/x-python",
   "name": "python",
   "nbconvert_exporter": "python",
   "pygments_lexer": "ipython3",
   "version": "3.8.10"
  }
 },
 "nbformat": 4,
 "nbformat_minor": 1
}

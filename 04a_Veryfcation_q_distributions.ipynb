{
 "cells": [
  {
   "cell_type": "markdown",
   "metadata": {},
   "source": [
    "# Import libraries"
   ]
  },
  {
   "cell_type": "code",
   "execution_count": null,
   "metadata": {},
   "outputs": [],
   "source": [
    "import os\n",
    "import pandas as pd\n",
    "import matplotlib\n",
    "\n",
    "import matplotlib.pyplot as plt\n",
    "import numpy as np\n",
    "import scipy.stats as stats \n",
    "import scikit_posthocs as sp\n",
    "import statsmodels.api as sm\n",
    "import pylab"
   ]
  },
  {
   "cell_type": "code",
   "execution_count": null,
   "metadata": {},
   "outputs": [],
   "source": [
    "from scipy.stats import kruskal\n",
    "from scipy.stats import mannwhitneyu\n",
    "from scipy.stats import ttest_ind"
   ]
  },
  {
   "cell_type": "markdown",
   "metadata": {},
   "source": [
    "# Functions"
   ]
  },
  {
   "cell_type": "code",
   "execution_count": null,
   "metadata": {},
   "outputs": [],
   "source": [
    "style_param = {'legend.fontsize': '20',\n",
    "         'xtick.direction' : 'in',  \n",
    "         'ytick.direction' : 'in', \n",
    "         'xtick.top' : True, \n",
    "         'figure.figsize': (10,6),\n",
    "         'axes.labelsize': '26',\n",
    "         'axes.titlesize':'26',\n",
    "         'xtick.labelsize':'20',\n",
    "         'ytick.labelsize':'20',\n",
    "         'xtick.major.pad':'16',\n",
    "         'ytick.major.pad':'16'}\n",
    "    \n",
    "pylab.rcParams.update(style_param)"
   ]
  },
  {
   "cell_type": "code",
   "execution_count": null,
   "metadata": {},
   "outputs": [],
   "source": [
    "def distrib_q (df):\n",
    "    fig,ax = plt.subplots(figsize = (10,6))\n",
    "\n",
    "    mean=df.q.mean()\n",
    "    df.q.hist(bins=(200), density=True, color='gray')\n",
    "    ax.axvline(x=0.434, label='Wedenberg q =0.434'.format(mean),c='k',ls='--',lw=1.2)\n",
    "    ax.set_xlim(0,1)\n",
    "    ax.set_xlim(0,0.6)\n",
    "    \n",
    "    ax.set_xlabel(r'$q [Gy\\times \\mu m \\times keV^{-1}]$')\n",
    "    ax.set_ylabel(\"Rozkład gęstości \\nprawdopodobieństwa [-]\\n\")\n",
    "    ax.legend()\n",
    "    \n",
    "    ax.grid()\n",
    "    ax.minorticks_on()\n",
    "    ax.grid(which='minor', linestyle=':', linewidth='0.2', color='k')\n",
    "    print (\"mean: \",df.q.mean(), \"\\nstd: \",df.q.std(), \"\\nmedian: \",df.q.median(),\"\\nquantile 2.5%: \", df.q.quantile(0.025),\"\\nquantile 97.5%: \", df.q.quantile(0.975))"
   ]
  },
  {
   "cell_type": "markdown",
   "metadata": {},
   "source": [
    "# Read data"
   ]
  },
  {
   "cell_type": "code",
   "execution_count": null,
   "metadata": {},
   "outputs": [],
   "source": [
    "open_fname = os.path.join('tmp','distrib_q.h5')\n",
    "df1 = pd.read_hdf(open_fname, 'data_1')\n",
    "df2= pd.read_hdf(open_fname, 'data_2')\n",
    "df3= pd.read_hdf(open_fname, 'data_3')\n",
    "df5= pd.read_hdf(open_fname, 'data_5')\n",
    "df4= pd.read_hdf(open_fname, 'data_4')\n",
    "df6= pd.read_hdf(open_fname, 'data_6')"
   ]
  },
  {
   "cell_type": "code",
   "execution_count": null,
   "metadata": {},
   "outputs": [],
   "source": [
    "distrib_q(df1)"
   ]
  },
  {
   "cell_type": "code",
   "execution_count": null,
   "metadata": {},
   "outputs": [],
   "source": [
    "distrib_q(df3)"
   ]
  },
  {
   "cell_type": "code",
   "execution_count": null,
   "metadata": {},
   "outputs": [],
   "source": [
    "sm.qqplot(df3.q.values, line='45',color='k')\n",
    "pylab.show()"
   ]
  },
  {
   "cell_type": "code",
   "execution_count": null,
   "metadata": {},
   "outputs": [],
   "source": [
    "res = mannwhitneyu(df1.q.values,df2.q.values)\n",
    "print(res)"
   ]
  },
  {
   "cell_type": "code",
   "execution_count": null,
   "metadata": {},
   "outputs": [],
   "source": [
    "res = ttest_ind(df1.q.values,df2.q.values,equal_var=False)\n",
    "print(res)"
   ]
  },
  {
   "cell_type": "code",
   "execution_count": null,
   "metadata": {},
   "outputs": [],
   "source": [
    "print(np.median(df1.q.values),np.median(df2.q.values),np.std(df1.q.values),np.std(df2.q.values))"
   ]
  },
  {
   "cell_type": "code",
   "execution_count": null,
   "metadata": {},
   "outputs": [],
   "source": [
    "wyniki = []\n",
    "ids = []\n",
    "values = []\n",
    "i=0\n",
    "\n",
    "for data in [df1,df2,df3,df4,df5,df6]:\n",
    "    i=i+1\n",
    "    wyniki.append(data.q.values)\n",
    "\n",
    "    ids += list(np.ones(data.q.values.shape[0],dtype=np.uint8)*i)\n",
    "    values += list(data.q.values)\n",
    "    \n",
    "for w in wyniki:\n",
    "    print(np.median(w),np.std(w))\n"
   ]
  },
  {
   "cell_type": "markdown",
   "metadata": {},
   "source": [
    "# ANOVA post-hoc"
   ]
  },
  {
   "cell_type": "markdown",
   "metadata": {},
   "source": [
    "https://scikit-posthocs.readthedocs.io/en/latest/tutorial/"
   ]
  },
  {
   "cell_type": "markdown",
   "metadata": {},
   "source": [
    "If normality and other assumptions are violated, one can use a non-parametric Kruskal-Wallis H test (one-way non-parametric ANOVA) to test if samples came from the same distribution."
   ]
  },
  {
   "cell_type": "code",
   "execution_count": null,
   "metadata": {},
   "outputs": [],
   "source": [
    "H,p = kruskal(*wyniki)\n",
    "print(H,p)"
   ]
  },
  {
   "cell_type": "markdown",
   "metadata": {},
   "source": [
    "Hipoteza 0 odrzucona, więc robimy Conovera post-hoc"
   ]
  },
  {
   "cell_type": "markdown",
   "metadata": {},
   "source": [
    "P value tells us we may reject the null hypothesis that the population medians of all of the groups are equal. To learn what groups (species) differ in their medians we need to run post hoc tests.\n",
    "\n",
    "Podobnie jak w przypadku analizy wariancji, istotny statystycznie wynik testu Kruskala-Wallisa mówi nam tylko o tym, że co najmniej jedna z grup różni się od innej grupy. "
   ]
  },
  {
   "cell_type": "markdown",
   "metadata": {},
   "source": [
    "To learn what groups (species) differ in their medians we need to run post hoc tests. scikit-posthocs provides a lot of non-parametric tests mentioned above. Let’s choose Conover’s test."
   ]
  },
  {
   "cell_type": "code",
   "execution_count": null,
   "metadata": {},
   "outputs": [],
   "source": [
    "mydf = pd.DataFrame({'Val':values,'Id':ids})\n",
    "\n",
    "sp.posthoc_conover(mydf, val_col='Val', group_col='Id', p_adjust = 'holm')"
   ]
  },
  {
   "cell_type": "markdown",
   "metadata": {},
   "source": [
    "Pairwise comparisons show that we may reject the null hypothesis (p < 0.01) for each pair of species and conclude that all groups (species) differ in their sepal widths."
   ]
  },
  {
   "cell_type": "code",
   "execution_count": null,
   "metadata": {},
   "outputs": [],
   "source": [
    "pc = sp.posthoc_conover(mydf, val_col='Val', group_col='Id')\n",
    "heatmap_args = {'linewidths': 0.25, 'linecolor': '0.5', 'clip_on': False, 'square': True, 'cbar_ax_bbox': [0.80, 0.35, 0.04, 0.3]}\n",
    "sp.sign_plot(pc, **heatmap_args)"
   ]
  },
  {
   "cell_type": "code",
   "execution_count": null,
   "metadata": {},
   "outputs": [],
   "source": [
    "fig = plt.figure(figsize =(10, 7))\n",
    "\n",
    "ax = fig.add_axes([0, 0, 1, 1])\n",
    "\n",
    "data = [df1.q.values,df2.q.values,df3.q.values,df4.q.values,df5.q.values,df6.q.values]\n",
    "\n",
    "bp = ax.boxplot(data,showfliers=False)\n",
    "\n",
    "ax.set_ylabel(r'$q\\; [Gy\\cdot \\mu m \\cdot keV^{-1}]$'+'\\n')\n",
    "ax.set_xlabel('\\nNumer próbki')\n",
    "\n",
    "ax.grid()\n",
    "ax.minorticks_on()\n",
    "ax.grid(which='minor', linestyle=':', linewidth='0.2', color='k')"
   ]
  },
  {
   "cell_type": "code",
   "execution_count": null,
   "metadata": {},
   "outputs": [],
   "source": [
    "tmp=pd.DataFrame(list(zip(data)),\n",
    "                          columns=['q'])\n",
    "tmp.to_csv(\"results/figure_5_8\")\n",
    "fig.savefig(fname=\"results/figure_5_8\",dpi= 700)"
   ]
  },
  {
   "cell_type": "code",
   "execution_count": null,
   "metadata": {},
   "outputs": [],
   "source": []
  }
 ],
 "metadata": {
  "kernelspec": {
   "display_name": "Python 3",
   "language": "python",
   "name": "python3"
  },
  "language_info": {
   "codemirror_mode": {
    "name": "ipython",
    "version": 3
   },
   "file_extension": ".py",
   "mimetype": "text/x-python",
   "name": "python",
   "nbconvert_exporter": "python",
   "pygments_lexer": "ipython3",
   "version": "3.8.10"
  }
 },
 "nbformat": 4,
 "nbformat_minor": 2
}

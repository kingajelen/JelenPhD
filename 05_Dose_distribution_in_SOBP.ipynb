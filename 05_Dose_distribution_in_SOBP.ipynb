{
 "cells": [
  {
   "cell_type": "markdown",
   "metadata": {},
   "source": [
    "# Import libraries"
   ]
  },
  {
   "cell_type": "code",
   "execution_count": null,
   "metadata": {},
   "outputs": [],
   "source": [
    "import os\n",
    "import pandas as pd\n",
    "import numpy as np\n",
    "import matplotlib\n",
    "import matplotlib.pyplot as plt\n",
    "import pylab\n",
    "%matplotlib inline\n",
    "from scipy.stats import norm"
   ]
  },
  {
   "cell_type": "markdown",
   "metadata": {},
   "source": [
    "# Functions"
   ]
  },
  {
   "cell_type": "code",
   "execution_count": null,
   "metadata": {},
   "outputs": [],
   "source": [
    "def rbe_wedenberg(dose, let, abx,q):\n",
    "    \"\"\"\n",
    "    Wedenberg proton RBE model\n",
    "    input parameters may be either numpy.array or scalars\n",
    "    TODO: handle Cube() class directly\n",
    "    :params dose: physical proton dose in [Gy]\n",
    "    :params let: LETd in [keV/um] (protons only)\n",
    "    :params abx: alpha_x / beta_x [Gy]\n",
    "    :returns: RBE for the given parameters\n",
    "    :ref: http://dx.doi.org/10.3109/0284186X.2012.705892\n",
    "    \"\"\"\n",
    "\n",
    "    _apx = 1.000 + q * let / abx\n",
    "    _sbpx = 1.0\n",
    "\n",
    "    rbe = _rbe_apx(dose, _apx, _sbpx, abx)\n",
    "    return rbe"
   ]
  },
  {
   "cell_type": "code",
   "execution_count": null,
   "metadata": {},
   "outputs": [],
   "source": [
    "def _rbe_apx(dose, apx, sbpx, abx, dzero=0.0):\n",
    "    \"\"\"\n",
    "    :params dose: proton dose      [Gy]\n",
    "    :params apx: alpha_p / alpha_x [dimensionless] RBE_max = ap/ax when (dose -> 0 Gy)\n",
    "    :params sbpx: beta_p / beta_x  [dimensionless] RBE_min = sqrt(bp/bx) when (dose -> inf Gy)\n",
    "    :params abx: alpha_x / beta_x  [Gy]\n",
    "    :params dzero: what to return in case of dose is zero (which would cause division by zero)\n",
    "    \"\"\"\n",
    "\n",
    "    _rbe = 1.0 / (2.0 * dose)\n",
    "    if hasattr(_rbe, '__iter__'):\n",
    "        _rbe[_rbe == np.inf] = dzero\n",
    "    else:\n",
    "        if _rbe == np.inf:\n",
    "            return dzero\n",
    "    delta = abx * abx + 4. * abx * apx * dose + 4. * sbpx * sbpx * dose * dose\n",
    "    delta *= (delta > 0)\n",
    "    _rbe *= (np.sqrt(delta) - abx)\n",
    "    return _rbe"
   ]
  },
  {
   "cell_type": "code",
   "execution_count": null,
   "metadata": {},
   "outputs": [],
   "source": [
    "style_param = {'legend.fontsize': '16',\n",
    "         'xtick.direction' : 'in',  \n",
    "         'ytick.direction' : 'in', \n",
    "         'xtick.top' : True, \n",
    "         'figure.figsize': (10,6),\n",
    "         'axes.labelsize': '18',\n",
    "         'axes.titlesize':'26',\n",
    "         'xtick.labelsize':'20',\n",
    "         'ytick.labelsize':'20',\n",
    "         'xtick.major.pad':'16',\n",
    "         'ytick.major.pad':'16'}\n",
    "    \n",
    "pylab.rcParams.update(style_param)"
   ]
  },
  {
   "cell_type": "markdown",
   "metadata": {},
   "source": [
    "# Open data"
   ]
  },
  {
   "cell_type": "code",
   "execution_count": null,
   "metadata": {},
   "outputs": [],
   "source": [
    "open_fname = os.path.join('tmp','distrib_q.h5')\n",
    "q = pd.read_hdf(open_fname, 'data_1')"
   ]
  },
  {
   "cell_type": "code",
   "execution_count": null,
   "metadata": {},
   "outputs": [],
   "source": [
    "fname = os.path.join('data','sobp_shieldhit','output')\n",
    "dose = os.path.join(fname,'dose.dat')\n",
    "let=os.path.join(fname,'dlet.dat')"
   ]
  },
  {
   "cell_type": "code",
   "execution_count": null,
   "metadata": {},
   "outputs": [],
   "source": [
    "dozym = os.path.join('data','doz_sobp.xlsx')\n",
    "df_dozim = pd.read_excel(dozym,names=['depth','dose','depth2','dose2'])"
   ]
  },
  {
   "cell_type": "code",
   "execution_count": null,
   "metadata": {},
   "outputs": [],
   "source": [
    "df_dose=pd.read_table(dose,names=['z','dose','err'],sep='\\s+')\n",
    "df_let=pd.read_table(let,names=['z','let','err'],sep='\\s+')"
   ]
  },
  {
   "cell_type": "code",
   "execution_count": null,
   "metadata": {},
   "outputs": [],
   "source": [
    "# LET and normalized dose in water phantom\n",
    "dose_max=df_dose.dose[df_dose.dose>0.95*df_dose.dose.max()].mean()\n",
    "rbe= pd.DataFrame(dtype='float')\n",
    "\n",
    "#normalize dose to 2[Gy]\n",
    "rbe[\"dose\"]=df_dose['dose']*2/dose_max\n",
    "rbe[\"let\"]=df_let['let']\n",
    "rbe[\"z\"]=df_dose['z']"
   ]
  },
  {
   "cell_type": "code",
   "execution_count": null,
   "metadata": {},
   "outputs": [],
   "source": [
    "mean_W, std_W = 0.434, 0.0301\n",
    "mean_WA, std_WA = 0.389, 0.0218"
   ]
  },
  {
   "cell_type": "code",
   "execution_count": null,
   "metadata": {},
   "outputs": [],
   "source": [
    "q_WA = np.random.normal(loc=mean_WA,scale=std_WA,size=50000)\n",
    "q_W = np.random.normal(loc=mean_W,scale=std_W,size=50000)"
   ]
  },
  {
   "cell_type": "code",
   "execution_count": null,
   "metadata": {},
   "outputs": [],
   "source": [
    "limit=df_dose.z[df_dose.dose<=df_dose.dose.max()*0.01].iloc[0]"
   ]
  },
  {
   "cell_type": "code",
   "execution_count": null,
   "metadata": {},
   "outputs": [],
   "source": [
    "fig,ax = plt.subplots(figsize=[12, 8])\n",
    "\n",
    "ax.set_xlabel(\"Range [cm]\",size=34, labelpad = 24)\n",
    "ax.set_ylabel(\"Dose [Gy]\",size=34, labelpad = 24)\n",
    "\n",
    "ax.plot(rbe.z, rbe.dose,'green',markersize=1.2, label = \"SHIELD-HIT12A Monte Carlo simulation\")\n",
    "ax.plot(df_dozim.depth2,df_dozim.dose2,'red',markersize=1.2, label = \"Dosimetry\")\n",
    "\n",
    "ax.grid()\n",
    "ax.minorticks_on()\n",
    "ax.grid(which='minor', linestyle=':', linewidth='0.2', color='k')\n",
    "ax.tick_params(axis='both', which='major', labelsize=28)\n",
    "ax.set_xlim(2,limit)\n",
    "ax.set_ylim(0,3)\n",
    "\n",
    "ax.legend(loc=\"center\",bbox_to_anchor=(0.4, 0.9), borderaxespad=0.,fontsize=20)"
   ]
  },
  {
   "cell_type": "code",
   "execution_count": null,
   "metadata": {},
   "outputs": [],
   "source": [
    "fig,ax = plt.subplots(figsize=[12, 8])\n",
    "\n",
    "ax2=ax.twinx()\n",
    "ax.set_xlabel(\"Range [cm]\",size=34, labelpad = 24)\n",
    "ax.set_ylabel(\"Dose [Gy]\",size=34, labelpad = 24)\n",
    "ax2.set_ylabel(\"LET \"+r\"$\\;[keV \\cdot \\mu m^{-1}]$\",size=34,rotation=90)\n",
    "\n",
    "ax.plot(rbe.z, rbe.dose,'green',markersize=1.2, label = \"SHIELD-HIT12A \\nMonte Carlo simulation \\nDose\")\n",
    "\n",
    "ax2.plot(rbe.z, rbe.let,'k.',markersize=1.2, label = \"SHIELD-HIT12A \\nMonte Carlo simulation \\n LET\")\n",
    "ax.grid()\n",
    "ax.minorticks_on()\n",
    "ax.grid(which='minor', linestyle=':', linewidth='0.2', color='k')\n",
    "ax.tick_params(axis='both', which='major', labelsize=28)\n",
    "\n",
    "\n",
    "ax.set_xlim(2,limit)\n",
    "ax2.set_xlim(2,limit)\n",
    "ax.set_ylim(0,3)\n",
    "ax.legend(loc=\"center\",bbox_to_anchor=(0.25, 0.9), borderaxespad=0.,fontsize=20)\n",
    "ax2.legend(loc=\"center\",bbox_to_anchor=(0.25, 0.7), borderaxespad=0.,fontsize=20)"
   ]
  },
  {
   "cell_type": "markdown",
   "metadata": {},
   "source": [
    "# Wedenberg RBE distribution for LET=2."
   ]
  },
  {
   "cell_type": "code",
   "execution_count": null,
   "metadata": {},
   "outputs": [],
   "source": [
    "tmp_WB = rbe_wedenberg(2.0,3., 2.0, q )\n",
    "tmp_WA = pd.DataFrame(rbe_wedenberg(2.0,3., 2.0, q_WA))\n",
    "tmp_W = pd.DataFrame(rbe_wedenberg(2.0,3., 2.0, q_W))"
   ]
  },
  {
   "cell_type": "code",
   "execution_count": null,
   "metadata": {},
   "outputs": [],
   "source": [
    "WA_text = \"Wedenberg extended model A \\n\"+str(np.round(tmp_WA.mean()[0],3))+\"+- \"+str(np.round(tmp_WA.std()[0]/tmp_WA.mean()[0]*100,2))+'%'\n",
    "W_text = \"Wedenberg model \\n\"+str(np.round(tmp_W.mean()[0],3))+\"+- \"+str(np.round(tmp_W.std()[0]/tmp_W.mean()[0]*100,2))+'%'\n",
    "WB_text = \"Wedenberg extended model B \\n\"+str(np.round(tmp_WB.mean()[0],3))+\"+- \"+str(np.round(tmp_WB.std()[0]/tmp_WB.mean()[0]*100,2))+'%'"
   ]
  },
  {
   "cell_type": "code",
   "execution_count": null,
   "metadata": {},
   "outputs": [],
   "source": [
    "fig,ax = plt.subplots(figsize = (8,6))\n",
    "\n",
    "tmp_W.plot.kde(ax=ax,color='r')\n",
    "tmp_WA.plot.kde(ax=ax,color='blue')\n",
    "tmp_WB.plot.kde(ax=ax,color='green')\n",
    "\n",
    "ax.axvline(x=1.1, label='RBE = 1.1'.format(1.1),c='k',ls='--',lw=1.2)\n",
    "ax.legend([W_text,WA_text,WB_text], bbox_to_anchor=(0.6, 0.9))\n",
    "\n",
    "ax.set_title(\"\")\n",
    "ax.set_xlabel(\"\\nRBE [-]\")\n",
    "ax.set_ylabel(\"Probability distribution [-]\")\n",
    "\n",
    "ax.grid()\n",
    "ax.minorticks_on()\n",
    "ax.grid(which='minor', linestyle=':', linewidth='0.2', color='k')"
   ]
  },
  {
   "cell_type": "code",
   "execution_count": null,
   "metadata": {},
   "outputs": [],
   "source": [
    "#tmp=pd.DataFrame(list(zip(tmp_W,tmp_WA,tmp_WB)),\n",
    "#                          columns=['rbe'])\n",
    "#tmp.to_csv(\"results/figure_5_9\")\n",
    "#fig.savefig(fname=\"results/figure_5_9.png\",dpi= 700)"
   ]
  },
  {
   "cell_type": "code",
   "execution_count": null,
   "metadata": {},
   "outputs": [],
   "source": [
    "#RBE for q=0.434 from Wedenberg 85% CI\n",
    "abx=2.\n",
    "rbe['wed'] = rbe_wedenberg(rbe.dose, rbe.let, abx, mean_W)\n",
    "rbe['wed_q_down'] = rbe_wedenberg(rbe.dose, rbe.let, abx, mean_W-1.44*std_W)\n",
    "rbe['wed_q_up'] = rbe_wedenberg(rbe.dose, rbe.let, abx, mean_W+1.44*std_W)"
   ]
  },
  {
   "cell_type": "markdown",
   "metadata": {},
   "source": [
    "# our RBE distribution"
   ]
  },
  {
   "cell_type": "code",
   "execution_count": null,
   "metadata": {},
   "outputs": [],
   "source": [
    "dfr = (rbe.reset_index(inplace=False))"
   ]
  },
  {
   "cell_type": "code",
   "execution_count": null,
   "metadata": {},
   "outputs": [],
   "source": [
    "#optional : n=q.size-1\n",
    "n=q.size-1"
   ]
  },
  {
   "cell_type": "code",
   "execution_count": null,
   "metadata": {},
   "outputs": [],
   "source": [
    "dfr =dfr.append([dfr]*n)"
   ]
  },
  {
   "cell_type": "code",
   "execution_count": null,
   "metadata": {},
   "outputs": [],
   "source": [
    "dfr=(dfr.reset_index(inplace=False))[['z','let', 'dose']]"
   ]
  },
  {
   "cell_type": "code",
   "execution_count": null,
   "metadata": {},
   "outputs": [],
   "source": [
    "dfr=dfr.sort_values(by=['z', 'let','dose'])"
   ]
  },
  {
   "cell_type": "code",
   "execution_count": null,
   "metadata": {},
   "outputs": [],
   "source": [
    "dfr.set_index(['z'],inplace=True) "
   ]
  },
  {
   "cell_type": "code",
   "execution_count": null,
   "metadata": {},
   "outputs": [],
   "source": [
    "for name, group in dfr.groupby('z'):\n",
    "    dfr.loc[(name), \"q\"] = q.values[:n+1]"
   ]
  },
  {
   "cell_type": "code",
   "execution_count": null,
   "metadata": {},
   "outputs": [],
   "source": [
    "for name, group in dfr.groupby('z'):\n",
    "    DOSE=group.dose.values\n",
    "    LET=group.let.values\n",
    "    Q=group.q.values  \n",
    "    dfr.loc[(name), \"rbe\"] = rbe_wedenberg(DOSE, LET, abx, Q)"
   ]
  },
  {
   "cell_type": "code",
   "execution_count": null,
   "metadata": {},
   "outputs": [],
   "source": [
    "dfr.reset_index(inplace=True)"
   ]
  },
  {
   "cell_type": "code",
   "execution_count": null,
   "metadata": {},
   "outputs": [],
   "source": [
    "dfr_tmp= pd.DataFrame()\n",
    "dfr_tmp[\"mediana\"]=dfr.groupby('z').rbe.median()\n",
    "dfr_tmp[\"meana\"]=dfr.groupby('z').rbe.mean()\n",
    "dfr_tmp[\"q_down\"]=dfr.groupby('z').rbe.quantile(0.075)\n",
    "dfr_tmp[\"q_up\"]=dfr.groupby('z').rbe.quantile(0.925)"
   ]
  },
  {
   "cell_type": "markdown",
   "metadata": {},
   "source": [
    "# Biological Dose in SOBP"
   ]
  },
  {
   "cell_type": "code",
   "execution_count": null,
   "metadata": {},
   "outputs": [],
   "source": [
    "figure2_df= pd.DataFrame()"
   ]
  },
  {
   "cell_type": "code",
   "execution_count": null,
   "metadata": {},
   "outputs": [],
   "source": [
    "figure2_df[\"Distance_cm\"] = rbe.z\n",
    "figure2_df[\"Ext_Model_median\"] = dfr.groupby('z').rbe.median().values*rbe.dose\n",
    "figure2_df[\"Ext_Model_mean\"] = dfr.groupby('z').rbe.mean().values*rbe.dose\n",
    "\n",
    "figure2_df[\"Wedenberg\"] = rbe.wed*rbe.dose\n",
    "figure2_df[\"Wedenberg_quantile_down\"] = rbe.wed_q_down*rbe.dose\n",
    "figure2_df[\"Wedenberg_quantile_up\"] = rbe.wed_q_up*rbe.dose\n",
    "\n",
    "figure2_df[\"Physical__Dose\"] = rbe.dose\n",
    "figure2_df[\"Dose_for_RBE_1_1\"] = rbe.dose*1.1\n",
    "figure2_df[\"Ext_Model_quantile_down\"] = dfr.groupby('z').rbe.quantile(0.075).values*rbe.dose\n",
    "figure2_df[\"Ext_Model_quantile_up\"] = dfr.groupby('z').rbe.quantile(0.925).values*rbe.dose"
   ]
  },
  {
   "cell_type": "code",
   "execution_count": null,
   "metadata": {},
   "outputs": [],
   "source": [
    "fig,ax = plt.subplots(figsize=[12, 8])\n",
    "\n",
    "ax2=ax.twinx()\n",
    "ax.set_xlabel(\"Range [cm]\",size=34, labelpad = 24)\n",
    "ax.set_ylabel(\"Biological Dose [Gy(RBE)]\",size=34, labelpad = 24)\n",
    "ax2.set_ylabel(\"LET \"+r\"$\\;[keV \\cdot \\mu m^{-1}]$\",size=34,rotation=90)\n",
    "\n",
    "ax.set_xlim(3,limit)\n",
    "ax2.set_xlim(3,limit)\n",
    "\n",
    "ax.set_ylim(0,3.5)\n",
    "ax2.set_ylim(0,14)\n",
    "\n",
    "ax.set_xticks(np.arange(3, limit, 1.0))\n",
    "\n",
    "ax2.plot(rbe.z, rbe.let,'k.',markersize=1.2, label = \"LET\")\n",
    "\n",
    "#ax.plot(rbe.z, rbe.dose,c='k',label=\"Dose [Gy]\")\n",
    "ax.plot(figure2_df.Distance_cm,figure2_df.Ext_Model_mean,'green',markersize=0.2, label= \"Wedenberg extended model B\")\n",
    "ax.plot(figure2_df.Distance_cm,figure2_df.Wedenberg,'red', label = \"Wedenberg model\")\n",
    "ax.plot(figure2_df.Distance_cm, figure2_df.Dose_for_RBE_1_1,'blue',markersize=0.1, label = \"Dose for RBE 1.1\") \n",
    "\n",
    "ax.scatter(figure2_df.Distance_cm,figure2_df.Ext_Model_quantile_down, s=0.1,c='green')\n",
    "ax.scatter(figure2_df.Distance_cm,figure2_df.Ext_Model_quantile_up, s=0.1,c='green')\n",
    "\n",
    "ax.scatter(figure2_df.Distance_cm,figure2_df.Wedenberg_quantile_down,s=0.1,c='red')\n",
    "ax.scatter(figure2_df.Distance_cm,figure2_df.Wedenberg_quantile_up,s=0.1,c='red')\n",
    "\n",
    "\n",
    "ax.grid()\n",
    "ax.minorticks_on()\n",
    "ax.grid(which='minor', linestyle=':', linewidth='0.2', color='k')\n",
    "ax.tick_params(axis='both', which='major', labelsize=28)\n",
    "\n",
    "ax.legend(loc=\"center\",bbox_to_anchor=(0.33, 0.9), borderaxespad=0.,fontsize=20)\n",
    "ax2.legend(loc=\"center\",bbox_to_anchor=(0.88, 0.95), borderaxespad=0.,fontsize=20)"
   ]
  },
  {
   "cell_type": "code",
   "execution_count": null,
   "metadata": {},
   "outputs": [],
   "source": [
    "(figure2_df.Ext_Model_quantile_up - figure2_df.Ext_Model_quantile_down) / figure2_df.Ext_Model_mean"
   ]
  },
  {
   "cell_type": "markdown",
   "metadata": {},
   "source": [
    "# IN SOBP"
   ]
  },
  {
   "cell_type": "code",
   "execution_count": null,
   "metadata": {},
   "outputs": [],
   "source": [
    "def dose_in_sobp(range_insobp, title):\n",
    "    fig,ax = plt.subplots(figsize = (10,6))\n",
    "\n",
    "    df_W = pd.DataFrame(rbe_wedenberg(np.float64(rbe[rbe.z==range_insobp].dose.values), \n",
    "                        rbe[rbe.z == range_insobp].let.values, \n",
    "                        abx, q_W)*rbe[rbe.z == range_insobp].dose.values)\n",
    "    \n",
    "    df_W.plot.kde(ax=ax,color='red')\n",
    "        \n",
    "    df_WA = pd.DataFrame(rbe_wedenberg(np.float64(rbe[rbe.z==range_insobp].dose.values), \n",
    "                        rbe[rbe.z == range_insobp].let.values, \n",
    "                        abx, q_WA)*rbe[rbe.z == range_insobp].dose.values)\n",
    "    \n",
    "    df_WA.plot.kde(ax=ax,color='blue')\n",
    "\n",
    "    df_WB = rbe_wedenberg(np.float64(rbe[rbe.z==range_insobp].dose.values), \n",
    "                        rbe[rbe.z == range_insobp].let.values, \n",
    "                        abx, q.q)*rbe[rbe.z == range_insobp].dose.values\n",
    "    \n",
    "    df_WB.plot.kde(ax=ax,color='green')\n",
    "   \n",
    "\n",
    "    ax.axvline(figure2_df[figure2_df.Distance_cm == range_insobp].Dose_for_RBE_1_1.values, c='black',ls='-.')\n",
    "\n",
    "    \n",
    "    W_text = \"Wedenberg model\\n\"+str(np.round(df_W.mean()[0],3))+\"+-\"+str(np.round(df_W.std()[0]/df_W.mean()[0]*100,2))+\"%\"\n",
    "    WA_text = \"Wedenberg extended model A\\n\"+str(np.round(df_WA.mean()[0],3))+\"+-\"+str(np.round(df_WA.std()[0]/df_WA.mean()[0]*100,2))+\"%\"\n",
    "    WB_text = \"Wedenberg extended model B\\n\"+str(np.round(df_WB.mean(),3))+\"+-\"+str(np.round(df_WB.std()/df_WB.mean()*100,2))+\"%\"\n",
    "    Clinic = \"Dose for RBE = 1.1\"\n",
    "    \n",
    "    ax.set_xlabel(\"\\nBiological Dose [Gy(RBE)]\")\n",
    "    ax.set_ylabel(\"Probability Distribution [-]\\n\")\n",
    "    ax.set_title(title)\n",
    "    ax.grid()\n",
    "    ax.minorticks_on()\n",
    "    ax.grid(which='minor', linestyle=':', linewidth='0.2', color='k')\n",
    "    \n",
    "    ax.legend([W_text,WA_text,WB_text, Clinic],bbox_to_anchor=(1.3, 1.05))"
   ]
  },
  {
   "cell_type": "code",
   "execution_count": null,
   "metadata": {},
   "outputs": [],
   "source": [
    "dose_in_sobp(3.015, \"Entrance Plateau\")"
   ]
  },
  {
   "cell_type": "code",
   "execution_count": null,
   "metadata": {},
   "outputs": [],
   "source": [
    "dose_in_sobp(7.015, \"Middle SOBP\")"
   ]
  },
  {
   "cell_type": "code",
   "execution_count": null,
   "metadata": {},
   "outputs": [],
   "source": [
    "dose_in_sobp(8.515, \"Distal SOBP\")"
   ]
  },
  {
   "cell_type": "code",
   "execution_count": null,
   "metadata": {},
   "outputs": [],
   "source": []
  }
 ],
 "metadata": {
  "kernelspec": {
   "display_name": "Python 3",
   "language": "python",
   "name": "python3"
  },
  "language_info": {
   "codemirror_mode": {
    "name": "ipython",
    "version": 3
   },
   "file_extension": ".py",
   "mimetype": "text/x-python",
   "name": "python",
   "nbconvert_exporter": "python",
   "pygments_lexer": "ipython3",
   "version": "3.8.10"
  }
 },
 "nbformat": 4,
 "nbformat_minor": 2
}

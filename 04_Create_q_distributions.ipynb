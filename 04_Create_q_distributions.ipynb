{
 "cells": [
  {
   "cell_type": "markdown",
   "metadata": {},
   "source": [
    "# Import libraries"
   ]
  },
  {
   "cell_type": "code",
   "execution_count": null,
   "metadata": {},
   "outputs": [],
   "source": [
    "import os\n",
    "\n",
    "import pandas as pd\n",
    "import numpy as np\n",
    "import matplotlib\n",
    "import matplotlib.pyplot as plt\n",
    "from scipy.stats import norm, truncnorm, multivariate_normal\n",
    "from sklearn.linear_model import LinearRegression\n",
    "import corner\n",
    "import pylab"
   ]
  },
  {
   "cell_type": "markdown",
   "metadata": {},
   "source": [
    "# Functions"
   ]
  },
  {
   "cell_type": "code",
   "execution_count": null,
   "metadata": {},
   "outputs": [],
   "source": [
    "def positive_gauss(mean, std):\n",
    "    rndnum = 0\n",
    "    while rndnum <= 0:\n",
    "        rndnum = random.gauss(mean, std)\n",
    "    return rndnum"
   ]
  },
  {
   "cell_type": "code",
   "execution_count": null,
   "metadata": {},
   "outputs": [],
   "source": [
    "def dist_trunc(mean,std,n):\n",
    "    x_dist = truncnorm(a=-mean/std, b=np.inf,loc=mean,scale=std)\n",
    "    return (x_dist.rvs(n)).astype(float)"
   ]
  },
  {
   "cell_type": "code",
   "execution_count": null,
   "metadata": {},
   "outputs": [],
   "source": [
    "def dist_trunc_dep(meana,stda,meanb,stdb,covar,n):\n",
    "    ref_matrix=np.array([[stda**2,covar],[covar,stdb**2]])\n",
    "    ref_sample=multivariate_normal.rvs(mean=(meana,meanb),cov=ref_matrix, size=3*n)\n",
    "    ref_sample = ref_sample[ref_sample[:,1] > 0]\n",
    "    return ref_sample"
   ]
  },
  {
   "cell_type": "code",
   "execution_count": null,
   "metadata": {},
   "outputs": [],
   "source": [
    "def var_q(df2):\n",
    "    for name, group in df2.groupby('article'):\n",
    "        for energy, data in group.groupby('energy'):\n",
    "            if energy ==0:\n",
    "                ab_ref=data[\"alpha(fit)/beta(fit)\"].unique()                \n",
    "                a_ref=data[\"alpha_fit\"].unique()\n",
    "                a_ref_err=data[\"alpha_fit_err\"].unique()\n",
    "                b_ref=data[\"beta_fit\"].unique()\n",
    "                b_ref_err=data[\"beta_fit_err\"].unique()\n",
    "                covar_ref= data[\"covar_fit\"].unique()\n",
    "                \n",
    "                df2.loc[(name,energy),'a_fit_ref'] = a_ref\n",
    "                df2.loc[(name,energy),'a_fit_ref_err'] = a_ref_err\n",
    "                df2.loc[(name,energy),'b_fit_ref'] = b_ref\n",
    "                df2.loc[(name,energy),'b_fit_ref_err'] = b_ref_err\n",
    "                df2.loc[(name,energy),'covar_ref'] = covar_ref\n",
    "            \n",
    "            else:\n",
    "                a=data[\"alpha_fit\"].unique()\n",
    "                a_err=data[\"alpha_fit_err\"].unique()\n",
    "                \n",
    "                aa_ref=data['a(fit)/a_ref(fit)'].unique()\n",
    "                aa_ref_art=data['a/a_ref'].unique()\n",
    "                L=(data[\"LET\"]).unique()\n",
    "                \n",
    "               \n",
    "                q = (aa_ref-1.0)*ab_ref/L\n",
    "                k=(aa_ref-1.0)/L\n",
    "\n",
    "                \n",
    "                error=  np.sqrt(np.power((1-a_ref)/b_ref*a_err,2)+\n",
    "                                np.power((a-1)/b_ref*a_ref_err,2)+\n",
    "                                np.power((a_ref-a)/np.power(b_ref,2)*b_ref_err,2))\n",
    "\n",
    "                df2.loc[(name,energy),'q'] = q\n",
    "                df2.loc[(name,energy),'k'] = k\n",
    "                df2.loc[(name,energy), \"error\"] = error\n",
    "                \n",
    "    for name, group in df2.groupby('article'):\n",
    "        for energy, data in group.groupby('energy'):\n",
    "            df2.loc[(name, energy),\"ab_ref\"]=df2.loc[(name,0), \"alpha(fit)/beta(fit)\"]\n",
    "            \n",
    "    df2 = df2.replace([np.inf, -np.inf, np.NaN], 0)\n",
    "    df2.isnull().sum().sum()"
   ]
  },
  {
   "cell_type": "code",
   "execution_count": null,
   "metadata": {},
   "outputs": [],
   "source": [
    "def dict_q(df2):\n",
    "    d={}\n",
    "    for name, group in df2.groupby('article'):\n",
    "        d[name]={}\n",
    "        for energy, data in group.groupby('energy'):\n",
    "\n",
    "            if energy == 0:\n",
    "                d[name][0] = {}\n",
    "                d[name][0][ 'ref_alpha'] = dist_trunc(data.a_fit_ref.values, \n",
    "                                                      data.a_fit_ref_err.values, num)\n",
    "                d[name][0][ 'ref_beta'] = dist_trunc(data.b_fit_ref.values, \n",
    "                                                     data.b_fit_ref_err.values, num)\n",
    "                ref_sample = np.array(dist_trunc_dep(data.a_fit_ref.values.max(),\n",
    "                                                     data.a_fit_ref_err.values.max(),\n",
    "                                                     data.b_fit_ref.values.max(),\n",
    "                                                     data.b_fit_ref_err.values,\n",
    "                                                     data.covar_fit,num))\n",
    "                d[name][0][ 'ref_alpha_dep']=ref_sample[:,0]\n",
    "                d[name][0][ 'ref_beta_dep']=ref_sample[:,1]\n",
    "\n",
    "            else:\n",
    "                d[name][energy]={}\n",
    "                d[name][energy][ 'alpha'] = dist_trunc(data.alpha_fit.values, \n",
    "                                                       data.alpha_fit_err.values, num)\n",
    "                d[name][energy][ 'beta'] = dist_trunc(data.beta_fit.values, \n",
    "                                                      data.beta_fit_err.values, \n",
    "                                                      num)\n",
    "                ref_sample = np.array(dist_trunc_dep(data.alpha_fit.values.max(),\n",
    "                                                     data.alpha_fit_err.values.max(),\n",
    "                                                     data.beta_fit.values.max(),\n",
    "                                                     data.beta_fit_err.values,data.covar_fit,num))\n",
    "                d[name][energy][ 'alpha_dep']=ref_sample[:,0]\n",
    "                d[name][energy][ 'beta_dep']=ref_sample[:,1]\n",
    "                d[name][energy]['LET']=data.LET.values.max()\n",
    "    return d"
   ]
  },
  {
   "cell_type": "markdown",
   "metadata": {},
   "source": [
    "\\begin{align}\n",
    "\\frac{\\alpha}{\\alpha_{phot}} = 1+ \\frac{q L}{(\\frac{\\alpha}{\\beta})_{phot}}\n",
    "\\end{align}"
   ]
  },
  {
   "cell_type": "code",
   "execution_count": null,
   "metadata": {},
   "outputs": [],
   "source": [
    "def find_q_sk(d,i):\n",
    "    x=list()\n",
    "    y=list()\n",
    "    \n",
    "    for k,v in d.items():\n",
    "        for m,n in v.items():\n",
    "            if m>0:\n",
    "                y.append(d[k][m]['alpha'][i] /  d[k][0]['ref_alpha_dep'][i] -1)\n",
    "                x.append(d[k][m]['LET']*d[k][0]['ref_beta_dep'][i]/d[k][0]['ref_alpha_dep'][i])\n",
    "             \n",
    "    x= np.asarray(x).reshape(-1,1)\n",
    "    reg = LinearRegression(fit_intercept=False).fit(x, y)\n",
    "    q=reg.coef_[0]\n",
    "    if q<-1 :\n",
    "        print(k,m,i)\n",
    "    R=reg.score(x,y)\n",
    "    return q,R"
   ]
  },
  {
   "cell_type": "code",
   "execution_count": null,
   "metadata": {},
   "outputs": [],
   "source": [
    "params = {'legend.fontsize': '20',\n",
    "         'xtick.direction' : 'in',  \n",
    "         'ytick.direction' : 'in', \n",
    "         'xtick.top' : True, \n",
    "         'figure.figsize': (10,6),\n",
    "         'axes.labelsize': '26',\n",
    "         'axes.titlesize':'26',\n",
    "         'xtick.labelsize':'20',\n",
    "         'ytick.labelsize':'20',\n",
    "         'xtick.major.pad':'16',\n",
    "         'ytick.major.pad':'16'}\n",
    "    \n",
    "pylab.rcParams.update(params)"
   ]
  },
  {
   "cell_type": "markdown",
   "metadata": {},
   "source": [
    "# Open data"
   ]
  },
  {
   "cell_type": "code",
   "execution_count": null,
   "metadata": {},
   "outputs": [],
   "source": [
    "open_fname = os.path.join('tmp','fitted_data.h5')\n",
    "save_fname = os.path.join('tmp','distrib_q.h5')"
   ]
  },
  {
   "cell_type": "code",
   "execution_count": null,
   "metadata": {},
   "outputs": [],
   "source": [
    "datas= [\"data_1\",\"data_2\",\"data_3\",\"data_4\",\"data_5\",\"data_6\"]\n",
    "index = ['mean','std','median','r2','quantile025','quantile975']\n",
    "q_compare=pd.DataFrame(columns = datas, index = index)"
   ]
  },
  {
   "cell_type": "code",
   "execution_count": null,
   "metadata": {},
   "outputs": [],
   "source": [
    "num=100000"
   ]
  },
  {
   "cell_type": "code",
   "execution_count": null,
   "metadata": {},
   "outputs": [],
   "source": [
    "for data_q in datas:\n",
    "\n",
    "    df = pd.read_hdf(open_fname,data_q)\n",
    "    df.rename(columns = {\"a(fit)/b(fit)\": \"alpha(fit)/beta(fit)\"}, \n",
    "                         inplace=True)\n",
    "    df2 = df.groupby([\"article\",'energy']).max()\n",
    "    df2.is_copy=False  \n",
    "#\n",
    "    var_q(df2);\n",
    "#create dict\n",
    "    d = dict_q(df2);\n",
    "\n",
    "#calculate q values and R^2\n",
    "    qtmp,Rtmp=zip(*[find_q_sk(d,i) for i in range(num)])  ;\n",
    "    \n",
    "    R=pd.DataFrame(np.asarray(Rtmp),columns = ['r']);\n",
    "    qdf=pd.DataFrame(np.asarray(qtmp),columns = ['q']);\n",
    "    \n",
    "#compare q distributions   \n",
    "    q_compare[data_q] = qdf.q.mean(),qdf.q.std(),qdf.q.median(),R.r.mean(),qdf.q.quantile(0.025),qdf.q.quantile(0.975)\n",
    "#save q distributions\n",
    "    qdf.to_hdf(save_fname, data_q, format='table')"
   ]
  },
  {
   "cell_type": "code",
   "execution_count": null,
   "metadata": {},
   "outputs": [],
   "source": [
    "q_compare"
   ]
  },
  {
   "cell_type": "code",
   "execution_count": null,
   "metadata": {},
   "outputs": [],
   "source": []
  }
 ],
 "metadata": {
  "kernelspec": {
   "display_name": "Python 3",
   "language": "python",
   "name": "python3"
  },
  "language_info": {
   "codemirror_mode": {
    "name": "ipython",
    "version": 3
   },
   "file_extension": ".py",
   "mimetype": "text/x-python",
   "name": "python",
   "nbconvert_exporter": "python",
   "pygments_lexer": "ipython3",
   "version": "3.8.10"
  }
 },
 "nbformat": 4,
 "nbformat_minor": 2
}

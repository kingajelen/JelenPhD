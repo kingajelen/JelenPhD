{
 "cells": [
  {
   "cell_type": "markdown",
   "metadata": {},
   "source": [
    "# Import libraries"
   ]
  },
  {
   "cell_type": "code",
   "execution_count": null,
   "metadata": {},
   "outputs": [],
   "source": [
    "import os\n",
    "import copy\n",
    "import matplotlib\n",
    "import pylab\n",
    "import matplotlib.pyplot as plt\n",
    "import pandas as pd\n",
    "import numpy as np"
   ]
  },
  {
   "cell_type": "code",
   "execution_count": null,
   "metadata": {},
   "outputs": [],
   "source": [
    "from lmfit import  Model, Parameters"
   ]
  },
  {
   "cell_type": "markdown",
   "metadata": {},
   "source": [
    "# Functions"
   ]
  },
  {
   "cell_type": "code",
   "execution_count": null,
   "metadata": {},
   "outputs": [],
   "source": [
    "style_param = {'legend.fontsize': '20',\n",
    "         'xtick.direction' : 'in',  \n",
    "         'ytick.direction' : 'in', \n",
    "         'xtick.top' : True, \n",
    "         'figure.figsize': (10,6),\n",
    "         'axes.labelsize': '26',\n",
    "         'axes.titlesize':'26',\n",
    "         'xtick.labelsize':'20',\n",
    "         'ytick.labelsize':'20',\n",
    "         'xtick.major.pad':'16',\n",
    "         'ytick.major.pad':'16'}\n",
    "    \n",
    "pylab.rcParams.update(style_param)"
   ]
  },
  {
   "cell_type": "code",
   "execution_count": null,
   "metadata": {},
   "outputs": [],
   "source": [
    "def lq(x, alpha, beta):\n",
    "    return (-alpha*x-beta*x**2)"
   ]
  },
  {
   "cell_type": "markdown",
   "metadata": {},
   "source": [
    "# Open data"
   ]
  },
  {
   "cell_type": "code",
   "execution_count": null,
   "metadata": {},
   "outputs": [],
   "source": [
    "fname = os.path.join('tmp','rawdata.h5')\n",
    "df = pd.read_hdf(fname, 'data')"
   ]
  },
  {
   "cell_type": "code",
   "execution_count": null,
   "metadata": {},
   "outputs": [],
   "source": [
    "df.reset_index(inplace=True)"
   ]
  },
  {
   "cell_type": "code",
   "execution_count": null,
   "metadata": {},
   "outputs": [],
   "source": [
    "df.set_index(['article','energy','nr'],inplace=True)"
   ]
  },
  {
   "cell_type": "markdown",
   "metadata": {},
   "source": [
    "# Fit"
   ]
  },
  {
   "cell_type": "code",
   "execution_count": null,
   "metadata": {},
   "outputs": [],
   "source": [
    "lqmodel = Model(lq, nanpolicy='propagate')\n",
    "params = Parameters()\n",
    "params.add('alpha', value=0.0002, min=0)\n",
    "params.add('beta', value=0.0001, min=0, max=1e8)"
   ]
  },
  {
   "cell_type": "code",
   "execution_count": null,
   "metadata": {},
   "outputs": [],
   "source": [
    "for name, group in df.groupby('article'):\n",
    "    for energy, data in group.groupby('energy'):\n",
    "        \n",
    "        result = lqmodel.fit(params=params, \n",
    "                             data=np.log(data.sf), \n",
    "                             x=data.dose,\n",
    "                             weights=np.fabs(1/(np.log(data.sf_err_up.values)-np.log(data.sf_err_down.values)))\n",
    "                            )\n",
    "        \n",
    "        df.loc[(name,energy),'alpha_fit'] = result.values['alpha']\n",
    "        df.loc[(name,energy),'alpha_fit_err'] = result.params['alpha'].stderr\n",
    "        df.loc[(name,energy),'beta_fit_err'] = result.params['beta'].stderr\n",
    "        df.loc[(name,energy),'residuals']=(result.residual)\n",
    "        df.loc[(name,energy),'residuals_limit']=(result.residual.std())\n",
    "        df.loc[(name,energy),'covar_fit']=result.covar[1][0]\n",
    "        df.loc[(name,energy),'fit_results']=copy.deepcopy(result)\n",
    "        \n",
    "        if (result.values['beta']<result.params['beta'].stderr).any() & (result.values['beta']<0.01).any():\n",
    "            df.loc[(name,energy),'beta_fit'] = 0.0\n",
    "        else:\n",
    "            df.loc[(name,energy),'beta_fit'] = result.values['beta']"
   ]
  },
  {
   "cell_type": "code",
   "execution_count": null,
   "metadata": {},
   "outputs": [],
   "source": [
    "df.sort_index(inplace=True)"
   ]
  },
  {
   "cell_type": "code",
   "execution_count": null,
   "metadata": {},
   "outputs": [],
   "source": [
    "for name, group in df.groupby('article'):\n",
    "        for energy, data in group.groupby('energy'):\n",
    "            if energy==0:\n",
    "                alfa_ref = data[\"alpha_fit\"].max()\n",
    "                beta_ref = data[\"beta_fit\"].max()\n",
    "                alfa_ref_art = data[\"alpha\"].max()\n",
    "                beta_ref_art = data[\"beta\"].max()\n",
    "\n",
    "                df.loc[(name,energy),'a(fit)/a_ref(fit)'] = 0.0\n",
    "                df.loc[(name,energy),'b(fit)/b_ref(fit)'] = 0.0\n",
    "                df.loc[(name,energy),'a/a_ref'] = 0.0\n",
    "                df.loc[(name,energy),'b/b_ref'] = 0.0\n",
    "            else :\n",
    "                df.loc[(name,energy),'a(fit)/a_ref(fit)'] = (data[\"alpha_fit\"])/alfa_ref \n",
    "                df.loc[(name,energy),'b(fit)/b_ref(fit)'] = (data[\"beta_fit\"])/beta_ref \n",
    "                df.loc[(name,energy),'a/a_ref'] = (data[\"alpha\"])/alfa_ref_art \n",
    "                df.loc[(name,energy),'b/b_ref'] = (data[\"beta\"])/beta_ref_art \n",
    "            df.loc[(name,energy),'a(fit)/b(fit)'] = (data[\"alpha_fit\"])/(data[\"beta_fit\"])"
   ]
  },
  {
   "cell_type": "code",
   "execution_count": null,
   "metadata": {},
   "outputs": [],
   "source": [
    "data = df.loc['10'].loc[5010]\n",
    "fig,ax = plt.subplots(figsize = (10,3))\n",
    "\n",
    "ax.errorbar(data.dose,  \n",
    "             data.sf - np.exp(data.fit_results.iloc[0].best_fit),  \n",
    "             yerr=(data.residuals_limit),  \n",
    "             fmt='o', capsize=5,color='k')\n",
    "\n",
    "ax.axhline(0., color='k')\n",
    "\n",
    "ax.set_ylabel(\"Reyzuda, \"+ r'$\\rho \\;[-]$')\n",
    "ax.set_xlabel(\"\")\n",
    "\n",
    "ax.set_xlim(0.,5.5)\n",
    "ax.grid()\n",
    "ax.minorticks_on()\n",
    "ax.grid(which='minor', linestyle=':', linewidth='0.2', color='k')"
   ]
  },
  {
   "cell_type": "code",
   "execution_count": null,
   "metadata": {},
   "outputs": [],
   "source": [
    "tmp=pd.DataFrame(list(zip(data.dose,\n",
    "                          data.sf - np.exp(data.fit_results.iloc[0].best_fit),\n",
    "                          data.residuals_limit)),\n",
    "                          columns=['dose','residuals', 'residuals_err'])\n",
    "tmp.to_csv(\"results/figure_5_1a\")\n",
    "fig.savefig(fname=\"results/figure_5_1a\",dpi= 700)"
   ]
  },
  {
   "cell_type": "code",
   "execution_count": null,
   "metadata": {},
   "outputs": [],
   "source": [
    "data = df.loc['10'].loc[5010]\n",
    "fig,ax = plt.subplots(figsize = (10,6))\n",
    "\n",
    "ax.scatter(data.dose, \n",
    "            data.sf,\n",
    "            s=6, c=\"k\")\n",
    "\n",
    "ax.errorbar(data.dose, \n",
    "             data.sf, \n",
    "             yerr=data.sf_error,\n",
    "             fmt='o', color='k', capthick=2,capsize=5, \n",
    "             label = \"dane doświadczalne\")\n",
    "\n",
    "ax.plot(np.append(0,data.dose), \n",
    "         np.append(1,np.exp(data.fit_results.iloc[0].best_fit)), \n",
    "         c='k', \n",
    "         label=\"dopasowany model\")\n",
    "\n",
    "ax.set_xlim(0.,5.5)\n",
    "ax.set_ylabel(\"Przeżywalność, S [-]\")\n",
    "ax.set_xlabel(\"Dose [Gy]\")\n",
    "\n",
    "ax.set_yscale('log')\n",
    "\n",
    "leg = plt.legend(loc='best', ncol=1)         \n",
    "leg.get_frame().set_alpha(0.5)\n",
    "\n",
    "ax.grid()\n",
    "ax.minorticks_on()\n",
    "ax.grid(which='minor', linestyle=':', linewidth='0.2', color='k')"
   ]
  },
  {
   "cell_type": "code",
   "execution_count": null,
   "metadata": {},
   "outputs": [],
   "source": [
    "tmp=pd.DataFrame(list(zip(data.dose,\n",
    "                          data.sf)),\n",
    "                          columns=['dose','sf'])\n",
    "tmp.to_csv(\"results/figure_5_1b\")\n",
    "fig.savefig(fname=\"results/figure_5_1b\",dpi= 700)"
   ]
  },
  {
   "cell_type": "markdown",
   "metadata": {},
   "source": [
    "# Definition of RBE"
   ]
  },
  {
   "cell_type": "code",
   "execution_count": null,
   "metadata": {},
   "outputs": [],
   "source": [
    "a1 = df.loc[\"10\"].loc[0].fit_results[0].params['alpha'].value\n",
    "b1 = df.loc[\"10\"].loc[0].fit_results[0].params['beta'].value\n",
    "\n",
    "a2 = df.loc[\"10\"].loc[3200].fit_results[0].params['alpha'].value\n",
    "b2 = df.loc[\"10\"].loc[3200].fit_results[0].params['beta'].value"
   ]
  },
  {
   "cell_type": "code",
   "execution_count": null,
   "metadata": {},
   "outputs": [],
   "source": [
    "dose1 = np.append(0 , df.loc[\"10\"].loc[0].dose.values)\n",
    "dose2 = np.append(0 , df.loc[\"10\"].loc[3200].dose.values)\n",
    "\n",
    "sf1 = np.exp(-a1*dose1-b1*dose1**2)\n",
    "sf2 = np.exp(-a2*dose2-b2*dose2**2)"
   ]
  },
  {
   "cell_type": "code",
   "execution_count": null,
   "metadata": {},
   "outputs": [],
   "source": [
    "fig,ax = plt.subplots(figsize = (10,6))\n",
    "\n",
    "ax.plot(dose1, \n",
    "         sf1, \n",
    "         \"k\",\n",
    "         label=\"200 kVp RTG\",\n",
    "         )\n",
    "ax.plot(dose2,\n",
    "         sf2,\n",
    "         \"k--\",\n",
    "         label = \"3.2 MeV protony\")\n",
    "\n",
    "ax.axhline(0.5,c=\"k\" ,xmax=0.69,ls=':',lw=1.2)\n",
    "ax.text(0.1, .52, '50% of S',c='k')\n",
    "\n",
    "ax.text(-0.25, .48, '0.5')\n",
    "\n",
    "ax.axvline(2.75,c=\"k\", ymax=0.72,ls=':',lw=1.2)\n",
    "ax.text(2.85, .1, '2.75 Gy\\n',c='k')\n",
    "\n",
    "ax.axvline(1.65,c=\"k\", ymax=0.72,ls=':',lw=1.2)\n",
    "ax.text(1.75, .1, '1.65 Gy\\n',c='k')\n",
    "\n",
    "ax.set_xlabel(\"Dawka [Gy]\")\n",
    "ax.set_ylabel(\"Przeżywalność, S[-]\")\n",
    "\n",
    "ax.set_yscale('log')\n",
    "ax.set_xlim(0,4)\n",
    "ax.set_ylim(0.08,1)\n",
    "\n",
    "ax.legend( loc='upper right', ncol=1,  borderaxespad=0.)\n",
    "ax.grid()\n",
    "ax.minorticks_on()\n",
    "ax.grid(which='minor', linestyle=':', linewidth='0.2', color='k')\n"
   ]
  },
  {
   "cell_type": "code",
   "execution_count": null,
   "metadata": {},
   "outputs": [],
   "source": [
    "tmp=pd.DataFrame(list(zip(dose2,sf2,\n",
    "                          dose1,sf1)),\n",
    "                          columns=['dose_proton','sf_proton','dose_ref','sf_ref'])\n",
    "tmp.to_csv(\"results/figure_2_1\")\n",
    "\n",
    "fig.savefig(fname=\"results/figure_2_1\",dpi= 700)"
   ]
  },
  {
   "cell_type": "markdown",
   "metadata": {},
   "source": [
    "# Compare alfa & beta"
   ]
  },
  {
   "cell_type": "code",
   "execution_count": null,
   "metadata": {},
   "outputs": [],
   "source": [
    "i=0\n",
    "for name, group in df.groupby('article'):\n",
    "    #print(name)\n",
    "    for energy, data in group.groupby('energy'):\n",
    "        i=i+1\n",
    "        if data['beta_fit'].any() == 0.:\n",
    "            df.loc[(name,energy),'div_b_bfit'] = 0.\n",
    "            df.loc[(name,energy),'err_b_bfit'] = 0.\n",
    "        else:\n",
    "            df.loc[(name,energy),'div_b_bfit'] = data['beta']/data['beta_fit']\n",
    "\n",
    "        df.loc[(name,energy),'err_b_bfit'] = (data[\"beta_err\"]/data[\"beta_fit\"])-(data[\"beta\"]*data[\"beta_fit_err\"])/(data[\"beta_fit\"]**2)\n",
    "        \n",
    "        df.loc[(name,energy),'div_a_afit'] = data['alpha']/data['alpha_fit']\n",
    "        df.loc[(name,energy),'err_a_afit'] = (data[\"alpha_err\"]/data[\"alpha_fit\"])-(data[\"alpha\"]*data[\"alpha_fit_err\"])/(data[\"alpha_fit\"]**2)\n",
    "        df.loc[(name,energy),'exp_no'] = i"
   ]
  },
  {
   "cell_type": "code",
   "execution_count": null,
   "metadata": {},
   "outputs": [],
   "source": [
    "df2=df.reset_index().drop_duplicates(subset=['article','energy'])"
   ]
  },
  {
   "cell_type": "code",
   "execution_count": null,
   "metadata": {},
   "outputs": [],
   "source": [
    "fig,ax = plt.subplots(figsize = (10,6))\n",
    "\n",
    "ax.plot(df2.exp_no,\n",
    "         df2.div_a_afit,\n",
    "         'o', alpha = 0.6)\n",
    "ax.errorbar(df2.exp_no,\n",
    "             df2.div_a_afit,\n",
    "             yerr=df2.err_a_afit,\n",
    "             zorder=2, fmt='o',\n",
    "             capsize=5,color='k')\n",
    "\n",
    "ax.hlines(y=1.2, xmin=0, xmax=len(df2.exp_no.values), linewidth=2, color='k')\n",
    "ax.hlines(y=0.8, xmin=0, xmax=len(df2.exp_no.values), linewidth=2, color='k')\n",
    "\n",
    "ax.set_yticks(np.arange(0,2,0.2))\n",
    "ax.set_ylim(0,2)\n",
    "ax.set_xlim(0,35)\n",
    "\n",
    "ax.set_ylabel(r'$\\alpha_{P}/ \\alpha_{J} \\;[-]$')\n",
    "ax.set_xlabel(\"numer eksperymentu\")\n",
    "\n",
    "ax.grid()\n",
    "ax.minorticks_on()\n",
    "ax.grid(which='minor', linestyle=':', linewidth='0.2', color='k')"
   ]
  },
  {
   "cell_type": "code",
   "execution_count": null,
   "metadata": {},
   "outputs": [],
   "source": [
    "tmp=pd.DataFrame(list(zip(df2.exp_no,\n",
    "                          df2.div_a_afit,\n",
    "                          df2.err_a_afit)),\n",
    "                          columns=['exp_no','alpha_alpha_ref','alpha_alpha_ref_err'])\n",
    "tmp.to_csv(\"results/figure_5_3a\")\n",
    "\n",
    "fig.savefig(fname=\"results/figure_5_3a\",dpi= 700)"
   ]
  },
  {
   "cell_type": "code",
   "execution_count": null,
   "metadata": {},
   "outputs": [],
   "source": [
    "fig,ax = plt.subplots(figsize = (10,6))\n",
    "\n",
    "ax.plot(df2.exp_no,\n",
    "         df2.div_b_bfit,\n",
    "         'o', alpha = 0.6)\n",
    "ax.errorbar(df2.exp_no,\n",
    "             df2.div_b_bfit,\n",
    "             yerr=df2.err_b_bfit,\n",
    "             zorder=2, fmt='o',\n",
    "             capsize=5,color='k')\n",
    "\n",
    "ax.hlines(y=1.2, xmin=0, xmax=len(df2.exp_no.values), linewidth=2, color='k')\n",
    "ax.hlines(y=0.8, xmin=0, xmax=len(df2.exp_no.values), linewidth=2, color='k')\n",
    "\n",
    "ax.set_ylim(0,2)\n",
    "ax.set_xlim(0,35)\n",
    "\n",
    "ax.set_ylabel(r'$\\beta_{P}/ \\beta_{J} \\;[-]$')\n",
    "ax.set_xlabel(\"numer eksperymentu\")\n",
    "\n",
    "ax.grid()\n",
    "ax.minorticks_on()\n",
    "ax.grid(which='minor', linestyle=':', linewidth='0.2', color='k')"
   ]
  },
  {
   "cell_type": "code",
   "execution_count": null,
   "metadata": {},
   "outputs": [],
   "source": [
    "tmp=pd.DataFrame(list(zip(df2.exp_no,\n",
    "                          df2.div_b_bfit,\n",
    "                          df2.err_b_bfit)),\n",
    "                          columns=['exp_no','beta_beta_ref','beta_beta_ref_err'])\n",
    "tmp.to_csv(\"results/figure_5_3b\")\n",
    "\n",
    "fig.savefig(fname=\"results/figure_5_3b\",dpi= 700)"
   ]
  },
  {
   "cell_type": "markdown",
   "metadata": {},
   "source": [
    "# Save temporary files"
   ]
  },
  {
   "cell_type": "code",
   "execution_count": null,
   "metadata": {},
   "outputs": [],
   "source": [
    "df2 = df[[\"alpha\",\"beta\",\"beta_err\",\"alpha_err\",\"alpha_fit\",\"alpha_fit_err\",\"beta_fit\",\"beta_fit_err\",\"sf\",\"sf_error\",\"sf_err_up\",\"sf_err_down\",\"a(fit)/b(fit)\",\"covar_fit\",'a(fit)/a_ref(fit)','a/a_ref',\"LET\"]]"
   ]
  },
  {
   "cell_type": "code",
   "execution_count": null,
   "metadata": {},
   "outputs": [],
   "source": [
    "hdf_fname = os.path.join('tmp','fitted_data.h5')\n",
    "df2.to_hdf(hdf_fname, 'data', format='table')"
   ]
  },
  {
   "cell_type": "code",
   "execution_count": null,
   "metadata": {},
   "outputs": [],
   "source": []
  }
 ],
 "metadata": {
  "kernelspec": {
   "display_name": "Python 3",
   "language": "python",
   "name": "python3"
  },
  "language_info": {
   "codemirror_mode": {
    "name": "ipython",
    "version": 3
   },
   "file_extension": ".py",
   "mimetype": "text/x-python",
   "name": "python",
   "nbconvert_exporter": "python",
   "pygments_lexer": "ipython3",
   "version": "3.8.10"
  }
 },
 "nbformat": 4,
 "nbformat_minor": 2
}

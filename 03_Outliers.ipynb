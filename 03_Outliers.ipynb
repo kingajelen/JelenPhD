{
 "cells": [
  {
   "cell_type": "markdown",
   "metadata": {},
   "source": [
    "# Import libraries"
   ]
  },
  {
   "cell_type": "code",
   "execution_count": null,
   "metadata": {},
   "outputs": [],
   "source": [
    "import os\n",
    "\n",
    "import pandas as pd\n",
    "import numpy as np\n",
    "import scipy.stats"
   ]
  },
  {
   "cell_type": "markdown",
   "metadata": {},
   "source": [
    "# Read data"
   ]
  },
  {
   "cell_type": "code",
   "execution_count": null,
   "metadata": {
    "scrolled": true
   },
   "outputs": [],
   "source": [
    "fname = os.path.join('tmp','fit.h5')\n",
    "df = pd.read_hdf(fname, 'data')"
   ]
  },
  {
   "cell_type": "markdown",
   "metadata": {},
   "source": [
    "# Conditions for the rejection of data"
   ]
  },
  {
   "cell_type": "markdown",
   "metadata": {},
   "source": [
    "### A. number of experimental points <=4"
   ]
  },
  {
   "cell_type": "code",
   "execution_count": null,
   "metadata": {},
   "outputs": [],
   "source": [
    "for name, group in df.groupby('article'):\n",
    "        for energy, data in group.groupby('energy'):\n",
    "            if  (len(data.index))>4 :\n",
    "                 df.loc[(name,energy),'A'] = True\n",
    "            else:\n",
    "                df.loc[(name,energy),'A'] = False\n",
    "                print(name, energy)"
   ]
  },
  {
   "cell_type": "markdown",
   "metadata": {},
   "source": [
    "### B beta <=0"
   ]
  },
  {
   "cell_type": "code",
   "execution_count": null,
   "metadata": {},
   "outputs": [],
   "source": [
    "for name, group in df.groupby('article'):\n",
    "        for energy, data in group.groupby('energy'):\n",
    "            if  ((data.beta_fit)>=0.0).all() :\n",
    "                 df.loc[(name,energy),'B'] = True\n",
    "            else:\n",
    "                df.loc[(name,energy),'B'] = False   \n",
    "                print(name, energy)"
   ]
  },
  {
   "cell_type": "markdown",
   "metadata": {},
   "source": [
    "### C differences in alfa parameters"
   ]
  },
  {
   "cell_type": "code",
   "execution_count": null,
   "metadata": {},
   "outputs": [],
   "source": [
    "for name, group in df.groupby('article'):\n",
    "        for energy, data in group.groupby('energy'):\n",
    "            if ( ((data.div_alfa)>0.8)&((data.div_alfa)<1.2) ).all() :\n",
    "                 df.loc[(name,energy),'C'] = True\n",
    "            else:                                 \n",
    "                df.loc[(name,energy),'C'] = False\n",
    "                print(name, energy)"
   ]
  },
  {
   "cell_type": "markdown",
   "metadata": {},
   "source": [
    "### C2 differences in beta parameters"
   ]
  },
  {
   "cell_type": "code",
   "execution_count": null,
   "metadata": {},
   "outputs": [],
   "source": [
    "for name, group in df.groupby('article'):\n",
    "        for energy, data in group.groupby('energy'):\n",
    "            if ( ((data.div_beta)>=0.8)&((data.div_beta)<1.2) ).all() :\n",
    "                 df.loc[(name,energy),'C2'] = True\n",
    "            else:\n",
    "                \n",
    "                df.loc[(name,energy),'C2'] = False\n",
    "                print(name, energy)"
   ]
  },
  {
   "cell_type": "markdown",
   "metadata": {},
   "source": [
    "### D uncertainties >100%"
   ]
  },
  {
   "cell_type": "code",
   "execution_count": null,
   "metadata": {},
   "outputs": [],
   "source": [
    "for name, group in df.groupby('article'):\n",
    "        for energy, data in group.groupby('energy'):\n",
    "            if  (data.sf_err_up.max() < 1.2) :\n",
    "                df.loc[(name,energy),'D'] = True\n",
    "            else:\n",
    "                if energy == 0.0 :\n",
    "                    df.loc[(name,energy),'D'] = True\n",
    "                else: \n",
    "                    df.loc[(name,energy),'D'] = False  \n",
    "                    print(name, energy)"
   ]
  },
  {
   "cell_type": "markdown",
   "metadata": {},
   "source": [
    "### E CDF > 10**-5"
   ]
  },
  {
   "cell_type": "code",
   "execution_count": null,
   "metadata": {},
   "outputs": [],
   "source": [
    "for name, group in df.groupby('article'):\n",
    "        for energy, data in group.groupby('energy'):\n",
    "            if  (energy == 0.0) :\n",
    "                cdf=scipy.stats.norm.cdf(0,data.alfa_fit.values,data.alfa_fit_err.values)\n",
    "                if (cdf > 10**-5).any():\n",
    "                    df.loc[(name),'E'] = False\n",
    "                    print(name, energy)\n",
    "                else:\n",
    "                    df.loc[(name),'E'] = True    \n",
    "                    "
   ]
  },
  {
   "cell_type": "markdown",
   "metadata": {},
   "source": [
    "### F error SF  >50%"
   ]
  },
  {
   "cell_type": "code",
   "execution_count": null,
   "metadata": {},
   "outputs": [],
   "source": [
    "for name, group in df.groupby('article'):\n",
    "        for energy, data in group.groupby('energy'):\n",
    "            if  (energy == 0.0) :\n",
    "                er=data.loc[name].sf_error / data.loc[name].sf\n",
    "                if (er > 0.5).any():\n",
    "                    df.loc[(name),'F'] = False\n",
    "                    print(name, energy)\n",
    "                else:\n",
    "                    df.loc[(name),'F'] = True"
   ]
  },
  {
   "cell_type": "markdown",
   "metadata": {},
   "source": [
    "### G alfa ref > alfa prot"
   ]
  },
  {
   "cell_type": "code",
   "execution_count": null,
   "metadata": {},
   "outputs": [],
   "source": [
    "for name, group in df.groupby('article'):\n",
    "    alfa_ref = df.loc[name].loc[0].alfa_fit[0]\n",
    "    for energy, data in group.groupby('energy'):\n",
    "        if energy > 0 :\n",
    "            alfa = data.alfa_fit.values[0]\n",
    "            \n",
    "            if (alfa_ref > alfa) : \n",
    "                df.loc[(name,energy),'G'] = False\n",
    "                print(name, energy)\n",
    "            else:\n",
    "                df.loc[(name,energy),'G'] = True\n",
    "        else:\n",
    "            df.loc[(name,energy),'G'] = True\n"
   ]
  },
  {
   "cell_type": "markdown",
   "metadata": {},
   "source": [
    "# Delete protons data when references=0"
   ]
  },
  {
   "cell_type": "code",
   "execution_count": null,
   "metadata": {},
   "outputs": [],
   "source": [
    "for name, group in df.groupby('article'):\n",
    "    #print(group[group.index.get_level_values('energy') == 0.0])  \n",
    "    if (group[group.index.get_level_values('energy') == 0.0].A == False).all() :\n",
    "        df.loc[(name),'A'] = False\n",
    "        \n",
    "    if (group[group.index.get_level_values('energy') == 0.0].B == False).all() :       \n",
    "        df.loc[(name),'B'] = False\n",
    "        \n",
    "    if (group[group.index.get_level_values('energy') == 0.0].C2 == False).all() :           \n",
    "        df.loc[(name),'C2'] = False\n",
    "      \n",
    "    if (group[group.index.get_level_values('energy') == 0.0].C == False).all() :         \n",
    "        df.loc[(name),'C'] = False\n",
    "        \n",
    "    if (group[group.index.get_level_values('energy') == 0.0].D == False).all() :         \n",
    "        df.loc[(name),'D'] = False\n",
    "        \n",
    "    if (group[group.index.get_level_values('energy') == 0.0].E == False).all() :         \n",
    "        df.loc[(name),'E'] = False\n",
    "        \n",
    "    if (group[group.index.get_level_values('energy') == 0.0].F == False).all() :         \n",
    "        df.loc[(name),'F'] = False\n",
    "        \n",
    "    if (group[group.index.get_level_values('energy') == 0.0].G == False).all() :         \n",
    "        df.loc[(name),'G'] = False\n"
   ]
  },
  {
   "cell_type": "markdown",
   "metadata": {},
   "source": [
    "## Check data without outliers"
   ]
  },
  {
   "cell_type": "code",
   "execution_count": null,
   "metadata": {},
   "outputs": [],
   "source": [
    "df2 = df[ (df.G == True)  ] \n",
    "#&"
   ]
  },
  {
   "cell_type": "code",
   "execution_count": null,
   "metadata": {},
   "outputs": [],
   "source": [
    "df2 = df2[[\"alfa(fit)/beta(fit)\",\"alfa_fit\",\"alfa_fit_err\",\"beta_fit\",\"beta_fit_err\",\"covar_fit\",'a(fit)/a_ref(fit)','a/a_ref',\"LET\"]]"
   ]
  },
  {
   "cell_type": "code",
   "execution_count": null,
   "metadata": {},
   "outputs": [],
   "source": [
    "for name, group in df2.groupby('article'):\n",
    "    for energy, data in group.groupby('energy'):\n",
    "        print(name, energy)"
   ]
  },
  {
   "cell_type": "markdown",
   "metadata": {},
   "source": [
    "## Check outliers"
   ]
  },
  {
   "cell_type": "code",
   "execution_count": null,
   "metadata": {},
   "outputs": [],
   "source": [
    "df3 = df[  (df.G == False)] \n",
    "#\\"
   ]
  },
  {
   "cell_type": "code",
   "execution_count": null,
   "metadata": {},
   "outputs": [],
   "source": [
    "for name, group in df3.groupby('article'):\n",
    "    for energy, data in group.groupby('energy'):\n",
    "        print(name, energy)"
   ]
  },
  {
   "cell_type": "markdown",
   "metadata": {},
   "source": [
    "# Save temporary files"
   ]
  },
  {
   "cell_type": "code",
   "execution_count": null,
   "metadata": {},
   "outputs": [],
   "source": [
    "hdf_fname = os.path.join('tmp','q.h5')\n",
    "df2.to_hdf(hdf_fname, 'data_6', format='table')"
   ]
  },
  {
   "cell_type": "code",
   "execution_count": null,
   "metadata": {},
   "outputs": [],
   "source": []
  }
 ],
 "metadata": {
  "kernelspec": {
   "display_name": "Python 3",
   "language": "python",
   "name": "python3"
  },
  "language_info": {
   "codemirror_mode": {
    "name": "ipython",
    "version": 3
   },
   "file_extension": ".py",
   "mimetype": "text/x-python",
   "name": "python",
   "nbconvert_exporter": "python",
   "pygments_lexer": "ipython3",
   "version": "3.8.10"
  }
 },
 "nbformat": 4,
 "nbformat_minor": 2
}

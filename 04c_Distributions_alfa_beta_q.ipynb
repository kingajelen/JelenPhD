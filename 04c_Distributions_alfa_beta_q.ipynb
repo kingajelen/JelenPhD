{
 "cells": [
  {
   "cell_type": "markdown",
   "metadata": {},
   "source": [
    "# Import libraries"
   ]
  },
  {
   "cell_type": "code",
   "execution_count": null,
   "metadata": {},
   "outputs": [],
   "source": [
    "import os\n",
    "\n",
    "import pandas as pd\n",
    "import numpy as np\n",
    "import matplotlib\n",
    "import matplotlib.pyplot as plt\n",
    "from scipy.stats import norm, truncnorm, multivariate_normal\n",
    "from sklearn.linear_model import LinearRegression\n",
    "import corner\n",
    "import pylab\n",
    "from matplotlib import colors\n",
    "\n",
    "%matplotlib inline"
   ]
  },
  {
   "cell_type": "code",
   "execution_count": null,
   "metadata": {},
   "outputs": [],
   "source": [
    "import pickle"
   ]
  },
  {
   "cell_type": "markdown",
   "metadata": {},
   "source": [
    "# Functions"
   ]
  },
  {
   "cell_type": "code",
   "execution_count": null,
   "metadata": {},
   "outputs": [],
   "source": [
    "def load_dict_from_file(name):\n",
    "    a_file = open(name, \"rb\")\n",
    "    output = pickle.load(a_file)\n",
    "    a_file.close()\n",
    "    return output"
   ]
  },
  {
   "cell_type": "code",
   "execution_count": null,
   "metadata": {},
   "outputs": [],
   "source": [
    "style_param = {'legend.fontsize': '20',\n",
    "         'xtick.direction' : 'in',  \n",
    "         'ytick.direction' : 'in', \n",
    "         'xtick.top' : True, \n",
    "         'figure.figsize': (10,6),\n",
    "         'axes.labelsize': '26',\n",
    "         'axes.titlesize':'26',\n",
    "         'xtick.labelsize':'20',\n",
    "         'ytick.labelsize':'20',\n",
    "         'xtick.major.pad':'16',\n",
    "         'ytick.major.pad':'16'}\n",
    "    \n",
    "pylab.rcParams.update(style_param)"
   ]
  },
  {
   "cell_type": "markdown",
   "metadata": {},
   "source": [
    "# Open data "
   ]
  },
  {
   "cell_type": "code",
   "execution_count": null,
   "metadata": {},
   "outputs": [],
   "source": [
    "d = load_dict_from_file('tmp/sample1_dict_alpha_beta.pkl')"
   ]
  },
  {
   "cell_type": "markdown",
   "metadata": {},
   "source": [
    "# Alpha & Beta distributions"
   ]
  },
  {
   "cell_type": "code",
   "execution_count": null,
   "metadata": {},
   "outputs": [],
   "source": [
    "#choose the experiment to visualize the results from article 10, \n",
    "#where a proton energy of 5010keV was used\n",
    "from matplotlib.colors import LogNorm\n",
    "\n",
    "\n",
    "a = d['10'][5010]['alpha_dep']\n",
    "b=(d['10'][5010]['beta_dep'])\n",
    "\n",
    "fig, ax = plt.subplots(2,2, figsize=(8,8))\n",
    "\n",
    "# plot 1D histograms\n",
    "ax[0][0].hist(a, bins=100, density=True,color='blue',alpha=0.4)\n",
    "ax[0][0].set_xlim(0.2,0.4)\n",
    "\n",
    "ax[1][1].hist(b, bins=100, density=True, orientation='horizontal',color='blue',alpha=0.4)\n",
    "ax[1][1].set_ylim(0.,0.05)\n",
    "\n",
    "\n",
    "ax[0][0].set_title(r'$\\alpha\\; [Gy^{-1}]$')\n",
    "ax[0][0].xaxis.set_ticks_position('top')\n",
    "ax[0][0].set_ylabel('Probability\\n distribution[-]\\n')\n",
    "\n",
    "ax[1][1].set_ylabel('\\n'+r'$\\beta\\; [Gy^{-2}]$')\n",
    "ax[1][1].set_xlabel('Probability\\n distribution[-]')\n",
    "ax[1][1].yaxis.set_label_coords(1.2, 0.5)\n",
    "\n",
    "ax[1][1].yaxis.tick_right()\n",
    "ax[1][1].yaxis.set_label_position(\"right\")\n",
    "\n",
    "# plot 2D histogram\n",
    "\n",
    "ax[1][0].hist2d(a, b,bins=500,cmap = plt.cm.jet, norm=LogNorm())\n",
    "\n",
    "\n",
    "\n",
    "ax[1][0].set_xlabel(r'$\\alpha \\;[Gy^{-1}]$')\n",
    "ax[1][0].set_ylabel(r'$\\beta \\;[Gy^{-2}]$'+'\\n')\n",
    "\n",
    "#ax[1][0].set_xlim(0.2,0.4)\n",
    "#ax[1][0].set_ylim(0.,0.05)\n",
    "\n",
    "\n",
    "\n",
    "# common settings\n",
    "for axx in ax.flatten():\n",
    "    axx.grid()\n",
    "    axx.minorticks_on()\n",
    "    axx.grid(which='major', linestyle=':', linewidth='0.2', color='k')\n",
    "    axx.grid(which='minor', linestyle=':', linewidth='0.2', color='k')\n",
    "\n",
    "ax[0][1].set_visible(False)\n",
    "\n",
    "ax[1][0].legend( ['correlation -0.936'],\n",
    "          loc='upper left', frameon=False)\n"
   ]
  },
  {
   "cell_type": "code",
   "execution_count": null,
   "metadata": {},
   "outputs": [],
   "source": [
    "tmp=pd.DataFrame(list(zip(a,b)),\n",
    "                          columns=['alpha','beta'])\n",
    "tmp.to_csv(\"results/figure_5_2.csv\")\n",
    "fig.savefig(fname=\"results/figure_5_2.png\",dpi= 700)"
   ]
  },
  {
   "cell_type": "markdown",
   "metadata": {},
   "source": [
    "# Correlation"
   ]
  },
  {
   "cell_type": "code",
   "execution_count": null,
   "metadata": {},
   "outputs": [],
   "source": [
    "x=list()\n",
    "y=list()\n",
    "i=0  \n",
    "\n",
    "fig,ax = plt.subplots(figsize = (10,6))\n",
    "\n",
    "for k,v in d.items():\n",
    "\n",
    "    for m,n in v.items():\n",
    "        if m>0:\n",
    "            #print(i,k,m)\n",
    "            y.append(d[k][m]['alpha_dep'][i] /  d[k][0]['ref_alpha_dep'][i]-1)\n",
    "            x.append(d[k][m]['LET']*d[k][0]['ref_beta_dep'][i]/d[k][0]['ref_alpha_dep'][i])\n",
    "    \n",
    "ax.plot(x,y, \".\",c='black',markersize=15)\n",
    "\n",
    "ax.set_xlabel('\\n'+r'$LET \\cdot \\beta_{ref}\\cdot \\alpha^{-1}_{ref} \\;[Gy\\cdot  keV  \\cdot\\mu m^{-1}]$')\n",
    "ax.set_ylabel(r'$(\\alpha \\cdot \\alpha^{-1}_{ref})-1 \\;[-]$'+'\\n')\n",
    "\n",
    "ax.grid()\n",
    "ax.minorticks_on()\n",
    "ax.grid(which='minor', linestyle=':', linewidth='0.2', color='k')\n"
   ]
  },
  {
   "cell_type": "code",
   "execution_count": null,
   "metadata": {},
   "outputs": [],
   "source": [
    "tmp=pd.DataFrame(list(zip(x,y)),\n",
    "                          columns=['data_x','data_y'])\n",
    "tmp.to_csv(\"results/figure_5_4.csv\")\n",
    "\n",
    "fig.savefig(fname=\"results/figure_5_4.png\",dpi= 700)"
   ]
  },
  {
   "cell_type": "code",
   "execution_count": null,
   "metadata": {},
   "outputs": [],
   "source": []
  }
 ],
 "metadata": {
  "kernelspec": {
   "display_name": "Python 3",
   "language": "python",
   "name": "python3"
  },
  "language_info": {
   "codemirror_mode": {
    "name": "ipython",
    "version": 3
   },
   "file_extension": ".py",
   "mimetype": "text/x-python",
   "name": "python",
   "nbconvert_exporter": "python",
   "pygments_lexer": "ipython3",
   "version": "3.8.10"
  }
 },
 "nbformat": 4,
 "nbformat_minor": 2
}

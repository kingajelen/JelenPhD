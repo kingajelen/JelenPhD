{
 "cells": [
  {
   "cell_type": "markdown",
   "metadata": {},
   "source": [
    "# Import libraries"
   ]
  },
  {
   "cell_type": "code",
   "execution_count": null,
   "metadata": {},
   "outputs": [],
   "source": [
    "import os\n",
    "\n",
    "import pandas as pd\n",
    "import numpy as np\n",
    "import scipy.stats"
   ]
  },
  {
   "cell_type": "markdown",
   "metadata": {},
   "source": [
    "# Read data"
   ]
  },
  {
   "cell_type": "code",
   "execution_count": null,
   "metadata": {
    "scrolled": true
   },
   "outputs": [],
   "source": [
    "open_fname = os.path.join('tmp','fitted_data.h5')\n",
    "df = pd.read_hdf(open_fname, 'data')"
   ]
  },
  {
   "cell_type": "code",
   "execution_count": null,
   "metadata": {},
   "outputs": [],
   "source": [
    "df['div_alpha']=df['alpha']/df['alpha_fit']\n",
    "df['div_beta']=df['beta']/df['beta_fit']"
   ]
  },
  {
   "cell_type": "markdown",
   "metadata": {},
   "source": [
    "# Conditions for the rejection of data"
   ]
  },
  {
   "cell_type": "markdown",
   "metadata": {},
   "source": [
    "### A. number of experimental points <=4"
   ]
  },
  {
   "cell_type": "code",
   "execution_count": null,
   "metadata": {},
   "outputs": [],
   "source": [
    "for name, group in df.groupby('article'):\n",
    "        for energy, data in group.groupby('energy'):\n",
    "            if  (len(data.index))>4 :\n",
    "                 df.loc[(name,energy),'A'] = True\n",
    "            else:\n",
    "                df.loc[(name,energy),'A'] = False\n",
    "                print(name, energy)"
   ]
  },
  {
   "cell_type": "markdown",
   "metadata": {},
   "source": [
    "### B beta <=0"
   ]
  },
  {
   "cell_type": "code",
   "execution_count": null,
   "metadata": {},
   "outputs": [],
   "source": [
    "for name, group in df.groupby('article'):\n",
    "        for energy, data in group.groupby('energy'):\n",
    "            if  ((data.beta_fit)>=0.0).all() :\n",
    "                 df.loc[(name,energy),'B'] = True\n",
    "            else:\n",
    "                df.loc[(name,energy),'B'] = False   \n",
    "                print(name, energy)"
   ]
  },
  {
   "cell_type": "markdown",
   "metadata": {},
   "source": [
    "### C differences in alfa parameters >20%"
   ]
  },
  {
   "cell_type": "code",
   "execution_count": null,
   "metadata": {},
   "outputs": [],
   "source": [
    "for name, group in df.groupby('article'):\n",
    "        for energy, data in group.groupby('energy'):\n",
    "            if ( ((data.div_alpha)>0.8)&((data.div_alpha)<1.2) ).all() :\n",
    "                 df.loc[(name,energy),'C'] = True\n",
    "            else:                                 \n",
    "                df.loc[(name,energy),'C'] = False\n",
    "                print(name, energy)"
   ]
  },
  {
   "cell_type": "markdown",
   "metadata": {},
   "source": [
    "### D differences in beta parameters >20%"
   ]
  },
  {
   "cell_type": "code",
   "execution_count": null,
   "metadata": {},
   "outputs": [],
   "source": [
    "for name, group in df.groupby('article'):\n",
    "        for energy, data in group.groupby('energy'):\n",
    "            if ( ((data.div_beta)>=0.8)&((data.div_beta)<1.2) ).all() :\n",
    "                 df.loc[(name,energy),'D'] = True\n",
    "            else:\n",
    "                \n",
    "                df.loc[(name,energy),'D'] = False\n",
    "                print(name, energy)"
   ]
  },
  {
   "cell_type": "markdown",
   "metadata": {},
   "source": [
    "### E differences in beta parameters >200%"
   ]
  },
  {
   "cell_type": "code",
   "execution_count": null,
   "metadata": {},
   "outputs": [],
   "source": [
    "for name, group in df.groupby('article'):\n",
    "        for energy, data in group.groupby('energy'):\n",
    "            if ( ((data.div_beta)>=0.)&((data.div_beta)<2.) ).all() :\n",
    "                 df.loc[(name,energy),'E'] = True\n",
    "            else:\n",
    "                \n",
    "                df.loc[(name,energy),'E'] = False\n",
    "                print(name, energy)"
   ]
  },
  {
   "cell_type": "markdown",
   "metadata": {},
   "source": [
    "### F error SF  >50%"
   ]
  },
  {
   "cell_type": "code",
   "execution_count": null,
   "metadata": {},
   "outputs": [],
   "source": [
    "for name, group in df.groupby('article'):\n",
    "        for energy, data in group.groupby('energy'):\n",
    "            if  (energy == 0.0) :\n",
    "                er=data.loc[name].sf_error / data.loc[name].sf\n",
    "                if (er > 0.5).any():\n",
    "                    df.loc[(name),'F'] = False\n",
    "                    print(name, energy)\n",
    "                else:\n",
    "                    df.loc[(name),'F'] = True"
   ]
  },
  {
   "cell_type": "markdown",
   "metadata": {},
   "source": [
    "### G alfa ref > alfa prot"
   ]
  },
  {
   "cell_type": "code",
   "execution_count": null,
   "metadata": {},
   "outputs": [],
   "source": [
    "for name, group in df.groupby('article'):\n",
    "    alpha_ref = df.loc[name].loc[0].alpha_fit[0]\n",
    "    for energy, data in group.groupby('energy'):\n",
    "        if energy > 0 :\n",
    "            alpha = data.alpha_fit.values[0]\n",
    "            \n",
    "            if (alpha_ref > alpha) : \n",
    "                df.loc[(name,energy),'G'] = False\n",
    "                print(name, energy)\n",
    "            else:\n",
    "                df.loc[(name,energy),'G'] = True\n",
    "        else:\n",
    "            df.loc[(name,energy),'G'] = True\n"
   ]
  },
  {
   "cell_type": "markdown",
   "metadata": {},
   "source": [
    "# Delete protons data when references experiment has been removed"
   ]
  },
  {
   "cell_type": "code",
   "execution_count": null,
   "metadata": {},
   "outputs": [],
   "source": [
    "#delete experiments for which there are no reference curves \n",
    "#because they were rejected according to the A-G criteria defined above\n",
    "\n",
    "for name, group in df.groupby('article'):\n",
    "    #print(group[group.index.get_level_values('energy') == 0.0])  \n",
    "    if (group[group.index.get_level_values('energy') == 0.0].A == False).all() :\n",
    "        df.loc[(name),'A'] = False\n",
    "        \n",
    "    if (group[group.index.get_level_values('energy') == 0.0].B == False).all() :       \n",
    "        df.loc[(name),'B'] = False\n",
    "\n",
    "    if (group[group.index.get_level_values('energy') == 0.0].C == False).all() :         \n",
    "        df.loc[(name),'C'] = False\n",
    "        \n",
    "    if (group[group.index.get_level_values('energy') == 0.0].D == False).all() :         \n",
    "        df.loc[(name),'D'] = False\n",
    "        \n",
    "    if (group[group.index.get_level_values('energy') == 0.0].E == False).all() :         \n",
    "        df.loc[(name),'E'] = False\n",
    "        \n",
    "    if (group[group.index.get_level_values('energy') == 0.0].F == False).all() :         \n",
    "        df.loc[(name),'F'] = False\n",
    "        \n",
    "    if (group[group.index.get_level_values('energy') == 0.0].G == False).all() :         \n",
    "        df.loc[(name),'G'] = False\n"
   ]
  },
  {
   "cell_type": "markdown",
   "metadata": {},
   "source": [
    "## Check outliers"
   ]
  },
  {
   "cell_type": "code",
   "execution_count": null,
   "metadata": {},
   "outputs": [],
   "source": [
    "#creation of 6 samples containing data satisfying specified criteria A-G\n",
    "\n",
    "df0 = df[[\"alpha_fit\",\"alpha_fit_err\",\"beta_fit\",\"beta_fit_err\",\"covar_fit\",\"LET\"]]\n",
    "df1 = df[(df.A == True) &(df.B == True)] [[\"alpha_fit\",\"alpha_fit_err\",\"beta_fit\",\"beta_fit_err\",\"covar_fit\",\"LET\"]]\n",
    "df2 = df[(df.A == True) &(df.B == True) & (df.E == True) & (df.F == True) & (df.G == True)] [[\"alpha_fit\",\"alpha_fit_err\",\"beta_fit\",\"beta_fit_err\",\"covar_fit\",\"LET\"]]\n",
    "df3 = df[(df.A == True) &(df.B == True) & (df.C == True) & (df.D == True)] [[\"alpha_fit\",\"alpha_fit_err\",\"beta_fit\",\"beta_fit_err\",\"covar_fit\",\"LET\"]]\n",
    "df4 = df[(df.A == True) &(df.B == True) & (df.C == True)] [[\"alpha_fit\",\"alpha_fit_err\",\"beta_fit\",\"beta_fit_err\",\"covar_fit\",\"LET\"]]\n",
    "df5 = df[(df.A == True) &(df.B == True) & (df.E == True)] [[\"alpha_fit\",\"alpha_fit_err\",\"beta_fit\",\"beta_fit_err\",\"covar_fit\",\"LET\"]]\n",
    "df6 = df[(df.A == True) &(df.B == True) & (df.G == True)] [[\"alpha_fit\",\"alpha_fit_err\",\"beta_fit\",\"beta_fit_err\",\"covar_fit\",\"LET\"]]"
   ]
  },
  {
   "cell_type": "code",
   "execution_count": null,
   "metadata": {},
   "outputs": [],
   "source": [
    "#checking the number of experiments in each samples\n",
    "j=0\n",
    "for data in [df0,df1,df2,df3,df4,df5,df6]:\n",
    "    i=0\n",
    "    for art , d in data.groupby(\"article\"):\n",
    "        for ene , dd in d.groupby(\"energy\"):\n",
    "            if ene != 0:\n",
    "                i=i+1\n",
    "    \n",
    "    print(\"SAMPLE \",j,\"\\n no of experiments: \",i)\n",
    "    j=j+1"
   ]
  },
  {
   "cell_type": "markdown",
   "metadata": {},
   "source": [
    "# Save temporary files"
   ]
  },
  {
   "cell_type": "code",
   "execution_count": null,
   "metadata": {},
   "outputs": [],
   "source": [
    "save_fname = os.path.join('tmp','fitted_data.h5')"
   ]
  },
  {
   "cell_type": "code",
   "execution_count": null,
   "metadata": {},
   "outputs": [],
   "source": [
    "for data,df in {\"data_0\":df0,\"data_1\":df1,\"data_2\":df2,\"data_3\":df3,\"data_4\":df4,\"data_5\":df5,\"data_6\":df6}.items():\n",
    "    data\n",
    "    df.to_hdf(save_fname, data, format='table')"
   ]
  },
  {
   "cell_type": "code",
   "execution_count": null,
   "metadata": {},
   "outputs": [],
   "source": []
  }
 ],
 "metadata": {
  "kernelspec": {
   "display_name": "Python 3",
   "language": "python",
   "name": "python3"
  },
  "language_info": {
   "codemirror_mode": {
    "name": "ipython",
    "version": 3
   },
   "file_extension": ".py",
   "mimetype": "text/x-python",
   "name": "python",
   "nbconvert_exporter": "python",
   "pygments_lexer": "ipython3",
   "version": "3.8.10"
  }
 },
 "nbformat": 4,
 "nbformat_minor": 2
}

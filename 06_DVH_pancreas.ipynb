{
 "cells": [
  {
   "cell_type": "markdown",
   "metadata": {
    "id": "S-l1uRXUOGVY"
   },
   "source": [
    "# Import libraries"
   ]
  },
  {
   "cell_type": "code",
   "execution_count": null,
   "metadata": {
    "id": "2pXdyvq1igmS"
   },
   "outputs": [],
   "source": [
    "import matplotlib.pyplot as plt\n",
    "from matplotlib import cm\n",
    "import numpy as np\n",
    "import pandas as pd\n",
    "import os\n",
    "import h5py\n",
    "import matplotlib as mpl\n",
    "from scipy.stats import halfnorm\n",
    "import copy\n",
    "import glob\n",
    "import zipfile"
   ]
  },
  {
   "cell_type": "code",
   "execution_count": null,
   "metadata": {
    "id": "eLwnWSnPFh99"
   },
   "outputs": [],
   "source": [
    "import pytrip as pt\n",
    "from pytrip.volhist import VolHist \n",
    "from dicompylercore import dicomparser, dvh, dvhcalc"
   ]
  },
  {
   "cell_type": "code",
   "execution_count": null,
   "metadata": {},
   "outputs": [],
   "source": [
    "import pylab"
   ]
  },
  {
   "cell_type": "markdown",
   "metadata": {
    "id": "UNo3qYxEOSsP"
   },
   "source": [
    "# Functions"
   ]
  },
  {
   "cell_type": "code",
   "execution_count": null,
   "metadata": {
    "id": "NCjQo1lWigmu"
   },
   "outputs": [],
   "source": [
    "def rbe_wedenberg(dose, let, abx,q):\n",
    "    \"\"\"\n",
    "    Wedenberg proton RBE model\n",
    "    input parameters may be either numpy.array or scalars\n",
    "    TODO: handle Cube() class directly\n",
    "    :params dose: physical proton dose in [Gy]\n",
    "    :params let: LETd in [keV/um] (protons only)\n",
    "    :params abx: alpha_x / beta_x [Gy]\n",
    "    :returns: RBE for the given parameters\n",
    "    :ref: http://dx.doi.org/10.3109/0284186X.2012.705892\n",
    "    \"\"\"\n",
    "\n",
    "    _apx = 1.000 + q * let / abx\n",
    "    _sbpx = 1.0\n",
    "\n",
    "    rbe = _rbe_apx(dose, _apx, _sbpx, abx)\n",
    "    return rbe"
   ]
  },
  {
   "cell_type": "code",
   "execution_count": null,
   "metadata": {
    "id": "7DkmKKLFigmv"
   },
   "outputs": [],
   "source": [
    "def _rbe_apx(dose, apx, sbpx, abx, dzero=0.0):\n",
    "    \"\"\"\n",
    "    :params dose: proton dose      [Gy]\n",
    "    :params apx: alpha_p / alpha_x [dimensionless] RBE_max = ap/ax when (dose -> 0 Gy)\n",
    "    :params sbpx: beta_p / beta_x  [dimensionless] RBE_min = sqrt(bp/bx) when (dose -> inf Gy)\n",
    "    :params abx: alpha_x / beta_x  [Gy]\n",
    "    :params dzero: what to return in case of dose is zero (which would cause division by zero)\n",
    "    \"\"\"\n",
    "\n",
    "    _rbe = 1.0 / (2.0 * dose)\n",
    "    if hasattr(_rbe, '__iter__'):\n",
    "        _rbe[_rbe == np.inf] = dzero\n",
    "    else:\n",
    "        if _rbe == np.inf:\n",
    "            return dzero\n",
    "    delta = abx * abx + 4. * abx * apx * dose + 4. * sbpx * sbpx * dose * dose\n",
    "    delta *= (delta > 0)\n",
    "    _rbe *= (np.sqrt(delta) - abx)\n",
    "    return _rbe"
   ]
  },
  {
   "cell_type": "code",
   "execution_count": null,
   "metadata": {
    "id": "l2ji9eTwA5H2"
   },
   "outputs": [],
   "source": [
    "def biological_dose (q,ab,dos_cube,let_cube):\n",
    "    result = pt.DosCube()\n",
    "    result.cube = rbe_wedenberg(dos_cube.cube, let_cube.cube, ab, q) * dos_cube.cube\n",
    "    return result"
   ]
  },
  {
   "cell_type": "code",
   "execution_count": null,
   "metadata": {},
   "outputs": [],
   "source": [
    "def plot_style():\n",
    "    plt.grid()\n",
    "    plt.minorticks_on()\n",
    "    plt.grid(which='minor', linestyle=':', linewidth='0.2', color='k')\n",
    "\n",
    "    plt.rcParams['xtick.direction'] = 'in' \n",
    "    plt.rcParams['ytick.direction'] = 'in' \n",
    "    plt.rcParams['xtick.top'] = True \n",
    "    plt.rcParams['ytick.right'] = True  \n",
    "\n",
    "    params = {'legend.fontsize': '20',\n",
    "         'figure.figsize': (16,8),\n",
    "         'axes.labelsize': '26',\n",
    "         'axes.titlesize':'26',\n",
    "         'xtick.labelsize':'20',\n",
    "         'ytick.labelsize':'20',\n",
    "         'xtick.major.pad':'16',\n",
    "         'ytick.major.pad':'16'}\n",
    "    \n",
    "    pylab.rcParams.update(params)"
   ]
  },
  {
   "cell_type": "code",
   "execution_count": null,
   "metadata": {
    "id": "zYc23qhwA5H-"
   },
   "outputs": [],
   "source": [
    "def calculate_dvh (qval, ab, dose_cube,let_cube,mask,target_voi, bins , dose_pres, fraction):\n",
    "    \n",
    "    biol_dose= rbe_wedenberg(dose=dose_cube.cube[mask], let=let_cube.cube[mask], abx=ab, q=qval) * dose_cube.cube[mask]\n",
    "\n",
    "    _xrange = (0.0,2.4)\n",
    "    _hist, x = np.histogram((biol_dose), bins=1024, range=_xrange,density=True)\n",
    "    _fhist = _hist[::-1]  # reverse histogram, so first element is for highest dose\n",
    "    _fhist = np.cumsum(_fhist)\n",
    "    _hist = _fhist[::-1]  # flip back again to normal representation\n",
    "\n",
    "    y = 100.0 * _hist / _hist[0]  # volume histograms always plot the right edge of bin, since V(D < x_pos).\n",
    "    y = np.insert(y, 0, 100.0, axis=0)  # but the leading bin edge is always at V = 100.0%\n",
    "    return(x,y)    "
   ]
  },
  {
   "cell_type": "code",
   "execution_count": null,
   "metadata": {
    "id": "_saKqqX7YDoZ"
   },
   "outputs": [],
   "source": [
    "def plot_dvh ( dose_cube, bins ):\n",
    "   \n",
    "\n",
    "    _hist, x = np.histogram(dose_cube, bins=bins, density=True)\n",
    "    _fhist = _hist[::-1]  # reverse histogram, so first element is for highest dose\n",
    "    _fhist = np.cumsum(_fhist)\n",
    "    _hist = _fhist[::-1]  # flip back again to normal representation\n",
    "\n",
    "    y = 100.0 * _hist / _hist[0]  # volume histograms always plot the right edge of bin, since V(D < x_pos).\n",
    "    y = np.insert(y, 0, 100.0, axis=0)  # but the leading bin edge is always at V = 100.0%\n",
    "    return(x,y)    "
   ]
  },
  {
   "cell_type": "code",
   "execution_count": null,
   "metadata": {},
   "outputs": [],
   "source": [
    "def plot_dvh_xrange ( dose_cube,bins = 1024):\n",
    "   \n",
    "    _xrange=(0,2.4)\n",
    "    _hist, x = np.histogram(dose_cube, bins=bins,range=_xrange, density=True)\n",
    "    _fhist = _hist[::-1]  # reverse histogram, so first element is for highest dose\n",
    "    _fhist = np.cumsum(_fhist)\n",
    "    _hist = _fhist[::-1]  # flip back again to normal representation\n",
    "\n",
    "    y = 100.0 * _hist / _hist[0]  # volume histograms always plot the right edge of bin, since V(D < x_pos).\n",
    "    y = np.insert(y, 0, 100.0, axis=0)  # but the leading bin edge is always at V = 100.0%\n",
    "    return(x,y)  "
   ]
  },
  {
   "cell_type": "markdown",
   "metadata": {
    "id": "mvbTrMoOOPJe"
   },
   "source": [
    "# Read data"
   ]
  },
  {
   "cell_type": "code",
   "execution_count": null,
   "metadata": {},
   "outputs": [],
   "source": [
    "with zipfile. ZipFile(\"data/pancreas_inspire.zip\",\"r\") as zip_ref:\n",
    "    zip_ref. extractall(\"tmp\")"
   ]
  },
  {
   "cell_type": "code",
   "execution_count": null,
   "metadata": {
    "colab": {
     "base_uri": "https://localhost:8080/"
    },
    "executionInfo": {
     "elapsed": 29811,
     "status": "ok",
     "timestamp": 1619441842090,
     "user": {
      "displayName": "Kinga Jeleń",
      "photoUrl": "https://lh3.googleusercontent.com/a-/AOh14Gjr72QezuwSivoe6vTPOVEEhpWXvwAsO1jS132a5w=s64",
      "userId": "09885435343859345826"
     },
     "user_tz": -120
    },
    "id": "DaPyEqehqaco",
    "outputId": "d021e368-ff6b-4458-fbd2-27e3c0ecf325"
   },
   "outputs": [],
   "source": [
    "with zipfile. ZipFile(\"data/pancreas_eclipse.zip\",\"r\") as zip_ref:\n",
    "    zip_ref. extractall(\"tmp\")"
   ]
  },
  {
   "cell_type": "code",
   "execution_count": null,
   "metadata": {
    "id": "aYZY2eXSqr_n"
   },
   "outputs": [],
   "source": [
    "fname = os.path.join('tmp','distrib_q.h5')\n",
    "q_val = pd.read_hdf(fname, 'q',columns=['q'])"
   ]
  },
  {
   "cell_type": "code",
   "execution_count": null,
   "metadata": {
    "id": "n2-yvbq69_Ch"
   },
   "outputs": [],
   "source": [
    "#ECLIPSE DVH\n",
    "#dla planu z eclipse\n",
    "dvh_eclipse_read = pd.read_csv(\"data/DVH_iCTV5580.txt\", sep=\" \",delimiter=\"\\s+\", header=None)"
   ]
  },
  {
   "cell_type": "code",
   "execution_count": null,
   "metadata": {
    "id": "sJ9Goau4Yirh"
   },
   "outputs": [],
   "source": [
    "dvh_eclipse = dvh_eclipse_read.iloc[1:-1 , 0:3]\n",
    "dvh_eclipse.reset_index(drop=True, inplace=True)\n",
    "dvh_eclipse.rename(columns={dvh_eclipse.columns[0]:\"Dose\",\n",
    "                            dvh_eclipse.columns[1]:\"Relative_Dose\",\n",
    "                            dvh_eclipse.columns[2]:\"Volume\"},\n",
    "                   inplace=True)\n",
    "dvh_eclipse=dvh_eclipse.astype('float')\n",
    "dvh_eclipse.Dose=dvh_eclipse.Dose/fraction/1.1"
   ]
  },
  {
   "cell_type": "code",
   "execution_count": null,
   "metadata": {
    "id": "Bm4BQT418KRy"
   },
   "outputs": [],
   "source": [
    "rs = \"data/RS.Patient07_Plan1.dcm\"\n",
    "rd = \"data/RD.Patient07_Plan1.dcm\""
   ]
  },
  {
   "cell_type": "code",
   "execution_count": null,
   "metadata": {
    "id": "vwSQexMmp1DL"
   },
   "outputs": [],
   "source": [
    "patient_org = 'pancreas_inspire'\n",
    "patient_mod = 'pancreas_eclipse'"
   ]
  },
  {
   "cell_type": "markdown",
   "metadata": {
    "id": "lQONoenzVPAk"
   },
   "source": [
    "# Prescribed dose and number of fractionation"
   ]
  },
  {
   "cell_type": "code",
   "execution_count": null,
   "metadata": {
    "id": "kY4gpFAju0yA"
   },
   "outputs": [],
   "source": [
    "## Choose alpha/beta ratio == 2.0 or 10.0\n",
    "\n",
    "dose_pres = 55.8 \n",
    "fraction=31.\n",
    "dose_per_fr=dose_pres/fraction\n",
    "dose_per_fr_ph= dose_per_fr/1.1\n",
    "ab=2."
   ]
  },
  {
   "cell_type": "markdown",
   "metadata": {
    "id": "DflNHRC_igmU"
   },
   "source": [
    "# Patient: Eclipse Data"
   ]
  },
  {
   "cell_type": "markdown",
   "metadata": {
    "id": "FWpmenLNzcfR"
   },
   "source": [
    "Structure: iCTV_5580\n",
    "Approval Status: Unapproved\n",
    "Plan: Plan_MG1\n",
    "Course: MG\n",
    "Volume [cm³]: 76.0\n",
    "Dose Cover.[%]: 100.0\n",
    "Sampling Cover.[%]: 100.0\n",
    "Min Dose [Gy]: 53.530\n",
    "Max Dose [Gy]: 55.705\n",
    "Mean Dose [Gy]: 55.116\n",
    "Modal Dose [Gy]: 55.161\n",
    "Median Dose [Gy]: 55.164\n",
    "STD [Gy]: 0.239\n",
    "Equiv. Sphere Diam. [cm]: 5.3\n",
    "Conformity Index: 0.00\n",
    "Gradient Measure [cm]: 4.10"
   ]
  },
  {
   "cell_type": "code",
   "execution_count": null,
   "metadata": {
    "id": "6zDPGlNU8Sep"
   },
   "outputs": [],
   "source": [
    "dp = dicomparser.DicomParser(rs)\n",
    "# i.e. Get a dict of structure information\n",
    "structures = dp.GetStructures()\n",
    "#structures"
   ]
  },
  {
   "cell_type": "code",
   "execution_count": null,
   "metadata": {
    "colab": {
     "base_uri": "https://localhost:8080/"
    },
    "executionInfo": {
     "elapsed": 30113,
     "status": "ok",
     "timestamp": 1619441842426,
     "user": {
      "displayName": "Kinga Jeleń",
      "photoUrl": "https://lh3.googleusercontent.com/a-/AOh14Gjr72QezuwSivoe6vTPOVEEhpWXvwAsO1jS132a5w=s64",
      "userId": "09885435343859345826"
     },
     "user_tz": -120
    },
    "id": "6cbmjVT--Ohy",
    "outputId": "7e31e264-4a29-4ac6-92cf-8cbfdc0e6be6"
   },
   "outputs": [],
   "source": [
    "#choose structure from DICOM\n",
    "for id, organ in structures.items():  \n",
    "    \n",
    "    for name, k in organ.items():\n",
    "      if k == 'iCTV_5580':\n",
    "        print(id)\n",
    "        structure_id=id"
   ]
  },
  {
   "cell_type": "code",
   "execution_count": null,
   "metadata": {
    "colab": {
     "base_uri": "https://localhost:8080/"
    },
    "executionInfo": {
     "elapsed": 30391,
     "status": "ok",
     "timestamp": 1619441842728,
     "user": {
      "displayName": "Kinga Jeleń",
      "photoUrl": "https://lh3.googleusercontent.com/a-/AOh14Gjr72QezuwSivoe6vTPOVEEhpWXvwAsO1jS132a5w=s64",
      "userId": "09885435343859345826"
     },
     "user_tz": -120
    },
    "id": "0oYXrvkK8g0l",
    "outputId": "ee034d90-9708-4fa2-d7bf-a1f82319b547"
   },
   "outputs": [],
   "source": [
    "# Access DVH data\n",
    "# get structure Volume\n",
    "calcdvh = dvhcalc.get_dvh(rs,rd,structure_id)\n",
    "structure_volume=calcdvh.volume\n",
    "print(\" Max dose: \",calcdvh.max,\"\\n Min dose: \", calcdvh.min,\"\\n Mean dose: \",calcdvh.mean,\"\\n Dose in 2%Volume: \", calcdvh.D99cc, \"\\n Volume[cm^3]: \",calcdvh.volume)"
   ]
  },
  {
   "cell_type": "markdown",
   "metadata": {
    "id": "9CyvyFsfqmMI"
   },
   "source": [
    "# Patient: PyTrip Data"
   ]
  },
  {
   "cell_type": "code",
   "execution_count": null,
   "metadata": {
    "colab": {
     "base_uri": "https://localhost:8080/"
    },
    "executionInfo": {
     "elapsed": 31538,
     "status": "ok",
     "timestamp": 1619441843890,
     "user": {
      "displayName": "Kinga Jeleń",
      "photoUrl": "https://lh3.googleusercontent.com/a-/AOh14Gjr72QezuwSivoe6vTPOVEEhpWXvwAsO1jS132a5w=s64",
      "userId": "09885435343859345826"
     },
     "user_tz": -120
    },
    "id": "e0qiLyHFA5Hg",
    "outputId": "73bfd6d6-814e-415b-e9c9-88d7c89c90e7"
   },
   "outputs": [],
   "source": [
    "#FIRST CASE\n",
    "#Inspire angles\n",
    "patient_name = 'inspire07pancreas'\n",
    "file_corename = os.path.join('tmp',patient_org,patient_org, patient_name)\n",
    "\n",
    "dos_cube = pt.DosCube()\n",
    "dos_cube.read(file_corename)\n",
    "dos_cube.cube = dos_cube.cube.astype(np.float64)\n",
    "dos_cube.cube /= 1000.0\n",
    "dos_cube.cube *= dose_per_fr_ph\n",
    "\n",
    "let_cube = pt.LETCube()\n",
    "let_cube.read(file_corename)\n",
    "\n",
    "ctx_cube = pt.CtxCube()\n",
    "ctx_cube.read(file_corename)\n",
    "\n",
    "vdx_cube = pt.VdxCube(ctx_cube)\n",
    "vdx_cube.read(file_corename + '.vdx')\n",
    "\n",
    "# index of point in original plan with highest dose\n",
    "imax = np.unravel_index(dos_cube.cube.argmax(), dos_cube.cube.shape)\n",
    "imax"
   ]
  },
  {
   "cell_type": "code",
   "execution_count": null,
   "metadata": {
    "id": "vsN8Id4cMH2c"
   },
   "outputs": [],
   "source": [
    "#SECOND CASE\n",
    "#CCB angles\n",
    "#difference between angles\n",
    "patient_name = 'inspire07pancreas'\n",
    "file_corename = os.path.join('tmp',patient_mod,patient_mod, patient_name)\n",
    "\n",
    "dos_cube2 = pt.DosCube()\n",
    "dos_cube2.read(file_corename)\n",
    "dos_cube2.cube = dos_cube2.cube.astype(np.float64)\n",
    "dos_cube2.cube /= 1000.0\n",
    "dos_cube2.cube *= dose_per_fr_ph\n",
    "\n",
    "let_cube2 = pt.LETCube()\n",
    "let_cube2.read(file_corename)\n",
    "\n",
    "ctx_cube2 = pt.CtxCube()\n",
    "ctx_cube2.read(file_corename)\n",
    "\n",
    "vdx_cube2 = pt.VdxCube(ctx_cube2)\n",
    "vdx_cube2.read(file_corename + '.vdx')"
   ]
  },
  {
   "cell_type": "code",
   "execution_count": null,
   "metadata": {
    "colab": {
     "base_uri": "https://localhost:8080/"
    },
    "executionInfo": {
     "elapsed": 32722,
     "status": "ok",
     "timestamp": 1619441845088,
     "user": {
      "displayName": "Kinga Jeleń",
      "photoUrl": "https://lh3.googleusercontent.com/a-/AOh14Gjr72QezuwSivoe6vTPOVEEhpWXvwAsO1jS132a5w=s64",
      "userId": "09885435343859345826"
     },
     "user_tz": -120
    },
    "id": "tTo-I4D_vFA6",
    "outputId": "eb6ed846-0525-4de9-e47e-09fd35790119"
   },
   "outputs": [],
   "source": [
    "ctx_cube.slice_pos[imax[0]]"
   ]
  },
  {
   "cell_type": "code",
   "execution_count": null,
   "metadata": {
    "colab": {
     "base_uri": "https://localhost:8080/"
    },
    "executionInfo": {
     "elapsed": 32713,
     "status": "ok",
     "timestamp": 1619441845091,
     "user": {
      "displayName": "Kinga Jeleń",
      "photoUrl": "https://lh3.googleusercontent.com/a-/AOh14Gjr72QezuwSivoe6vTPOVEEhpWXvwAsO1jS132a5w=s64",
      "userId": "09885435343859345826"
     },
     "user_tz": -120
    },
    "id": "V1uxBDwzojD9",
    "outputId": "a3c09523-25af-456c-fc3e-19ce140d54c0"
   },
   "outputs": [],
   "source": [
    "print(vdx_cube.voi_names())"
   ]
  },
  {
   "cell_type": "code",
   "execution_count": null,
   "metadata": {
    "id": "qI5PmoWWqWYH"
   },
   "outputs": [],
   "source": [
    "contour_data = vdx_cube.get_voi_by_name('iCTV_5580').get_slice_at_pos(ctx_cube.slice_pos[imax[0]]).contours[0].contour\n",
    "contour_liver = vdx_cube.get_voi_by_name('liver').get_slice_at_pos(ctx_cube.slice_pos[imax[0]]).contours[0].contour\n",
    "contour_kidney_L = vdx_cube.get_voi_by_name('kidney_L').get_slice_at_pos(ctx_cube.slice_pos[imax[0]]).contours[0].contour\n",
    "contour_kidney_R = vdx_cube.get_voi_by_name('kidney_R').get_slice_at_pos(ctx_cube.slice_pos[imax[0]]).contours[0].contour"
   ]
  },
  {
   "cell_type": "code",
   "execution_count": null,
   "metadata": {
    "colab": {
     "base_uri": "https://localhost:8080/"
    },
    "executionInfo": {
     "elapsed": 32701,
     "status": "ok",
     "timestamp": 1619441845093,
     "user": {
      "displayName": "Kinga Jeleń",
      "photoUrl": "https://lh3.googleusercontent.com/a-/AOh14Gjr72QezuwSivoe6vTPOVEEhpWXvwAsO1jS132a5w=s64",
      "userId": "09885435343859345826"
     },
     "user_tz": -120
    },
    "id": "q1AUmfnnOth-",
    "outputId": "27ff1396-4179-46d6-a15f-943b7ba436d6"
   },
   "outputs": [],
   "source": [
    "ctx_cube.yoffset"
   ]
  },
  {
   "cell_type": "code",
   "execution_count": null,
   "metadata": {
    "colab": {
     "base_uri": "https://localhost:8080/"
    },
    "executionInfo": {
     "elapsed": 32690,
     "status": "ok",
     "timestamp": 1619441845093,
     "user": {
      "displayName": "Kinga Jeleń",
      "photoUrl": "https://lh3.googleusercontent.com/a-/AOh14Gjr72QezuwSivoe6vTPOVEEhpWXvwAsO1jS132a5w=s64",
      "userId": "09885435343859345826"
     },
     "user_tz": -120
    },
    "id": "WI534ql3O_LT",
    "outputId": "72451182-0ae5-4f26-e13c-0f05322d9a44"
   },
   "outputs": [],
   "source": [
    "ctx_cube.dimy"
   ]
  },
  {
   "cell_type": "code",
   "execution_count": null,
   "metadata": {
    "colab": {
     "base_uri": "https://localhost:8080/"
    },
    "executionInfo": {
     "elapsed": 32679,
     "status": "ok",
     "timestamp": 1619441845094,
     "user": {
      "displayName": "Kinga Jeleń",
      "photoUrl": "https://lh3.googleusercontent.com/a-/AOh14Gjr72QezuwSivoe6vTPOVEEhpWXvwAsO1jS132a5w=s64",
      "userId": "09885435343859345826"
     },
     "user_tz": -120
    },
    "id": "ymn-a-vHQbB8",
    "outputId": "01eed92e-e4fd-459b-d27f-f7c978aa3321"
   },
   "outputs": [],
   "source": [
    "dos_cube.pixel_size"
   ]
  },
  {
   "cell_type": "code",
   "execution_count": null,
   "metadata": {
    "id": "xwkCEpAKqjJG"
   },
   "outputs": [],
   "source": [
    "x = [item[0] / 10. for item in contour_data]\n",
    "y = [item[1] / 10. for item in contour_data]\n",
    "x_liv = [item[0] / 10. for item in contour_liver]\n",
    "y_liv = [item[1] / 10. for item in contour_liver]\n",
    "x_kidney_L = [item[0] / 10. for item in contour_kidney_L]\n",
    "y_kidney_L = [item[1] / 10. for item in contour_kidney_L]\n",
    "x_kidney_R = [item[0] / 10. for item in contour_kidney_R]\n",
    "y_kidney_R = [item[1] / 10. for item in contour_kidney_R]"
   ]
  },
  {
   "cell_type": "code",
   "execution_count": null,
   "metadata": {
    "colab": {
     "base_uri": "https://localhost:8080/",
     "height": 534
    },
    "executionInfo": {
     "elapsed": 33824,
     "status": "ok",
     "timestamp": 1619441846254,
     "user": {
      "displayName": "Kinga Jeleń",
      "photoUrl": "https://lh3.googleusercontent.com/a-/AOh14Gjr72QezuwSivoe6vTPOVEEhpWXvwAsO1jS132a5w=s64",
      "userId": "09885435343859345826"
     },
     "user_tz": -120
    },
    "id": "pjuNZ8fjrcqi",
    "outputId": "778fdab8-bd57-4a2d-fc7f-eee2a92a55ce"
   },
   "outputs": [],
   "source": [
    "#dose in patient\n",
    "\n",
    "fig, (ax1, ax2) = plt.subplots(1,2, figsize=(22,12))\n",
    "\n",
    "pixel_mm = dos_cube.pixel_size/10.\n",
    "im1 = ax1.imshow(dos_cube.cube[imax[0],:,:], \n",
    "                 cmap=cm.jet, interpolation='none', \n",
    "                 origin=\"lower\",              #upper\n",
    "                 extent=[ctx_cube.xoffset/10,ctx_cube.xoffset/10 + ctx_cube.dimx*pixel_mm,\n",
    "                         ctx_cube.yoffset/10,ctx_cube.yoffset/10 + ctx_cube.dimy*pixel_mm])\n",
    "\n",
    "im2 = ax2.imshow(dos_cube2.cube[imax[0],:,:], \n",
    "                 cmap=cm.jet, interpolation='none', \n",
    "                 origin='lower',\n",
    "                 extent=[ctx_cube2.xoffset/10,ctx_cube2.xoffset/10 + ctx_cube2.dimx*pixel_mm,\n",
    "                         ctx_cube2.yoffset/10,ctx_cube2.yoffset/10 + ctx_cube2.dimy*pixel_mm])\n",
    "\n",
    "\n",
    "ax1.plot(x,y,c='y', label = \"CTV\")\n",
    "ax2.plot(x,y,c='y', label = \"CTV\")\n",
    "ax1.plot(x_liv,y_liv,c='g',label = \"liver\")\n",
    "ax2.plot(x_liv,y_liv,c='g',label='liver')\n",
    "ax1.plot(x_kidney_L,y_kidney_L, c='w',label = \"left kidney\")\n",
    "ax2.plot(x_kidney_L,y_kidney_L, c='w',label = \"left kidney\")\n",
    "ax1.plot(x_kidney_R,y_kidney_R, c='r',label = \"right kidney\")\n",
    "ax2.plot(x_kidney_R,y_kidney_R, c='r',label = \"right kidney\")\n",
    "\n",
    "ax1.set_xlabel('X [cm]',fontsize=15)\n",
    "ax1.set_ylabel('Y [cm]',fontsize=15)\n",
    "ax2.set_xlabel('X [cm]',fontsize=15)\n",
    "ax2.set_ylabel('Y [cm]',fontsize=15)\n",
    "\n",
    "ax1.set_title(\"pyTrip plan: INSPIRE angles\",fontsize=20)\n",
    "ax2.set_title(\"pyTrip plan: CCB angles\",fontsize=20)\n",
    "\n",
    "ax1.legend(title = \"Irradiated organs\",loc='best',fancybox=True, framealpha=0.6,prop={'size': 14}, title_fontsize=16)\n",
    "ax2.legend(title = \"Irradiated organs\",loc='best',fancybox=True, framealpha=0.6,prop={'size': 14}, title_fontsize=16)\n",
    "\n",
    "ax1.invert_yaxis()\n",
    "ax2.invert_yaxis()\n",
    "\n",
    "\n",
    "fig.colorbar(im1, ax=ax1, label =\"Dose [Gy]\", shrink = 0.5).set_label(label=\"Dose [Gy]\", size=16, labelpad=-15, y=1.1, rotation=0)\n",
    "fig.colorbar(im2, ax=ax2, label =\"Dose [Gy]\", shrink = 0.5 ).set_label(label=\"Dose [Gy]\", size=16, labelpad=-15, y=1.1, rotation=0)"
   ]
  },
  {
   "cell_type": "code",
   "execution_count": null,
   "metadata": {
    "colab": {
     "base_uri": "https://localhost:8080/",
     "height": 740
    },
    "executionInfo": {
     "elapsed": 34559,
     "status": "ok",
     "timestamp": 1619441847006,
     "user": {
      "displayName": "Kinga Jeleń",
      "photoUrl": "https://lh3.googleusercontent.com/a-/AOh14Gjr72QezuwSivoe6vTPOVEEhpWXvwAsO1jS132a5w=s64",
      "userId": "09885435343859345826"
     },
     "user_tz": -120
    },
    "id": "RNbmiaMr-yt_",
    "outputId": "0a6e6b78-a153-449f-cbef-aa6df7a2f033"
   },
   "outputs": [],
   "source": [
    "#dose in patient\n",
    "fig, (ax1) = plt.subplots(1,1, figsize=(16,12))\n",
    "pixel_mm = dos_cube.pixel_size/10.\n",
    "\n",
    "im1 = ax1.imshow(dos_cube2.cube[imax[0],:,:] - dos_cube.cube[imax[0],:,:], \n",
    "                 cmap=cm.seismic,vmin=-1.25,vmax=1.25,interpolation='none', \n",
    "                 origin=\"lower\",              #upper\n",
    "                 extent=[ctx_cube.xoffset/10,ctx_cube.xoffset/10 + ctx_cube.dimx*pixel_mm,\n",
    "                         ctx_cube.yoffset/10,ctx_cube.yoffset/10 + ctx_cube.dimy*pixel_mm])\n",
    "\n",
    "\n",
    "ax1.plot(x,y,c='r', label = \"CTV\")\n",
    "ax1.plot(x_liv,y_liv,c='g',label = \"liver\")\n",
    "ax1.plot(x_kidney_L,y_kidney_L, c='orange',label = \"left kidney\")\n",
    "ax1.plot(x_kidney_R,y_kidney_R, c='yellow',label = \"right kidney\")\n",
    "\n",
    "ax1.set_xlabel('X [cm]',fontsize=30)\n",
    "ax1.set_ylabel('Y [cm]',fontsize=30)\n",
    "ax1.set_title(\"Differences\\n\",fontsize=33)\n",
    "ax1.legend(title = \"Irradiated areas\",loc='best',fancybox=True, framealpha=0.6,prop={'size': 22}, title_fontsize=22)\n",
    "ax1.invert_yaxis()\n",
    "\n",
    "cbar= fig.colorbar(im1, ax=ax1,ticks=[-1, 0, 1], shrink = 0.5,extend='both')\n",
    "cbar.set_label(label=\"Dose [Gy]\", size=24, labelpad=-300, y=1.1, rotation=0)\n",
    "cbar.set_ticks([-1.25,-1.,0,1.,1.25])\n",
    "cbar.set_ticklabels(['-1.25','pyTrip plan (INSPIRE angles)','0', 'pyTrip plan (CCB angles)','1.25'])\n",
    "cbar.ax.tick_params(labelsize=22)"
   ]
  },
  {
   "cell_type": "code",
   "execution_count": null,
   "metadata": {
    "colab": {
     "base_uri": "https://localhost:8080/",
     "height": 654
    },
    "executionInfo": {
     "elapsed": 35540,
     "status": "ok",
     "timestamp": 1619441848001,
     "user": {
      "displayName": "Kinga Jeleń",
      "photoUrl": "https://lh3.googleusercontent.com/a-/AOh14Gjr72QezuwSivoe6vTPOVEEhpWXvwAsO1jS132a5w=s64",
      "userId": "09885435343859345826"
     },
     "user_tz": -120
    },
    "id": "RbSSA9azmzTr",
    "outputId": "cbbbcf70-10f0-4c14-fc65-07e899a0f6c2"
   },
   "outputs": [],
   "source": [
    "plt.figure(figsize=(22,10))\n",
    "\n",
    "plt.plot(let_cube.cube[imax[0],imax[1],:],'g.', linewidth=2., label = \"LET (INSPIRE angles)\")\n",
    "plt.plot(let_cube2.cube[imax[0],imax[1],:],'b.', linewidth=2., label = \"LET (CCB angles)\")\n",
    "\n",
    "plt.plot(dos_cube.cube[imax[0],imax[1],:], linewidth=2., c= 'g',label = \"pyTrip plan (INSPIRE angles)\")\n",
    "plt.plot(dos_cube2.cube[imax[0],imax[1],:], linewidth=2., c='b', label= \"pyTrip plan (CCB angles)\")\n",
    "plt.plot(dos_cube2.cube[imax[0],imax[1],:]-dos_cube.cube[imax[0],imax[1],:], linewidth=2., c='r', label= \"Difference\")    #profil dla przekroju\n",
    "\n",
    "plt.title(\"Dose\", fontsize = 30)\n",
    "plt.ylabel(\"Dose[Gy]\", fontsize = 25)\n",
    "plt.yticks(fontsize = 15)\n",
    "plt.xlabel(\"z-coordinate\", fontsize = 25)\n",
    "plt.xticks(fontsize = 15)\n",
    "plt.legend(loc = \"best\",  fontsize = 20)\n",
    "\n",
    "plt.xlim(200,350)\n",
    "plt.grid()\n",
    "plt.minorticks_on()\n",
    "plt.grid(which='minor', linestyle=':', linewidth='0.2', color='black')\n",
    "\n",
    "plt.rcParams['xtick.direction'] = 'in' \n",
    "plt.rcParams['ytick.direction'] = 'in' \n",
    "plt.rcParams['xtick.top'] = True \n",
    "plt.rcParams['ytick.right'] = True"
   ]
  },
  {
   "cell_type": "markdown",
   "metadata": {
    "id": "zgj2rsjUN_dF"
   },
   "source": [
    "## Choose target VOI "
   ]
  },
  {
   "cell_type": "code",
   "execution_count": null,
   "metadata": {
    "id": "-xyh6-t7wVEI"
   },
   "outputs": [],
   "source": [
    "#choose target VOI\n",
    "my_target_voi='iCTV_5580'\n",
    "# Select the requested VOI from the VdxCube object\n",
    "target_voi = vdx_cube.get_voi_by_name(my_target_voi)\n",
    "\n",
    "# get_voi_cube() returns a DosCube() object, where all \n",
    "#voxels inside the VOI holds the value 1000, and 0 elsewhere.\n",
    "voi_cube = target_voi.get_voi_cube()\n",
    "\n",
    "# Based on the retrieved DosCube() we calculate a three dimensional \n",
    "# mask object,  which assigns True to all voxels inside the Voi, \n",
    "# and False elsewhere.\n",
    "mask = (voi_cube.cube == 1000)"
   ]
  },
  {
   "cell_type": "markdown",
   "metadata": {
    "id": "TnF03VSkLPXP"
   },
   "source": [
    "# DVH - volume_histogram() function"
   ]
  },
  {
   "cell_type": "code",
   "execution_count": null,
   "metadata": {
    "id": "c5xxG2tiLOs2"
   },
   "outputs": [],
   "source": [
    "# static volume_histogram(data_cube, voi=None, bins=256)\n",
    "dvh = VolHist(dos_cube,voi=target_voi).volume_histogram(dos_cube.cube,voi=target_voi,bins=256)\n",
    "dvh2 = VolHist(dos_cube2,voi=target_voi).volume_histogram(dos_cube2.cube,voi=target_voi,bins=256)   #inna metoda"
   ]
  },
  {
   "cell_type": "code",
   "execution_count": null,
   "metadata": {
    "colab": {
     "base_uri": "https://localhost:8080/",
     "height": 651
    },
    "executionInfo": {
     "elapsed": 51101,
     "status": "ok",
     "timestamp": 1619441863596,
     "user": {
      "displayName": "Kinga Jeleń",
      "photoUrl": "https://lh3.googleusercontent.com/a-/AOh14Gjr72QezuwSivoe6vTPOVEEhpWXvwAsO1jS132a5w=s64",
      "userId": "09885435343859345826"
     },
     "user_tz": -120
    },
    "id": "ZC8scwY5MuJL",
    "outputId": "31fc626a-48f4-46a4-a762-06fc2fa54d12"
   },
   "outputs": [],
   "source": [
    "plt.plot(dvh[0], dvh[1], 'k:', linewidth=4, label = \"pyTrip plan (INSPIRE angles)\")\n",
    "plt.plot(dvh2[0], dvh2[1], 'b', linewidth=4, label = \"pyTrip plan (CCB angles)\")\n",
    "plt.plot(dvh_eclipse['Dose'], dvh_eclipse['Volume'], 'g-.', linewidth=4, label = \"Eclipse plan (CCB angles)\")\n",
    "\n",
    "plt.plot(dose_per_fr_ph*0.95,98,marker=\"^\", markersize = 10, c='r')\n",
    "plt.annotate((\"95%Dose\"),\n",
    "             xy=(dose_per_fr_ph*0.95,98), xycoords='data',\n",
    "             fontsize=22,\n",
    "             xytext=(-8, -33), textcoords='offset points')\n",
    "\n",
    "plt.plot(dose_per_fr_ph*1.07,2,marker=\"v\", markersize = 10, c='r')\n",
    "plt.annotate((\"107%Dose\"),\n",
    "             xy=(dose_per_fr_ph*1.07,2), xycoords='data',\n",
    "             fontsize=22,\n",
    "             xytext=(-40, 20), textcoords='offset points')\n",
    "\n",
    "#Annotate pyTrip CCB angles\n",
    "plt.scatter(dvh2[0][dvh2[1]>=98][-1],dvh2[1][dvh2[1]>=98][-1], 50, color='r')\n",
    "\n",
    "plt.annotate(r'$Dose_{98\\%}$ '+str(np.round(dvh2[0][dvh2[1]>=98][-1],2))+\"Gy\"+r'$\\geq $'+str(np.round(dose_per_fr_ph*0.95,2)),\n",
    "             xy=(dvh2[0][dvh2[1]>=98][-1],dvh2[1][dvh2[1]>=98][-1]), xycoords='data',\n",
    "             xytext=(-120, -90), textcoords='offset points', fontsize=22,\n",
    "             arrowprops=dict(arrowstyle=\"->\", connectionstyle=\"arc3,rad=.2\"))\n",
    "\n",
    "plt.scatter(dvh2[0][dvh2[1]<=2][0],dvh2[1][dvh2[1]<=2][0], 50, color='r')\n",
    "\n",
    "plt.annotate(r'$Dose_{2\\%}$ '+str(np.round(dvh2[0][dvh2[1]<=2][0],2))+\"Gy\"+r'$\\leq $'+str(np.round(dose_per_fr_ph*1.07,2)),\n",
    "             xy=(dvh2[0][dvh2[1]<=2][0],dvh2[1][dvh2[1]<=2][0]), xycoords='data',\n",
    "             xytext=(-300, +150), textcoords='offset points',fontsize=22,\n",
    "             arrowprops=dict(arrowstyle=\"->\", connectionstyle=\"arc3,rad=.2\"))\n",
    "\n",
    "\n",
    "plt.axvline(dose_per_fr_ph, label=\"Dose per fraction\")\n",
    "\n",
    "\n",
    "#Graph visualisation\n",
    "plt.title(\"Physical dose for: \"+my_target_voi+\"\\n\")\n",
    "plt.ylabel(\"Volume[%]\")\n",
    "plt.xlabel(\"\\nDose[Gy]\")\n",
    "\n",
    "plt.xlim(1.3,1.8)\n",
    "\n",
    "\n",
    "plt.legend(loc = \"best\")\n",
    "\n",
    "plot_style()"
   ]
  },
  {
   "cell_type": "markdown",
   "metadata": {
    "id": "XXFfYVExA5H2"
   },
   "source": [
    "# Biological Dose"
   ]
  },
  {
   "cell_type": "code",
   "execution_count": null,
   "metadata": {
    "id": "--e_jl6dAi9g"
   },
   "outputs": [],
   "source": [
    "#Choose alpha/beta ratio == 2.0 or 10.0\n",
    "ab=2.\n",
    "q_wed=0.434\n",
    "bins=dvh_eclipse.Dose.values"
   ]
  },
  {
   "cell_type": "code",
   "execution_count": null,
   "metadata": {
    "colab": {
     "base_uri": "https://localhost:8080/"
    },
    "executionInfo": {
     "elapsed": 52617,
     "status": "ok",
     "timestamp": 1619441865150,
     "user": {
      "displayName": "Kinga Jeleń",
      "photoUrl": "https://lh3.googleusercontent.com/a-/AOh14Gjr72QezuwSivoe6vTPOVEEhpWXvwAsO1jS132a5w=s64",
      "userId": "09885435343859345826"
     },
     "user_tz": -120
    },
    "id": "SVnnN3MEA5H5",
    "outputId": "e76a022e-45f8-4521-d0af-337eedd905ae"
   },
   "outputs": [],
   "source": [
    "wedenberg_dos_cube = biological_dose(q_wed,ab,dos_cube,let_cube)"
   ]
  },
  {
   "cell_type": "code",
   "execution_count": null,
   "metadata": {
    "colab": {
     "base_uri": "https://localhost:8080/",
     "height": 380
    },
    "executionInfo": {
     "elapsed": 53104,
     "status": "ok",
     "timestamp": 1619441865649,
     "user": {
      "displayName": "Kinga Jeleń",
      "photoUrl": "https://lh3.googleusercontent.com/a-/AOh14Gjr72QezuwSivoe6vTPOVEEhpWXvwAsO1jS132a5w=s64",
      "userId": "09885435343859345826"
     },
     "user_tz": -120
    },
    "id": "to2ZKi38wqNx",
    "outputId": "0faa83f5-de9d-495c-f191-1f9895a70888"
   },
   "outputs": [],
   "source": [
    "fig, ax = plt.subplots(figsize=(6,6))\n",
    "plt.title(\"Wedenberg - clinical dose [Gy]\")\n",
    "plt.xlabel('x-coordinates [cm]')\n",
    "plt.ylabel('y-coordinates [cm]')\n",
    "\n",
    "\n",
    "im = ax.imshow((wedenberg_dos_cube.cube[88,:,:] - 1.1*dos_cube.cube[88,:,:]), cmap=cm.jet, interpolation='none', extent=[0,dos_cube.slice_dimension*dos_cube.pixel_size/10.,0,dos_cube.slice_dimension*dos_cube.pixel_size/10.])\n",
    "\n",
    "\n",
    "fig.colorbar(im, ax=ax, label =\"Dose [Gy]\" )"
   ]
  },
  {
   "cell_type": "markdown",
   "metadata": {
    "id": "wYaS8p-oA5H-"
   },
   "source": [
    "# Calculate DVHs for distribution of parameter q"
   ]
  },
  {
   "cell_type": "code",
   "execution_count": null,
   "metadata": {
    "id": "GOGmzan7A5IB"
   },
   "outputs": [],
   "source": [
    "#Wedenberg DVH with CI : Plan 1\n",
    "dvh_wed= calculate_dvh(qval=0.434,ab=ab,dose_cube=dos_cube,let_cube=let_cube,mask=mask,target_voi=target_voi,bins=bins,dose_pres=dose_pres,fraction=dose_per_fr)\n",
    "dvh_wed01 = calculate_dvh(qval=0.366,ab=ab,dose_cube=dos_cube,let_cube=let_cube,mask=mask,target_voi=target_voi,bins=bins,dose_pres=dose_pres,fraction=dose_per_fr)\n",
    "dvh_wed09 = calculate_dvh(qval=0.513,ab=ab,dose_cube=dos_cube,let_cube=let_cube,mask=mask,target_voi=target_voi,bins=bins,dose_pres=dose_pres,fraction=dose_per_fr)"
   ]
  },
  {
   "cell_type": "code",
   "execution_count": null,
   "metadata": {
    "id": "EdLb4y91zXpJ"
   },
   "outputs": [],
   "source": [
    " #Wedenberg DVH with CI : Plan 2\n",
    "dvh2_wed = calculate_dvh(qval=0.434,ab=ab,dose_cube=dos_cube2,let_cube=let_cube2,mask=mask,target_voi=target_voi,bins=bins,dose_pres=dose_pres,fraction=dose_per_fr)\n",
    "dvh2_wed01 = calculate_dvh(qval=0.366,ab=ab,dose_cube=dos_cube2,let_cube=let_cube2,mask=mask,target_voi=target_voi,bins=bins,dose_pres=dose_pres,fraction=dose_per_fr)\n",
    "dvh2_wed09 = calculate_dvh(qval=0.513,ab=ab,dose_cube=dos_cube2,let_cube=let_cube2,mask=mask,target_voi=target_voi,bins=bins,dose_pres=dose_pres,fraction=dose_per_fr)"
   ]
  },
  {
   "cell_type": "code",
   "execution_count": null,
   "metadata": {
    "id": "KgbhqrSoA5IG"
   },
   "outputs": [],
   "source": [
    "#Clinical DVH: factor 1.1 : Plan 2\n",
    "#normalizacja -> potem do 1.8 Gy max\n",
    "dvh_clinical = VolHist.volume_histogram(dos_cube.cube,voi=target_voi,bins=256)\n",
    "dvh2_clinical = VolHist.volume_histogram(dos_cube2.cube,voi=target_voi,bins=256)"
   ]
  },
  {
   "cell_type": "code",
   "execution_count": null,
   "metadata": {
    "id": "SUNuAAjhA5IE"
   },
   "outputs": [],
   "source": [
    "#DVH for distribution of parameter q : Plan 1\n",
    "\n",
    "dvh_mean = calculate_dvh(qval=q_val.q.mean(),ab=ab,dose_cube=dos_cube,let_cube=let_cube,mask=mask,target_voi=target_voi,bins=bins,dose_pres=dose_pres,fraction=dose_per_fr)\n",
    "dvh_median = calculate_dvh(qval=q_val.q.median(),ab=ab,dose_cube=dos_cube,let_cube=let_cube,mask=mask,target_voi=target_voi,bins=bins,dose_pres=dose_pres,fraction=dose_per_fr)\n",
    "\n",
    "dvh_025 = calculate_dvh(qval=q_val.q.quantile(0.025),ab=ab,dose_cube=dos_cube,let_cube=let_cube,mask=mask,target_voi=target_voi,bins=bins,dose_pres=dose_pres,fraction=dose_per_fr)\n",
    "dvh_975 = calculate_dvh(qval=q_val.q.quantile(0.975),ab=ab,dose_cube=dos_cube,let_cube=let_cube,mask=mask,target_voi=target_voi,bins=bins,dose_pres=dose_pres,fraction=dose_per_fr)\n",
    "\n",
    "dvh_075 = calculate_dvh(qval=q_val.q.quantile(0.075),ab=ab,dose_cube=dos_cube,let_cube=let_cube,mask=mask,target_voi=target_voi,bins=bins,dose_pres=dose_pres,fraction=dose_per_fr)\n",
    "dvh_925 = calculate_dvh(qval=q_val.q.quantile(0.925),ab=ab,dose_cube=dos_cube,let_cube=let_cube,mask=mask,target_voi=target_voi,bins=bins,dose_pres=dose_pres,fraction=dose_per_fr)"
   ]
  },
  {
   "cell_type": "code",
   "execution_count": null,
   "metadata": {
    "id": "a-eOWdqoB8vv"
   },
   "outputs": [],
   "source": [
    "#DVH for distribution of parameter q : Plan 2\n",
    "\n",
    "dvh2_mean = calculate_dvh(qval=q_val.q.mean(),ab=ab,dose_cube=dos_cube2,let_cube=let_cube2,mask=mask,target_voi=target_voi,bins=bins,dose_pres=dose_pres,fraction=dose_per_fr)\n",
    "dvh2_median = calculate_dvh(qval=q_val.q.median(),ab=ab,dose_cube=dos_cube2,let_cube=let_cube2,mask=mask,target_voi=target_voi,bins=bins,dose_pres=dose_pres,fraction=dose_per_fr)\n",
    "\n",
    "dvh2_025 = calculate_dvh(qval=q_val.q.quantile(0.025),ab=ab,dose_cube=dos_cube2,let_cube=let_cube2,mask=mask,target_voi=target_voi,bins=bins,dose_pres=dose_pres,fraction=dose_per_fr)\n",
    "dvh2_975 = calculate_dvh(qval=q_val.q.quantile(0.975),ab=ab,dose_cube=dos_cube2,let_cube=let_cube2,mask=mask,target_voi=target_voi,bins=bins,dose_pres=dose_pres,fraction=dose_per_fr)\n",
    "\n",
    "dvh2_075 = calculate_dvh(qval=q_val.q.quantile(0.075),ab=ab,dose_cube=dos_cube2,let_cube=let_cube2,mask=mask,target_voi=target_voi,bins=bins,dose_pres=dose_pres,fraction=dose_per_fr)\n",
    "dvh2_925 = calculate_dvh(qval=q_val.q.quantile(0.925),ab=ab,dose_cube=dos_cube2,let_cube=let_cube2,mask=mask,target_voi=target_voi,bins=bins,dose_pres=dose_pres,fraction=dose_per_fr)"
   ]
  },
  {
   "cell_type": "markdown",
   "metadata": {
    "id": "eZG0YydWndx7"
   },
   "source": [
    "# Analyze"
   ]
  },
  {
   "cell_type": "code",
   "execution_count": null,
   "metadata": {},
   "outputs": [],
   "source": [
    "#Plan 2: Mean Value with CI\n",
    "plt.plot(dvh2_mean[0],dvh2_mean[1],'b',linewidth= 3., label= \"our work: mean\", zorder=10)\n",
    "\n",
    "plt.fill_between(dvh2_925[0],dvh2_925[1],dvh2_075[1], where=dvh2_975[0]>=dvh2_025[0], facecolor='b', alpha=0.3,label=\"our work: 85%CI\",step='mid')\n",
    "#plt.plot(dvh2_975[0],dvh2_975[1],'b.',linewidth= 1.,label= \"our work: 95%CI\",)\n",
    "#plt.plot(dvh2_025[0],dvh2_025[1],'b.',linewidth= 1.)\n",
    "\n",
    "#Plan 2: Wedenberg model with CI\n",
    "plt.plot(dvh2_wed[0],dvh2_wed[1],'r.', linewidth= 3.,label= \"Wedenberg: mean\" )\n",
    "plt.fill_between(dvh2_wed01[0],dvh2_wed01[1],dvh2_wed09[1],where=dvh2_wed09[0]>=dvh2_wed01[0], facecolor='r', alpha=0.2,label=\"Wedenberg: 95%CI\")\n",
    "#plt.plot(dvh2_wed09[0],dvh2_wed09[1],'r.', linewidth= 1.,label= \"Wedenberg: 95%CI\")\n",
    "#plt.plot(dvh2_wed01[0],dvh2_wed01[1],'r.', linewidth= 1.)\n",
    "\n",
    "#Plan 2: Clinical dose - RBE=1.1\n",
    "plt.plot(1.1*1.1* dvh2_clinical[0],dvh2_clinical[1],'k--', linewidth= 3.,label= \"Clinical Dose for RBE=1.1\" )\n",
    "\n",
    "#Plan 2: DVH from Eclipse\n",
    "plt.plot(1.1*1.1*dvh_eclipse['Dose'], dvh_eclipse['Volume'], 'g-.', linewidth=3, label = \"Eclipse Dose for RBE=1.1\")\n",
    "\n",
    "plot_style()\n",
    "\n",
    "#graph settings\n",
    "plt.title(\"DVH\\npyTrip plan (CCB angles) \\nPlan for \" + my_target_voi+\"\\n\")\n",
    "plt.ylabel(\"Volume [%]\")\n",
    "plt.xlabel(\"\\nDose [Gy(RBE)]\")\n",
    "\n",
    "plt.xlim(1.5,2.2)\n",
    "\n",
    "\n",
    "plt.axhline(50,label='Volume = 50%')\n",
    "plt.legend(loc = \"best\")"
   ]
  },
  {
   "cell_type": "code",
   "execution_count": null,
   "metadata": {
    "colab": {
     "base_uri": "https://localhost:8080/",
     "height": 51
    },
    "executionInfo": {
     "elapsed": 56885,
     "status": "ok",
     "timestamp": 1619441869582,
     "user": {
      "displayName": "Kinga Jeleń",
      "photoUrl": "https://lh3.googleusercontent.com/a-/AOh14Gjr72QezuwSivoe6vTPOVEEhpWXvwAsO1jS132a5w=s64",
      "userId": "09885435343859345826"
     },
     "user_tz": -120
    },
    "id": "8G96elgCwRLv",
    "outputId": "59c912b9-e04a-4ef7-c43d-209b59a71357"
   },
   "outputs": [],
   "source": [
    "dose_mean=dvh2_mean[0][dvh2_mean[1]>=50][-1]\n",
    "dose_975=dvh2_975[0][dvh2_975[1]>=50][-1]\n",
    "dose_025=dvh2_025[0][dvh2_025[1]>=50][-1]\n",
    "dose_925=dvh2_925[0][dvh2_925[1]>=50][-1]\n",
    "dose_075=dvh2_075[0][dvh2_075[1]>=50][-1]\n",
    "dose_w_mean=dvh2_wed[0][dvh2_wed[1]>=50][-1]\n",
    "dose_w_975=dvh2_wed09[0][dvh2_wed09[1]>=50][-1]\n",
    "dose_w_025=dvh2_wed01[0][dvh2_wed01[1]>=50][-1]\n",
    "dose_clinical=dvh2_clinical[0][dvh2_clinical[1]<=50][0]\n",
    "dose_eclipse=dvh_eclipse['Dose'][dvh_eclipse['Volume']<=50].values[-1]\n",
    "\n",
    "\n",
    "# print(dvh_wed09[1][dvh_wed09[1]>=50][-1],dvh_wed01[1][dvh_wed01[1]>=50][-1],\n",
    "#       dvh_wed[1][dvh_wed[1]>=50][-1],dvh_mean[1][dvh_mean[1]>=50][-1],\n",
    "#       dvh_975[1][dvh_975[1]>=50][-1],dvh_025[1][dvh_025[1]>=50][-1],\n",
    "#       dvh_clinical[1][dvh_clinical[1]<=50][0])"
   ]
  },
  {
   "cell_type": "code",
   "execution_count": null,
   "metadata": {
    "colab": {
     "base_uri": "https://localhost:8080/",
     "height": 735
    },
    "executionInfo": {
     "elapsed": 57823,
     "status": "ok",
     "timestamp": 1619441870522,
     "user": {
      "displayName": "Kinga Jeleń",
      "photoUrl": "https://lh3.googleusercontent.com/a-/AOh14Gjr72QezuwSivoe6vTPOVEEhpWXvwAsO1jS132a5w=s64",
      "userId": "09885435343859345826"
     },
     "user_tz": -120
    },
    "id": "YLPHFBTpySQc",
    "outputId": "b4345578-a306-4634-cbd3-1fa307289582"
   },
   "outputs": [],
   "source": [
    "plt.axvline(dose_mean, linewidth=4, c='b',label=\"our work: mean\")\n",
    "#plt.axvspan(dose_025, dose_975, alpha=0.2, color='b',label=\"our work: 95% CI\")\n",
    "plt.axvspan(dose_075, dose_925, alpha=0.3, color='blue',label=\"our work: 85% CI\")\n",
    "plt.axvline(dose_w_mean,linewidth=3, c='r',ls='dotted',label=\"Wedenberg: mean\")\n",
    "plt.axvline(1.1*1.1*dose_clinical,c='k',ls='--',linewidth=3,label=\"Clinical Dose for RBE=1.1\")\n",
    "plt.axvline(1.1*1.1*dose_eclipse,c='green',ls='-.',linewidth=3,label=\"Eclipse Dose for RBE=1.1\")\n",
    "plt.axvspan(dose_w_025, dose_w_975, alpha=0.2, color='r',label=\"Wedenberg: 95%CI\")\n",
    "\n",
    "#graph settings\n",
    "plt.title(\"pyTrip plan (CCB angles) \\nPlan for \" + my_target_voi+'\\nDose distributon in Volume=50%\\n', fontsize = 30, pad=20)\n",
    "plt.xlabel(\"\\nDose[Gy(RBE)]\")\n",
    "plt.yticks([], [])\n",
    "\n",
    "plt.xlim(1.6,2.2)\n",
    "plt.legend(loc = \"best\")\n",
    "\n",
    "plot_style()\n",
    "\n",
    "print(dose_mean/(dose_mean-dose_025))"
   ]
  },
  {
   "cell_type": "code",
   "execution_count": null,
   "metadata": {
    "colab": {
     "base_uri": "https://localhost:8080/",
     "height": 652
    },
    "executionInfo": {
     "elapsed": 58420,
     "status": "ok",
     "timestamp": 1619441871122,
     "user": {
      "displayName": "Kinga Jeleń",
      "photoUrl": "https://lh3.googleusercontent.com/a-/AOh14Gjr72QezuwSivoe6vTPOVEEhpWXvwAsO1jS132a5w=s64",
      "userId": "09885435343859345826"
     },
     "user_tz": -120
    },
    "id": "Y5Evsc1sbUGE",
    "outputId": "2fbda6e9-edb3-4463-c9b7-3cfe3cce9564"
   },
   "outputs": [],
   "source": [
    "# comparing two plans for 1 patient\n",
    "plt.plot(dvh_mean[0],dvh_mean[1],'g-',linewidth= 3., label= \"pyTrip plan (INSPIRE angles)\", zorder=10)\n",
    "plt.fill_between(dvh_925[0],dvh_925[1],dvh_075[1], where=dvh_925[0]>=dvh_075[0], facecolor='g', alpha=0.3,label=\"85% Przedział Ufności\")\n",
    "#plt.plot(dvh_975[0],dvh_975[1],'g.',linewidth= 3.)\n",
    "#plt.plot(dvh_025[0],dvh_025[1],'g.',linewidth= 3.)\n",
    "\n",
    "plt.plot(dvh2_mean[0],dvh2_mean[1],'b-', linewidth= 3., label= \"pyTrip plan (CCB angles)\", zorder=10)\n",
    "#plt.plot(dvh2_975[0],dvh2_975[1],'b.',linewidth= 3.)\n",
    "#plt.plot(dvh2_025[0],dvh2_025[1],'b.',linewidth= 3.)\n",
    "plt.fill_between(dvh2_925[0],dvh2_925[1],dvh2_075[1], where=dvh2_925[0]>=dvh2_075[0], facecolor='b', alpha=0.3,label=\"85% Przedział Ufności\")\n",
    "\n",
    "# #Plan 1: Wedenberg model with CI\n",
    "# plt.plot(dvh_wed[0],dvh_wed[1],'r.', linewidth= 3.,label= \"Wedenberg: mean\" )\n",
    "# plt.fill_between(dvh_wed01[0],dvh_wed01[1],dvh_wed09[1],where=dvh_wed09[0]>=dvh_wed01[0], facecolor='r', alpha=0.2,label=\"Wedenberg: 95%CI\")\n",
    "\n",
    "# #Plan 2: Wedenberg model with CI\n",
    "# plt.plot(dvh2_wed[0],dvh2_wed[1],'r.', linewidth= 3.,label= \"Wedenberg: mean\" )\n",
    "# plt.fill_between(dvh2_wed01[0],dvh2_wed01[1],dvh2_wed09[1],where=dvh2_wed09[0]>=dvh2_wed01[0], facecolor='r', alpha=0.2,label=\"Wedenberg: 95%CI\")\n",
    "#Plan 2: Clinical dose - RBE=1.1\n",
    "plt.plot(1.1*1.1* dvh2_clinical[0],dvh2_clinical[1],'k--', linewidth= 3.,label= \"Clinical Dose for RBE=1.1\" )\n",
    "\n",
    "plot_style()\n",
    "\n",
    "plt.xlim(1.6,2.5)\n",
    "plt.title(\"Porównanie dwóch planów dla obszaru \"+my_target_voi+\"\\n\")\n",
    "plt.ylabel(\"Objętość[%]\\n\")\n",
    "plt.xlabel(\"\\nDawka[Gy]\")\n",
    "plt.legend(loc = \"best\")\n",
    "\n"
   ]
  },
  {
   "cell_type": "markdown",
   "metadata": {
    "id": "RsNziI4pEjlP"
   },
   "source": [
    "# Założenia kliniczne"
   ]
  },
  {
   "cell_type": "markdown",
   "metadata": {
    "id": "TXw1RBPdE28Y"
   },
   "source": [
    "31!fx, SIB 50.4/55.8 to iCTV5040/iCTV5580"
   ]
  },
  {
   "cell_type": "markdown",
   "metadata": {
    "id": "spswd9kXBcj3"
   },
   "source": [
    "![image.png](data:image/png;base64,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)"
   ]
  },
  {
   "cell_type": "markdown",
   "metadata": {
    "id": "eyoEDudKQVAl"
   },
   "source": [
    "•\tDmean = Dpres\n",
    "\n",
    "•\tD98% ≥ 95% of Dpres\n",
    "\n",
    "•\tDmax < 107% of Dpres\n",
    "\n",
    "\n",
    "\n",
    "\n"
   ]
  },
  {
   "cell_type": "code",
   "execution_count": null,
   "metadata": {
    "id": "PMm9nw2eFX2p"
   },
   "outputs": [],
   "source": [
    "biol_dose_cube = pt.DosCube()\n",
    "biol_dose_cube2 = pt.DosCube()"
   ]
  },
  {
   "cell_type": "code",
   "execution_count": null,
   "metadata": {
    "id": "svhsfuxHE2qc"
   },
   "outputs": [],
   "source": [
    "biol_dose_cube.cube = rbe_wedenberg(dos_cube.cube[mask], let_cube.cube[mask], ab, q_val.q.median()) * dos_cube.cube[mask] \n",
    "biol_dose_cube2.cube = rbe_wedenberg(dos_cube2.cube[mask], let_cube2.cube[mask], ab, q_val.q.median()) * dos_cube2.cube[mask] "
   ]
  },
  {
   "cell_type": "code",
   "execution_count": null,
   "metadata": {
    "id": "IDKenesr7UvA"
   },
   "outputs": [],
   "source": [
    "biol_dose_cube.cube = biol_dose_cube.cube/biol_dose_cube.cube.max()*dose_pres\n",
    "biol_dose_cube2.cube=biol_dose_cube2.cube/biol_dose_cube2.cube.max()*dose_pres"
   ]
  },
  {
   "cell_type": "code",
   "execution_count": null,
   "metadata": {
    "colab": {
     "base_uri": "https://localhost:8080/"
    },
    "executionInfo": {
     "elapsed": 59285,
     "status": "ok",
     "timestamp": 1619441871998,
     "user": {
      "displayName": "Kinga Jeleń",
      "photoUrl": "https://lh3.googleusercontent.com/a-/AOh14Gjr72QezuwSivoe6vTPOVEEhpWXvwAsO1jS132a5w=s64",
      "userId": "09885435343859345826"
     },
     "user_tz": -120
    },
    "id": "nUhCekgAE7W1",
    "outputId": "760f3bd8-d0fa-49ba-9486-180f5105bcc6"
   },
   "outputs": [],
   "source": [
    "biol_dose_cube.cube.mean()"
   ]
  },
  {
   "cell_type": "code",
   "execution_count": null,
   "metadata": {
    "id": "Qzg1nby_TthF"
   },
   "outputs": [],
   "source": [
    "\n",
    "def checkV98_D95(doseToCheck,dose95):\n",
    "  if doseToCheck >= dose95 :\n",
    "    print(\"98% objętości otrzymało dawkę większą niż 95% dawki zalecanej\",round(doseToCheck,2),\"Gy\",\">\",round(dose95,2),\"Gy\")\n",
    "  else:\n",
    "   print(\"98% objętości NIE otrzymało odpowiedniej dawki\",round(doseToCheck,2),\"Gy\",\"<\",round(dose95,2),\"Gy\")\n",
    "\n",
    "def checkDmax (doseToCheck,dose107):\n",
    "  if doseToCheck > dose107:\n",
    "    print(\"Za wysoka dawka maksymalna\",round(doseToCheck,2),\"Gy\",\">\",round(dose107,2),\"Gy\")\n",
    "  else:\n",
    "    print(\"OK! Dawka maksymalna jest mniejsza niż 107% dawki przepisanej\",round(doseToCheck,2),\"Gy\",\"<\",round(dose107,2),\"Gy\")\n",
    "\n",
    "def checkDmean(doseToCheck,dose_pres):\n",
    "  if doseToCheck >dose_pres:\n",
    "    print(\"Za wysoka dawka średnia w całej objętości nowotworu\",round(doseToCheck,2),\"Gy\",\">\",round(dose_pres,2),\"Gy\")\n",
    "  elif doseToCheck <dose_pres:\n",
    "    print(\"Średnia dawka w nowotworze jest za mała\",round(doseToCheck,2),\"Gy\",\"<\",round(dose_pres,2),\"Gy\")\n",
    "  else :\n",
    "    print(\"OK! Średnia dawka jest równa dawce przepisanej\",round(doseToCheck,2),\"Gy\")"
   ]
  },
  {
   "cell_type": "code",
   "execution_count": null,
   "metadata": {
    "colab": {
     "base_uri": "https://localhost:8080/"
    },
    "executionInfo": {
     "elapsed": 59281,
     "status": "ok",
     "timestamp": 1619441872000,
     "user": {
      "displayName": "Kinga Jeleń",
      "photoUrl": "https://lh3.googleusercontent.com/a-/AOh14Gjr72QezuwSivoe6vTPOVEEhpWXvwAsO1jS132a5w=s64",
      "userId": "09885435343859345826"
     },
     "user_tz": -120
    },
    "id": "eG4o6NskBdEY",
    "outputId": "3c495c55-40e1-4c1e-c5dc-a18b6b493e9a"
   },
   "outputs": [],
   "source": [
    "print(\"iCTV5580\")\n",
    "print(\"Prescribe Dose =\" , round(dose_pres,2),\"Gy\" ,\" in 31fr\")\n",
    "dose107= dose_pres*1.07\n",
    "print(\"107%Dose: \", round(dose107,2)  ,\"Gy\")\n",
    "dose95=dose_pres*0.95\n",
    "print(\"95%Dose: \", round(dose95,2)  ,\"Gy\")\n",
    "\n",
    "print(\"\\nPlan 1\")\n",
    "checkV98_D95(dvh_mean[0][dvh_mean[1]>98][-1]*31.,dose95)\n",
    "checkDmean(biol_dose_cube.cube.mean(),dose_pres)\n",
    "checkDmax(biol_dose_cube.cube.max(),dose107)\n",
    "2\n",
    "print(\"\\nPlan 2\")\n",
    "checkV98_D95(dvh2_mean[0][dvh2_mean[1]>98][-1]*31.,dose95)\n",
    "checkDmean(biol_dose_cube2.cube.mean(),dose_pres)\n",
    "checkDmax(biol_dose_cube2.cube.max(),dose107)\n",
    "\n",
    "print(\"\\nWedenberg Plan 1\")\n",
    "checkV98_D95(dvh_wed[0][dvh_wed[1][dvh_wed[1]>=98].size]*31,dose95)\n",
    "checkDmean(dvh_wed[0].mean(),dose_pres)\n",
    "checkDmax(dvh_wed[0].max(),dose107)\n",
    "\n"
   ]
  },
  {
   "cell_type": "code",
   "execution_count": null,
   "metadata": {
    "id": "cT2B0pvRn48t"
   },
   "outputs": [],
   "source": []
  }
 ],
 "metadata": {
  "colab": {
   "collapsed_sections": [],
   "name": "PART 2 DVH_pancreas.ipynb",
   "provenance": [
    {
     "file_id": "1mbpA_Kry-ZiN_b41NeZL8-Wctieb6rcy",
     "timestamp": 1603099595289
    },
    {
     "file_id": "1ORV8xO6vgGbRPz6tQWmoaPE78vWR2F9l",
     "timestamp": 1601996163781
    }
   ],
   "toc_visible": true
  },
  "kernelspec": {
   "display_name": "Python 3",
   "language": "python",
   "name": "python3"
  },
  "language_info": {
   "codemirror_mode": {
    "name": "ipython",
    "version": 3
   },
   "file_extension": ".py",
   "mimetype": "text/x-python",
   "name": "python",
   "nbconvert_exporter": "python",
   "pygments_lexer": "ipython3",
   "version": "3.8.10"
  }
 },
 "nbformat": 4,
 "nbformat_minor": 1
}

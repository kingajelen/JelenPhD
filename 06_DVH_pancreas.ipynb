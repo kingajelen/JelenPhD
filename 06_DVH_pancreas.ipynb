{
 "cells": [
  {
   "cell_type": "markdown",
   "metadata": {
    "id": "S-l1uRXUOGVY"
   },
   "source": [
    "# Import libraries"
   ]
  },
  {
   "cell_type": "code",
   "execution_count": null,
   "metadata": {
    "id": "2pXdyvq1igmS"
   },
   "outputs": [],
   "source": [
    "import matplotlib.pyplot as plt\n",
    "import numpy as np\n",
    "import pandas as pd\n",
    "import os\n",
    "import pylab\n",
    "import pytrip as pt\n",
    "import copy\n",
    "import matplotlib as mpl"
   ]
  },
  {
   "cell_type": "code",
   "execution_count": null,
   "metadata": {
    "id": "eLwnWSnPFh99"
   },
   "outputs": [],
   "source": [
    "from matplotlib import colors, cm\n",
    "from numpy import ma\n",
    "from pytrip.volhist import VolHist \n",
    "from itertools import cycle\n",
    "cycol = cycle('bgrcmk')"
   ]
  },
  {
   "cell_type": "code",
   "execution_count": null,
   "metadata": {},
   "outputs": [],
   "source": [
    "style_param = {'legend.fontsize': '20',\n",
    "         'xtick.direction' : 'in',  \n",
    "         'ytick.direction' : 'in', \n",
    "         'xtick.top' : True, \n",
    "         'figure.figsize': (10,6),\n",
    "         'axes.labelsize': '26',\n",
    "         'axes.titlesize':'26',\n",
    "         'xtick.labelsize':'20',\n",
    "         'ytick.labelsize':'20',\n",
    "         'xtick.major.pad':'16',\n",
    "         'ytick.major.pad':'16'}\n",
    "    \n",
    "pylab.rcParams.update(style_param)"
   ]
  },
  {
   "cell_type": "markdown",
   "metadata": {
    "id": "UNo3qYxEOSsP"
   },
   "source": [
    "# Functions"
   ]
  },
  {
   "cell_type": "markdown",
   "metadata": {
    "id": "lQONoenzVPAk"
   },
   "source": [
    "### Prescribed dose and number of fractionation"
   ]
  },
  {
   "cell_type": "code",
   "execution_count": null,
   "metadata": {},
   "outputs": [],
   "source": [
    "## Choose alpha/beta ratio == 2.0 or 10.0\n",
    "dose_pres = 55.8 \n",
    "fraction=31.\n",
    "dose_per_fr=dose_pres/fraction\n",
    "ab=2.\n",
    "bins=256"
   ]
  },
  {
   "cell_type": "code",
   "execution_count": null,
   "metadata": {
    "id": "NCjQo1lWigmu"
   },
   "outputs": [],
   "source": [
    "def rbe_wedenberg(dose, let, abx,q):\n",
    "    \"\"\"\n",
    "    Wedenberg proton RBE model\n",
    "    input parameters may be either numpy.array or scalars\n",
    "    TODO: handle Cube() class directly\n",
    "    :params dose: physical proton dose in [Gy]\n",
    "    :params let: LETd in [keV/um] (protons only)\n",
    "    :params abx: alpha_x / beta_x [Gy]\n",
    "    :returns: RBE for the given parameters\n",
    "    :ref: http://dx.doi.org/10.3109/0284186X.2012.705892\n",
    "    \"\"\"\n",
    "\n",
    "    _apx = 1.000 + q * let / abx\n",
    "    _sbpx = 1.0\n",
    "\n",
    "    rbe = _rbe_apx(dose, _apx, _sbpx, abx)\n",
    "    return rbe"
   ]
  },
  {
   "cell_type": "code",
   "execution_count": null,
   "metadata": {
    "id": "7DkmKKLFigmv"
   },
   "outputs": [],
   "source": [
    "def _rbe_apx(dose, apx, sbpx, abx, dzero=0.0):\n",
    "    \"\"\"\n",
    "    :params dose: proton dose      [Gy]\n",
    "    :params apx: alpha_p / alpha_x [dimensionless] RBE_max = ap/ax when (dose -> 0 Gy)\n",
    "    :params sbpx: beta_p / beta_x  [dimensionless] RBE_min = sqrt(bp/bx) when (dose -> inf Gy)\n",
    "    :params abx: alpha_x / beta_x  [Gy]\n",
    "    :params dzero: what to return in case of dose is zero (which would cause division by zero)\n",
    "    \"\"\"\n",
    "\n",
    "    _rbe = 1.0 / (2.0 * dose)\n",
    "    if hasattr(_rbe, '__iter__'):\n",
    "        _rbe[_rbe == np.inf] = dzero\n",
    "    else:\n",
    "        if _rbe == np.inf:\n",
    "            return dzero\n",
    "    delta = abx * abx + 4. * abx * apx * dose + 4. * sbpx * sbpx * dose * dose\n",
    "    delta *= (delta > 0)\n",
    "    _rbe *= (np.sqrt(delta) - abx)\n",
    "    return _rbe"
   ]
  },
  {
   "cell_type": "code",
   "execution_count": null,
   "metadata": {
    "id": "l2ji9eTwA5H2"
   },
   "outputs": [],
   "source": [
    "def biological_dose (q,ab,dos_cube,let_cube):\n",
    "    result = pt.DosCube()\n",
    "    result.cube = rbe_wedenberg(dos_cube.cube, let_cube.cube, ab, q) * dos_cube.cube\n",
    "    return result"
   ]
  },
  {
   "cell_type": "code",
   "execution_count": null,
   "metadata": {
    "id": "zYc23qhwA5H-"
   },
   "outputs": [],
   "source": [
    "def calculate_dvh (qval,mask,dose_cube,let_cube, ab=ab,bins=bins,dose_pres=dose_pres,fraction=dose_per_fr):\n",
    "    \n",
    "    biol_dose= rbe_wedenberg(dose=dose_cube.cube[mask], let=let_cube.cube[mask], abx=ab, q=qval) * dose_cube.cube[mask]\n",
    "\n",
    "    _xrange = (0.0,2.4)\n",
    "    _hist, x = np.histogram((biol_dose), bins=1024, range=_xrange,density=True)\n",
    "    _fhist = _hist[::-1]  # reverse histogram, so first element is for highest dose\n",
    "    _fhist = np.cumsum(_fhist)\n",
    "    _hist = _fhist[::-1]  # flip back again to normal representation\n",
    "\n",
    "    y = 100.0 * _hist / _hist[0]  # volume histograms always plot the right edge of bin, since V(D < x_pos).\n",
    "    y = np.insert(y, 0, 100.0, axis=0)  # but the leading bin edge is always at V = 100.0%\n",
    "    return(x,y)    "
   ]
  },
  {
   "cell_type": "code",
   "execution_count": null,
   "metadata": {
    "id": "_saKqqX7YDoZ"
   },
   "outputs": [],
   "source": [
    "def plot_dvh ( dose_cube, bins ): \n",
    "\n",
    "    _hist, x = np.histogram(dose_cube, bins=bins, density=True)\n",
    "    _fhist = _hist[::-1]  # reverse histogram, so first element is for highest dose\n",
    "    _fhist = np.cumsum(_fhist)\n",
    "    _hist = _fhist[::-1]  # flip back again to normal representation\n",
    "\n",
    "    y = 100.0 * _hist / _hist[0]  # volume histograms always plot the right edge of bin, since V(D < x_pos).\n",
    "    y = np.insert(y, 0, 100.0, axis=0)  # but the leading bin edge is always at V = 100.0%\n",
    "    return(x,y)    "
   ]
  },
  {
   "cell_type": "code",
   "execution_count": null,
   "metadata": {},
   "outputs": [],
   "source": [
    "def plot_dvh_xrange ( dose_cube,bins = 1024):\n",
    "   \n",
    "    _xrange=(0,2.4)\n",
    "    _hist, x = np.histogram(dose_cube, bins=bins,range=_xrange, density=True)\n",
    "    _fhist = _hist[::-1]  # reverse histogram, so first element is for highest dose\n",
    "    _fhist = np.cumsum(_fhist)\n",
    "    _hist = _fhist[::-1]  # flip back again to normal representation\n",
    "\n",
    "    y = 100.0 * _hist / _hist[0]  # volume histograms always plot the right edge of bin, since V(D < x_pos).\n",
    "    y = np.insert(y, 0, 100.0, axis=0)  # but the leading bin edge is always at V = 100.0%\n",
    "    return(x,y)  "
   ]
  },
  {
   "cell_type": "code",
   "execution_count": null,
   "metadata": {},
   "outputs": [],
   "source": [
    "def read_DoseCube(path_patient):\n",
    "    \n",
    "#Cube with Dose in Patient\n",
    "    dos_cube = pt.DosCube()\n",
    "    dos_cube.read(path_patient)\n",
    "    dos_cube.cube = dos_cube.cube.astype(np.float64)\n",
    "    dos_cube.cube /= 1000.0\n",
    "    dos_cube.cube *= dose_per_fr/1.1\n",
    "#Cube with LET in Patient\n",
    "    let_cube = pt.LETCube()\n",
    "    let_cube.read(path_patient)\n",
    "\n",
    "    return(dos_cube,let_cube)"
   ]
  },
  {
   "cell_type": "markdown",
   "metadata": {
    "id": "mvbTrMoOOPJe"
   },
   "source": [
    "# Read data"
   ]
  },
  {
   "cell_type": "code",
   "execution_count": null,
   "metadata": {
    "id": "aYZY2eXSqr_n"
   },
   "outputs": [],
   "source": [
    "#read q-parameter data\n",
    "open_fname = os.path.join('tmp','distrib_q.h5')\n",
    "df_q = pd.read_hdf(open_fname, 'data_1') "
   ]
  },
  {
   "cell_type": "code",
   "execution_count": null,
   "metadata": {},
   "outputs": [],
   "source": [
    "#mean q value with 85% CI\n",
    "mean_Wed, std_Wed = 0.434, 0.0301\n",
    "q_W = np.random.normal(loc=mean_Wed,scale=std_Wed,size=50000)"
   ]
  },
  {
   "cell_type": "code",
   "execution_count": null,
   "metadata": {},
   "outputs": [],
   "source": [
    "mean_W, down_W, up_W=  q_W.mean(), np.quantile(q_W,0.075), np.quantile(q_W,0.925)\n",
    "mean_WB, down_WB, up_WB = df_q.q.mean(), df_q.q.quantile(0.075), df_q.q.quantile(0.925)"
   ]
  },
  {
   "cell_type": "code",
   "execution_count": null,
   "metadata": {
    "id": "vwSQexMmp1DL"
   },
   "outputs": [],
   "source": [
    "#original plan from CCB\n",
    "path_ct = os.path.join('data','patient_simulation','ct','inspire07pancreas')\n",
    "path_patient_org = os.path.join('data','patient_simulation','plan1','inspire07pancreas')\n",
    "#modyfied plan (5 degrees)\n",
    "path_patient_mod = os.path.join('data','patient_simulation','plan2','inspire07pancreas')"
   ]
  },
  {
   "cell_type": "markdown",
   "metadata": {
    "id": "9CyvyFsfqmMI"
   },
   "source": [
    "# Patient: PyTrip Data"
   ]
  },
  {
   "cell_type": "code",
   "execution_count": null,
   "metadata": {},
   "outputs": [],
   "source": [
    "#CT data for patient\n",
    "ctx_cube = pt.CtxCube()\n",
    "ctx_cube.read(path_ct)\n",
    "vdx_cube = pt.VdxCube(ctx_cube)\n",
    "vdx_cube.read(path_ct+'.vdx')"
   ]
  },
  {
   "cell_type": "code",
   "execution_count": null,
   "metadata": {
    "colab": {
     "base_uri": "https://localhost:8080/"
    },
    "executionInfo": {
     "elapsed": 31538,
     "status": "ok",
     "timestamp": 1619441843890,
     "user": {
      "displayName": "Kinga Jeleń",
      "photoUrl": "https://lh3.googleusercontent.com/a-/AOh14Gjr72QezuwSivoe6vTPOVEEhpWXvwAsO1jS132a5w=s64",
      "userId": "09885435343859345826"
     },
     "user_tz": -120
    },
    "id": "e0qiLyHFA5Hg",
    "outputId": "73bfd6d6-814e-415b-e9c9-88d7c89c90e7"
   },
   "outputs": [],
   "source": [
    "##First Oryginal Plan\n",
    "dos_cube , let_cube = read_DoseCube(path_patient_org)\n",
    "##Second Plam\n",
    "dos_cube2 , let_cube2 = read_DoseCube(path_patient_mod)"
   ]
  },
  {
   "cell_type": "code",
   "execution_count": null,
   "metadata": {},
   "outputs": [],
   "source": [
    "# index of point in original plan with highest dose\n",
    "imax = np.unravel_index(dos_cube.cube.argmax(), dos_cube.cube.shape)"
   ]
  },
  {
   "cell_type": "markdown",
   "metadata": {},
   "source": [
    "## Contour Organs"
   ]
  },
  {
   "cell_type": "code",
   "execution_count": null,
   "metadata": {
    "colab": {
     "base_uri": "https://localhost:8080/"
    },
    "executionInfo": {
     "elapsed": 32713,
     "status": "ok",
     "timestamp": 1619441845091,
     "user": {
      "displayName": "Kinga Jeleń",
      "photoUrl": "https://lh3.googleusercontent.com/a-/AOh14Gjr72QezuwSivoe6vTPOVEEhpWXvwAsO1jS132a5w=s64",
      "userId": "09885435343859345826"
     },
     "user_tz": -120
    },
    "id": "V1uxBDwzojD9",
    "outputId": "a3c09523-25af-456c-fc3e-19ce140d54c0"
   },
   "outputs": [],
   "source": [
    "print(vdx_cube.voi_names())"
   ]
  },
  {
   "cell_type": "code",
   "execution_count": null,
   "metadata": {},
   "outputs": [],
   "source": [
    "organ_names = ['kidney_L', 'kidney_R', 'liver', 'Spinalcord', 'stomach', 'iCTV_5580']\n",
    "organ_names_PL= ['lewa nerka', 'prawa nerka', 'wątroba',  'rdzeń kręgowy', 'jelita', 'CTV']\n",
    "colors_= ['aqua', 'orange', 'pink','green', 'yellow','red']"
   ]
  },
  {
   "cell_type": "code",
   "execution_count": null,
   "metadata": {},
   "outputs": [],
   "source": [
    "def contour_data_cm(organ_name):\n",
    "    # pytrip stores all contour data in [mm] units\n",
    "    pytrip_contour_data_mm = vdx_cube.get_voi_by_name(organ_name).get_slice_at_pos(ctx_cube.slice_pos[imax[0]]).contours[0].contour\n",
    "    x_contour_data_cm = [item[0] / 10. for item in pytrip_contour_data_mm]\n",
    "    y_contour_data_cm = [item[1] / 10. for item in pytrip_contour_data_mm]\n",
    "\n",
    "    return x_contour_data_cm, y_contour_data_cm"
   ]
  },
  {
   "cell_type": "code",
   "execution_count": null,
   "metadata": {},
   "outputs": [],
   "source": [
    "df_organs=pd.DataFrame()\n",
    "for organ in organ_names:\n",
    "    df_organs[organ] = contour_data_cm(organ)    "
   ]
  },
  {
   "cell_type": "markdown",
   "metadata": {},
   "source": [
    "# Visualization dose in patient for two plans"
   ]
  },
  {
   "cell_type": "code",
   "execution_count": null,
   "metadata": {},
   "outputs": [],
   "source": [
    "#Change pixels to cm\n",
    "image_extent_cm = [\n",
    "    ctx_cube.xoffset/10,ctx_cube.xoffset/10 + ctx_cube.dimx*dos_cube.pixel_size/10.,\n",
    "    ctx_cube.yoffset/10,ctx_cube.yoffset/10 + ctx_cube.dimy*dos_cube.pixel_size/10.\n",
    "    ]"
   ]
  },
  {
   "cell_type": "code",
   "execution_count": null,
   "metadata": {
    "colab": {
     "base_uri": "https://localhost:8080/",
     "height": 534
    },
    "executionInfo": {
     "elapsed": 33824,
     "status": "ok",
     "timestamp": 1619441846254,
     "user": {
      "displayName": "Kinga Jeleń",
      "photoUrl": "https://lh3.googleusercontent.com/a-/AOh14Gjr72QezuwSivoe6vTPOVEEhpWXvwAsO1jS132a5w=s64",
      "userId": "09885435343859345826"
     },
     "user_tz": -120
    },
    "id": "pjuNZ8fjrcqi",
    "outputId": "778fdab8-bd57-4a2d-fc7f-eee2a92a55ce"
   },
   "outputs": [],
   "source": [
    "fig, (ax1, ax2) = plt.subplots(2,1, figsize=(22,12))\n",
    "\n",
    "#Choose colors for dose\n",
    "cmap1 =  copy.copy(mpl.cm.get_cmap(\"jet\"))\n",
    "cmap1.set_under(\"k\", alpha=0.0) \n",
    "cmap1.set_over(\"k\", alpha=0.0)\n",
    "cmap1.set_bad(\"k\", alpha=0.0) \n",
    "\n",
    "#Plot CT\n",
    "im11=ax1.imshow(ctx_cube.cube[imax[0],:,:], cmap=plt.cm.gray, interpolation='nearest', origin=\"lower\",extent=image_extent_cm)\n",
    "im22=ax2.imshow(ctx_cube.cube[imax[0],:,:],cmap=plt.cm.gray,interpolation='nearest', origin=\"lower\",extent=image_extent_cm)\n",
    "\n",
    "#Plot Dose\n",
    "\n",
    "im1=ax1.imshow(ma.masked_where(dos_cube.cube[imax[0],:,:] <= dos_cube.cube.min(), dos_cube.cube[imax[0],:,:]),\n",
    "    cmap=cmap1,norm=colors.Normalize(vmin=0, vmax = dos_cube.cube.max() * 1.1, clip=False),\n",
    "    alpha=0.5,interpolation='nearest', origin=\"lower\", extent=image_extent_cm)\n",
    "\n",
    "im2=ax2.imshow(ma.masked_where(dos_cube2.cube[imax[0],:,:] <= dos_cube2.cube.min(), dos_cube2.cube[imax[0],:,:]),\n",
    "    cmap=cmap1,norm=colors.Normalize(vmin=0, vmax=dos_cube2.cube.max() * 1.1, clip=False),\n",
    "    alpha=0.5,interpolation='nearest',origin=\"lower\",extent=image_extent_cm)\n",
    "\n",
    "#Plot organs contours\n",
    "\n",
    "for organ,organ_PL,col in zip(df_organs.columns.values,organ_names_PL,colors_):\n",
    "    ax1.plot(df_organs[organ][0],df_organs[organ][1], c=col,label = organ_PL)\n",
    "    ax2.plot(df_organs[organ][0],df_organs[organ][1], c=col, label = organ_PL)\n",
    "\n",
    "#gantry angle\n",
    "ax1.plot([-25, 0], [-10,-25], 'w-')\n",
    "ax1.text(-25,-15, r'$240^0$',fontsize=22, color='w')\n",
    "ax1.plot([0,25], [-25,-5], 'w-')\n",
    "ax1.text(18,-11, r'$130^0$',fontsize=22, color='w')\n",
    "\n",
    "ax2.plot([-25, 0], [-13,-25], 'w-')\n",
    "ax2.text(-25,-17, r'$245^0$',fontsize=22, color='w')\n",
    "ax2.plot([0,25], [-25,-8], 'w-')\n",
    "ax2.text(18,-13, r'$125^0$',fontsize=22, color='w')\n",
    "\n",
    "\n",
    "#Plotting info\n",
    "ax1.legend(title = \"Obszary napromieniane\",loc='best',bbox_to_anchor=(1.5 , 1.5),fancybox=True, framealpha=0.6, title_fontsize=22,ncol=4)\n",
    "ax1.set_title('Plan 1', rotation='vertical',x=-0.3,y=0.5,fontsize=26)\n",
    "ax2.set_title('Plan 2', rotation='vertical',x=-0.3,y=0.5,fontsize=26)\n",
    "ax1.set_ylabel('Y [cm]',fontsize=22)\n",
    "ax2.set_xlabel('X [cm]',fontsize=22)\n",
    "ax2.set_ylabel('Y [cm]',fontsize=22)\n",
    "\n",
    "ax1.set_ylim(-37,-7)\n",
    "ax2.set_ylim(-37,-7)\n",
    "ax1.invert_yaxis()\n",
    "ax2.invert_yaxis()\n",
    "\n",
    "\n",
    "#colorbar\n",
    "fig.colorbar(im1, ax=ax1, label =\"Dawka [Gy]\", shrink = 0.9).set_label(label=\"Dawka [Gy]\", size=24, labelpad=-15, y=1.15, rotation=0)\n",
    "fig.colorbar(im2, ax=ax2, label =\"Dawka [Gy]\", shrink = 0.9 ).set_label(label=\"Dawka [Gy]\", size=24, labelpad=-15, y=1.15, rotation=0)"
   ]
  },
  {
   "cell_type": "markdown",
   "metadata": {},
   "source": [
    "# Dose and LET for Plan 1"
   ]
  },
  {
   "cell_type": "code",
   "execution_count": null,
   "metadata": {},
   "outputs": [],
   "source": [
    "fig, (ax1, ax2) = plt.subplots(2,1, figsize=(22,12))\n",
    "\n",
    "#Choose colors for dose\n",
    "cmap1 =  copy.copy(mpl.cm.get_cmap(\"jet\"))\n",
    "cmap1.set_under(\"k\", alpha=0.0) \n",
    "cmap1.set_over(\"k\", alpha=0.0)\n",
    "cmap1.set_bad(\"k\", alpha=0.0) \n",
    "\n",
    "#Plot CT\n",
    "im11=ax1.imshow(ctx_cube.cube[imax[0],:,:], cmap=plt.cm.gray, interpolation='nearest', origin=\"lower\",extent=image_extent_cm)\n",
    "im22=ax2.imshow(ctx_cube.cube[imax[0],:,:],cmap=plt.cm.gray,interpolation='nearest', origin=\"lower\",extent=image_extent_cm)\n",
    "\n",
    "#Plot Dose\n",
    "\n",
    "im1=ax1.imshow(ma.masked_where(dos_cube.cube[imax[0],:,:] <= dos_cube.cube.min(), dos_cube.cube[imax[0],:,:]),\n",
    "    cmap=cmap1,norm=colors.Normalize(vmin=0, vmax = dos_cube.cube.max() * 1.1, clip=False),\n",
    "    alpha=0.5,interpolation='nearest', origin=\"lower\", extent=image_extent_cm)\n",
    "\n",
    "im2=ax2.imshow(ma.masked_where(let_cube.cube[imax[0],:,:] <= let_cube.cube.min(), let_cube.cube[imax[0],:,:]),\n",
    "    cmap=cmap1,norm=colors.Normalize(vmin=0, vmax = let_cube.cube.max() * 1.1, clip=False),\n",
    "    alpha=0.5,interpolation='nearest', origin=\"lower\", extent=image_extent_cm)\n",
    "\n",
    "#Plot organs contours\n",
    "\n",
    "for organ,organ_PL,col in zip(df_organs.columns.values,organ_names_PL,colors_):\n",
    "\n",
    "    ax1.plot(df_organs[organ][0],df_organs[organ][1], c=col,label = organ_PL)\n",
    "    ax2.plot(df_organs[organ][0],df_organs[organ][1], c=col, label = organ_PL)\n",
    "\n",
    "#Plotting info\n",
    "ax1.legend(title = \"Obszary napromieniane\",loc='best',bbox_to_anchor=(1.5 , 1.5),fancybox=True, framealpha=0.6, title_fontsize=22,ncol=4)\n",
    "ax1.set_ylabel('Y [cm]',fontsize=22)\n",
    "ax2.set_xlabel('X [cm]',fontsize=22)\n",
    "ax2.set_ylabel('Y [cm]',fontsize=22)\n",
    "\n",
    "ax1.set_ylim(-37,-7)\n",
    "ax2.set_ylim(-37,-7)\n",
    "ax1.invert_yaxis()\n",
    "ax2.invert_yaxis()\n",
    "\n",
    "\n",
    "#colorbar\n",
    "fig.colorbar(im1, ax=ax1, label =\"Dawka [Gy]\", shrink = 0.9).set_label(label=\"Dawka [Gy]\", size=24, labelpad=-26, y=1.15, rotation=0)\n",
    "fig.colorbar(im2, ax=ax2, label =\"LET [keV/um]\", shrink = 0.9 ).set_label(label=\"LET [keV/um]\", size=24, labelpad=-15, y=1.15, rotation=0)"
   ]
  },
  {
   "cell_type": "code",
   "execution_count": null,
   "metadata": {},
   "outputs": [],
   "source": [
    "biol_dos=(rbe_wedenberg(dos_cube.cube[imax[0],:,:],let_cube.cube[imax[0],:,:],ab,mean_WB)*dos_cube.cube[imax[0],:,:])\n",
    "biol_dos_down=(rbe_wedenberg(dos_cube.cube[imax[0],:,:],let_cube.cube[imax[0],:,:],ab,down_WB)*dos_cube.cube[imax[0],:,:])\n",
    "biol_dos_up=(rbe_wedenberg(dos_cube.cube[imax[0],:,:],let_cube.cube[imax[0],:,:],ab,up_WB)*dos_cube.cube[imax[0],:,:])"
   ]
  },
  {
   "cell_type": "code",
   "execution_count": null,
   "metadata": {},
   "outputs": [],
   "source": [
    "err_dos=biol_dos_up-biol_dos"
   ]
  },
  {
   "cell_type": "code",
   "execution_count": null,
   "metadata": {},
   "outputs": [],
   "source": [
    "err_dos_percent=np.ndarray(shape=biol_dos.shape)"
   ]
  },
  {
   "cell_type": "code",
   "execution_count": null,
   "metadata": {},
   "outputs": [],
   "source": [
    "for i in range(0,512):\n",
    "    for j in range(0,512):\n",
    "        \n",
    "        if (err_dos[i][j] != 0.0):\n",
    "            err_dos_percent[i][j] = err_dos[i][j]/biol_dos[i][j]*100\n",
    "        else: \n",
    "            err_dos_percent[i][j]=0"
   ]
  },
  {
   "cell_type": "code",
   "execution_count": null,
   "metadata": {},
   "outputs": [],
   "source": [
    "fig, ax1 = plt.subplots(1,1, figsize=(22,12))\n",
    "\n",
    "#Choose colors for dose\n",
    "cmap1 =  copy.copy(mpl.cm.get_cmap(\"jet\"))\n",
    "cmap1.set_under(\"k\", alpha=0.0) \n",
    "cmap1.set_over(\"k\", alpha=0.0)\n",
    "cmap1.set_bad(\"k\", alpha=0.0) \n",
    "\n",
    "#Plot CT\n",
    "im11=ax1.imshow(ctx_cube.cube[imax[0],:,:], cmap=plt.cm.gray, interpolation='nearest', origin=\"lower\",extent=image_extent_cm)\n",
    "\n",
    "#Plot Dose\n",
    "\n",
    "im1=ax1.imshow(ma.masked_where(biol_dos <= biol_dos.min(), biol_dos),\n",
    "    cmap=cmap1,norm=colors.Normalize(vmin=0, vmax = biol_dos.max() * 1.1, clip=False),\n",
    "    alpha=0.5,interpolation='nearest', origin=\"lower\", extent=image_extent_cm)\n",
    "\n",
    "#Plot organs contours\n",
    "for organ,organ_PL,col in zip(df_organs.columns.values,organ_names_PL,colors_):\n",
    "    ax1.plot(df_organs[organ][0],df_organs[organ][1], c=col,label = organ_PL)\n",
    "\n",
    "#Plotting info\n",
    "ax1.legend(title = \"Obszary napromieniane\",loc='best',bbox_to_anchor=(0.78 , 1.2),fancybox=True, framealpha=0.6, title_fontsize=22,ncol=4)\n",
    "ax1.set_ylabel('Y [cm]',fontsize=22)\n",
    "ax1.set_ylim(-37,-7)\n",
    "ax1.invert_yaxis()\n",
    "\n",
    "#colorbar\n",
    "fig.colorbar(im1, ax=ax1, label =\"Dawka biologiczna  [Gy(RBE)]\", shrink = 0.9).set_label(label=\"Dawka [Gy]\", size=24, labelpad=-22, y=1.05, rotation=0)\n"
   ]
  },
  {
   "cell_type": "code",
   "execution_count": null,
   "metadata": {},
   "outputs": [],
   "source": [
    "fig, ax1 = plt.subplots(1,1, figsize=(22,12))\n",
    "\n",
    "#Choose colors for dose\n",
    "cmap1 =  copy.copy(mpl.cm.get_cmap(\"jet\"))\n",
    "cmap1.set_under(\"k\", alpha=0.0) \n",
    "cmap1.set_over(\"k\", alpha=0.0)\n",
    "cmap1.set_bad(\"k\", alpha=0.0) \n",
    "\n",
    "#Plot CT\n",
    "im11=ax1.imshow(ctx_cube.cube[imax[0],:,:], cmap=plt.cm.gray, interpolation='nearest', origin=\"lower\",extent=image_extent_cm)\n",
    "\n",
    "#Plot Dose\n",
    "\n",
    "im1=ax1.imshow(ma.masked_where(err_dos <= err_dos.min(), err_dos),\n",
    "    cmap=cmap1,norm=colors.Normalize(vmin=0, vmax = err_dos.max() * 1.1, clip=False),\n",
    "    alpha=0.5,interpolation='nearest', origin=\"lower\", extent=image_extent_cm)\n",
    "\n",
    "#Plot organs contours\n",
    "for organ,organ_PL,col in zip(df_organs.columns.values,organ_names_PL,colors_):\n",
    "    ax1.plot(df_organs[organ][0],df_organs[organ][1], c=col ,label = organ_PL)\n",
    "\n",
    "#Plotting info\n",
    "ax1.legend(title = \"Obszary napromieniane\",loc='best',bbox_to_anchor=(0.78, 1.2),fancybox=True, framealpha=0.6, title_fontsize=22,ncol=4)\n",
    "ax1.set_ylabel('Y [cm]',fontsize=22)\n",
    "ax1.set_ylim(-37,-7)\n",
    "ax1.invert_yaxis()\n",
    "\n",
    "#colorbar\n",
    "fig.colorbar(im1, ax=ax1, label =\"Niepewność dawki [Gy]\", shrink = 0.9).set_label(label=\"Niepewność \\ndawki [Gy]\", size=24, labelpad=-28, y=1.1, rotation=0)\n"
   ]
  },
  {
   "cell_type": "code",
   "execution_count": null,
   "metadata": {},
   "outputs": [],
   "source": [
    "fig, ax1 = plt.subplots(1,1, figsize=(22,12))\n",
    "\n",
    "#Choose colors for dose\n",
    "cmap1 =  copy.copy(mpl.cm.get_cmap(\"jet\"))\n",
    "cmap1.set_under(\"k\", alpha=0.0) \n",
    "cmap1.set_over(\"k\", alpha=0.0)\n",
    "cmap1.set_bad(\"k\", alpha=0.0) \n",
    "\n",
    "#Plot CT\n",
    "im11=ax1.imshow(ctx_cube.cube[imax[0],:,:], cmap=plt.cm.gray, interpolation='nearest', origin=\"lower\",extent=image_extent_cm)\n",
    "\n",
    "#Plot Dose\n",
    "\n",
    "im1=ax1.imshow(ma.masked_where(err_dos_percent <= err_dos_percent.min(), err_dos_percent),\n",
    "    cmap=cmap1,norm=colors.Normalize(vmin=0, vmax = err_dos_percent.max() * 1.1, clip=False),\n",
    "    alpha=0.5,interpolation='nearest', origin=\"lower\", extent=image_extent_cm)\n",
    "\n",
    "#Plot organs contours\n",
    "for organ,organ_PL,col in zip(df_organs.columns.values,organ_names_PL,colors_):\n",
    "    ax1.plot(df_organs[organ][0],df_organs[organ][1], c=col ,label = organ_PL)\n",
    "\n",
    "#Plotting info\n",
    "ax1.legend(title = \"Obszary napromieniane\",loc='best',bbox_to_anchor=(0.78, 1.2),fancybox=True, framealpha=0.6, title_fontsize=22,ncol=4)\n",
    "ax1.set_ylabel('Y [cm]',fontsize=22)\n",
    "ax1.set_ylim(-37,-7)\n",
    "ax1.invert_yaxis()\n",
    "\n",
    "#colorbar\n",
    "fig.colorbar(im1, ax=ax1, label =\"Niepewność dawki [%]\", shrink = 0.9).set_label(label=\"Niepewność \\ndawki [%]\", size=24, labelpad=-78, y=1.15, rotation=0)\n"
   ]
  },
  {
   "cell_type": "markdown",
   "metadata": {},
   "source": [
    "# Uncetainties RBE for Wedenberg and Wedenberg B X-axis\n"
   ]
  },
  {
   "cell_type": "code",
   "execution_count": null,
   "metadata": {},
   "outputs": [],
   "source": [
    "x_cm = np.linspace(start = ctx_cube.xoffset/10, stop=ctx_cube.xoffset/10 + ctx_cube.dimx*dos_cube.pixel_size/10., num = ctx_cube.dimx)"
   ]
  },
  {
   "cell_type": "code",
   "execution_count": null,
   "metadata": {},
   "outputs": [],
   "source": [
    "y_cm = np.linspace(start = ctx_cube.yoffset/10, stop=ctx_cube.yoffset/10 + ctx_cube.dimy*dos_cube.pixel_size/10., num = ctx_cube.dimy)"
   ]
  },
  {
   "cell_type": "code",
   "execution_count": null,
   "metadata": {},
   "outputs": [],
   "source": [
    "def biological_dose(mean, quantile_down, quantile_up):\n",
    "\n",
    "    #Uncetainties of biological dose for Wedenberg for model\n",
    "    dose,let=dos_cube.cube[imax[0],imax[1],:],let_cube.cube[imax[0],imax[1],:]\n",
    "\n",
    "    biol_dose=rbe_wedenberg(dose,let,ab,mean)*dose\n",
    "    biol_dose_down=rbe_wedenberg(dose,let,ab,quantile_down)*dose\n",
    "    biol_dose_up=rbe_wedenberg(dose,let,ab,quantile_up)*dose\n",
    "            \n",
    "    return biol_dose,biol_dose_down,biol_dose_up"
   ]
  },
  {
   "cell_type": "code",
   "execution_count": null,
   "metadata": {},
   "outputs": [],
   "source": [
    "def rbe(mean, quantile_down, quantile_up):\n",
    "\n",
    "    #Uncetainties of rbe for Wedenberg for model\n",
    "    dose,let=dos_cube.cube[imax[0],imax[1],:],let_cube.cube[imax[0],imax[1],:]\n",
    "\n",
    "    rbe=rbe_wedenberg(dose,let,ab,mean)\n",
    "    rbe_down=rbe_wedenberg(dose,let,ab,quantile_down)\n",
    "    rbe_up=rbe_wedenberg(dose,let,ab,quantile_up)\n",
    "            \n",
    "    return rbe,rbe_down,rbe_up"
   ]
  },
  {
   "cell_type": "code",
   "execution_count": null,
   "metadata": {},
   "outputs": [],
   "source": [
    "#Uncetainties of biological dose for Wedenberg for model\n",
    "biol_dose_W,biol_dose_down_W,biol_dose_up_W = biological_dose(mean_W, down_W,  up_W)\n",
    "#Uncetainties of biological dose for Wedenberg B for model\n",
    "biol_dose_WB,biol_dose_down_WB,biol_dose_up_WB = biological_dose(mean_WB, down_WB, up_WB)"
   ]
  },
  {
   "cell_type": "code",
   "execution_count": null,
   "metadata": {},
   "outputs": [],
   "source": [
    "#Uncetainties of rbe for Wedenberg for model\n",
    "rbe_W,biol_rbe_down_W,rbe_up_W = rbe(mean_W, down_W,  up_W)\n",
    "#Uncetainties of rbefor Wedenberg B for model\n",
    "rbe_WB,rbe_down_WB,rbe_up_WB = rbe(mean_WB, down_WB, up_WB)"
   ]
  },
  {
   "cell_type": "code",
   "execution_count": null,
   "metadata": {},
   "outputs": [],
   "source": [
    "#Biological Dose \n",
    "plt.figure(figsize=(22,10))\n",
    "\n",
    "plt.plot(x_cm, biol_dose_W,'r', linewidth=2., label = \"model\\nWedenberg\")\n",
    "plt.plot(x_cm, biol_dose_up_W,'r.', linewidth=2.)\n",
    "plt.plot(x_cm, biol_dose_down_WB,'r.', linewidth=2.)\n",
    "\n",
    "plt.plot(x_cm,biol_dose_WB,'g', linewidth=2., label = \"poszerzony model\\nWedenberg B\")\n",
    "plt.plot(x_cm,biol_dose_up_WB,'g.', linewidth=2.)\n",
    "plt.plot(x_cm,biol_dose_down_WB,'g.', linewidth=2.)\n",
    "\n",
    "#CTV area \n",
    "#axvspan\n",
    "plt.axvspan(min(df_organs['iCTV_5580'][0]),max(df_organs['iCTV_5580'][0]), color='gray', alpha=0.3)\n",
    "plt.text(2, 1, 'CTV', horizontalalignment='center',verticalalignment='center',size=26)\n",
    "\n",
    "plt.ylabel(\"Dawka biologiczna [Gy(RBE)]\\n\", fontsize = 34)\n",
    "plt.xlabel(\"\\nPołożenie na osi X [cm]\", fontsize = 34)\n",
    "plt.legend(loc = \"upper right\",  fontsize = 28)\n",
    "\n",
    "plt.yticks(fontsize = 28)\n",
    "plt.xticks(fontsize = 28)\n",
    "\n",
    "plt.xlim(-5,10)\n",
    "plt.ylim(0,2.5)\n",
    "plt.grid()\n",
    "plt.minorticks_on()\n",
    "plt.grid(which='minor', linestyle=':', linewidth='0.2', color='black')\n",
    "\n",
    "plt.rcParams['xtick.direction'] = 'in' \n",
    "plt.rcParams['ytick.direction'] = 'in' \n",
    "plt.rcParams['xtick.top'] = True \n",
    "plt.rcParams['ytick.right'] = True"
   ]
  },
  {
   "cell_type": "code",
   "execution_count": null,
   "metadata": {},
   "outputs": [],
   "source": [
    "#Biological Dose \n",
    "plt.figure(figsize=(22,10))\n",
    "\n",
    "plt.plot(x_cm, rbe_W,'r', linewidth=2., label = \"model\\nWedenberg\")\n",
    "plt.plot(x_cm, rbe_up_W,'r.', linewidth=2.)\n",
    "plt.plot(x_cm, rbe_down_WB,'r.', linewidth=2.)\n",
    "\n",
    "plt.plot(x_cm,rbe_WB,'g', linewidth=2., label = \"poszerzony model\\nWedenberg B\")\n",
    "plt.plot(x_cm,rbe_up_WB,'g.', linewidth=2.)\n",
    "plt.plot(x_cm,rbe_down_WB,'g.', linewidth=2.)\n",
    "\n",
    "#CTV area \n",
    "#axvspan\n",
    "plt.axvspan(min(df_organs['iCTV_5580'][0]),max(df_organs['iCTV_5580'][0]), color='gray', alpha=0.3)\n",
    "plt.text(2, 1, 'CTV', horizontalalignment='center',verticalalignment='center',size=26)\n",
    "\n",
    "plt.ylabel(\"RBE [-]\\n\", fontsize = 34)\n",
    "plt.xlabel(\"\\nPołożenie na osi X [cm]\", fontsize = 34)\n",
    "plt.legend(loc = \"upper left\",  fontsize = 28)\n",
    "\n",
    "plt.yticks(fontsize = 28)\n",
    "plt.xticks(fontsize = 28)\n",
    "\n",
    "plt.xlim(-5,10)\n",
    "plt.ylim(0,5)\n",
    "plt.grid()\n",
    "plt.minorticks_on()\n",
    "plt.grid(which='minor', linestyle=':', linewidth='0.2', color='black')\n",
    "\n",
    "plt.rcParams['xtick.direction'] = 'in' \n",
    "plt.rcParams['ytick.direction'] = 'in' \n",
    "plt.rcParams['xtick.top'] = True \n",
    "plt.rcParams['ytick.right'] = True"
   ]
  },
  {
   "cell_type": "code",
   "execution_count": null,
   "metadata": {},
   "outputs": [],
   "source": [
    "rbe_WB.mean(),rbe_W.mean(),rbe_W.mean()-rbe_WB.mean(),(rbe_W.mean()-rbe_WB.mean())/rbe_WB.mean()*100"
   ]
  },
  {
   "cell_type": "code",
   "execution_count": null,
   "metadata": {},
   "outputs": [],
   "source": [
    "def uncertainty_of_dose(mean_dose, up_dose):\n",
    "    uncertainty=np.zeros(mean_dose.size)\n",
    "    \n",
    "    for i in range(0,mean_dose.size):   \n",
    "        if mean_dose[i] !=0:\n",
    "            uncertainty[i] = ( up_dose[i]-mean_dose[i]) / mean_dose[i]*100\n",
    "        else :\n",
    "            uncertainty[i]=0\n",
    "    return uncertainty"
   ]
  },
  {
   "cell_type": "code",
   "execution_count": null,
   "metadata": {},
   "outputs": [],
   "source": [
    "y_uncertainty_W = uncertainty_of_dose(np.array(biol_dose_W),np.array(biol_dose_up_W))\n",
    "y_uncertainty_WB = uncertainty_of_dose(np.array(biol_dose_WB),np.array(biol_dose_up_WB))"
   ]
  },
  {
   "cell_type": "code",
   "execution_count": null,
   "metadata": {},
   "outputs": [],
   "source": [
    "#Uncetainties RBE for Wedenberg model\n",
    "fig,ax = plt.subplots(figsize=[22,10])\n",
    "\n",
    "ax2=ax.twinx()\n",
    "ax.plot(x_cm,y_uncertainty_W ,'r', linewidth=2., label = \"model\\nWedenberg\")\n",
    "ax.plot(x_cm,y_uncertainty_WB,'g', linewidth=2., label = \"poszerzony model\\nWedenberg B\")\n",
    "#ax.plot(x_cm,y_uncertainty_WB_v2,'b', linewidth=2., label = \"poszerzony model\\nWedenberg B v2\")\n",
    "\n",
    "ax2.plot(x_cm, let_cube.cube[imax[0],imax[1],:], label='LET')\n",
    "\n",
    "ax.axvspan(min(df_organs['iCTV_5580'][0]),max(df_organs['iCTV_5580'][0]), color='gray', alpha=0.3)\n",
    "ax.text(2, 1, 'CTV', horizontalalignment='center',verticalalignment='center',size=34)\n",
    "\n",
    "ax.set_ylabel(\"Niepewność RBE [%]\\n\", fontsize = 34)\n",
    "ax.set_xlabel(\"\\nPołożenie na osi X [cm]\", fontsize = 34)\n",
    "ax2.set_ylabel(\"\\nLET \"+r\"$\\;[keV \\cdot \\mu m^{-1}]$\",size=34,rotation=90)\n",
    "\n",
    "ax.set_xlim(-5,10)\n",
    "ax.set_ylim(0,12)\n",
    "\n",
    "ax.grid()\n",
    "ax.minorticks_on()\n",
    "ax.grid(which='minor', linestyle=':', linewidth='0.2', color='k')\n",
    "ax.tick_params(axis='both', which='major', labelsize=28)\n",
    "ax2.tick_params(axis='both', which='major', labelsize=28)\n",
    "\n",
    "\n",
    "ax.legend(loc=\"center\",bbox_to_anchor=(0.45, 0.75), borderaxespad=0.,fontsize=28)\n",
    "ax2.legend(loc=\"center\",bbox_to_anchor=(0.88, 0.95), borderaxespad=0.,fontsize=28)"
   ]
  },
  {
   "cell_type": "markdown",
   "metadata": {},
   "source": [
    "# Uncetainties RBE for Wedenberg and Wedenberg B Y-axis"
   ]
  },
  {
   "cell_type": "code",
   "execution_count": null,
   "metadata": {},
   "outputs": [],
   "source": [
    "def y_biological_dose(mean, quantile_down, quantile_up):\n",
    "\n",
    "    #Uncetainties of biological dose for Wedenberg for model\n",
    "    dose,let=dos_cube.cube[imax[0],:,imax[2]],let_cube.cube[imax[0],:,imax[2]]\n",
    "\n",
    "    biol_dose=rbe_wedenberg(dose,let,ab,mean)*dose\n",
    "    biol_dose_down=rbe_wedenberg(dose,let,ab,quantile_down)*dose\n",
    "    biol_dose_up=rbe_wedenberg(dose,let,ab,quantile_up)*dose\n",
    "            \n",
    "    return biol_dose,biol_dose_down,biol_dose_up"
   ]
  },
  {
   "cell_type": "code",
   "execution_count": null,
   "metadata": {},
   "outputs": [],
   "source": [
    "def y_rbe(mean, quantile_down, quantile_up):\n",
    "\n",
    "    #Uncetainties of rbe for Wedenberg for model\n",
    "    dose,let=dos_cube.cube[imax[0],:,imax[2]],let_cube.cube[imax[0],:,imax[2]]\n",
    "\n",
    "    rbe=rbe_wedenberg(dose,let,ab,mean)\n",
    "    rbe_down=rbe_wedenberg(dose,let,ab,quantile_down)\n",
    "    rbe_up=rbe_wedenberg(dose,let,ab,quantile_up)\n",
    "            \n",
    "    return rbe,rbe_down,rbe_up"
   ]
  },
  {
   "cell_type": "code",
   "execution_count": null,
   "metadata": {},
   "outputs": [],
   "source": [
    "#Uncetainties of biological dose for Wedenberg for model\n",
    "y_biol_dose_W, y_biol_dose_up_W, y_biol_dose_down_W = y_biological_dose(mean_W, down_W,  up_W)\n",
    "#Uncetainties of biological dose for Wedenberg B for model\n",
    "y_biol_dose_WB, y_biol_dose_up_WB, y_biol_dose_down_WB = y_biological_dose(mean_WB,down_WB,up_WB)"
   ]
  },
  {
   "cell_type": "code",
   "execution_count": null,
   "metadata": {},
   "outputs": [],
   "source": [
    "#Uncetainties of rbe for Wedenberg for model\n",
    "y_rbe_W,y_biol_rbe_down_W,y_rbe_up_W = y_rbe(mean_W, down_W,  up_W)\n",
    "#Uncetainties of rbefor Wedenberg B for model\n",
    "y_rbe_WB,y_rbe_down_WB,y_rbe_up_WB = y_rbe(mean_WB, down_WB, up_WB)"
   ]
  },
  {
   "cell_type": "code",
   "execution_count": null,
   "metadata": {},
   "outputs": [],
   "source": [
    "#Biological Dose for Wedenberg model\n",
    "plt.figure(figsize=(22,10))\n",
    "\n",
    "plt.plot(y_cm, y_biol_dose_W,'r', linewidth=2., label = \"model\\nWedenberg\")\n",
    "plt.plot(y_cm, y_biol_dose_up_W,'r.', linewidth=2.)\n",
    "plt.plot(y_cm, y_biol_dose_down_W,'r.', linewidth=2.)\n",
    "\n",
    "plt.plot(y_cm, y_biol_dose_WB,'g', linewidth=2., label = \"poszerzony model\\nWedenberg B\")\n",
    "plt.plot(y_cm, y_biol_dose_up_WB,'g.', linewidth=2.)\n",
    "plt.plot(y_cm, y_biol_dose_down_WB,'g.', linewidth=2.)\n",
    "\n",
    "plt.axvspan(min(df_organs['iCTV_5580'][1]),max(df_organs['iCTV_5580'][1]), color='gray', alpha=0.3)\n",
    "plt.text(-25, 1, 'CTV', horizontalalignment='center',verticalalignment='center',size=34)\n",
    "\n",
    "plt.ylabel(\"Dawka biologiczna [Gy(RBE)]\\n\", fontsize = 34)\n",
    "plt.xlabel(\"\\nPołożenie na osi Y [cm]\", fontsize = 34)\n",
    "plt.legend(loc = \"best\",  fontsize = 28)\n",
    "\n",
    "plt.yticks(fontsize = 28)\n",
    "plt.xticks(fontsize = 28)\n",
    "\n",
    "plt.xlim(-30,-16)\n",
    "plt.ylim(0,2.5)\n",
    "plt.grid()\n",
    "plt.minorticks_on()\n",
    "plt.grid(which='minor', linestyle=':', linewidth='0.2', color='black')\n",
    "\n",
    "plt.rcParams['xtick.direction'] = 'in' \n",
    "plt.rcParams['ytick.direction'] = 'in' \n",
    "plt.rcParams['xtick.top'] = True \n",
    "plt.rcParams['ytick.right'] = True"
   ]
  },
  {
   "cell_type": "code",
   "execution_count": null,
   "metadata": {},
   "outputs": [],
   "source": [
    "#Biological Dose \n",
    "plt.figure(figsize=(22,10))\n",
    "\n",
    "plt.plot(y_cm, y_rbe_W,'r', linewidth=2., label = \"model\\nWedenberg\")\n",
    "plt.plot(y_cm, y_rbe_up_W,'r.', linewidth=2.)\n",
    "plt.plot(y_cm, y_rbe_down_WB,'r.', linewidth=2.)\n",
    "\n",
    "plt.plot(y_cm,y_rbe_WB,'g', linewidth=2., label = \"poszerzony model\\nWedenberg B\")\n",
    "plt.plot(y_cm,y_rbe_up_WB,'g.', linewidth=2.)\n",
    "plt.plot(y_cm,y_rbe_down_WB,'g.', linewidth=2.)\n",
    "\n",
    "#CTV area \n",
    "#axvspan\n",
    "plt.axvspan(min(df_organs['iCTV_5580'][1]),max(df_organs['iCTV_5580'][1]), color='gray', alpha=0.3)\n",
    "plt.text(-25, 1, 'CTV', horizontalalignment='center',verticalalignment='center',size=34)\n",
    "\n",
    "plt.ylabel(\"RBE [-]\\n\", fontsize = 34)\n",
    "plt.xlabel(\"\\nPołożenie na osi X [cm]\", fontsize = 34)\n",
    "plt.legend(loc = \"upper right\",  fontsize = 28)\n",
    "\n",
    "plt.yticks(fontsize = 28)\n",
    "plt.xticks(fontsize = 28)\n",
    "plt.xlim(-30,-16)\n",
    "plt.ylim(0,5)\n",
    "\n",
    "plt.grid()\n",
    "plt.minorticks_on()\n",
    "plt.grid(which='minor', linestyle=':', linewidth='0.2', color='black')\n",
    "\n",
    "plt.rcParams['xtick.direction'] = 'in' \n",
    "plt.rcParams['ytick.direction'] = 'in' \n",
    "plt.rcParams['xtick.top'] = True \n",
    "plt.rcParams['ytick.right'] = True"
   ]
  },
  {
   "cell_type": "code",
   "execution_count": null,
   "metadata": {},
   "outputs": [],
   "source": [
    "y_uncertainty_W = uncertainty_of_dose(np.array(y_biol_dose_W),np.array(y_biol_dose_up_W))\n",
    "y_uncertainty_WB = uncertainty_of_dose(np.array(y_biol_dose_WB),np.array(y_biol_dose_up_WB))"
   ]
  },
  {
   "cell_type": "code",
   "execution_count": null,
   "metadata": {},
   "outputs": [],
   "source": [
    "#Uncetainties RBE for Wedenberg model\n",
    "fig,ax = plt.subplots(figsize=[22,10])\n",
    "\n",
    "ax2=ax.twinx()\n",
    "ax.plot(y_cm,y_uncertainty_W ,'r', linewidth=2., label = \"model\\nWedenberg\")\n",
    "ax.plot(y_cm,y_uncertainty_WB,'g', linewidth=2., label = \"poszerzony model\\nWedenberg B\")\n",
    "ax2.plot(y_cm, let_cube.cube[imax[0],:,imax[2]], label='LET')\n",
    "\n",
    "ax.axvspan(min(df_organs['iCTV_5580'][1]),max(df_organs['iCTV_5580'][1]), color='gray', alpha=0.3)\n",
    "ax.text(-26, 1, 'CTV', horizontalalignment='center',verticalalignment='center',size=34)\n",
    "\n",
    "ax.set_ylabel(\"Niepewność RBE [%]\\n\", fontsize = 34)\n",
    "ax.set_xlabel(\"\\nPołożenie na osi Y [cm]\", fontsize = 34)\n",
    "ax2.set_ylabel(\"\\nLET \"+r\"$\\;[keV \\cdot \\mu m^{-1}]$\",size=34,rotation=90)\n",
    "\n",
    "ax.set_xlim(-30,-16)\n",
    "ax.set_ylim(0,8)\n",
    "ax2.set_ylim(0,16)\n",
    "\n",
    "ax.grid()\n",
    "ax.minorticks_on()\n",
    "ax.grid(which='minor', linestyle=':', linewidth='0.2', color='k')\n",
    "ax.tick_params(axis='both', which='major', labelsize=28)\n",
    "\n",
    "ax.legend(loc=\"center\",bbox_to_anchor=(0.68, 0.84), borderaxespad=0.,fontsize=28)\n",
    "ax2.legend(loc=\"center\",bbox_to_anchor=(0.92, 0.93), borderaxespad=0.,fontsize=28)"
   ]
  },
  {
   "cell_type": "markdown",
   "metadata": {
    "id": "TnF03VSkLPXP"
   },
   "source": [
    "# DVH - volume_histogram() function"
   ]
  },
  {
   "cell_type": "code",
   "execution_count": null,
   "metadata": {
    "id": "KgbhqrSoA5IG"
   },
   "outputs": [],
   "source": [
    "#Clinical model: factor 1.1 : Plan 1 i 2\n",
    "#normalization for 1.8 Gy \n",
    "dvh_clinical = VolHist.volume_histogram(dos_cube.cube,voi=vdx_cube.get_voi_by_name('iCTV_5580'),bins=256)\n",
    "dvh2_clinical = VolHist.volume_histogram(dos_cube2.cube,voi=vdx_cube.get_voi_by_name('iCTV_5580'),bins=256)"
   ]
  },
  {
   "cell_type": "code",
   "execution_count": null,
   "metadata": {
    "id": "c5xxG2tiLOs2"
   },
   "outputs": [],
   "source": [
    "# static volume_histogram(data_cube, voi=None, bins=256)\n",
    "dvh = VolHist(dos_cube,voi=vdx_cube.get_voi_by_name('iCTV_5580')).volume_histogram(dos_cube.cube,voi=vdx_cube.get_voi_by_name('iCTV_5580'),bins=256)\n",
    "dvh2 = VolHist(dos_cube2,voi=vdx_cube.get_voi_by_name('iCTV_5580')).volume_histogram(dos_cube2.cube,voi=vdx_cube.get_voi_by_name('iCTV_5580'),bins=256)   #inna metoda"
   ]
  },
  {
   "cell_type": "markdown",
   "metadata": {
    "id": "XXFfYVExA5H2"
   },
   "source": [
    "# Biological Dose"
   ]
  },
  {
   "cell_type": "code",
   "execution_count": null,
   "metadata": {},
   "outputs": [],
   "source": [
    "#choose only organs which are next to CTV"
   ]
  },
  {
   "cell_type": "code",
   "execution_count": null,
   "metadata": {},
   "outputs": [],
   "source": [
    "organ_names = 'liver', 'duodenum', 'stomach', 'iCTV_5580'\n",
    "organ_names_PL = 'wątroba', 'dwunastnica','jelita','CTV'\n",
    "colors2_ = 'royalblue', 'olive', 'purple','green'\n",
    "colors3_ = 'slategray', 'lime', 'turquoise','red'"
   ]
  },
  {
   "cell_type": "code",
   "execution_count": null,
   "metadata": {
    "id": "SUNuAAjhA5IE"
   },
   "outputs": [],
   "source": [
    "dvh_wedB = dict()\n",
    "dvh_wedB[\"Plan1\"] = dict()\n",
    "dvh_wedB[\"Plan2\"] = dict()\n",
    "\n",
    "for organ in organ_names:\n",
    "    target_voi = vdx_cube.get_voi_by_name(organ)\n",
    "    voi_cube = target_voi.get_voi_cube()\n",
    "    mask = (voi_cube.cube == 1000)\n",
    "    \n",
    "    dvh_wedB[\"Plan1\"][organ] = dict()\n",
    "    dvh_wedB[\"Plan1\"][organ][\"mean\"] = calculate_dvh(qval=mean_WB,mask=mask,dose_cube=dos_cube,let_cube=let_cube)\n",
    "    dvh_wedB[\"Plan1\"][organ][\"down\"] = calculate_dvh(qval=down_WB,mask=mask,dose_cube=dos_cube,let_cube=let_cube)\n",
    "    dvh_wedB[\"Plan1\"][organ][\"up\"] = calculate_dvh(qval=up_WB,mask=mask,dose_cube=dos_cube,let_cube=let_cube)\n",
    "    \n",
    "    dvh_wedB[\"Plan2\"][organ] = dict()\n",
    "    dvh_wedB[\"Plan2\"][organ][\"mean\"] = calculate_dvh(qval=mean_WB,mask=mask,dose_cube=dos_cube2,let_cube=let_cube2)\n",
    "    dvh_wedB[\"Plan2\"][organ][\"down\"] = calculate_dvh(qval=down_WB,mask=mask,dose_cube=dos_cube2,let_cube=let_cube2)\n",
    "    dvh_wedB[\"Plan2\"][organ][\"up\"] = calculate_dvh(qval=up_WB,mask=mask,dose_cube=dos_cube2,let_cube=let_cube2)"
   ]
  },
  {
   "cell_type": "code",
   "execution_count": null,
   "metadata": {},
   "outputs": [],
   "source": [
    "dvh_wed = dict()\n",
    "dvh_wed[\"Plan1\"] = dict()\n",
    "dvh_wed[\"Plan2\"] = dict()\n",
    "\n",
    "for organ in organ_names:\n",
    "    \n",
    "    target_voi = vdx_cube.get_voi_by_name(organ)\n",
    "    voi_cube = target_voi.get_voi_cube()\n",
    "    mask = (voi_cube.cube == 1000)\n",
    "    \n",
    "    dvh_wed[\"Plan1\"][organ] = dict()\n",
    "    dvh_wed[\"Plan1\"][organ][\"mean\"] = calculate_dvh(qval=mean_W,mask=mask,dose_cube=dos_cube,let_cube=let_cube)\n",
    "    dvh_wed[\"Plan1\"][organ][\"down\"] =calculate_dvh(qval=down_W,mask=mask,dose_cube=dos_cube,let_cube=let_cube)\n",
    "    dvh_wed[\"Plan1\"][organ][\"up\"] = calculate_dvh(qval=up_W,mask=mask,dose_cube=dos_cube,let_cube=let_cube)\n",
    "    \n",
    "    dvh_wed[\"Plan2\"][organ] = dict()\n",
    "    dvh_wed[\"Plan2\"][organ][\"mean\"] = calculate_dvh(qval=mean_W,mask=mask,dose_cube=dos_cube2,let_cube=let_cube2)\n",
    "    dvh_wed[\"Plan2\"][organ][\"down\"] =calculate_dvh(qval=down_W,mask=mask,dose_cube=dos_cube2,let_cube=let_cube2)\n",
    "    dvh_wed[\"Plan2\"][organ][\"up\"] = calculate_dvh(qval=up_W,mask=mask,dose_cube=dos_cube2,let_cube=let_cube2)\n",
    "   "
   ]
  },
  {
   "cell_type": "code",
   "execution_count": null,
   "metadata": {},
   "outputs": [],
   "source": [
    "#Plan 1 for Wedenberg and Wedenberg B models\n",
    "fig,ax = plt.subplots(figsize=[22,10])\n",
    "ax2=ax.twinx()\n",
    "\n",
    "##Plan 1\n",
    "for organ,organ_PL,col,col2 in zip(organ_names,organ_names_PL,colors2_,colors3_):\n",
    "    \n",
    "    if organ == 'iCTV_5580':\n",
    "        msize=5\n",
    "    else:\n",
    "        msize=3\n",
    "        \n",
    "#WedenbergB\n",
    "    ax.plot(dvh_wedB[\"Plan1\"][organ]['mean'][0],dvh_wedB[\"Plan1\"][organ]['mean'][1],c=col, linewidth=msize, label = organ_PL)\n",
    "    ax.plot(dvh_wedB[\"Plan1\"][organ]['up'][0],dvh_wedB[\"Plan1\"][organ]['up'][1],\".\",c=col,markersize=msize-2)\n",
    "    ax.plot(dvh_wedB[\"Plan1\"][organ]['down'][0],dvh_wedB[\"Plan1\"][organ]['down'][1],\".\",c=col,markersize=msize-2)\n",
    "#Wedenberg \n",
    "    ax2.plot(dvh_wed[\"Plan1\"][organ]['mean'][0],dvh_wed[\"Plan1\"][organ]['mean'][1],c=col2,linewidth=msize, label = organ_PL)\n",
    "    ax2.plot(dvh_wed[\"Plan1\"][organ]['up'][0],dvh_wed[\"Plan1\"][organ]['up'][1],\".\",c=col2,markersize=msize-2)\n",
    "    ax2.plot(dvh_wed[\"Plan1\"][organ]['down'][0],dvh_wed[\"Plan1\"][organ]['down'][1],\".\",c=col2,markersize=msize-2)\n",
    "\n",
    "##graph settings\n",
    "ax.set_ylabel(\"Objętość [%]\", fontsize = 34)\n",
    "ax.set_xlabel(\"\\nDawka [Gy(RBE)]\", fontsize = 34)\n",
    "\n",
    "ax.legend(loc='upper center', bbox_to_anchor=(0.25, 1.4),title_fontsize=28,fontsize = 26,fancybox=True, shadow=True,ncol=2)\n",
    "ax.get_legend().set_title(\"Plan 1\\nmodel Wedenberg B\")\n",
    "ax2.legend(loc='upper center', bbox_to_anchor=(0.75, 1.4),title_fontsize=28,fontsize = 26,fancybox=True, shadow=True,ncol=2)\n",
    "ax2.get_legend().set_title(\"Plan 1\\nmodel Wedenberg\")\n",
    "\n",
    "ax.grid()\n",
    "ax.minorticks_on()\n",
    "ax.grid(which='minor', linestyle=':', linewidth='0.2', color='black')\n",
    "ax.axvspan(0,0.7, alpha=0.3, color='gray')\n",
    "ax.tick_params(axis='both', which='major', labelsize=26)\n",
    "ax2.tick_params(axis='both', which='major', labelsize=26)\n",
    "\n",
    "ax.set_xlim(0,2.4)\n",
    "ax2.set_xlim(0,2.4)"
   ]
  },
  {
   "cell_type": "code",
   "execution_count": null,
   "metadata": {},
   "outputs": [],
   "source": [
    "#Compare two plans for WedenbergB model zoom\n",
    "\n",
    "fig,ax = plt.subplots(figsize=[22,10])\n",
    "ax2=ax.twinx()\n",
    "\n",
    "##Plan 1\n",
    "for organ,organ_PL,col,col2 in zip(organ_names[0:3],organ_names_PL[0:3],colors2_[0:3],colors3_[0:3]):\n",
    "#WedenbergB\n",
    "    ax.plot(dvh_wedB[\"Plan1\"][organ]['mean'][0],dvh_wedB[\"Plan1\"][organ]['mean'][1],c=col, label = organ_PL)\n",
    "    ax.plot(dvh_wedB[\"Plan1\"][organ]['up'][0],dvh_wedB[\"Plan1\"][organ]['up'][1],\".\",c=col,markersize=1)\n",
    "    ax.plot(dvh_wedB[\"Plan1\"][organ]['down'][0],dvh_wedB[\"Plan1\"][organ]['down'][1],\".\",c=col,markersize=1)\n",
    "#Wedenberg \n",
    "    ax2.plot(dvh_wed[\"Plan1\"][organ]['mean'][0],dvh_wed[\"Plan1\"][organ]['mean'][1],c=col2, label = organ_PL)\n",
    "    ax2.plot(dvh_wed[\"Plan1\"][organ]['up'][0],dvh_wed[\"Plan1\"][organ]['up'][1],\".\",c=col2,markersize=1)\n",
    "    ax2.plot(dvh_wed[\"Plan1\"][organ]['down'][0],dvh_wed[\"Plan1\"][organ]['down'][1],\".\",c=col2,markersize=1)\n",
    "\n",
    "##graph settings\n",
    "ax.set_ylabel(\"Objętość [%]\\n\", fontsize = 34)\n",
    "ax.set_xlabel(\"\\nDawka [Gy(RBE)]\", fontsize = 34)\n",
    "\n",
    "#plt.xlim(1.5,2.2)\n",
    "ax.legend(loc='upper center', bbox_to_anchor=(0.25, 1.4),title_fontsize=28,fontsize = 26,fancybox=True, shadow=True,ncol=2)\n",
    "ax.get_legend().set_title(\"Plan 1\\nmodel Wedenberg B\")\n",
    "\n",
    "ax2.legend(loc='upper center', bbox_to_anchor=(0.75, 1.4),title_fontsize=28, fontsize = 26,fancybox=True, shadow=True,ncol=2)\n",
    "ax2.get_legend().set_title(\"Plan1\\nmodel Wedenberg\")\n",
    "\n",
    "ax.grid()\n",
    "ax.minorticks_on()\n",
    "ax.grid(which='minor', linestyle=':', linewidth='0.2', color='black')\n",
    "ax.tick_params(axis='both', which='major', labelsize=26)\n",
    "ax2.tick_params(axis='both', which='major', labelsize=26)\n",
    "\n",
    "ax.set_xlim(0,0.7)\n",
    "ax2.set_xlim(0,0.7)\n",
    "ax.set_ylim(0,25)\n",
    "ax2.set_ylim(0,25)"
   ]
  },
  {
   "cell_type": "code",
   "execution_count": null,
   "metadata": {},
   "outputs": [],
   "source": [
    "#Compare two plans for WedenbergB model\n",
    "\n",
    "fig,ax = plt.subplots(figsize=[22,10])\n",
    "ax2=ax.twinx()\n",
    "##Plan 1\n",
    "for organ,organ_PL,col,col2 in zip(organ_names,organ_names_PL,colors2_,colors3_):\n",
    "    if organ == 'iCTV_5580':\n",
    "        msize=5\n",
    "    else:\n",
    "        msize=3\n",
    "        \n",
    "    \n",
    "    ax.plot(dvh_wedB[\"Plan1\"][organ]['mean'][0],dvh_wedB[\"Plan1\"][organ]['mean'][1],c=col,linewidth=msize, label = organ_PL)\n",
    "    ax.plot(dvh_wedB[\"Plan1\"][organ]['up'][0],dvh_wedB[\"Plan1\"][organ]['up'][1],\".\",c=col,markersize=msize-2)\n",
    "    ax.plot(dvh_wedB[\"Plan1\"][organ]['down'][0],dvh_wedB[\"Plan1\"][organ]['down'][1],\".\",c=col,markersize=msize-2)\n",
    "#Plan 2\n",
    "    ax2.plot(dvh_wedB[\"Plan2\"][organ]['mean'][0],dvh_wedB[\"Plan2\"][organ]['mean'][1],c=col2,linewidth=msize, label = organ_PL)\n",
    "    ax2.plot(dvh_wedB[\"Plan2\"][organ]['up'][0],dvh_wedB[\"Plan2\"][organ]['up'][1],\".\",c=col2,markersize=msize-2)\n",
    "    ax2.plot(dvh_wedB[\"Plan2\"][organ]['down'][0],dvh_wedB[\"Plan2\"][organ]['down'][1],\".\",c=col2,markersize=msize-2)\n",
    "\n",
    "##graph settings\n",
    "ax.set_ylabel(\"Objętość [%]\",fontsize = 34)\n",
    "ax.set_xlabel(\"\\nDawka [Gy(RBE)]\",fontsize = 34)\n",
    "\n",
    "#plt.xlim(1.5,2.2)\n",
    "ax.legend(loc='upper center', bbox_to_anchor=(0.25, 1.4),title_fontsize=28,fontsize = 28,fancybox=True, shadow=True,ncol=2)\n",
    "ax.get_legend().set_title(\"Plan 1\\nmodel Wedenberg B\")\n",
    "\n",
    "ax2.legend(loc='upper center', bbox_to_anchor=(0.75, 1.4),title_fontsize=28,fontsize = 28,fancybox=True, shadow=True,ncol=2)\n",
    "ax2.get_legend().set_title(\"Plan2\\nmodel Wedenberg B\")\n",
    "\n",
    "ax.grid()\n",
    "ax.minorticks_on()\n",
    "ax.grid(which='minor', linestyle=':', linewidth='0.2', color='black')\n",
    "ax.axvspan(0,0.7, alpha=0.3, color='gray')\n",
    "ax.tick_params(axis='both', which='major', labelsize=26)\n",
    "ax2.tick_params(axis='both', which='major', labelsize=26)\n",
    "\n",
    "ax.set_xlim(0,2.4)\n",
    "ax2.set_xlim(0,2.4)"
   ]
  },
  {
   "cell_type": "code",
   "execution_count": null,
   "metadata": {},
   "outputs": [],
   "source": [
    "#Compare two plans for WedenbergB model zoom\n",
    "\n",
    "fig,ax = plt.subplots(figsize=[22,10])\n",
    "ax2=ax.twinx()\n",
    "\n",
    "##Plan 1\n",
    "for organ,organ_PL,col,col2 in zip(organ_names[0:3],organ_names_PL[0:3],colors2_[0:3],colors3_[0:3]):\n",
    "    ax.plot(dvh_wedB[\"Plan1\"][organ]['mean'][0],dvh_wedB[\"Plan1\"][organ]['mean'][1],c=col, label = organ_PL)\n",
    "    ax.plot(dvh_wedB[\"Plan1\"][organ]['up'][0],dvh_wedB[\"Plan1\"][organ]['up'][1],\".\",c=col,markersize=1)\n",
    "    ax.plot(dvh_wedB[\"Plan1\"][organ]['down'][0],dvh_wedB[\"Plan1\"][organ]['down'][1],\".\",c=col,markersize=1)\n",
    "#Plan 2\n",
    "    ax2.plot(dvh_wedB[\"Plan2\"][organ]['mean'][0],dvh_wedB[\"Plan2\"][organ]['mean'][1],c=col2, label = organ_PL)\n",
    "    ax2.plot(dvh_wedB[\"Plan2\"][organ]['up'][0],dvh_wedB[\"Plan2\"][organ]['up'][1],\".\",c=col2,markersize=1)\n",
    "    ax2.plot(dvh_wedB[\"Plan2\"][organ]['down'][0],dvh_wedB[\"Plan2\"][organ]['down'][1],\".\",c=col2,markersize=1)\n",
    "\n",
    "##graph settings\n",
    "ax.set_ylabel(\"Objętość [%]\\n\",fontsize = 34)\n",
    "ax.set_xlabel(\"\\nDawka [Gy(RBE)]\",fontsize = 34)\n",
    "\n",
    "#plt.xlim(1.5,2.2)\n",
    "ax.legend(loc='upper center', bbox_to_anchor=(0.25, 1.4),title_fontsize=28,fontsize = 28,fancybox=True, shadow=True,ncol=2)\n",
    "ax.get_legend().set_title(\"Plan 1\\nmodel Wedenberg B\")\n",
    "\n",
    "ax2.legend(loc='upper center', bbox_to_anchor=(0.75, 1.4),title_fontsize=28,fontsize = 28,fancybox=True, shadow=True,ncol=2)\n",
    "ax2.get_legend().set_title(\"Plan2\\nmodel Wedenberg B\")\n",
    "\n",
    "ax.grid()\n",
    "ax.minorticks_on()\n",
    "ax.grid(which='minor', linestyle=':', linewidth='0.2', color='black')\n",
    "ax.tick_params(axis='both', which='major', labelsize=26)\n",
    "ax2.tick_params(axis='both', which='major', labelsize=26)\n",
    "\n",
    "ax.set_xlim(0,0.7)\n",
    "ax2.set_xlim(0,0.7)\n",
    "ax.set_ylim(0,30)\n",
    "ax2.set_ylim(0,30)"
   ]
  },
  {
   "cell_type": "code",
   "execution_count": null,
   "metadata": {},
   "outputs": [],
   "source": []
  },
  {
   "cell_type": "code",
   "execution_count": null,
   "metadata": {},
   "outputs": [],
   "source": []
  }
 ],
 "metadata": {
  "colab": {
   "collapsed_sections": [],
   "name": "PART 2 DVH_pancreas.ipynb",
   "provenance": [
    {
     "file_id": "1mbpA_Kry-ZiN_b41NeZL8-Wctieb6rcy",
     "timestamp": 1603099595289
    },
    {
     "file_id": "1ORV8xO6vgGbRPz6tQWmoaPE78vWR2F9l",
     "timestamp": 1601996163781
    }
   ],
   "toc_visible": true
  },
  "kernelspec": {
   "display_name": "Python 3",
   "language": "python",
   "name": "python3"
  },
  "language_info": {
   "codemirror_mode": {
    "name": "ipython",
    "version": 3
   },
   "file_extension": ".py",
   "mimetype": "text/x-python",
   "name": "python",
   "nbconvert_exporter": "python",
   "pygments_lexer": "ipython3",
   "version": "3.8.10"
  }
 },
 "nbformat": 4,
 "nbformat_minor": 1
}

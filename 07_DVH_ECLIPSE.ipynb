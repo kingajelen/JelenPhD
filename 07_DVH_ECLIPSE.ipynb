{
 "cells": [
  {
   "cell_type": "markdown",
   "metadata": {
    "id": "S-l1uRXUOGVY"
   },
   "source": [
    "# Import libraries"
   ]
  },
  {
   "cell_type": "code",
   "execution_count": null,
   "metadata": {
    "id": "2pXdyvq1igmS"
   },
   "outputs": [],
   "source": [
    "import matplotlib.pyplot as plt\n",
    "import pandas as pd\n",
    "import pylab\n",
    "import os"
   ]
  },
  {
   "cell_type": "code",
   "execution_count": null,
   "metadata": {
    "id": "eLwnWSnPFh99"
   },
   "outputs": [],
   "source": [
    "from dicompylercore import dicomparser, dvh, dvhcalc"
   ]
  },
  {
   "cell_type": "code",
   "execution_count": null,
   "metadata": {},
   "outputs": [],
   "source": [
    "style_param = {'legend.fontsize': '18',\n",
    "         'xtick.direction' : 'in',  \n",
    "         'ytick.direction' : 'in', \n",
    "         'xtick.top' : True, \n",
    "         'figure.figsize': (10,6),\n",
    "         'axes.labelsize': '18',\n",
    "         'axes.titlesize':'26',\n",
    "         'xtick.labelsize':'20',\n",
    "         'ytick.labelsize':'20',\n",
    "         'xtick.major.pad':'16',\n",
    "         'ytick.major.pad':'16'}\n",
    "    \n",
    "pylab.rcParams.update(style_param)"
   ]
  },
  {
   "cell_type": "markdown",
   "metadata": {
    "id": "mvbTrMoOOPJe"
   },
   "source": [
    "# Read data"
   ]
  },
  {
   "cell_type": "code",
   "execution_count": null,
   "metadata": {},
   "outputs": [],
   "source": [
    "dose_pres = 55.8 \n",
    "fraction=31.\n",
    "dose_per_fr=dose_pres/fraction"
   ]
  },
  {
   "cell_type": "code",
   "execution_count": null,
   "metadata": {
    "id": "n2-yvbq69_Ch"
   },
   "outputs": [],
   "source": [
    "dvh_eclipse_read = pd.read_csv(os.path.join('data','patient_eclipse','DVH_iCTV5580.txt'),delimiter=\"\\s+\", header=None)"
   ]
  },
  {
   "cell_type": "code",
   "execution_count": null,
   "metadata": {
    "id": "sJ9Goau4Yirh"
   },
   "outputs": [],
   "source": [
    "dvh_eclipse = dvh_eclipse_read.iloc[1:-1 , 0:3]\n",
    "dvh_eclipse.reset_index(drop=True, inplace=True)\n",
    "dvh_eclipse.rename(columns={dvh_eclipse.columns[0]:\"Dose\",\n",
    "                            dvh_eclipse.columns[1]:\"Relative_Dose\",\n",
    "                            dvh_eclipse.columns[2]:\"Volume\"},\n",
    "                   inplace=True)\n",
    "dvh_eclipse=dvh_eclipse.astype('float')\n",
    "dvh_eclipse.Dose=dvh_eclipse.Dose/fraction/1.1"
   ]
  },
  {
   "cell_type": "code",
   "execution_count": null,
   "metadata": {
    "id": "Bm4BQT418KRy"
   },
   "outputs": [],
   "source": [
    "rs = os.path.join('data','patient_eclipse','RS.Patient07_Plan1.dcm')\n",
    "rd = os.path.join('data','patient_eclipse','RD.Patient07_Plan1.dcm')"
   ]
  },
  {
   "cell_type": "markdown",
   "metadata": {
    "id": "DflNHRC_igmU"
   },
   "source": [
    "# Patient: Eclipse Data"
   ]
  },
  {
   "cell_type": "markdown",
   "metadata": {
    "id": "FWpmenLNzcfR"
   },
   "source": [
    "Structure: iCTV_5580\n",
    "Approval Status: Unapproved\n",
    "Plan: Plan_MG1\n",
    "Course: MG\n",
    "Volume [cm³]: 76.0\n",
    "Dose Cover.[%]: 100.0\n",
    "Sampling Cover.[%]: 100.0\n",
    "Min Dose [Gy]: 53.530\n",
    "Max Dose [Gy]: 55.705\n",
    "Mean Dose [Gy]: 55.116\n",
    "Modal Dose [Gy]: 55.161\n",
    "Median Dose [Gy]: 55.164\n",
    "STD [Gy]: 0.239\n",
    "Equiv. Sphere Diam. [cm]: 5.3\n",
    "Conformity Index: 0.00\n",
    "Gradient Measure [cm]: 4.10"
   ]
  },
  {
   "cell_type": "code",
   "execution_count": null,
   "metadata": {
    "id": "6zDPGlNU8Sep"
   },
   "outputs": [],
   "source": [
    "dp = dicomparser.DicomParser(rs)\n",
    "# i.e. Get a dict of structure information\n",
    "structures = dp.GetStructures()\n",
    "#structures"
   ]
  },
  {
   "cell_type": "code",
   "execution_count": null,
   "metadata": {
    "colab": {
     "base_uri": "https://localhost:8080/"
    },
    "executionInfo": {
     "elapsed": 30113,
     "status": "ok",
     "timestamp": 1619441842426,
     "user": {
      "displayName": "Kinga Jeleń",
      "photoUrl": "https://lh3.googleusercontent.com/a-/AOh14Gjr72QezuwSivoe6vTPOVEEhpWXvwAsO1jS132a5w=s64",
      "userId": "09885435343859345826"
     },
     "user_tz": -120
    },
    "id": "6cbmjVT--Ohy",
    "outputId": "7e31e264-4a29-4ac6-92cf-8cbfdc0e6be6"
   },
   "outputs": [],
   "source": [
    "#choose structure from DICOM\n",
    "for id, organ in structures.items():  \n",
    "    \n",
    "    for name, k in organ.items():\n",
    "      if k == 'iCTV_5580':\n",
    "        print(id)\n",
    "        structure_id=id"
   ]
  },
  {
   "cell_type": "code",
   "execution_count": null,
   "metadata": {
    "colab": {
     "base_uri": "https://localhost:8080/"
    },
    "executionInfo": {
     "elapsed": 30391,
     "status": "ok",
     "timestamp": 1619441842728,
     "user": {
      "displayName": "Kinga Jeleń",
      "photoUrl": "https://lh3.googleusercontent.com/a-/AOh14Gjr72QezuwSivoe6vTPOVEEhpWXvwAsO1jS132a5w=s64",
      "userId": "09885435343859345826"
     },
     "user_tz": -120
    },
    "id": "0oYXrvkK8g0l",
    "outputId": "ee034d90-9708-4fa2-d7bf-a1f82319b547"
   },
   "outputs": [],
   "source": [
    "# Access DVH data\n",
    "# get structure Volume\n",
    "calcdvh = dvhcalc.get_dvh(rs,rd,structure_id)\n",
    "structure_volume=calcdvh.volume\n",
    "print(\" Max dose: \",calcdvh.max,\"\\n Min dose: \", calcdvh.min,\"\\n Mean dose: \",calcdvh.mean,\"\\n Dose in 2%Volume: \", calcdvh.D99cc, \"\\n Volume[cm^3]: \",calcdvh.volume)"
   ]
  },
  {
   "cell_type": "markdown",
   "metadata": {
    "id": "TnF03VSkLPXP"
   },
   "source": [
    "# DVH - volume_histogram() function"
   ]
  },
  {
   "cell_type": "code",
   "execution_count": null,
   "metadata": {
    "colab": {
     "base_uri": "https://localhost:8080/",
     "height": 651
    },
    "executionInfo": {
     "elapsed": 51101,
     "status": "ok",
     "timestamp": 1619441863596,
     "user": {
      "displayName": "Kinga Jeleń",
      "photoUrl": "https://lh3.googleusercontent.com/a-/AOh14Gjr72QezuwSivoe6vTPOVEEhpWXvwAsO1jS132a5w=s64",
      "userId": "09885435343859345826"
     },
     "user_tz": -120
    },
    "id": "ZC8scwY5MuJL",
    "outputId": "31fc626a-48f4-46a4-a762-06fc2fa54d12"
   },
   "outputs": [],
   "source": [
    "plt.figure(figsize=(22,10))\n",
    "\n",
    "plt.plot(dvh_eclipse['Dose']*1.107, dvh_eclipse['Volume'], 'g', linewidth=4)\n",
    "\n",
    "plt.plot(dose_per_fr*0.95,98,marker=\"^\", markersize = 10, c='r')\n",
    "plt.annotate((\"95%Dose\"),\n",
    "             xy=(dose_per_fr*0.95,98), xycoords='data',\n",
    "             fontsize=22,\n",
    "             xytext=(-8, -33), textcoords='offset points')\n",
    "\n",
    "plt.plot(dose_per_fr*1.07,2,marker=\"v\", markersize = 10, c='r')\n",
    "plt.annotate((\"107%Dose\"),\n",
    "             xy=(dose_per_fr*1.07,2), xycoords='data',\n",
    "             fontsize=22,\n",
    "             xytext=(-40, 20), textcoords='offset points')\n",
    "\n",
    "plt.axvline(dose_per_fr, label=\"Dose per fraction\")\n",
    "\n",
    "#Graph visualisation\n",
    "plt.title(\"Physical dose for CTV \")\n",
    "plt.ylabel(\"Volume[%]\")\n",
    "plt.xlabel(\"\\nDose[Gy]\")\n",
    "\n",
    "plt.xlim(0,None)\n",
    "\n",
    "plt.legend(loc='best',title_fontsize=28,fancybox=True, shadow=True,ncol=4)\n",
    "\n",
    "plt.grid()\n",
    "plt.minorticks_on()\n",
    "plt.grid(which='minor', linestyle=':', linewidth='0.2', color='black')"
   ]
  },
  {
   "cell_type": "code",
   "execution_count": null,
   "metadata": {},
   "outputs": [],
   "source": []
  }
 ],
 "metadata": {
  "colab": {
   "collapsed_sections": [],
   "name": "PART 2 DVH_pancreas.ipynb",
   "provenance": [
    {
     "file_id": "1mbpA_Kry-ZiN_b41NeZL8-Wctieb6rcy",
     "timestamp": 1603099595289
    },
    {
     "file_id": "1ORV8xO6vgGbRPz6tQWmoaPE78vWR2F9l",
     "timestamp": 1601996163781
    }
   ],
   "toc_visible": true
  },
  "kernelspec": {
   "display_name": "Python 3",
   "language": "python",
   "name": "python3"
  },
  "language_info": {
   "codemirror_mode": {
    "name": "ipython",
    "version": 3
   },
   "file_extension": ".py",
   "mimetype": "text/x-python",
   "name": "python",
   "nbconvert_exporter": "python",
   "pygments_lexer": "ipython3",
   "version": "3.8.10"
  }
 },
 "nbformat": 4,
 "nbformat_minor": 1
}

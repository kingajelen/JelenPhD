{
 "cells": [
  {
   "cell_type": "markdown",
   "metadata": {},
   "source": [
    "# Import libraries"
   ]
  },
  {
   "cell_type": "code",
   "execution_count": 1,
   "metadata": {
    "id": "9cAOPYl_ZoQN"
   },
   "outputs": [],
   "source": [
    "import numpy as np\n",
    "import pandas as pd\n",
    "import matplotlib.pyplot as plt\n",
    "import matplotlib\n",
    "import pylab\n",
    "import statsmodels.api as sm"
   ]
  },
  {
   "cell_type": "code",
   "execution_count": 2,
   "metadata": {},
   "outputs": [],
   "source": [
    "from io import StringIO\n",
    "from sklearn.linear_model import LinearRegression\n",
    "from lmfit.models import LinearModel\n",
    "from statsmodels.sandbox.regression.predstd import wls_prediction_std"
   ]
  },
  {
   "cell_type": "markdown",
   "metadata": {},
   "source": [
    "# Functions"
   ]
  },
  {
   "cell_type": "code",
   "execution_count": 3,
   "metadata": {},
   "outputs": [],
   "source": [
    "style_param = {'legend.fontsize': '20',\n",
    "         'xtick.direction' : 'in',  \n",
    "         'ytick.direction' : 'in', \n",
    "         'xtick.top' : True, \n",
    "         'figure.figsize': (10,6),\n",
    "         'axes.labelsize': '26',\n",
    "         'axes.titlesize':'26',\n",
    "         'xtick.labelsize':'20',\n",
    "         'ytick.labelsize':'20',\n",
    "         'xtick.major.pad':'16',\n",
    "         'ytick.major.pad':'16'}\n",
    "    \n",
    "pylab.rcParams.update(style_param)"
   ]
  },
  {
   "cell_type": "code",
   "execution_count": 4,
   "metadata": {
    "id": "5j3uvRFED6x1"
   },
   "outputs": [],
   "source": [
    "def add_reference_params(df):\n",
    "  df[\"alpha_ref\"] = df.alpha[df.LET == 0].iloc[0]\n",
    "  df[\"beta_ref\"] = df.beta[df.LET == 0].iloc[0]\n",
    "  df[\"alpha_ref_err\"] = df.alpha_err[df.LET == 0].iloc[0]\n",
    "  df[\"beta_ref_err\"] = df.beta_err[df.LET == 0].iloc[0]\n",
    "  return df"
   ]
  },
  {
   "cell_type": "markdown",
   "metadata": {},
   "source": [
    "# Read data"
   ]
  },
  {
   "cell_type": "code",
   "execution_count": 5,
   "metadata": {
    "id": "WA7UmSabKZK4"
   },
   "outputs": [],
   "source": [
    "data_string=\"\"\"\n",
    "cell_line\tenergy\tLET\tno_points\talpha\talpha_err\tbeta\tbeta_err\n",
    "V79753B\t200kV\t0\t10\t0.129\t0.012\t0.046\t0.003\n",
    "V79753B\t5.01\t7.7\t7\t0.289\t0.023\t0.024\t0.006\n",
    "V79753B\t3.2\t11.0\t7\t0.372\t0.032\t0.036\t0.009\n",
    "V79753B\t1.41\t20.0\t6\t0.469\t0.029\t0.043\t0.009\n",
    "C3H10T1\tCobalt\t0\t5\t0.240\t0.06\t0.016\t0.013\n",
    "C3H10T1\t3.18\t11.0\t6\t0.47\t0.06\t0.019\t0.014\n",
    "C3H10T1\t1.46\t19.7\t6\t0.43\t0.06\t0.038\t0.013\n",
    "C3H10T1\t0.87\t28.8\t5\t0.55\t0.12\t0.053\t0.031\n",
    "V79379A\t240kV\t0\t6\t0.13\t0.022\t0.048\t0.003\n",
    "V79379A\t3.66\t10.1\t7\t0.320\t0.058\t0.039\t0.011\n",
    "V79379A\t1.83\t17.8\t9\t0.45\t0.035\t0.028\t0.006\n",
    "V79379A\t1.07\t27.6\t8\t0.74\t0.025\t0.011\t0.004\n",
    "HF19\tCs\t0\t7\t0.64\t0.02\t0\t0\n",
    "HF19\t5.04\t7.7\t6\t0.55\t0.01\t0\t0\n",
    "HF19\t1.49\t19.5\t6\t0.54\t0.02\t0\t0\n",
    "HF19\t0.88\t29.0\t7\t0.52\t0.01\t0\t0\n",
    "M10\tCs\t0\t8\t0.52\t0.02\t0\t0\n",
    "M10\t1.35\t21.4\t6\t0.49\t0.02\t0\t0\n",
    "M10\t4.05\t9.1\t5\t0.5\t0.03\t0\t0\n",
    "SCC25\tCobalt\t0\t8\t0.57\t0.05\t0.031\t0.012\n",
    "SCC25\t5.04\t7.7\t5\t0.41\t0.11\t0.092\t0.036\n",
    "SCC25\t1.49\t19.5\t6\t0.87\t0.05\t0\t0\n",
    "SCC25\t0.88\t29.0\t6\t0.81\t0.03\t0\t0\n",
    "SQ20B\tCobalt\t0\t10\t0.13\t0.02\t0.017\t0.002\n",
    "SQ20B\t5.04\t7.7\t6\t0.15\t0.05\t0.011\t0.012\n",
    "SQ20B\t1.49\t19.5\t6\t0.23\t0.04\t0.004\t0.007\n",
    "SQ20B\t0.88\t29.0\t7\t0.57\t0.05\t0\t0\n",
    "C1-1\tCobalt\t0\t7\t0.23\t0.042\t0.030\t0.008\n",
    "C1-1\t5.04\t7.7\t6\t0.194\t0.072\t0.023\t0.021\n",
    "C1-1\t0.88\t29.0\t5\t0.539\t0.027\t0\t0\n",
    "DLD1\tCobalt\t0\t8\t0.37\t0.09\t0.12\t0.02\n",
    "DLD1\t5.04\t7.7\t7\t0.47\t0.05\t0\t0\n",
    "HCT116\tCobalt\t0\t8\t1.39\t0.06\t0.02\t0.02\n",
    "HCT116\t5.04\t7.7\t8\t0.32\t0.08\t0.06\t0.03\n",
    "H184B5\tCobalt\t0\t5\t0.52\t0.02\t0\t0\n",
    "H184B5\t-\t9.1\t5\t0.5\t0.03\t0\t0\n",
    "H184B5\t-\t21.4\t5\t0.49\t0.02\t0\t0\"\"\""
   ]
  },
  {
   "cell_type": "code",
   "execution_count": 6,
   "metadata": {
    "id": "xAWf-4uubP6p"
   },
   "outputs": [],
   "source": [
    "raw_data = pd.read_csv(StringIO(data_string), delimiter='\\t')"
   ]
  },
  {
   "cell_type": "code",
   "execution_count": 7,
   "metadata": {
    "id": "j34qZHTfDm-n"
   },
   "outputs": [],
   "source": [
    "step1_data = raw_data.groupby('cell_line').apply(add_reference_params)"
   ]
  },
  {
   "cell_type": "code",
   "execution_count": 8,
   "metadata": {
    "colab": {
     "base_uri": "https://localhost:8080/",
     "height": 810
    },
    "id": "PnH0szOBCmb8",
    "outputId": "8f48db51-b4d2-498f-f4ad-c03559aad474"
   },
   "outputs": [],
   "source": [
    "step2_data = step1_data[step1_data.LET > 0]"
   ]
  },
  {
   "cell_type": "code",
   "execution_count": 9,
   "metadata": {
    "id": "9FqdPq1gLv_u"
   },
   "outputs": [],
   "source": [
    "fit_data = step2_data.copy()\n",
    "fit_data['y'] = fit_data.alpha / fit_data.alpha_ref\n",
    "fit_data['y_centered'] = fit_data.y - 1.0\n",
    "fit_data['x'] = fit_data.LET / (fit_data.alpha_ref / fit_data.beta_ref)"
   ]
  },
  {
   "cell_type": "markdown",
   "metadata": {},
   "source": [
    "# Analyze"
   ]
  },
  {
   "cell_type": "code",
   "execution_count": 10,
   "metadata": {
    "id": "fnIm1XxUKS0d"
   },
   "outputs": [],
   "source": [
    "eq2_model = LinearModel()"
   ]
  },
  {
   "cell_type": "code",
   "execution_count": 11,
   "metadata": {
    "colab": {
     "base_uri": "https://localhost:8080/",
     "height": 82
    },
    "id": "G1NSagK1Kd7S",
    "outputId": "fa567df6-f1eb-49e1-da04-b38d36e3ebee"
   },
   "outputs": [
    {
     "data": {
      "text/html": [
       "<table><tr><th> name </th><th> value </th><th> initial value </th><th> min </th><th> max </th><th> vary </th></tr><tr><td> slope </td><td>  1.00000000 </td><td> None </td><td>        -inf </td><td>         inf </td><td> True </td></tr><tr><td> intercept </td><td>  1.00000000 </td><td> None </td><td>        -inf </td><td>         inf </td><td> False </td></tr></table>"
      ],
      "text/plain": [
       "Parameters([('slope', <Parameter 'slope', value=1.0, bounds=[-inf:inf]>),\n",
       "            ('intercept',\n",
       "             <Parameter 'intercept', value=1.0 (fixed), bounds=[-inf:inf]>)])"
      ]
     },
     "execution_count": 11,
     "metadata": {},
     "output_type": "execute_result"
    }
   ],
   "source": [
    "params = eq2_model.make_params()\n",
    "params['intercept'].vary = False\n",
    "params['intercept'].value = 1.0\n",
    "params"
   ]
  },
  {
   "cell_type": "code",
   "execution_count": 12,
   "metadata": {
    "id": "KPjcv48iKg5X"
   },
   "outputs": [],
   "source": [
    "result = eq2_model.fit( fit_data.y, params, x= fit_data.x)"
   ]
  },
  {
   "cell_type": "code",
   "execution_count": 13,
   "metadata": {
    "colab": {
     "base_uri": "https://localhost:8080/",
     "height": 411
    },
    "id": "XRxXDLohKpl_",
    "outputId": "8bc957df-56ba-4fc5-c209-0fd3cab3ef45"
   },
   "outputs": [
    {
     "data": {
      "text/html": [
       "<h2> Model</h2> Model(linear) <h2>Fit Statistics</h2><table><tr><td>fitting method</td><td>leastsq</td><td></td></tr><tr><td># function evals</td><td>4</td><td></td></tr><tr><td># data points</td><td>26</td><td></td></tr><tr><td># variables</td><td>1</td><td></td></tr><tr><td>chi-square</td><td> 6.52989855</td><td></td></tr><tr><td>reduced chi-square</td><td> 0.26119594</td><td></td></tr><tr><td>Akaike info crit.</td><td>-33.9243334</td><td></td></tr><tr><td>Bayesian info crit.</td><td>-32.6662369</td><td></td></tr></table><h2>Variables</h2><table><tr><th> name </th><th> value </th><th> standard error </th><th> relative error </th><th> initial value </th><th> min </th><th> max </th><th> vary </th></tr><tr><td> slope </td><td>  0.43353039 </td><td>  0.03011833 </td><td> (6.95%) </td><td> 1.0 </td><td>        -inf </td><td>         inf </td><td> True </td></tr><tr><td> intercept </td><td>  1.00000000 </td><td>  0.00000000 </td><td> (0.00%) </td><td> 1.0 </td><td>        -inf </td><td>         inf </td><td> False </td></tr></table>"
      ],
      "text/plain": [
       "<lmfit.model.ModelResult at 0x27ef3cc32e0>"
      ]
     },
     "execution_count": 13,
     "metadata": {},
     "output_type": "execute_result"
    }
   ],
   "source": [
    "result"
   ]
  },
  {
   "cell_type": "code",
   "execution_count": 14,
   "metadata": {
    "colab": {
     "base_uri": "https://localhost:8080/"
    },
    "id": "I0hN5aGrOb53",
    "outputId": "23f878ff-d44d-4d63-e06d-ff0de243df2c"
   },
   "outputs": [
    {
     "name": "stdout",
     "output_type": "stream",
     "text": [
      "                                 OLS Regression Results                                \n",
      "=======================================================================================\n",
      "Dep. Variable:             y_centered   R-squared (uncentered):                   0.892\n",
      "Model:                            OLS   Adj. R-squared (uncentered):              0.888\n",
      "Method:                 Least Squares   F-statistic:                              207.2\n",
      "Date:                Tue, 29 Jun 2021   Prob (F-statistic):                    1.33e-13\n",
      "Time:                        00:58:07   Log-Likelihood:                         -18.930\n",
      "No. Observations:                  26   AIC:                                      39.86\n",
      "Df Residuals:                      25   BIC:                                      41.12\n",
      "Df Model:                           1                                                  \n",
      "Covariance Type:            nonrobust                                                  \n",
      "==============================================================================\n",
      "                 coef    std err          t      P>|t|      [0.025      0.975]\n",
      "------------------------------------------------------------------------------\n",
      "x              0.4335      0.030     14.394      0.000       0.372       0.496\n",
      "==============================================================================\n",
      "Omnibus:                       21.821   Durbin-Watson:                   2.176\n",
      "Prob(Omnibus):                  0.000   Jarque-Bera (JB):               35.546\n",
      "Skew:                           1.710   Prob(JB):                     1.91e-08\n",
      "Kurtosis:                       7.595   Cond. No.                         1.00\n",
      "==============================================================================\n",
      "\n",
      "Notes:\n",
      "[1] R² is computed without centering (uncentered) since the model does not contain a constant.\n",
      "[2] Standard Errors assume that the covariance matrix of the errors is correctly specified.\n"
     ]
    }
   ],
   "source": [
    "model = sm.OLS(fit_data.y_centered, fit_data.x)\n",
    "res = model.fit()\n",
    "print(res.summary())"
   ]
  },
  {
   "cell_type": "code",
   "execution_count": 15,
   "metadata": {
    "colab": {
     "base_uri": "https://localhost:8080/",
     "height": 376
    },
    "id": "GQqPB5-bRW9R",
    "outputId": "678e989d-b91f-40f5-d3f4-d3b8dec80574"
   },
   "outputs": [
    {
     "data": {
      "image/png": "[encoded data removed]",
      "text/plain": [
       "<Figure size 720x432 with 1 Axes>"
      ]
     },
     "metadata": {
      "needs_background": "light"
     },
     "output_type": "display_data"
    }
   ],
   "source": [
    "fig,ax = plt.subplots(figsize = (10,6))\n",
    "\n",
    "fitted_x_for_plot = np.linspace(start = fit_data.x.min(), stop = fit_data.x.max(), num=100)\n",
    "prstd, iv_l, iv_u = wls_prediction_std(res, fitted_x_for_plot.reshape(-1,1))\n",
    "\n",
    "ax.plot(fit_data.x, fit_data.y_centered, 'ko', label=\"Dane z tabeli 5.1\")\n",
    "ax.plot(fitted_x_for_plot, res.predict(fitted_x_for_plot), 'k', label=\"Dopasowany model\\nq=0.434\")\n",
    "ax.plot(fitted_x_for_plot, iv_u, 'k--')\n",
    "ax.plot(fitted_x_for_plot, iv_l, 'k--')\n",
    "\n",
    "ax.legend(loc='best');\n",
    "ax.set_xlim(0,10.5)\n",
    "   \n",
    "ax.set_xlabel(r'$LET  /  ({\\alpha / \\beta})_{ref} \\;[Gy \\cdot keV \\cdot \\mu m^{-1}]$')\n",
    "ax.set_ylabel(r'$(\\alpha / \\alpha_{ref})-1\\;[-]$')\n",
    "ax.grid()\n",
    "ax.minorticks_on()\n",
    "ax.grid(which='minor', linestyle=':', linewidth='0.2', color='k')\n"
   ]
  },
  {
   "cell_type": "code",
   "execution_count": 16,
   "metadata": {},
   "outputs": [],
   "source": [
    "tmp=pd.DataFrame(list(zip(fit_data.x, fit_data.y_centered,\n",
    "                         fitted_x_for_plot, res.predict(fitted_x_for_plot))),\n",
    "                          columns=['data_x','data_y','model_x','model_y'])\n",
    "\n",
    "tmp.to_csv(\"results/figure_5_5\")\n",
    "fig.savefig(fname=\"results/figure_5_5\",dpi= 700)"
   ]
  },
  {
   "cell_type": "code",
   "execution_count": 17,
   "metadata": {
    "id": "JcILSgmpOlcF"
   },
   "outputs": [],
   "source": [
    "reg = LinearRegression(fit_intercept=False).fit(fit_data.x.values.reshape(-1, 1), fit_data.y_centered.values.reshape(-1, 1))"
   ]
  },
  {
   "cell_type": "code",
   "execution_count": 18,
   "metadata": {
    "colab": {
     "base_uri": "https://localhost:8080/"
    },
    "id": "TeTdVVSuQMDA",
    "outputId": "953342e8-00ed-4232-d05d-ead3b7c26bbf"
   },
   "outputs": [
    {
     "data": {
      "text/plain": [
       "array([[0.43353039]])"
      ]
     },
     "execution_count": 18,
     "metadata": {},
     "output_type": "execute_result"
    }
   ],
   "source": [
    "reg.coef_"
   ]
  },
  {
   "cell_type": "code",
   "execution_count": null,
   "metadata": {},
   "outputs": [],
   "source": []
  },
  {
   "cell_type": "code",
   "execution_count": null,
   "metadata": {},
   "outputs": [],
   "source": []
  },
  {
   "cell_type": "code",
   "execution_count": null,
   "metadata": {},
   "outputs": [],
   "source": []
  }
 ],
 "metadata": {
  "colab": {
   "collapsed_sections": [],
   "name": "Kopia notatnika Wedenberg_q_validation.ipynb",
   "provenance": []
  },
  "kernelspec": {
   "display_name": "Python 3",
   "language": "python",
   "name": "python3"
  },
  "language_info": {
   "codemirror_mode": {
    "name": "ipython",
    "version": 3
   },
   "file_extension": ".py",
   "mimetype": "text/x-python",
   "name": "python",
   "nbconvert_exporter": "python",
   "pygments_lexer": "ipython3",
   "version": "3.8.10"
  }
 },
 "nbformat": 4,
 "nbformat_minor": 1
}

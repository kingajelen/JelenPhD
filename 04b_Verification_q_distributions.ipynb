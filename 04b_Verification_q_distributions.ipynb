{
 "cells": [
  {
   "cell_type": "markdown",
   "metadata": {},
   "source": [
    "# Import libraries"
   ]
  },
  {
   "cell_type": "code",
   "execution_count": null,
   "metadata": {},
   "outputs": [],
   "source": [
    "import os\n",
    "import pandas as pd\n",
    "import matplotlib\n",
    "\n",
    "import matplotlib.pyplot as plt\n",
    "import numpy as np\n",
    "import scipy.stats as stats \n",
    "import scikit_posthocs as sp\n",
    "import statsmodels.api as sm\n",
    "import pylab"
   ]
  },
  {
   "cell_type": "code",
   "execution_count": null,
   "metadata": {},
   "outputs": [],
   "source": [
    "from scipy.stats import kruskal\n",
    "from scipy.stats import mannwhitneyu\n",
    "from scipy.stats import ttest_ind"
   ]
  },
  {
   "cell_type": "code",
   "execution_count": null,
   "metadata": {},
   "outputs": [],
   "source": [
    "import pingouin as pg\n",
    "from statsmodels.stats.proportion import proportion_effectsize\n",
    "from statsmodels.graphics.gofplots import qqplot_2samples"
   ]
  },
  {
   "cell_type": "markdown",
   "metadata": {},
   "source": [
    "# Functions"
   ]
  },
  {
   "cell_type": "code",
   "execution_count": null,
   "metadata": {},
   "outputs": [],
   "source": [
    "style_param = {'legend.fontsize': '16',\n",
    "         'xtick.direction' : 'in',  \n",
    "         'ytick.direction' : 'in', \n",
    "         'xtick.top' : True, \n",
    "         'figure.figsize': (10,6),\n",
    "         'axes.labelsize': '26',\n",
    "         'axes.titlesize':'26',\n",
    "         'xtick.labelsize':'20',\n",
    "         'ytick.labelsize':'20',\n",
    "         'xtick.major.pad':'16',\n",
    "         'ytick.major.pad':'16'}\n",
    "    \n",
    "pylab.rcParams.update(style_param)"
   ]
  },
  {
   "cell_type": "markdown",
   "metadata": {},
   "source": [
    "# Read data"
   ]
  },
  {
   "cell_type": "code",
   "execution_count": null,
   "metadata": {},
   "outputs": [],
   "source": [
    "open_fname = os.path.join('tmp','distrib_q.h5')"
   ]
  },
  {
   "cell_type": "code",
   "execution_count": null,
   "metadata": {},
   "outputs": [],
   "source": [
    "columns=['1','2','3','4','5','6','7']\n",
    "datas=['data_1','data_2','data_3','data_4','data_5','data_6','data_7']\n",
    "colors=['green','blue','gray','purple','orange','pink','black']"
   ]
  },
  {
   "cell_type": "code",
   "execution_count": null,
   "metadata": {},
   "outputs": [],
   "source": [
    "df = pd.DataFrame()"
   ]
  },
  {
   "cell_type": "code",
   "execution_count": null,
   "metadata": {},
   "outputs": [],
   "source": [
    "for data,sample in zip(datas,columns):\n",
    "    df[sample] = pd.read_hdf(open_fname, data).q.values[0:5000]"
   ]
  },
  {
   "cell_type": "markdown",
   "metadata": {},
   "source": [
    "# Q-distribution"
   ]
  },
  {
   "cell_type": "code",
   "execution_count": null,
   "metadata": {},
   "outputs": [],
   "source": [
    "qdf= pd.read_hdf(open_fname,\"data_1\")"
   ]
  },
  {
   "cell_type": "code",
   "execution_count": null,
   "metadata": {},
   "outputs": [],
   "source": [
    "mean_W, std_W = 0.434, 0.0301\n",
    "mean_K, std_K = 0.389, 0.0218"
   ]
  },
  {
   "cell_type": "code",
   "execution_count": null,
   "metadata": {},
   "outputs": [],
   "source": [
    "WA_text = \"Wedenberg extended model A \\n\"+str(mean_K)+\"+- \"+str(np.round(std_K/mean_K*100,2))+'%'\n",
    "W_text = \"Wedenberg model \\n\"+str(mean_W)+\"+- \"+str(np.round(std_W/mean_W*100,2))+'%'\n",
    "WB_text = \"Wedenberg extended model B \\n\"+str(np.round(qdf.q.mean(),3))+\"+- \"+str(np.round(qdf.q.std()/qdf.q.mean()*100,2))+'%'"
   ]
  },
  {
   "cell_type": "code",
   "execution_count": null,
   "metadata": {},
   "outputs": [],
   "source": [
    "q_K = pd.DataFrame(np.random.normal(loc=mean_K,scale=std_K,size=50000))\n",
    "q_W = pd.DataFrame(np.random.normal(loc=mean_W,scale=std_W,size=50000))"
   ]
  },
  {
   "cell_type": "code",
   "execution_count": null,
   "metadata": {},
   "outputs": [],
   "source": [
    "fig,ax = plt.subplots(figsize = (10,6))\n",
    "\n",
    "q_W.plot.kde(ax=ax,color='red')\n",
    "q_K.plot.kde(ax=ax,color='blue')\n",
    "qdf.q.plot.kde(ax=ax,color='green')\n",
    "\n",
    "ax.set_xlim(0,0.6)\n",
    "ax.set_xlabel('\\n'+r'$q\\; [Gy\\cdot \\mu m \\cdot keV^{-1}]$')\n",
    "ax.set_ylabel(\"Probability distribution [-]\\n\")\n",
    "ax.legend([W_text,WA_text,WB_text])\n",
    "ax.grid()\n",
    "ax.minorticks_on()\n",
    "ax.grid(which='minor', linestyle=':', linewidth='0.2', color='k')"
   ]
  },
  {
   "cell_type": "code",
   "execution_count": null,
   "metadata": {},
   "outputs": [],
   "source": [
    "tmp=pd.DataFrame(list(zip(qdf.q)),\n",
    "                          columns=['q'])\n",
    "tmp.to_csv(\"results/figure_5_7.csv\")\n",
    "fig.savefig(fname=\"results/figure_5_7.png\",dpi= 700)"
   ]
  },
  {
   "cell_type": "markdown",
   "metadata": {},
   "source": [
    "# Compare all samples qith q-ditributions"
   ]
  },
  {
   "cell_type": "code",
   "execution_count": null,
   "metadata": {},
   "outputs": [],
   "source": [
    "vals, names, xs = [],[],[]\n",
    "for i, col in enumerate(df.columns):\n",
    "    vals.append(df[col].values)\n",
    "    names.append(col)\n",
    "    xs.append(np.random.normal(i + 1, 0.04, df[col].values.shape[0]))  # adds jitter to the data points - can be adjusted"
   ]
  },
  {
   "cell_type": "code",
   "execution_count": null,
   "metadata": {},
   "outputs": [],
   "source": [
    "plt.boxplot(vals, labels=names, notch=True, \n",
    "            showmeans=False, showfliers=False )\n",
    "\n",
    "for x, val in zip(xs, vals):\n",
    "    plt.scatter(x, val, alpha=0.2, color='gray')\n",
    "    \n",
    "plt.ylabel(r'$q [Gy\\times \\mu m \\times keV^{-1}]$')\n",
    "plt.xlabel(\"Sample number\")\n",
    "plt.axhline(0.434,color='red',label=W_text,alpha=0.9)\n",
    "plt.axhline(qdf.q.mean(),color='green',label=WB_text,alpha=0.9)\n",
    "plt.axhline(qdf.q.quantile(0.975),color='green',ls=':',alpha=0.9)\n",
    "plt.axhline(qdf.q.quantile(0.025),color='green',ls=':',alpha=0.9)\n",
    "\n",
    "plt.legend()\n",
    "plt.show()"
   ]
  },
  {
   "cell_type": "code",
   "execution_count": null,
   "metadata": {},
   "outputs": [],
   "source": [
    "fig,ax = plt.subplots(figsize = (10,6))\n",
    "\n",
    "for sample,color in zip(columns,colors):\n",
    "    df[sample].plot.kde(ax=ax,color=color)\n",
    "    ax.scatter( df[sample].mean(),0)\n",
    "\n",
    "ax.set_xlabel(r'$q [Gy\\times \\mu m \\times keV^{-1}]$')\n",
    "ax.set_ylabel(\"Probability distribution [-]\\n\")\n",
    "ax.legend(title='Number \\nof sample',title_fontsize=15)\n",
    "\n",
    "plt.axvline(qdf.q.mean(),color='gray',label=\"0 sample mean\",alpha=0.9)\n",
    "plt.axvline(qdf.q.quantile(0.975),color='gray',ls='--',alpha=0.9)\n",
    "plt.axvline(qdf.q.quantile(0.025),color='gray',ls='--',alpha=0.9)\n",
    "\n",
    "\n",
    "ax.set_xlim(0,0.6)\n",
    "ax.grid()\n",
    "ax.minorticks_on()\n",
    "ax.grid(which='minor', linestyle=':', linewidth='0.2', color='k')\n",
    "#print (\"mean: \",df.q.mean(), \"\\nstd: \",df.q.std(), \"\\nmedian: \",df.q.median(),\"\\nquantile 2.5%: \", df.q.quantile(0.025),\"\\nquantile 97.5%: \", df.q.quantile(0.975))"
   ]
  },
  {
   "cell_type": "markdown",
   "metadata": {},
   "source": [
    "Shapiro-Wilk"
   ]
  },
  {
   "cell_type": "code",
   "execution_count": null,
   "metadata": {},
   "outputs": [],
   "source": [
    "for data,sample in zip(datas,columns):\n",
    "    shapiro_test = stats.shapiro(df[sample])\n",
    "    print(\"SAMPLE \",sample +\"\\nshapiro-wilk test = \"+ str(shapiro_test[0]) \n",
    "          + \", \\np-value = \" + str(shapiro_test[1])\n",
    "          +', \\nskew = '+ str(df[sample].skew(axis = 0)) \n",
    "          +', \\nkurtosis = '+str(df[sample].kurtosis(axis = 0))+'\\n')"
   ]
  },
  {
   "cell_type": "markdown",
   "metadata": {},
   "source": [
    "Cohen, ETA, CLES"
   ]
  },
  {
   "cell_type": "code",
   "execution_count": null,
   "metadata": {},
   "outputs": [],
   "source": [
    "for data,sample in zip(datas,columns):\n",
    "    data=df['1']\n",
    "    data2=df[sample]\n",
    "    \n",
    "    cohens_d=pg.compute_effsize(data,data2, eftype='cohen')\n",
    "    eta=pg.compute_effsize(data, data2, eftype='eta-square')\n",
    "    cohen_h = proportion_effectsize(np.mean(data.values), np.mean(data2.values))\n",
    "    cles = pg.compute_effsize(data, data2, eftype='CLES')\n",
    "\n",
    "    print(\"SAMPLES \",0,sample, \"\\ncohen_d: \"+ str(cohens_d)+\" \\neta: \"+ str(eta)+\"\\ncohen_h: \"+ str(cohen_h)+\"\\n\"+\"CLES: \"+ str(cles)+\"\\n\")"
   ]
  },
  {
   "cell_type": "markdown",
   "metadata": {},
   "source": [
    "Q-Q plot"
   ]
  },
  {
   "cell_type": "code",
   "execution_count": null,
   "metadata": {},
   "outputs": [],
   "source": [
    "fig,ax = plt.subplots(sharex=True, sharey=True)\n",
    "\n",
    "for data,sample in zip(datas,columns):\n",
    "    data=df['1']\n",
    "    data2=df[sample]   \n",
    "    qqplot_2samples(data, data2,ax=ax,line='45')\n",
    "\n",
    "ax.set_xlabel(\"First sample\")\n",
    "ax.set_ylabel(\"Other sample\")\n",
    "\n",
    "ax.grid()\n",
    "ax.minorticks_on()\n",
    "ax.grid(which='minor', linestyle=':', linewidth='0.2', color='k')\n",
    "\n",
    "plt.show()"
   ]
  },
  {
   "cell_type": "code",
   "execution_count": null,
   "metadata": {},
   "outputs": [],
   "source": []
  }
 ],
 "metadata": {
  "kernelspec": {
   "display_name": "Python 3",
   "language": "python",
   "name": "python3"
  },
  "language_info": {
   "codemirror_mode": {
    "name": "ipython",
    "version": 3
   },
   "file_extension": ".py",
   "mimetype": "text/x-python",
   "name": "python",
   "nbconvert_exporter": "python",
   "pygments_lexer": "ipython3",
   "version": "3.8.10"
  }
 },
 "nbformat": 4,
 "nbformat_minor": 2
}

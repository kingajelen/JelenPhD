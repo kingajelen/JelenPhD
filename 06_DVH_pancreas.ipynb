{
 "cells": [
  {
   "cell_type": "markdown",
   "metadata": {
    "id": "S-l1uRXUOGVY"
   },
   "source": [
    "# Import libraries"
   ]
  },
  {
   "cell_type": "code",
   "execution_count": null,
   "metadata": {
    "id": "2pXdyvq1igmS"
   },
   "outputs": [],
   "source": [
    "import matplotlib.pyplot as plt\n",
    "import numpy as np\n",
    "import pandas as pd\n",
    "import os\n",
    "import pylab\n",
    "import pytrip as pt\n",
    "import copy\n",
    "import matplotlib as mpl"
   ]
  },
  {
   "cell_type": "code",
   "execution_count": null,
   "metadata": {
    "id": "eLwnWSnPFh99"
   },
   "outputs": [],
   "source": [
    "from matplotlib import colors, cm\n",
    "from numpy import ma\n",
    "from pytrip.volhist import VolHist \n",
    "from itertools import cycle\n",
    "cycol = cycle('bgrcmk')"
   ]
  },
  {
   "cell_type": "code",
   "execution_count": null,
   "metadata": {},
   "outputs": [],
   "source": [
    "style_param = {'legend.fontsize': '20',\n",
    "         'xtick.direction' : 'in',  \n",
    "         'ytick.direction' : 'in', \n",
    "         'xtick.top' : True, \n",
    "         'figure.figsize': (10,6),\n",
    "         'axes.labelsize': '26',\n",
    "         'axes.titlesize':'26',\n",
    "         'xtick.labelsize':'20',\n",
    "         'ytick.labelsize':'20',\n",
    "         'xtick.major.pad':'16',\n",
    "         'ytick.major.pad':'16'}\n",
    "    \n",
    "pylab.rcParams.update(style_param)"
   ]
  },
  {
   "cell_type": "markdown",
   "metadata": {
    "id": "UNo3qYxEOSsP"
   },
   "source": [
    "# Functions"
   ]
  },
  {
   "cell_type": "code",
   "execution_count": null,
   "metadata": {
    "id": "NCjQo1lWigmu"
   },
   "outputs": [],
   "source": [
    "def rbe_wedenberg(dose, let, abx,q):\n",
    "    \"\"\"\n",
    "    Wedenberg proton RBE model\n",
    "    input parameters may be either numpy.array or scalars\n",
    "    TODO: handle Cube() class directly\n",
    "    :params dose: physical proton dose in [Gy]\n",
    "    :params let: LETd in [keV/um] (protons only)\n",
    "    :params abx: alpha_x / beta_x [Gy]\n",
    "    :returns: RBE for the given parameters\n",
    "    :ref: http://dx.doi.org/10.3109/0284186X.2012.705892\n",
    "    \"\"\"\n",
    "\n",
    "    _apx = 1.000 + q * let / abx\n",
    "    _sbpx = 1.0\n",
    "\n",
    "    rbe = _rbe_apx(dose, _apx, _sbpx, abx)\n",
    "    return rbe"
   ]
  },
  {
   "cell_type": "code",
   "execution_count": null,
   "metadata": {
    "id": "7DkmKKLFigmv"
   },
   "outputs": [],
   "source": [
    "def _rbe_apx(dose, apx, sbpx, abx, dzero=0.0):\n",
    "    \"\"\"\n",
    "    :params dose: proton dose      [Gy]\n",
    "    :params apx: alpha_p / alpha_x [dimensionless] RBE_max = ap/ax when (dose -> 0 Gy)\n",
    "    :params sbpx: beta_p / beta_x  [dimensionless] RBE_min = sqrt(bp/bx) when (dose -> inf Gy)\n",
    "    :params abx: alpha_x / beta_x  [Gy]\n",
    "    :params dzero: what to return in case of dose is zero (which would cause division by zero)\n",
    "    \"\"\"\n",
    "\n",
    "    _rbe = 1.0 / (2.0 * dose)\n",
    "    if hasattr(_rbe, '__iter__'):\n",
    "        _rbe[_rbe == np.inf] = dzero\n",
    "    else:\n",
    "        if _rbe == np.inf:\n",
    "            return dzero\n",
    "    delta = abx * abx + 4. * abx * apx * dose + 4. * sbpx * sbpx * dose * dose\n",
    "    delta *= (delta > 0)\n",
    "    _rbe *= (np.sqrt(delta) - abx)\n",
    "    return _rbe"
   ]
  },
  {
   "cell_type": "code",
   "execution_count": null,
   "metadata": {
    "id": "l2ji9eTwA5H2"
   },
   "outputs": [],
   "source": [
    "def biological_dose (q,ab,dos_cube,let_cube):\n",
    "    result = pt.DosCube()\n",
    "    result.cube = rbe_wedenberg(dos_cube.cube, let_cube.cube, ab, q) * dos_cube.cube\n",
    "    return result"
   ]
  },
  {
   "cell_type": "markdown",
   "metadata": {
    "id": "lQONoenzVPAk"
   },
   "source": [
    "# Prescribed dose and number of fractionation"
   ]
  },
  {
   "cell_type": "code",
   "execution_count": null,
   "metadata": {},
   "outputs": [],
   "source": [
    "## Choose alpha/beta ratio == 2.0 or 10.0\n",
    "dose_pres = 55.8 \n",
    "fraction=31.\n",
    "dose_per_fr=dose_pres/fraction\n",
    "ab=2.\n",
    "bins=256"
   ]
  },
  {
   "cell_type": "code",
   "execution_count": null,
   "metadata": {
    "id": "zYc23qhwA5H-"
   },
   "outputs": [],
   "source": [
    "def calculate_dvh (qval,mask,dose_cube,let_cube, ab=ab,bins=bins,dose_pres=dose_pres,fraction=dose_per_fr):\n",
    "    \n",
    "    biol_dose= rbe_wedenberg(dose=dose_cube.cube[mask], let=let_cube.cube[mask], abx=ab, q=qval) * dose_cube.cube[mask]\n",
    "\n",
    "    _xrange = (0.0,2.4)\n",
    "    _hist, x = np.histogram((biol_dose), bins=1024, range=_xrange,density=True)\n",
    "    _fhist = _hist[::-1]  # reverse histogram, so first element is for highest dose\n",
    "    _fhist = np.cumsum(_fhist)\n",
    "    _hist = _fhist[::-1]  # flip back again to normal representation\n",
    "\n",
    "    y = 100.0 * _hist / _hist[0]  # volume histograms always plot the right edge of bin, since V(D < x_pos).\n",
    "    y = np.insert(y, 0, 100.0, axis=0)  # but the leading bin edge is always at V = 100.0%\n",
    "    return(x,y)    "
   ]
  },
  {
   "cell_type": "code",
   "execution_count": null,
   "metadata": {
    "id": "_saKqqX7YDoZ"
   },
   "outputs": [],
   "source": [
    "def plot_dvh ( dose_cube, bins ):\n",
    "   \n",
    "\n",
    "    _hist, x = np.histogram(dose_cube, bins=bins, density=True)\n",
    "    _fhist = _hist[::-1]  # reverse histogram, so first element is for highest dose\n",
    "    _fhist = np.cumsum(_fhist)\n",
    "    _hist = _fhist[::-1]  # flip back again to normal representation\n",
    "\n",
    "    y = 100.0 * _hist / _hist[0]  # volume histograms always plot the right edge of bin, since V(D < x_pos).\n",
    "    y = np.insert(y, 0, 100.0, axis=0)  # but the leading bin edge is always at V = 100.0%\n",
    "    return(x,y)    "
   ]
  },
  {
   "cell_type": "code",
   "execution_count": null,
   "metadata": {},
   "outputs": [],
   "source": [
    "def plot_dvh_xrange ( dose_cube,bins = 1024):\n",
    "   \n",
    "    _xrange=(0,2.4)\n",
    "    _hist, x = np.histogram(dose_cube, bins=bins,range=_xrange, density=True)\n",
    "    _fhist = _hist[::-1]  # reverse histogram, so first element is for highest dose\n",
    "    _fhist = np.cumsum(_fhist)\n",
    "    _hist = _fhist[::-1]  # flip back again to normal representation\n",
    "\n",
    "    y = 100.0 * _hist / _hist[0]  # volume histograms always plot the right edge of bin, since V(D < x_pos).\n",
    "    y = np.insert(y, 0, 100.0, axis=0)  # but the leading bin edge is always at V = 100.0%\n",
    "    return(x,y)  "
   ]
  },
  {
   "cell_type": "markdown",
   "metadata": {
    "id": "mvbTrMoOOPJe"
   },
   "source": [
    "# Read data"
   ]
  },
  {
   "cell_type": "code",
   "execution_count": null,
   "metadata": {
    "id": "vwSQexMmp1DL"
   },
   "outputs": [],
   "source": [
    "#original plan from CCB\n",
    "patient_org = 'data/plan1'\n",
    "#modyfied plan (5 degrees)\n",
    "patient_mod = 'data/plan2'"
   ]
  },
  {
   "cell_type": "code",
   "execution_count": null,
   "metadata": {
    "id": "aYZY2eXSqr_n"
   },
   "outputs": [],
   "source": [
    "#q\n",
    "open_fname = os.path.join('tmp','distrib_q.h5')\n",
    "q = pd.read_hdf(open_fname, 'data_1')"
   ]
  },
  {
   "cell_type": "markdown",
   "metadata": {
    "id": "9CyvyFsfqmMI"
   },
   "source": [
    "# Patient: PyTrip Data"
   ]
  },
  {
   "cell_type": "code",
   "execution_count": null,
   "metadata": {
    "colab": {
     "base_uri": "https://localhost:8080/"
    },
    "executionInfo": {
     "elapsed": 31538,
     "status": "ok",
     "timestamp": 1619441843890,
     "user": {
      "displayName": "Kinga Jeleń",
      "photoUrl": "https://lh3.googleusercontent.com/a-/AOh14Gjr72QezuwSivoe6vTPOVEEhpWXvwAsO1jS132a5w=s64",
      "userId": "09885435343859345826"
     },
     "user_tz": -120
    },
    "id": "e0qiLyHFA5Hg",
    "outputId": "73bfd6d6-814e-415b-e9c9-88d7c89c90e7"
   },
   "outputs": [],
   "source": [
    "## FIRST CASE\n",
    "\n",
    "patient_name = '/inspire07pancreas'\n",
    "file_corename = os.path.join(patient_org+patient_name)\n",
    "\n",
    "dos_cube = pt.DosCube()\n",
    "dos_cube.read(file_corename)\n",
    "dos_cube.cube = dos_cube.cube.astype(np.float64)\n",
    "dos_cube.cube /= 1000.0\n",
    "dos_cube.cube *= dose_per_fr/1.1\n",
    "\n",
    "let_cube = pt.LETCube()\n",
    "let_cube.read(file_corename)\n",
    "\n",
    "ctx_cube = pt.CtxCube()\n",
    "ctx_cube.read(file_corename+'.ctx')\n",
    "\n",
    "vdx_cube = pt.VdxCube(ctx_cube)\n",
    "vdx_cube.read(file_corename + '.vdx')\n",
    "\n",
    "# index of point in original plan with highest dose\n",
    "imax = np.unravel_index(dos_cube.cube.argmax(), dos_cube.cube.shape)"
   ]
  },
  {
   "cell_type": "code",
   "execution_count": null,
   "metadata": {},
   "outputs": [],
   "source": [
    "imax"
   ]
  },
  {
   "cell_type": "code",
   "execution_count": null,
   "metadata": {
    "id": "vsN8Id4cMH2c"
   },
   "outputs": [],
   "source": [
    "#SECOND CASE\n",
    "\n",
    "patient_name = '/inspire07pancreas'\n",
    "file_corename = os.path.join(patient_mod+patient_name)\n",
    "\n",
    "dos_cube2 = pt.DosCube()\n",
    "dos_cube2.read(file_corename)\n",
    "dos_cube2.cube = dos_cube2.cube.astype(np.float64)\n",
    "dos_cube2.cube /= 1000.0\n",
    "dos_cube2.cube *= dose_per_fr/1.1\n",
    "\n",
    "let_cube2 = pt.LETCube()\n",
    "let_cube2.read(file_corename)\n",
    "\n",
    "ctx_cube2 = pt.CtxCube()\n",
    "ctx_cube2.read(file_corename)\n",
    "\n",
    "vdx_cube2 = pt.VdxCube(ctx_cube2)\n",
    "vdx_cube2.read(file_corename + '.vdx')"
   ]
  },
  {
   "cell_type": "code",
   "execution_count": null,
   "metadata": {
    "colab": {
     "base_uri": "https://localhost:8080/"
    },
    "executionInfo": {
     "elapsed": 32722,
     "status": "ok",
     "timestamp": 1619441845088,
     "user": {
      "displayName": "Kinga Jeleń",
      "photoUrl": "https://lh3.googleusercontent.com/a-/AOh14Gjr72QezuwSivoe6vTPOVEEhpWXvwAsO1jS132a5w=s64",
      "userId": "09885435343859345826"
     },
     "user_tz": -120
    },
    "id": "tTo-I4D_vFA6",
    "outputId": "eb6ed846-0525-4de9-e47e-09fd35790119"
   },
   "outputs": [],
   "source": [
    "ctx_cube.slice_pos[imax[0]]"
   ]
  },
  {
   "cell_type": "code",
   "execution_count": null,
   "metadata": {
    "colab": {
     "base_uri": "https://localhost:8080/"
    },
    "executionInfo": {
     "elapsed": 32701,
     "status": "ok",
     "timestamp": 1619441845093,
     "user": {
      "displayName": "Kinga Jeleń",
      "photoUrl": "https://lh3.googleusercontent.com/a-/AOh14Gjr72QezuwSivoe6vTPOVEEhpWXvwAsO1jS132a5w=s64",
      "userId": "09885435343859345826"
     },
     "user_tz": -120
    },
    "id": "q1AUmfnnOth-",
    "outputId": "27ff1396-4179-46d6-a15f-943b7ba436d6"
   },
   "outputs": [],
   "source": [
    "ctx_cube.yoffset"
   ]
  },
  {
   "cell_type": "code",
   "execution_count": null,
   "metadata": {
    "colab": {
     "base_uri": "https://localhost:8080/"
    },
    "executionInfo": {
     "elapsed": 32690,
     "status": "ok",
     "timestamp": 1619441845093,
     "user": {
      "displayName": "Kinga Jeleń",
      "photoUrl": "https://lh3.googleusercontent.com/a-/AOh14Gjr72QezuwSivoe6vTPOVEEhpWXvwAsO1jS132a5w=s64",
      "userId": "09885435343859345826"
     },
     "user_tz": -120
    },
    "id": "WI534ql3O_LT",
    "outputId": "72451182-0ae5-4f26-e13c-0f05322d9a44"
   },
   "outputs": [],
   "source": [
    "ctx_cube.dimy"
   ]
  },
  {
   "cell_type": "code",
   "execution_count": null,
   "metadata": {
    "colab": {
     "base_uri": "https://localhost:8080/"
    },
    "executionInfo": {
     "elapsed": 32679,
     "status": "ok",
     "timestamp": 1619441845094,
     "user": {
      "displayName": "Kinga Jeleń",
      "photoUrl": "https://lh3.googleusercontent.com/a-/AOh14Gjr72QezuwSivoe6vTPOVEEhpWXvwAsO1jS132a5w=s64",
      "userId": "09885435343859345826"
     },
     "user_tz": -120
    },
    "id": "ymn-a-vHQbB8",
    "outputId": "01eed92e-e4fd-459b-d27f-f7c978aa3321"
   },
   "outputs": [],
   "source": [
    "dos_cube.pixel_size"
   ]
  },
  {
   "cell_type": "markdown",
   "metadata": {},
   "source": [
    "Organs"
   ]
  },
  {
   "cell_type": "code",
   "execution_count": null,
   "metadata": {
    "colab": {
     "base_uri": "https://localhost:8080/"
    },
    "executionInfo": {
     "elapsed": 32713,
     "status": "ok",
     "timestamp": 1619441845091,
     "user": {
      "displayName": "Kinga Jeleń",
      "photoUrl": "https://lh3.googleusercontent.com/a-/AOh14Gjr72QezuwSivoe6vTPOVEEhpWXvwAsO1jS132a5w=s64",
      "userId": "09885435343859345826"
     },
     "user_tz": -120
    },
    "id": "V1uxBDwzojD9",
    "outputId": "a3c09523-25af-456c-fc3e-19ce140d54c0"
   },
   "outputs": [],
   "source": [
    "print(vdx_cube.voi_names())"
   ]
  },
  {
   "cell_type": "code",
   "execution_count": null,
   "metadata": {
    "id": "qI5PmoWWqWYH"
   },
   "outputs": [],
   "source": [
    "contour_data = vdx_cube.get_voi_by_name('iCTV_5580').get_slice_at_pos(ctx_cube.slice_pos[imax[0]]).contours[0].contour\n",
    "contour_liver = vdx_cube.get_voi_by_name('liver').get_slice_at_pos(ctx_cube.slice_pos[imax[0]]).contours[0].contour\n",
    "contour_kidney_L = vdx_cube.get_voi_by_name('kidney_L').get_slice_at_pos(ctx_cube.slice_pos[imax[0]]).contours[0].contour\n",
    "contour_kidney_R = vdx_cube.get_voi_by_name('kidney_R').get_slice_at_pos(ctx_cube.slice_pos[imax[0]]).contours[0].contour\n",
    "contour_spinalCord = vdx_cube.get_voi_by_name('SpinalCord').get_slice_at_pos(ctx_cube.slice_pos[imax[0]]).contours[0].contour\n",
    "contour_spleen = vdx_cube.get_voi_by_name('spleen').get_slice_at_pos(ctx_cube.slice_pos[110]).contours[0].contour\n",
    "contour_duodenum = vdx_cube.get_voi_by_name('duodenum').get_slice_at_pos(ctx_cube.slice_pos[90]).contours[0].contour"
   ]
  },
  {
   "cell_type": "code",
   "execution_count": null,
   "metadata": {
    "id": "xwkCEpAKqjJG"
   },
   "outputs": [],
   "source": [
    "x = [item[0] / 10. for item in contour_data]\n",
    "y = [item[1] / 10. for item in contour_data]\n",
    "x_liv = [item[0] / 10. for item in contour_liver]\n",
    "y_liv = [item[1] / 10. for item in contour_liver]\n",
    "x_kidney_L = [item[0] / 10. for item in contour_kidney_L]\n",
    "y_kidney_L = [item[1] / 10. for item in contour_kidney_L]\n",
    "x_kidney_R = [item[0] / 10. for item in contour_kidney_R]\n",
    "y_kidney_R = [item[1] / 10. for item in contour_kidney_R]\n",
    "x_spleen = [item[0] / 10. for item in contour_spleen]\n",
    "y_spleen = [item[1] / 10. for item in contour_spleen]\n",
    "x_spinalCord = [item[0] / 10. for item in contour_spinalCord]\n",
    "y_spinalCord = [item[1] / 10. for item in contour_spinalCord]\n",
    "x_duodenum = [item[0] / 10. for item in contour_duodenum]\n",
    "y_duodenum = [item[1] / 10. for item in contour_duodenum]"
   ]
  },
  {
   "cell_type": "markdown",
   "metadata": {},
   "source": [
    "Visualization dose in patient dor two plans"
   ]
  },
  {
   "cell_type": "code",
   "execution_count": null,
   "metadata": {
    "colab": {
     "base_uri": "https://localhost:8080/",
     "height": 534
    },
    "executionInfo": {
     "elapsed": 33824,
     "status": "ok",
     "timestamp": 1619441846254,
     "user": {
      "displayName": "Kinga Jeleń",
      "photoUrl": "https://lh3.googleusercontent.com/a-/AOh14Gjr72QezuwSivoe6vTPOVEEhpWXvwAsO1jS132a5w=s64",
      "userId": "09885435343859345826"
     },
     "user_tz": -120
    },
    "id": "pjuNZ8fjrcqi",
    "outputId": "778fdab8-bd57-4a2d-fc7f-eee2a92a55ce"
   },
   "outputs": [],
   "source": [
    "fig, (ax1, ax2) = plt.subplots(1,2, figsize=(22,12))\n",
    "\n",
    "pixel_mm = dos_cube.pixel_size/10.\n",
    "pixel_mm2 = dos_cube2.pixel_size/10.\n",
    "\n",
    "\n",
    "im11 = ax1.imshow(ctx_cube.cube[imax[0],:,:],\n",
    "                cmap=plt.cm.gray,\n",
    "                interpolation='nearest',  \n",
    "                origin=\"lower\",\n",
    "                 extent=[ctx_cube.xoffset/10,ctx_cube.xoffset/10 + ctx_cube.dimx*pixel_mm,\n",
    "                         ctx_cube.yoffset/10,ctx_cube.yoffset/10 + ctx_cube.dimy*pixel_mm])\n",
    "\n",
    "im22 = ax2.imshow(ctx_cube2.cube[imax[0],:,:],\n",
    "                cmap=plt.cm.gray,\n",
    "                interpolation='nearest',  \n",
    "                origin=\"lower\",\n",
    "                extent=[ctx_cube.xoffset/10,ctx_cube.xoffset/10 + ctx_cube.dimx*pixel_mm2,\n",
    "                         ctx_cube.yoffset/10,ctx_cube.yoffset/10 + ctx_cube.dimy*pixel_mm2])\n",
    "\n",
    "cmap1 = copy.copy(mpl.cm.get_cmap(\"jet\"))\n",
    "cmap1 = plt.cm.jet\n",
    "cmap1.set_under(\"k\", alpha=0.0) \n",
    "cmap1.set_over(\"k\", alpha=0.0)\n",
    "cmap1.set_bad(\"k\", alpha=0.0) \n",
    "\n",
    "dmin = dos_cube.cube.min()\n",
    "dmax = dos_cube.cube.max() * 1.1\n",
    "tmpdat = ma.masked_where(dos_cube.cube[imax[0],:,:] <= dmin, dos_cube.cube[imax[0],:,:])  # Sacrificial goat\n",
    "\n",
    "# plot new data cube\n",
    "im1 = ax1.imshow(\n",
    "    tmpdat,\n",
    "    cmap=cmap1,\n",
    "    norm=colors.Normalize(vmin=0, vmax=dmax, clip=False),\n",
    "    alpha=0.5,\n",
    "    interpolation='nearest',  # each pixel will get colour of nearest neighbour, useful when displaying\n",
    "    origin=\"lower\",  # ['upper' | 'lower']:\n",
    "    extent=[ctx_cube.xoffset/10,ctx_cube.xoffset/10 + ctx_cube.dimx*pixel_mm,\n",
    "ctx_cube.yoffset/10,ctx_cube.yoffset/10 + ctx_cube.dimy*pixel_mm])\n",
    "\n",
    "\n",
    "dmin2 = dos_cube2.cube.min()\n",
    "dmax2 = dos_cube2.cube.max() * 1.1\n",
    "tmpdat2 = ma.masked_where(dos_cube2.cube[imax[0],:,:] <= dmin2, dos_cube2.cube[imax[0],:,:])  # Sacrificial goat\n",
    "\n",
    "im2 = ax2.imshow(tmpdat2, \n",
    "                cmap=cmap1,\n",
    "                norm=colors.Normalize(vmin=0, vmax=dmax2, clip=False),\n",
    "                alpha=0.5,\n",
    "                interpolation='nearest',\n",
    "                 origin=\"lower\",\n",
    "                 extent=[ctx_cube2.xoffset/10,ctx_cube2.xoffset/10 + ctx_cube2.dimx*pixel_mm2,\n",
    "                         ctx_cube2.yoffset/10,ctx_cube2.yoffset/10 + ctx_cube2.dimy*pixel_mm2])\n",
    "\n",
    "\n",
    "ax1.plot(x,y,c='y', label = \"CTV\")\n",
    "ax2.plot(x,y,c='y', label = \"CTV\")\n",
    "\n",
    "ax1.plot(x_kidney_L,y_kidney_L, c='orange',label = \"left kidney\")\n",
    "ax2.plot(x_kidney_L,y_kidney_L, c='orange',label = \"left kidney\")\n",
    "ax1.plot(x_kidney_R,y_kidney_R, c='r',label = \"right kidney\")\n",
    "ax2.plot(x_kidney_R,y_kidney_R, c='r',label = \"right kidney\")\n",
    "\n",
    "ax1.plot(x_liv,y_liv,c='g',label = \"liver\")\n",
    "ax2.plot(x_liv,y_liv,c='g',label='liver')\n",
    "\n",
    "ax1.plot(x_spleen,y_spleen, c='blue',label = \"spleen\")\n",
    "ax2.plot(x_spleen,y_spleen, c='blue',label = \"spleen\")\n",
    "ax1.plot(x_spinalCord,y_spinalCord, c='yellow',label = \"spinalCord\")\n",
    "ax2.plot(x_spinalCord,y_spinalCord, c='yellow',label = \"spinalCord\")\n",
    "\n",
    "ax1.plot(x_duodenum,y_duodenum, c='purple',label = \"duodenum\")\n",
    "ax2.plot(x_duodenum,y_duodenum, c='purple',label = \"duodenum\")\n",
    "\n",
    "ax1.set_xlabel('X [cm]',fontsize=22)\n",
    "ax1.set_ylabel('Y [cm]',fontsize=22)\n",
    "ax2.set_xlabel('X [cm]',fontsize=22)\n",
    "ax2.set_ylabel('Y [cm]',fontsize=22)\n",
    "\n",
    "##Plan 1 \n",
    "ax1.set_title(\"Plan 1\\n\\n\\n\\n\",fontsize=26)\n",
    "ax2.set_title(\"Plan 2\\n\\n\\n\\n\",fontsize=26)\n",
    "\n",
    "ax1.legend(title = \"Irradiated areas\",loc='best',bbox_to_anchor=(2 , 1.28),fancybox=True, framealpha=0.6, title_fontsize=22,ncol=4)\n",
    "#ax2.legend(title = \"Irradiated areas\",loc='best',bbox_to_anchor=(1, 1.2),fancybox=True, framealpha=0.6, title_fontsize=22,ncol=2)\n",
    "\n",
    "ax1.invert_yaxis()\n",
    "ax2.invert_yaxis()\n",
    "\n",
    "ax1.plot([-25, 0], [-10,-25], 'w-')\n",
    "ax1.text(-25,-15, r'$240^0$',fontsize=22, color='w')\n",
    "ax1.plot([0,25], [-25,-5], 'w-')\n",
    "ax1.text(18,-11, r'$130^0$',fontsize=22, color='w')\n",
    "\n",
    "\n",
    "ax2.plot([-25, 0], [-13,-25], 'w-')\n",
    "ax2.text(-25,-17, r'$245^0$',fontsize=22, color='w')\n",
    "\n",
    "ax2.plot([0,25], [-25,-8], 'w-')\n",
    "ax2.text(18,-13, r'$125^0$',fontsize=22, color='w')\n",
    "\n",
    "fig.colorbar(im1, ax=ax1, label =\"Dose [Gy]\", shrink = 0.5).set_label(label=\"Dose [Gy]\", size=24, labelpad=-15, y=1.15, rotation=0)\n",
    "fig.colorbar(im2, ax=ax2, label =\"Dose [Gy]\", shrink = 0.5 ).set_label(label=\"Dose [Gy]\", size=24, labelpad=-15, y=1.15, rotation=0)"
   ]
  },
  {
   "cell_type": "code",
   "execution_count": null,
   "metadata": {
    "colab": {
     "base_uri": "https://localhost:8080/",
     "height": 740
    },
    "executionInfo": {
     "elapsed": 34559,
     "status": "ok",
     "timestamp": 1619441847006,
     "user": {
      "displayName": "Kinga Jeleń",
      "photoUrl": "https://lh3.googleusercontent.com/a-/AOh14Gjr72QezuwSivoe6vTPOVEEhpWXvwAsO1jS132a5w=s64",
      "userId": "09885435343859345826"
     },
     "user_tz": -120
    },
    "id": "RNbmiaMr-yt_",
    "outputId": "0a6e6b78-a153-449f-cbef-aa6df7a2f033"
   },
   "outputs": [],
   "source": [
    "#Dose difference in patient for two plans\n",
    "fig, (ax1) = plt.subplots(1,1, figsize=(16,12))\n",
    "pixel_mm = dos_cube.pixel_size/10.\n",
    "\n",
    "im11 = ax1.imshow(ctx_cube2.cube[imax[0],:,:],\n",
    "                cmap=plt.cm.gray,\n",
    "                interpolation='nearest',  \n",
    "                origin=\"lower\",\n",
    "                 extent=[ctx_cube.xoffset/10,ctx_cube.xoffset/10 + ctx_cube.dimx*pixel_mm,\n",
    "                         ctx_cube.yoffset/10,ctx_cube.yoffset/10 + ctx_cube.dimy*pixel_mm])\n",
    "\n",
    "tmpdat = ma.masked_where((dos_cube2.cube[imax[0],:,:] - dos_cube.cube[imax[0],:,:]) <= -1.25,\n",
    "                         (dos_cube2.cube[imax[0],:,:] - dos_cube.cube[imax[0],:,:]) ) # Sacrificial goat\n",
    "\n",
    "im1 = ax1.imshow(dos_cube2.cube[imax[0],:,:] - dos_cube.cube[imax[0],:,:], \n",
    "                  cmap=cm.seismic,vmin=-1.25,vmax=1.25,interpolation='nearest', \n",
    "                  origin=\"lower\",              #upper\n",
    "                  alpha=0.4,\n",
    "                  extent=[ctx_cube.xoffset/10,ctx_cube.xoffset/10 + ctx_cube.dimx*pixel_mm,\n",
    "                          ctx_cube.yoffset/10,ctx_cube.yoffset/10 + ctx_cube.dimy*pixel_mm])\n",
    "\n",
    "\n",
    "ax1.plot(x,y,c='r', label = \"CTV\")\n",
    "ax1.plot(x_kidney_L,y_kidney_L, c='orange',label = \"left kidney\")\n",
    "ax1.plot(x_kidney_R,y_kidney_R, c='red',label = \"right kidney\")\n",
    "ax1.plot(x_liv,y_liv,c='green',label = \"liver\")\n",
    "ax1.plot(x_spleen,y_spleen, c='blue',label = \"spleen\")\n",
    "ax1.plot(x_spinalCord,y_spinalCord, c='yellow',label = \"spinalCord\")\n",
    "ax1.plot(x_duodenum,y_duodenum, c='purple',label = \"duodenum\")\n",
    "\n",
    "ax1.set_xlabel('X [cm]',fontsize=15)\n",
    "ax1.set_ylabel('Y [cm]',fontsize=15)\n",
    "ax1.set_title(\"Differences\\n\\n\\n\\n\",fontsize=20)\n",
    "ax1.legend(title = \"Irradiated areas\",loc='best',bbox_to_anchor=(1.05, 1.15),fancybox=True, title_fontsize=22,framealpha=0.6,ncol=4)\n",
    "\n",
    "ax1.invert_yaxis()\n",
    "\n",
    "cbar= fig.colorbar(im1, ax=ax1,ticks=[-1, 0, 1], shrink = 0.5,extend='both')\n",
    "cbar.set_label(label=\"Dose [Gy]\", size=18, labelpad=-8, y=1.05, rotation=0)\n",
    "cbar.set_ticks([-1.25,-1.,0,1.,1.25])\n",
    "cbar.set_ticklabels(['-1.25','Plan 1','0', 'Plan 2','1.25'])\n",
    "cbar.ax.tick_params(labelsize=22)"
   ]
  },
  {
   "cell_type": "markdown",
   "metadata": {},
   "source": [
    "Uncetainties RBE for Wedenberg and Wedenberg B transversal sections"
   ]
  },
  {
   "cell_type": "code",
   "execution_count": null,
   "metadata": {},
   "outputs": [],
   "source": [
    "#mean q value with 85% CI\n",
    "mean_W, std_W = 0.434, 1.44*0.0301\n",
    "mean_WB, down_WB, up_WB = q.q.mean(), q.q.quantile(0.075), q.q.quantile(0.925)"
   ]
  },
  {
   "cell_type": "code",
   "execution_count": null,
   "metadata": {},
   "outputs": [],
   "source": [
    "#Uncetainties RBE for Wedenberg transversal section\n",
    "\n",
    "err_W=[]\n",
    "err_up_W=[]\n",
    "err_down_W=[]\n",
    "\n",
    "for dose, let in zip(dos_cube.cube[imax[0],imax[1],:],let_cube.cube[imax[0],imax[1],:]):\n",
    "    \n",
    "    if dose>0:\n",
    "        df=rbe_wedenberg(dose,let,ab,mean_W)*dose\n",
    "        df_up=rbe_wedenberg(dose,let,ab,mean_W+std_W)*dose\n",
    "        df_down=rbe_wedenberg(dose,let,ab,mean_W-std_W)*dose\n",
    "\n",
    "        err_W.append(df *100)\n",
    "        err_up_W.append(df_up *100)\n",
    "        err_down_W.append(df_down *100)\n",
    "\n",
    "    else:\n",
    "        err_W.append(0)\n",
    "        err_up_W.append(0)\n",
    "        err_down_W.append(0)"
   ]
  },
  {
   "cell_type": "code",
   "execution_count": null,
   "metadata": {},
   "outputs": [],
   "source": [
    "#Uncetainties RBE for Wedenberg transversal section\n",
    "plt.figure(figsize=(22,10))\n",
    "\n",
    "plt.plot(err_W,'r', linewidth=2., label = \"mean\")\n",
    "plt.plot(err_up_W,'r.', linewidth=2.)\n",
    "plt.plot(err_down_W,'r.', linewidth=2.)\n",
    "\n",
    "#Jak zamienić na [cm] na x-ach\n",
    "plt.ylabel(\"Biological Dose[Gy(RBE)]\", fontsize = 35)\n",
    "plt.xlabel(\"x-coordinate\", fontsize = 35)\n",
    "plt.legend(loc = \"best\",  fontsize = 35)\n",
    "\n",
    "plt.yticks(fontsize = 15)\n",
    "plt.xlim(210,330)\n",
    "plt.grid()\n",
    "plt.minorticks_on()\n",
    "plt.grid(which='minor', linestyle=':', linewidth='0.2', color='black')\n",
    "\n",
    "plt.rcParams['xtick.direction'] = 'in' \n",
    "plt.rcParams['ytick.direction'] = 'in' \n",
    "plt.rcParams['xtick.top'] = True \n",
    "plt.rcParams['ytick.right'] = True"
   ]
  },
  {
   "cell_type": "code",
   "execution_count": null,
   "metadata": {},
   "outputs": [],
   "source": [
    "#Uncetainties RBE for WedenbergB transversal section\n",
    "\n",
    "err_WB=[]\n",
    "err_up_WB=[]\n",
    "err_down_WB=[]\n",
    "\n",
    "for dose, let in zip(dos_cube.cube[imax[0],imax[1],:],let_cube.cube[imax[0],imax[1],:]):\n",
    "    \n",
    "    if dose>0:\n",
    "        df=rbe_wedenberg(dose,let,ab,q.mean())*dose\n",
    "        df_up=rbe_wedenberg(dose,let,ab,q.mean()+q.std())*dose\n",
    "        df_down=rbe_wedenberg(dose,let,ab,q.mean()-q.std())*dose\n",
    "\n",
    "        err_WB.append(df *100)\n",
    "        err_up_WB.append(df_up *100)\n",
    "        err_down_WB.append(df_down *100)\n",
    "\n",
    "    else:\n",
    "        err_WB.append(0)\n",
    "        err_up_WB.append(0)\n",
    "        err_down_WB.append(0)"
   ]
  },
  {
   "cell_type": "code",
   "execution_count": null,
   "metadata": {},
   "outputs": [],
   "source": [
    "#Uncetainties RBE for WedenbergB transversal section\n",
    "\n",
    "plt.figure(figsize=(22,10))\n",
    "\n",
    "plt.plot(err_WB,'g', linewidth=2., label = \"mean\")\n",
    "plt.plot(err_up_WB,'g.', linewidth=2.)\n",
    "plt.plot(err_down_WB,'g.', linewidth=2.)\n",
    "\n",
    "plt.ylabel(\"Biological Dose[Gy(RBE)]\", fontsize = 35)\n",
    "plt.yticks(fontsize = 15)\n",
    "\n",
    "\n",
    "#Jak zamienić na [cm] na x-ach\n",
    "\n",
    "plt.xlabel(\"x-coordinate\", fontsize = 35)\n",
    "plt.legend(loc = \"best\",  fontsize = 35)\n",
    "\n",
    "plt.xlim(210,330)\n",
    "plt.grid()\n",
    "plt.minorticks_on()\n",
    "plt.grid(which='minor', linestyle=':', linewidth='0.2', color='black')\n",
    "#plt.axvspan(80*dos_cube.pixel_size,106*dos_cube.pixel_size, alpha=0.3, color='gray')\n",
    "\n",
    "\n",
    "plt.rcParams['xtick.direction'] = 'in' \n",
    "plt.rcParams['ytick.direction'] = 'in' \n",
    "plt.rcParams['xtick.top'] = True \n",
    "plt.rcParams['ytick.right'] = True"
   ]
  },
  {
   "cell_type": "markdown",
   "metadata": {},
   "source": [
    "Compare uncertainties for 2 plans"
   ]
  },
  {
   "cell_type": "code",
   "execution_count": null,
   "metadata": {
    "colab": {
     "base_uri": "https://localhost:8080/",
     "height": 654
    },
    "executionInfo": {
     "elapsed": 35540,
     "status": "ok",
     "timestamp": 1619441848001,
     "user": {
      "displayName": "Kinga Jeleń",
      "photoUrl": "https://lh3.googleusercontent.com/a-/AOh14Gjr72QezuwSivoe6vTPOVEEhpWXvwAsO1jS132a5w=s64",
      "userId": "09885435343859345826"
     },
     "user_tz": -120
    },
    "id": "RbSSA9azmzTr",
    "outputId": "cbbbcf70-10f0-4c14-fc65-07e899a0f6c2"
   },
   "outputs": [],
   "source": [
    "plt.figure(figsize=(22,10))\n",
    "\n",
    "\n",
    "plt.plot(err_W,'r', linewidth=2., label = \"Wedenberg model\")\n",
    "plt.plot(err_up_W,'r.', linewidth=2.)\n",
    "plt.plot(err_down_W,'r.', linewidth=2.)\n",
    "\n",
    "plt.plot(err_WB,'g', linewidth=2., label = \"WedenbergB model\")\n",
    "plt.plot(err_up_WB,'g.', linewidth=2.)\n",
    "plt.plot(err_down_WB,'g.', linewidth=2.)\n",
    "\n",
    "plt.ylabel(\"Biological Dose\\nuncertainties [%]\", fontsize = 35)\n",
    "plt.yticks(fontsize = 15)\n",
    "\n",
    "\n",
    "#Change to cm on axis\n",
    "\n",
    "plt.xlabel(\"x-coordinate\", fontsize = 35)\n",
    "plt.legend(loc = \"best\",  fontsize = 35)\n",
    "\n",
    "plt.xlim(210,330)\n",
    "plt.grid()\n",
    "plt.minorticks_on()\n",
    "plt.grid(which='minor', linestyle=':', linewidth='0.2', color='black')\n",
    "#plt.axvspan(80*dos_cube.pixel_size,106*dos_cube.pixel_size, alpha=0.3, color='gray')\n",
    "\n",
    "\n",
    "plt.rcParams['xtick.direction'] = 'in' \n",
    "plt.rcParams['ytick.direction'] = 'in' \n",
    "plt.rcParams['xtick.top'] = True \n",
    "plt.rcParams['ytick.right'] = True"
   ]
  },
  {
   "cell_type": "markdown",
   "metadata": {
    "id": "TnF03VSkLPXP"
   },
   "source": [
    "# DVH - volume_histogram() function"
   ]
  },
  {
   "cell_type": "code",
   "execution_count": null,
   "metadata": {
    "id": "KgbhqrSoA5IG"
   },
   "outputs": [],
   "source": [
    "#Clinical model: factor 1.1 : Plan 1 i 2\n",
    "#normalization for 1.8 Gy \n",
    "dvh_clinical = VolHist.volume_histogram(dos_cube.cube,voi=vdx_cube.get_voi_by_name('iCTV_5580'),bins=256)\n",
    "dvh2_clinical = VolHist.volume_histogram(dos_cube2.cube,voi=vdx_cube.get_voi_by_name('iCTV_5580'),bins=256)"
   ]
  },
  {
   "cell_type": "code",
   "execution_count": null,
   "metadata": {
    "id": "c5xxG2tiLOs2"
   },
   "outputs": [],
   "source": [
    "# static volume_histogram(data_cube, voi=None, bins=256)\n",
    "dvh = VolHist(dos_cube,voi=vdx_cube.get_voi_by_name('iCTV_5580')).volume_histogram(dos_cube.cube,voi=vdx_cube.get_voi_by_name('iCTV_5580'),bins=256)\n",
    "dvh2 = VolHist(dos_cube2,voi=vdx_cube.get_voi_by_name('iCTV_5580')).volume_histogram(dos_cube2.cube,voi=vdx_cube.get_voi_by_name('iCTV_5580'),bins=256)   #inna metoda"
   ]
  },
  {
   "cell_type": "code",
   "execution_count": null,
   "metadata": {},
   "outputs": [],
   "source": [
    "plt.figure(figsize=(22,10))\n",
    "\n",
    "plt.plot(dvh[0], dvh[1], 'k:', linewidth=4, label = \"Plan 1\")\n",
    "plt.plot(dvh2[0], dvh2[1], 'b', linewidth=4, label = \"Plan 2\")\n",
    "\n",
    "plt.axvline(dose_per_fr/1.1, label=\"Dose per fraction\")\n",
    "\n",
    "#Graph visualisation\n",
    "plt.title(\"Physical dose in CTV\"+\"\\n\\n\\n\")\n",
    "plt.ylabel(\"Volume[%]\")\n",
    "plt.xlabel(\"\\nDose[Gy]\")\n",
    "\n",
    "plt.xlim(0,None)\n",
    "\n",
    "plt.legend(loc='best',title_fontsize=22,fancybox=True, shadow=True,ncol=4)\n",
    "\n",
    "plt.grid()\n",
    "plt.minorticks_on()\n",
    "plt.grid(which='minor', linestyle=':', linewidth='0.2', color='black')\n"
   ]
  },
  {
   "cell_type": "markdown",
   "metadata": {
    "id": "XXFfYVExA5H2"
   },
   "source": [
    "# Biological Dose"
   ]
  },
  {
   "cell_type": "code",
   "execution_count": null,
   "metadata": {},
   "outputs": [],
   "source": [
    "organs = ['iCTV_5580','liver','spleen','kidney_L','kidney_R','pancreas','Spinalcord','duodenum']"
   ]
  },
  {
   "cell_type": "code",
   "execution_count": null,
   "metadata": {
    "id": "SUNuAAjhA5IE"
   },
   "outputs": [],
   "source": [
    "#długo sie liczy -> kilka minut, a za kolejną iteracją już szybko\n",
    "\n",
    "dvh_wedB = dict()\n",
    "dvh_wedB[\"Plan1\"] = dict()\n",
    "dvh_wedB[\"Plan2\"] = dict()\n",
    "\n",
    "for organ in organs:\n",
    "    target_voi = vdx_cube.get_voi_by_name(organ)\n",
    "    voi_cube = target_voi.get_voi_cube()\n",
    "    mask = (voi_cube.cube == 1000)\n",
    "    \n",
    "    dvh_wedB[\"Plan1\"][organ] = dict()\n",
    "    dvh_wedB[\"Plan1\"][organ][\"mean\"] = calculate_dvh(qval=mean_WB,mask=mask,dose_cube=dos_cube,let_cube=let_cube)\n",
    "    dvh_wedB[\"Plan1\"][organ][\"down\"] = calculate_dvh(qval=down_WB,mask=mask,dose_cube=dos_cube,let_cube=let_cube)\n",
    "    dvh_wedB[\"Plan1\"][organ][\"up\"] = calculate_dvh(qval=up_WB,mask=mask,dose_cube=dos_cube,let_cube=let_cube)\n",
    "    \n",
    "    dvh_wedB[\"Plan2\"][organ] = dict()\n",
    "    dvh_wedB[\"Plan2\"][organ][\"mean\"] = calculate_dvh(qval=mean_WB,mask=mask,dose_cube=dos_cube2,let_cube=let_cube2)\n",
    "    dvh_wedB[\"Plan2\"][organ][\"down\"] = calculate_dvh(qval=down_WB,mask=mask,dose_cube=dos_cube2,let_cube=let_cube2)\n",
    "    dvh_wedB[\"Plan2\"][organ][\"up\"] = calculate_dvh(qval=up_WB,mask=mask,dose_cube=dos_cube2,let_cube=let_cube2)"
   ]
  },
  {
   "cell_type": "code",
   "execution_count": null,
   "metadata": {},
   "outputs": [],
   "source": [
    "dvh_wed = dict()\n",
    "dvh_wed[\"Plan1\"] = dict()\n",
    "dvh_wed[\"Plan2\"] = dict()\n",
    "\n",
    "for organ in organs:\n",
    "    \n",
    "    target_voi = vdx_cube.get_voi_by_name(organ)\n",
    "    voi_cube = target_voi.get_voi_cube()\n",
    "    mask = (voi_cube.cube == 1000)\n",
    "    \n",
    "    dvh_wed[\"Plan1\"][organ] = dict()\n",
    "    dvh_wed[\"Plan2\"][organ] = dict()\n",
    "\n",
    "    if organ == 'iCTV_5580':\n",
    "        dvh_wed[\"Plan1\"][organ][\"mean\"] = calculate_dvh(qval=mean_W,mask=mask,dose_cube=dos_cube,let_cube=let_cube)\n",
    "        dvh_wed[\"Plan1\"][organ][\"down\"] =calculate_dvh(qval=mean_W-std_W,mask=mask,dose_cube=dos_cube,let_cube=let_cube)\n",
    "        dvh_wed[\"Plan1\"][organ][\"up\"] = calculate_dvh(qval=mean_W+std_W,mask=mask,dose_cube=dos_cube,let_cube=let_cube)\n",
    "        \n",
    "        dvh_wed[\"Plan2\"][organ][\"mean\"] = calculate_dvh(qval=mean_W,mask=mask,dose_cube=dos_cube2,let_cube=let_cube2)\n",
    "        dvh_wed[\"Plan2\"][organ][\"down\"] =calculate_dvh(qval=mean_W-std_W,mask=mask,dose_cube=dos_cube2,let_cube=let_cube2)\n",
    "        dvh_wed[\"Plan2\"][organ][\"up\"] = calculate_dvh(qval=mean_W+std_W,mask=mask,dose_cube=dos_cube2,let_cube=let_cube2)\n",
    "    else:\n",
    "        dvh_wed[\"Plan1\"][organ][\"mean\"] = calculate_dvh(qval=mean_W,mask=mask,dose_cube=dos_cube,let_cube=let_cube)\n",
    "        dvh_wed[\"Plan2\"][organ][\"mean\"] = calculate_dvh(qval=mean_W,mask=mask,dose_cube=dos_cube2,let_cube=let_cube2)"
   ]
  },
  {
   "cell_type": "code",
   "execution_count": null,
   "metadata": {},
   "outputs": [],
   "source": [
    "#Plan 1 for Wedenberg and WedenbergB models\n",
    "\n",
    "fig,ax = plt.subplots(figsize=[22,10])\n",
    "ax2=ax.twinx()\n",
    "\n",
    "##Plan 1\n",
    "for organ in organs:\n",
    "#WedenbergB\n",
    "    col=next(cycol)\n",
    "    ax.plot(dvh_wedB[\"Plan1\"][organ]['mean'][0],dvh_wedB[\"Plan1\"][organ]['mean'][1],c=col, label = organ)\n",
    "    ax.plot(dvh_wedB[\"Plan1\"][organ]['up'][0],dvh_wedB[\"Plan1\"][organ]['up'][1],\".\",c=col,markersize=1)\n",
    "    ax.plot(dvh_wedB[\"Plan1\"][organ]['down'][0],dvh_wedB[\"Plan1\"][organ]['down'][1],\".\",c=col,markersize=1)\n",
    "#Wedenberg \n",
    "    col=next(cycol)\n",
    "    ax2.plot(dvh_wed[\"Plan1\"][organ]['mean'][0],dvh_wed[\"Plan1\"][organ]['mean'][1],c=col, label = organ)\n",
    "\n",
    "\n",
    "##graph settings\n",
    "ax.set_title(\"DVH\\nPlanning using Wedenberg extended model B and Wedenberg model\\n\\n\\n\\n\\n\\n\")\n",
    "ax.set_ylabel(\"Volume [%]\")\n",
    "ax.set_xlabel(\"\\nDose [Gy(RBE)]\")\n",
    "\n",
    "ax.legend(loc='upper center', bbox_to_anchor=(0.25, 1.3),title_fontsize=22,fancybox=True, shadow=True,ncol=2)\n",
    "ax.get_legend().set_title(\"Wedenberg B\")\n",
    "ax2.legend(loc='upper center', bbox_to_anchor=(0.75, 1.3),title_fontsize=22,fancybox=True, shadow=True,ncol=2)\n",
    "ax2.get_legend().set_title(\"Wedenberg\")\n",
    "\n",
    "ax.grid()\n",
    "ax.minorticks_on()\n",
    "ax.grid(which='minor', linestyle=':', linewidth='0.2', color='black')\n",
    "\n",
    "ax.set_xlim(0,2.4)\n",
    "ax2.set_xlim(0,2.4)"
   ]
  },
  {
   "cell_type": "code",
   "execution_count": null,
   "metadata": {},
   "outputs": [],
   "source": [
    "#Compare two plans for WedenbergB model\n",
    "\n",
    "fig,ax = plt.subplots(figsize=[22,10])\n",
    "ax2=ax.twinx()\n",
    "##Plan 1\n",
    "for organ in organs:\n",
    "    col=next(cycol)\n",
    "    ax.plot(dvh_wedB[\"Plan1\"][organ]['mean'][0],dvh_wedB[\"Plan1\"][organ]['mean'][1],c=col, label = organ)\n",
    "    ax.plot(dvh_wedB[\"Plan1\"][organ]['up'][0],dvh_wedB[\"Plan1\"][organ]['up'][1],\".\",c=col,markersize=1)\n",
    "    ax.plot(dvh_wedB[\"Plan1\"][organ]['down'][0],dvh_wedB[\"Plan1\"][organ]['down'][1],\".\",c=col,markersize=1)\n",
    "#Plan 2\n",
    "    col=next(cycol)\n",
    "    ax2.plot(dvh_wedB[\"Plan2\"][organ]['mean'][0],dvh_wedB[\"Plan2\"][organ]['mean'][1],c=col, label = organ)\n",
    "    ax2.plot(dvh_wedB[\"Plan2\"][organ]['up'][0],dvh_wedB[\"Plan2\"][organ]['up'][1],\".\",c=col,markersize=1)\n",
    "    ax2.plot(dvh_wedB[\"Plan2\"][organ]['down'][0],dvh_wedB[\"Plan2\"][organ]['down'][1],\".\",c=col,markersize=1)\n",
    "\n",
    "##graph settings\n",
    "ax.set_title(\"DVH\\nPlanning using Wedenberg extended model B\\n\\n\\n\\n\\n\\n\")\n",
    "ax.set_ylabel(\"Volume [%]\")\n",
    "ax.set_xlabel(\"\\nDose [Gy(RBE)]\")\n",
    "\n",
    "#plt.xlim(1.5,2.2)\n",
    "ax.legend(loc='upper center', bbox_to_anchor=(0.25, 1.3),title_fontsize=22,fancybox=True, shadow=True,ncol=2)\n",
    "ax.get_legend().set_title(\"Plan 1\")\n",
    "\n",
    "ax2.legend(loc='upper center', bbox_to_anchor=(0.75, 1.3),title_fontsize=22,fancybox=True, shadow=True,ncol=2)\n",
    "ax2.get_legend().set_title(\"Plan2\")\n",
    "\n",
    "ax.grid()\n",
    "ax.minorticks_on()\n",
    "ax.grid(which='minor', linestyle=':', linewidth='0.2', color='black')\n",
    "ax.axvspan(0,0.7, alpha=0.3, color='gray')\n",
    "\n",
    "ax.set_xlim(0,2.4)\n",
    "ax2.set_xlim(0,2.4)"
   ]
  },
  {
   "cell_type": "code",
   "execution_count": null,
   "metadata": {},
   "outputs": [],
   "source": [
    "#Compare two plans for WedenbergB model -> ZOOM\n",
    "\n",
    "#choode organ to compare\n",
    "organs2 = ['liver','spleen','kidney_L','kidney_R','Spinalcord','duodenum']\n",
    "fig,ax = plt.subplots(figsize=[22,10])\n",
    "ax2=ax.twinx()\n",
    "\n",
    "##Plan 1\n",
    "for organ in organs2:\n",
    "    col=next(cycol)\n",
    "    ax.plot(dvh_wedB[\"Plan1\"][organ]['mean'][0],dvh_wedB[\"Plan1\"][organ]['mean'][1],c=col, label = organ)\n",
    "    ax.plot(dvh_wedB[\"Plan1\"][organ]['up'][0],dvh_wedB[\"Plan1\"][organ]['up'][1],\".\",c=col,markersize=1)\n",
    "    ax.plot(dvh_wedB[\"Plan1\"][organ]['down'][0],dvh_wedB[\"Plan1\"][organ]['down'][1],\".\",c=col,markersize=1)\n",
    "#Plan 2\n",
    "    col=next(cycol)\n",
    "    ax2.plot(dvh_wedB[\"Plan2\"][organ]['mean'][0],dvh_wedB[\"Plan2\"][organ]['mean'][1],c=col, label = organ)\n",
    "    ax2.plot(dvh_wedB[\"Plan2\"][organ]['up'][0],dvh_wedB[\"Plan2\"][organ]['up'][1],\".\",c=col,markersize=1)\n",
    "    ax2.plot(dvh_wedB[\"Plan2\"][organ]['down'][0],dvh_wedB[\"Plan2\"][organ]['down'][1],\".\",c=col,markersize=1)\n",
    "\n",
    "\n",
    "##graph settings\n",
    "ax.set_title(\"DVH\\nPlanning using Wedenberg extended model B\\n\\n\\n\\n\\n\\n\")\n",
    "ax.set_ylabel(\"Volume [%]\")\n",
    "ax.set_xlabel(\"\\nDose [Gy(RBE)]\")\n",
    "\n",
    "ax.legend(loc='upper center', bbox_to_anchor=(0.25, 1.3),title_fontsize=22,fancybox=True, shadow=True,ncol=2)\n",
    "ax.get_legend().set_title(\"Plan 1\")\n",
    "\n",
    "ax2.legend(loc='upper center', bbox_to_anchor=(0.75, 1.3),title_fontsize=22,fancybox=True, shadow=True,ncol=2)\n",
    "ax2.get_legend().set_title(\"Plan2\")\n",
    "\n",
    "ax.grid()\n",
    "ax.minorticks_on()\n",
    "ax.grid(which='minor', linestyle=':', linewidth='0.2', color='black')\n",
    "\n",
    "ax.set_xlim(0,0.7)\n",
    "ax2.set_xlim(0,0.7)\n",
    "ax.set_ylim(0,50)"
   ]
  },
  {
   "cell_type": "code",
   "execution_count": null,
   "metadata": {},
   "outputs": [],
   "source": []
  },
  {
   "cell_type": "code",
   "execution_count": null,
   "metadata": {},
   "outputs": [],
   "source": []
  }
 ],
 "metadata": {
  "colab": {
   "collapsed_sections": [],
   "name": "PART 2 DVH_pancreas.ipynb",
   "provenance": [
    {
     "file_id": "1mbpA_Kry-ZiN_b41NeZL8-Wctieb6rcy",
     "timestamp": 1603099595289
    },
    {
     "file_id": "1ORV8xO6vgGbRPz6tQWmoaPE78vWR2F9l",
     "timestamp": 1601996163781
    }
   ],
   "toc_visible": true
  },
  "kernelspec": {
   "display_name": "Python 3",
   "language": "python",
   "name": "python3"
  },
  "language_info": {
   "codemirror_mode": {
    "name": "ipython",
    "version": 3
   },
   "file_extension": ".py",
   "mimetype": "text/x-python",
   "name": "python",
   "nbconvert_exporter": "python",
   "pygments_lexer": "ipython3",
   "version": "3.8.10"
  }
 },
 "nbformat": 4,
 "nbformat_minor": 1
}
